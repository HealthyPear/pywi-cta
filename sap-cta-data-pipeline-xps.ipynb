{
 "cells": [
  {
   "cell_type": "markdown",
   "metadata": {},
   "source": [
    "# SAp CTA data pipeline XPs"
   ]
  },
  {
   "cell_type": "markdown",
   "metadata": {},
   "source": [
    "## Import directives"
   ]
  },
  {
   "cell_type": "code",
   "execution_count": 3,
   "metadata": {
    "collapsed": false
   },
   "outputs": [],
   "source": [
    "%matplotlib inline\n",
    "\n",
    "import math\n",
    "import numpy as np\n",
    "import pandas as pd\n",
    "\n",
    "#import common_functions as common"
   ]
  },
  {
   "cell_type": "markdown",
   "metadata": {},
   "source": [
    "## TODO"
   ]
  },
  {
   "cell_type": "markdown",
   "metadata": {},
   "source": [
    "### Top priority"
   ]
  },
  {
   "cell_type": "markdown",
   "metadata": {},
   "source": [
    "- *TC ref.* vs *WT ref.* on $\\Delta_\\psi$:\n",
    "    - plot the ratio of the two histograms\n",
    "    - set bin size to 0.1°\n",
    "    - check the gain ratio in the first bin: how much do we increase the number of events reconstructed with a shower angle precision less than 0.1°\n",
    "- Plot *Epsilon_2 . npe* vs *npe*\n",
    "- *Perpendicular Hit Distribution*:\n",
    "    - plot the ratio of the two histograms (superposed with the two compared histograms but on a different Y axis)\n",
    "- Refaire l'histogramme 2D $\\mathcal{E}_{\\text{energy}}$ vs *NPE* with the ``--kill-island`` option"
   ]
  },
  {
   "cell_type": "markdown",
   "metadata": {},
   "source": [
    "### Misc"
   ]
  },
  {
   "cell_type": "markdown",
   "metadata": {},
   "source": [
    "* Howto make (personalized) Reveal.js slides from this notebook: https://forum.poppy-project.org/t/utiliser-jupyter-pour-des-presentations-etape-par-etape-use-jupyter-to-present-step-by-step/2271/2"
   ]
  },
  {
   "cell_type": "markdown",
   "metadata": {},
   "source": [
    "## Pandas test..."
   ]
  },
  {
   "cell_type": "code",
   "execution_count": null,
   "metadata": {
    "collapsed": false
   },
   "outputs": [],
   "source": [
    "gam = pd.read_csv(\"all_gamma_2017_01_25.csv\").groupby('JSON input file')\n",
    "gam['e_shape'].plot.hist(alpha=0.2, bins=100, legend=True)"
   ]
  },
  {
   "cell_type": "code",
   "execution_count": null,
   "metadata": {
    "collapsed": false
   },
   "outputs": [],
   "source": [
    "%run ./utils/plot_image_in_meter.py testset/gamma/jeanluc/run1001.simtel.gz_TEL001_EV131903.fits"
   ]
  },
  {
   "cell_type": "code",
   "execution_count": null,
   "metadata": {
    "collapsed": true
   },
   "outputs": [],
   "source": []
  },
  {
   "cell_type": "code",
   "execution_count": null,
   "metadata": {
    "collapsed": true
   },
   "outputs": [],
   "source": []
  },
  {
   "cell_type": "code",
   "execution_count": null,
   "metadata": {
    "collapsed": true
   },
   "outputs": [],
   "source": []
  },
  {
   "cell_type": "markdown",
   "metadata": {},
   "source": [
    "## ASTRI mini-array configuration\n"
   ]
  },
  {
   "cell_type": "markdown",
   "metadata": {},
   "source": [
    "- 38 telescopes:\n",
    "    - 33 ASTRI telescopes\n",
    "    - 5 FlashCam telescopes\n",
    "- Events:\n",
    "    - 40204 $\\gamma$-rays\n",
    "    - 7580 protons\n",
    "- $\\gamma$-rays and protons are stored in separate files\n"
   ]
  },
  {
   "cell_type": "markdown",
   "metadata": {},
   "source": [
    "![image](./figs/astri_mini_array_labelled.png)"
   ]
  },
  {
   "cell_type": "markdown",
   "metadata": {},
   "source": [
    "### ASTRI telescopes\n",
    "\n",
    "- Telescopes 1 to 33\n",
    "- 2368 (rectangular) pixels\n",
    "- Optical focal length: 2.15m\n",
    "- Pixel size: ~7.13mm x ~7.13mm\n",
    "\n",
    "![image](./figs/geom_4_astri.png)"
   ]
  },
  {
   "cell_type": "markdown",
   "metadata": {},
   "source": [
    "<img src=\"./figs/astri_mini_array_astri.png\" width=\"60%\">"
   ]
  },
  {
   "cell_type": "markdown",
   "metadata": {},
   "source": [
    "### ASTRI telescopes - cropped images\n",
    "\n",
    "![image](./figs/geom_4_astri_crop3.svg)"
   ]
  },
  {
   "cell_type": "markdown",
   "metadata": {},
   "source": [
    "### FlashCam telescopes\n",
    "\n",
    "- Telescopes 34 to 38\n",
    "- 1764 (hexagonal) pixels\n",
    "- Optical focal length: 16.0m\n",
    "\n",
    "![image](./figs/geom_3_flashcam.png)"
   ]
  },
  {
   "cell_type": "markdown",
   "metadata": {},
   "source": [
    "### FlashCam telescopes\n",
    "\n",
    "<img src=\"./figs/astri_mini_array_flashcam.png\" width=\"60%\">"
   ]
  },
  {
   "cell_type": "markdown",
   "metadata": {},
   "source": [
    "## Toolchain"
   ]
  },
  {
   "cell_type": "markdown",
   "metadata": {},
   "source": [
    "### Toolchain overview\n",
    "\n",
    "![image](./figs/workflow.svg)\n",
    "\n",
    "- This is an overview of the toolchain\n",
    "- We work with montecarlo simulations that give us simtel files\n",
    "- I extract all images contained in these files into FITS files\n",
    "- I use these FITS files as input of my image cleaning library\n",
    "- It generate JSON files that can be converted to CSV or FITS"
   ]
  },
  {
   "cell_type": "markdown",
   "metadata": {},
   "source": [
    "- Data: monte-carlo simulation\n",
    "- Simulation setup: ASTRI mini-array (for convenience)\n",
    "- Software:\n",
    "    - \"Offline\" preprocessing (simtel to FITS)\n",
    "        - https://github.com/jdhp-sap/sap-cta-data-pipeline/blob/master/utils/simtel_to_fits_astri.py\n",
    "    - Image cleaning and benchmark\n",
    "        - https://github.com/jdhp-sap/sap-cta-data-pipeline/blob/master/datapipe/denoising/wavelets_mrfilter.py\n",
    "    - Required libraries\n",
    "        - ctapipe: https://github.com/cta-observatory/ctapipe\n",
    "        - pyhessio: https://github.com/cta-observatory/pyhessio\n",
    "        - ISAP v3.1 http://www.cosmostat.org/wp-content/uploads/2014/12/ISAP_V3.1.tgz (see http://www.cosmostat.org/software/isap/)\n",
    "        - Tino's scripts for reconstruction: https://github.com/tino-michael/tino_cta"
   ]
  },
  {
   "cell_type": "markdown",
   "metadata": {},
   "source": [
    "## Image cleaning guidelines\n",
    "\n",
    "For detailed procedure, see:\n",
    "\n",
    "https://github.com/jdhp-sap/sap-cta-data-pipeline#image-cleaning-guidelines\n",
    "\n",
    "### Step 1: Make data\n",
    "\n",
    "Extract images from Simtel files, crop them, convert them to “regular” 2D\n",
    "images and write them into fits files (one fits file per image with the ADC\n",
    "signal in HDU0 and the photoelectron signal in HDU1):\n",
    "\n",
    "1. clone http://github.com/jdhp-sap/snippets\n",
    "2. check snippets/ctapipe/extract_and_crop_simtel_images.py on lines 64 and 66, these lines may need to be fixed\n",
    "3. in ``snippets/ctapipe`` run:\n",
    "\n",
    "    ./extract_crop_and_plot_all_astri_images.sh ASTRI_SIMTEL_FILE\n",
    "\n",
    "Step 1.3 generate a lot of fits files in your current directory ; its execution\n",
    "may be long (up to several hours) as the script is not optimized at all and\n",
    "many instructions are redundant (but this is not a big deal because you only\n",
    "need to run it once to generate your input files).\n",
    "\n",
    "### Step 2: Install the wavelet library\n",
    "\n",
    "Install mr_transform (the cosmostat wavelet transform tool):\n",
    "\n",
    "1. download http://www.cosmostat.org/wp-content/uploads/2014/12/ISAP_V3.1.tgz (see http://www.cosmostat.org/software/isap/)\n",
    "2. unzip this archive, go to the “sparse2d” directory and compile the sparse2d library. It should generate an executable named “mr_transform”:\n",
    "\n",
    "```\n",
    "tar -xzvf ISAP_V3.1.tgz\n",
    "cd ISAP_V3.1/cxx\n",
    "tar -xzvf sparse2d_V1.1.tgz\n",
    "cd sparse2d\n",
    "compile the content of this directory\n",
    "```\n",
    "\n",
    "### Step 3: Clean images generated in step 1\n",
    "\n",
    "1. clone and install http://github.com/jdhp-sap/data-pipeline-standalone-scripts (see https://github.com/jdhp-sap/data-pipeline-standalone-scripts#installation)\n",
    "2. to clean one fits file (see for instance run_experiments.sh):\n",
    "    - with Tailcut : in data-pipeline-standalone-scripts, run ./datapipe/denoising/tailcut.py -T 0.75 -t 0.5 FITS_FILE (-T = max threshold, -t = min threshold, use the -h option to see command usage)\n",
    "    - with FFT : in data-pipeline-standalone-scripts, run ./datapipe/denoising/fft.py -s -t 0.02 FITS_FILE (-t = threshold in the Fourier space, use the -h option to see command usage)\n",
    "    - with Wavelets : in data-pipeline-standalone-scripts, run ./datapipe/denoising/wavelets_mrtrransform.py FITS_FILE (use the -h option to see command usage)\n",
    "3. instead of the step 3.2, the “benchmark mode” can be set to clean images and assess cleaning algorithms (it’s still a bit experimental) : use the same instructions than for step 3.2 with the additional option “-b 1” in each command (and put several fits files in input e.g. “*.fits”)\n",
    "\n",
    "### Step 4: Plot results\n",
    "\n",
    "Optionally, plot some stats about scores: in data-pipeline-standalone-scripts/utils, use the plot_score_*.py scripts on the JSON files generated in step 3.3 (use the -h option to see command usage)\n"
   ]
  },
  {
   "cell_type": "markdown",
   "metadata": {},
   "source": [
    "## Setup"
   ]
  },
  {
   "cell_type": "markdown",
   "metadata": {},
   "source": [
    "- ASTRI mini-array (calibrated data)\n",
    "- Telescopes 1 to 33 only (ASTRI)"
   ]
  },
  {
   "cell_type": "markdown",
   "metadata": {},
   "source": [
    "### MC simulations"
   ]
  },
  {
   "cell_type": "markdown",
   "metadata": {},
   "source": [
    "#### Gamma"
   ]
  },
  {
   "cell_type": "markdown",
   "metadata": {},
   "source": [
    "Number of events per simtel files:\n",
    "\n",
    "| File                       | Num. events |\n",
    "| -------------------------- |:-----------:|\n",
    "| *gamma/run_1001.simtel.gz* | 4461        |\n",
    "|  gamma/run_1002.simtel.gz  | 4567        |\n",
    "|  gamma/run_1003.simtel.gz  | 4425        |\n",
    "|  gamma/run_1004.simtel.gz  | 4401        |\n",
    "|  gamma/run_1005.simtel.gz  | 4451        |\n",
    "|  gamma/run_1006.simtel.gz  | 4451        |\n",
    "|  gamma/run_1007.simtel.gz  | 4614        |\n",
    "|  gamma/run_1008.simtel.gz  | 4423        |\n",
    "|  gamma/run_1009.simtel.gz  | 4411        |"
   ]
  },
  {
   "cell_type": "markdown",
   "metadata": {},
   "source": [
    "#### Proton"
   ]
  },
  {
   "cell_type": "markdown",
   "metadata": {},
   "source": [
    "Number of events per simtel files:\n",
    "\n",
    "| File                       | Num. events |\n",
    "| -------------------------- |:-----------:|\n",
    "| proton/run_10000.simtel.gz | 747         |\n",
    "| proton/run_10001.simtel.gz | 680         |\n",
    "| proton/run_10002.simtel.gz | 763         |\n",
    "| proton/run_10003.simtel.gz | 792         |\n",
    "| proton/run_10004.simtel.gz | 763         |\n",
    "| proton/run_10005.simtel.gz | 776         |\n",
    "| proton/run_10006.simtel.gz | 738         |\n",
    "| proton/run_10007.simtel.gz | 749         |\n",
    "| proton/run_10008.simtel.gz | 760         |\n",
    "| proton/run_10009.simtel.gz | 812         |"
   ]
  },
  {
   "cell_type": "markdown",
   "metadata": {},
   "source": [
    "### Subset of events used for experiments\n",
    "\n",
    "Only one simtel file is used for presented results:\n",
    "\n",
    "```\n",
    "sapcta:/dsm/manip/cta/DATA/astri\\_mini\\_array/gamma/run1001.simtel.gz\n",
    "```\n",
    "\n",
    "FITS files made form this Simtel file are stored in:\n",
    "\n",
    "```\n",
    "sapcta:/dsm/manip/cta/DATA/astri\\_mini\\_array/fits/gamma/\n",
    "```\n",
    "\n",
    "This subset contains:\n",
    "- 4461 events from 118 GeV to 256 TeV (Gamma events only)\n",
    "- 14899 images"
   ]
  },
  {
   "cell_type": "markdown",
   "metadata": {},
   "source": [
    "### Calibration"
   ]
  },
  {
   "cell_type": "markdown",
   "metadata": {},
   "source": [
    "TODO..."
   ]
  },
  {
   "cell_type": "markdown",
   "metadata": {},
   "source": [
    "### Cleaning algorithms"
   ]
  },
  {
   "cell_type": "markdown",
   "metadata": {},
   "source": [
    "#### Tailcut"
   ]
  },
  {
   "cell_type": "markdown",
   "metadata": {},
   "source": [
    "Ctapipe's implementation with:\n",
    "\n",
    "- high threshold set to 10 PE\n",
    "- low threshold set to 5 PE\n",
    "\n",
    "Reference: https://arxiv.org/abs/astro-ph/0607333"
   ]
  },
  {
   "cell_type": "markdown",
   "metadata": {},
   "source": [
    "#### Wavelets"
   ]
  },
  {
   "cell_type": "markdown",
   "metadata": {},
   "source": [
    "- Cosmostat's Sparce2D (mr\\_filter) \"b-spline\" wavelet transform\n",
    "- Parameters detailled later"
   ]
  },
  {
   "cell_type": "markdown",
   "metadata": {},
   "source": [
    "## Results"
   ]
  },
  {
   "cell_type": "markdown",
   "metadata": {},
   "source": [
    "Results are stored in the followed directory (on SAPCTA) in JSON files (structured results) and in CSV and FITS files (flattened results for Glueviz for instance):\n",
    "\n",
    "```\n",
    "sapcta:/dsm/manip/cta/xp_jd/2016_12_13/\n",
    "```"
   ]
  },
  {
   "cell_type": "markdown",
   "metadata": {},
   "source": [
    "## Metrics"
   ]
  },
  {
   "cell_type": "markdown",
   "metadata": {},
   "source": [
    "### $\\mathcal{E}_{\\text{shape}}$\n",
    "\n",
    "$$\n",
    "\\mathcal{E}_{\\text{shape}}(\\hat{\\boldsymbol{S}}, \\boldsymbol{S}^*) = \\left\\langle \\text{abs} \\left( \\frac{\\hat{\\boldsymbol{S}}}{\\sum_i \\hat{\\boldsymbol{S}}_i} - \\frac{\\boldsymbol{S}^*}{\\sum_i \\boldsymbol{S}^*_i} \\right) \\right\\rangle\n",
    "$$\n",
    "\n",
    "with:\n",
    "\n",
    "- $\\hat{\\boldsymbol{S}}$ the algorithm's output image (i.e. the *cleaned* image);\n",
    "- $\\boldsymbol{S}^*$ the reference image (i.e. the *clean* image);\n",
    "- $\\langle \\boldsymbol{S} \\rangle$ the average of matrix $\\boldsymbol{S}$.\n",
    "- $\\mathcal{E}_{\\text{shape}}(\\cdot, \\cdot) \\in \\left[ 0, \\frac{2}{\\mbox{num_pixels}} \\right]$"
   ]
  },
  {
   "cell_type": "raw",
   "metadata": {},
   "source": [
    "- It can be viewed as a variant of the *Normalized Root Mean-Squared Error* (NRMSE)\n",
    "- It's the equivalant of a Root Mean-Square Error on normalized pixels values"
   ]
  },
  {
   "cell_type": "markdown",
   "metadata": {},
   "source": [
    "#### Theoritical maximum (wrost) value\n",
    "\n",
    "$$\n",
    "\\frac{2}{\\mbox{num_pixels}} = \\frac{2}{40^2} = 0.00125\n",
    "$$\n",
    "\n",
    "Worst case is when no pixels are in common between the two images.\n",
    "Because of the normalisation, the sum of all pixels value on each image is 1.\n",
    "Thus the worst possible value is $\\frac{1 + 1}{\\mbox{num_pixels}}$\n",
    "\n",
    "##### Example for images with 4 pixels\n",
    "\n",
    "|   |   |\n",
    "| - | - |\n",
    "| 0 | 1 |\n",
    "| 0 | 0 |\n",
    "\n",
    "-\n",
    "\n",
    "|   |   |\n",
    "| - | - |\n",
    "| 0 | 1 |\n",
    "| 0 | 0 |\n",
    "\n",
    "= \n",
    "\n",
    "|   |   |\n",
    "| - | - |\n",
    "| 0 | 1 |\n",
    "| 1 | 0 |\n",
    "\n",
    "=> mean = 0.5 = $\\frac{2}{\\mbox{num_pixels}}$\n",
    "\n",
    "--\n",
    "\n",
    "##### Another image with 4 pixels\n",
    "\n",
    "|     |     |\n",
    "| --- | --- |\n",
    "| 0.5 | 0   |\n",
    "| 0   | 0.5 |\n",
    "\n",
    "-\n",
    "\n",
    "|     |     |\n",
    "| --- | --- |\n",
    "| 0   | 0.5 |\n",
    "| 0.5 | 0   |\n",
    "\n",
    "= \n",
    "\n",
    "|     |     |\n",
    "| --- | --- |\n",
    "| 0.5 | 0.5 |\n",
    "| 0.5 | 0.5 |\n",
    "\n",
    "=> mean = 0.5 = $\\frac{2}{\\mbox{num_pixels}}$\n",
    "\n",
    "--\n",
    "\n",
    "##### Another image with 4 pixels\n",
    "\n",
    "|      |      |\n",
    "| ---- | ---- |\n",
    "| 0.75 | 0    |\n",
    "| 0    | 0.25 |\n",
    "\n",
    "-\n",
    "\n",
    "|      |      |\n",
    "| ---- | ---- |\n",
    "| 0    | 0.25 |\n",
    "| 0.75 | 0    |\n",
    "\n",
    "= \n",
    "\n",
    "|      |      |\n",
    "| ---- | ---- |\n",
    "| 0.75 | 0.25 |\n",
    "| 0.75 | 0.25 |\n",
    "\n",
    "=> mean = 0.5 = $\\frac{2}{\\mbox{num_pixels}}$\n",
    "\n",
    "--\n",
    "\n",
    "##### For images with 9 pixels\n",
    "\n",
    "|   |   |   |\n",
    "| - | - | - |\n",
    "| 0 | 0 | 1 |\n",
    "| 0 | 0 | 0 |\n",
    "| 0 | 0 | 0 |\n",
    "\n",
    "-\n",
    "\n",
    "|   |   |   |\n",
    "| - | - | - |\n",
    "| 0 | 0 | 0 |\n",
    "| 0 | 0 | 0 |\n",
    "| 1 | 0 | 0 |\n",
    "\n",
    "= \n",
    "\n",
    "|   |   |   |\n",
    "| - | - | - |\n",
    "| 0 | 0 | 1 |\n",
    "| 0 | 0 | 0 |\n",
    "| 1 | 0 | 0 |\n",
    "\n",
    "=> mean = 2/9 = $\\frac{2}{\\mbox{num_pixels}}$"
   ]
  },
  {
   "cell_type": "markdown",
   "metadata": {},
   "source": [
    "## Metrics"
   ]
  },
  {
   "cell_type": "markdown",
   "metadata": {},
   "source": [
    "### $\\mathcal{E}_{\\text{energy}}$ (relative total counts difference)\n",
    "\n",
    "$$\n",
    "\\mathcal{E}_{\\text{energy}}(\\hat{\\boldsymbol{S}}, \\boldsymbol{S}^*) = \\frac{ \\text{abs} \\left( \\sum_i \\hat{\\boldsymbol{S}}_i - \\sum_i \\boldsymbol{S}^*_i \\right) }{ \\sum_i \\boldsymbol{S}^*_i }\n",
    "$$\n",
    "\n",
    "with:\n",
    "\n",
    "- $\\hat{\\boldsymbol{S}}$ the algorithm's output image (i.e. the *cleaned* image);\n",
    "- $\\boldsymbol{S}^*$ the reference image (i.e. the *clean* image)."
   ]
  },
  {
   "cell_type": "markdown",
   "metadata": {},
   "source": [
    "## Input data study"
   ]
  },
  {
   "cell_type": "markdown",
   "metadata": {},
   "source": [
    "### Total number of photoelectrons (NPE) per image"
   ]
  },
  {
   "cell_type": "code",
   "execution_count": null,
   "metadata": {
    "collapsed": true
   },
   "outputs": [],
   "source": []
  },
  {
   "cell_type": "markdown",
   "metadata": {},
   "source": [
    "### Wavelets \"reference\" (the one presented in Bologna)"
   ]
  },
  {
   "cell_type": "markdown",
   "metadata": {},
   "source": [
    "Full ``mr_filter`` setup:\n",
    "\n",
    "- Wavelet function: bspline wavelet transform \"a trous\" algorithm (``-t2``)\n",
    "- Coef. detection method: K-SigmaNoise Threshold (``-C1``)\n",
    "- Type of filtering: Hard K-Sigma Thresholding (``-f1``)\n",
    "- K-Sigma noise threshold: 3 (``-s3``)\n",
    "- Noise model: Poisson noise + Gaussian noise (``-m3``)\n",
    "- Number of scales: 4 (``-n4``)\n",
    "- Suppress isolated pixels: yes (``-k``)\n",
    "- Suppress last scale: yes (``-K``)"
   ]
  },
  {
   "cell_type": "markdown",
   "metadata": {},
   "source": [
    "#### Epsilon shape"
   ]
  },
  {
   "cell_type": "markdown",
   "metadata": {},
   "source": [
    "![image](./figs/tc_vs_wt_ref_eshape.png)\n",
    "\n",
    "~~\n",
    "\n",
    "- We compare:\n",
    "    - this wavelet \"reference\" (in green)\n",
    "    - with the Tailcut reference (in blue)\n",
    "- ... according to the \"Epsilon shape\" metric.\n",
    "- The lower the better.\n",
    "- Tailcut has more \"good\" results (on left of each histogram).\n",
    "- But Wavelet has less \"bad\" results (on right of each histogram) at medium energy ranges (1 TeV to 100 TeV)."
   ]
  },
  {
   "cell_type": "markdown",
   "metadata": {},
   "source": [
    "#### Epsilon energy"
   ]
  },
  {
   "cell_type": "markdown",
   "metadata": {},
   "source": [
    "![image](./figs/tc_vs_wt_ref_eenergy.png)\n",
    "\n",
    "~~\n",
    "\n",
    "- The same with the \"Epsilon energy\" metric\n",
    "- Again, the lower the better\n",
    "- Tailcut has better results"
   ]
  },
  {
   "cell_type": "markdown",
   "metadata": {},
   "source": [
    "### Wavelets with FDR threshold (\"-C2\" option)"
   ]
  },
  {
   "cell_type": "markdown",
   "metadata": {},
   "source": [
    "Full mr_filter setup:\n",
    "```none\n",
    "Wavelet function: bspline wavelet transform \"a trous\" algorithm (-t2)\n",
    "Coef. detection method: FDR (-C2)\n",
    "Type of filtering: Hard K-Sigma Thresholding (-f1)\n",
    "Noise model: Poisson noise + Gaussian noise (-m3)\n",
    "Number of scales: 4 (-n4)\n",
    "Suppress isolated pixels: yes (-k)\n",
    "Suppress last scale: yes (-K)\n",
    "```\n",
    "\n",
    "~~\n",
    "\n",
    "- Among the parameters I tested, I show this one (recomanded by Sandrine)\n",
    "- FDR means False Discovery Rate,\n",
    "- it's an adaptive methode to discover the best threshold value for each plane"
   ]
  },
  {
   "cell_type": "markdown",
   "metadata": {},
   "source": [
    "#### Epsilon shape\n",
    "\n",
    "![image](./figs/wt_ref_vs_wt_c2_eshape.png)\n",
    "\n",
    "~~\n",
    "\n",
    "- Here we compare:\n",
    "    - this wavelet \"reference\" (in blue)\n",
    "    - with the wavelet using FDR (in green)\n",
    "- according to the \"Epsilon shape\" metric\n",
    "- We have slightly better results without FDR than with FDR"
   ]
  },
  {
   "cell_type": "markdown",
   "metadata": {},
   "source": [
    "#### Epsilon energy\n",
    "\n",
    "![image](./figs/wt_ref_vs_wt_c2_eenergy.png)"
   ]
  },
  {
   "cell_type": "markdown",
   "metadata": {},
   "source": [
    "#### Examples\n",
    "\n",
    "- TODO: add image examples..."
   ]
  },
  {
   "cell_type": "markdown",
   "metadata": {},
   "source": [
    "#### Conclusion\n",
    "\n",
    "FDR doesn't seem to be a good idea for our setup"
   ]
  },
  {
   "cell_type": "markdown",
   "metadata": {},
   "source": [
    "### Hillas parameters metric $\\Delta_{\\theta}$"
   ]
  },
  {
   "cell_type": "markdown",
   "metadata": {},
   "source": [
    "#### Definition\n",
    "\n",
    "Compute the score of *cleaned image* regarding *reference image* with the Hillas\n",
    "parameter theta:\n",
    "\n",
    "$$\\Delta_{\\theta} = \\theta_\\text{ref} - \\theta_\\text{cleaned}$$"
   ]
  },
  {
   "cell_type": "markdown",
   "metadata": {},
   "source": [
    "#### Wavelets \"reference\"\n",
    "\n",
    "![image](./figs/tc_vs_wt_ref_theta.png)\n",
    "\n",
    "~~\n",
    "\n",
    "- Here we compare Tailcut reference and Wavelet \"reference\"\n",
    "- with this new metric\n",
    "- The more we have counts around 0, 180 and -180 the better we are\n",
    "- The less we have counts around 90 and -90 the better we are\n",
    "- Results: Tailcut has better results than Wavelet reference"
   ]
  },
  {
   "cell_type": "markdown",
   "metadata": {},
   "source": [
    "#### Wavelets with FDR threshold (\"-C2\" option)\n",
    "\n",
    "![image](./figs/tc_vs_wt_c2_theta.png)\n",
    "\n",
    "~~\n",
    "\n",
    "- Results: Tailcut has better results than Wavelet with FDR"
   ]
  },
  {
   "cell_type": "markdown",
   "metadata": {},
   "source": [
    "#### Conclusion\n",
    "\n",
    "Tailcut has better results than Wavelet reference and Wavelet with FDR\n",
    "\n",
    "~~\n",
    "\n",
    "But we will see later that this conclusion will be reversed with an extra option"
   ]
  },
  {
   "cell_type": "markdown",
   "metadata": {},
   "source": [
    "### Kill isolated pixels\n",
    "\n",
    "mr_filter's \"-k\" option doesn't work properly"
   ]
  },
  {
   "cell_type": "markdown",
   "metadata": {},
   "source": [
    "#### Failure example"
   ]
  },
  {
   "cell_type": "markdown",
   "metadata": {},
   "source": [
    "<img src=\"./figs/kill_isolated_pixels/ev458109_tel1.png\" width=\"85%\">"
   ]
  },
  {
   "cell_type": "markdown",
   "metadata": {},
   "source": [
    "<img src=\"./figs/kill_isolated_pixels/ev64302_tel1.png\" width=\"85%\">"
   ]
  },
  {
   "cell_type": "markdown",
   "metadata": {},
   "source": [
    "<img src=\"./figs/kill_isolated_pixels/ev481109_tel1_log.png\" width=\"85%\">"
   ]
  },
  {
   "cell_type": "markdown",
   "metadata": {},
   "source": [
    "#### Fix"
   ]
  },
  {
   "cell_type": "markdown",
   "metadata": {},
   "source": [
    "To fix that, I added a function that removes remaining isolated pixels (based on scipy like Fabio did).\n",
    "\n",
    "This function is activated by the \"--kill-isolated-pixels\" option in\n",
    "\n",
    "```\n",
    "*./datapipe/denoising/wavelets\\_mrfilter.py*\n",
    "```"
   ]
  },
  {
   "cell_type": "markdown",
   "metadata": {},
   "source": [
    "#### Fixed example"
   ]
  },
  {
   "cell_type": "markdown",
   "metadata": {},
   "source": [
    "<img src=\"./figs/kill_isolated_pixels/ev458109_tel1_kill.png\" width=\"85%\">\n",
    "<img src=\"./figs/kill_isolated_pixels/ev458109_tel1.png\" width=\"85%\">"
   ]
  },
  {
   "cell_type": "markdown",
   "metadata": {},
   "source": [
    "<img src=\"./figs/kill_isolated_pixels/ev64302_tel1_kill.png\" width=\"85%\">\n",
    "<img src=\"./figs/kill_isolated_pixels/ev64302_tel1.png\" width=\"85%\">"
   ]
  },
  {
   "cell_type": "markdown",
   "metadata": {},
   "source": [
    "<img src=\"./figs/kill_isolated_pixels/ev481109_tel1_log_kill.png\" width=\"85%\">\n",
    "<img src=\"./figs/kill_isolated_pixels/ev481109_tel1_log.png\" width=\"85%\">"
   ]
  },
  {
   "cell_type": "markdown",
   "metadata": {},
   "source": [
    "#### Results"
   ]
  },
  {
   "cell_type": "markdown",
   "metadata": {},
   "source": [
    "![image](./figs/wt_ref_vs_wt_kill_eshape.png)\n",
    "\n",
    "- This new option slightly reduce the number of bad results with epsilon shape"
   ]
  },
  {
   "cell_type": "markdown",
   "metadata": {},
   "source": [
    "##### Impact on results (VS WT ref.)\n",
    "\n",
    "![image](./figs/wt_ref_vs_wt_kill_eenergy.png)\n",
    "\n",
    "~~\n",
    "\n",
    "- Strangely this option has a negative impact on results according to epsilon energy..."
   ]
  },
  {
   "cell_type": "markdown",
   "metadata": {},
   "source": [
    "##### Impact on results (VS WT ref.)\n",
    "\n",
    "![image](./figs/wt_ref_vs_wt_kill_theta.png)\n",
    "\n",
    "~~\n",
    "\n",
    "- ... but it has a very positive impact on results according to Hillas theta metric"
   ]
  },
  {
   "cell_type": "markdown",
   "metadata": {},
   "source": [
    "##### Impact on results (VS WT with FDR threshold)\n",
    "\n",
    "![image](./figs/wt_ref_vs_wt_c2_kill_eshape.png)\n",
    "\n",
    "~~\n",
    "\n",
    "- We have the same conclusion with FDR than with the wavelet reference:\n",
    "- the new option slightly reduce the number of bad results with epsilon shape..."
   ]
  },
  {
   "cell_type": "markdown",
   "metadata": {},
   "source": [
    "##### Impact on results (VS WT with FDR threshold)\n",
    "\n",
    "![image](./figs/wt_ref_vs_wt_c2_kill_eenergy.png)\n",
    "\n",
    "~~\n",
    "\n",
    "- ... and again it has a negative impact on results according to epsilon energy..."
   ]
  },
  {
   "cell_type": "markdown",
   "metadata": {},
   "source": [
    "##### Impact on results (VS WT with FDR threshold)\n",
    "\n",
    "![image](./figs/wt_ref_vs_wt_c2_kill_theta.png)\n",
    "\n",
    "~~\n",
    "\n",
    "- ... but it has a very positive impact on results according to Hillas theta metric"
   ]
  },
  {
   "cell_type": "markdown",
   "metadata": {},
   "source": [
    "##### Impact on results (VS  Tailcut)\n",
    "\n",
    "![image](./figs/tc_vs_wt_kill_eshape.png)\n",
    "\n",
    "~~\n",
    "\n",
    "- When we compare with Tailcut,\n",
    "- the new option doesn't change results according to epsilon shape metric: Tailcut is still better"
   ]
  },
  {
   "cell_type": "markdown",
   "metadata": {},
   "source": [
    "##### Impact on results (VS  Tailcut)\n",
    "\n",
    "![image](./figs/tc_vs_wt_kill_eenergy.png)\n",
    "\n",
    "~~\n",
    "\n",
    "- ditto for epsilon energy metric: Tailcut is still better"
   ]
  },
  {
   "cell_type": "markdown",
   "metadata": {},
   "source": [
    "##### Impact on results (VS  Tailcut)\n",
    "\n",
    "![image](./figs/tc_vs_wt_kill_theta.png)\n",
    "\n",
    "~~\n",
    "\n",
    "- but Tailcut is beaten according to Hillas Theta metric!"
   ]
  },
  {
   "cell_type": "markdown",
   "metadata": {},
   "source": [
    "##### Conclusion\n",
    "\n",
    "This fix (\"--kill-isolated-pixels\"):\n",
    "\n",
    "- has very little impact with $\\mathcal{E}_{\\text{shape}}$\n",
    "- has a negative impact with $\\mathcal{E}_{\\text{energy}}$\n",
    "- gives clearly better results with $\\Delta_{\\theta}$\n",
    "- gives clearly better results by eye\n",
    "\n",
    "**According to $\\Delta_{\\theta}$, Wavelet transform\n",
    "gives better results than Tailcut with this fix!** (especially between 1 and 10 TeV)\n",
    "\n",
    "This partly explains why results are bad with pixel based metrics but are good\n",
    "with reconstruction and high level physics metrics (as Tino used a similar\n",
    "method in his experiments)"
   ]
  },
  {
   "cell_type": "markdown",
   "metadata": {},
   "source": [
    "### Is FDR option better according to $\\Delta_{\\theta}$ ?"
   ]
  },
  {
   "cell_type": "markdown",
   "metadata": {},
   "source": [
    "![image](./figs/wt_ref_vs_wt_c2_theta.png)"
   ]
  },
  {
   "cell_type": "markdown",
   "metadata": {},
   "source": [
    "No..."
   ]
  },
  {
   "cell_type": "markdown",
   "metadata": {},
   "source": [
    "### Hillas parameters metric revisited ($\\Delta_{\\theta}2$)\n",
    "\n",
    "In this case, \"--kill-isolated-pixels\" is applied to the reference\n",
    "images (see next section)."
   ]
  },
  {
   "cell_type": "markdown",
   "metadata": {},
   "source": [
    "##### Impact on results (VS WT ref. + Kill isolated pixels)\n",
    "\n",
    "![image](./figs/wt_ref_vs_wt_kill_theta2.png)\n",
    "![image](./figs/wt_ref_vs_wt_kill_theta.png)"
   ]
  },
  {
   "cell_type": "markdown",
   "metadata": {},
   "source": [
    "##### Impact on results (VS WT with FDR threshold + Kill isolated pixels)\n",
    "\n",
    "![image](./figs/wt_ref_vs_wt_c2_kill_theta2.png)\n",
    "![image](./figs/wt_ref_vs_wt_c2_kill_theta.png)"
   ]
  },
  {
   "cell_type": "markdown",
   "metadata": {},
   "source": [
    "##### Wavelets \"reference\"\n",
    "\n",
    "![image](./figs/tc_vs_wt_ref_theta2.png)\n",
    "![image](./figs/tc_vs_wt_ref_theta.png)"
   ]
  },
  {
   "cell_type": "markdown",
   "metadata": {},
   "source": [
    "##### Wavelets with FDR threshold (\"-C2\" option)\n",
    "\n",
    "![image](./figs/tc_vs_wt_c2_theta2.png)\n",
    "![image](./figs/tc_vs_wt_c2_theta.png)"
   ]
  },
  {
   "cell_type": "markdown",
   "metadata": {},
   "source": [
    "##### Impact on results (VS  Tailcut + Kill isolated pixels)\n",
    "\n",
    "![image](./figs/tc_vs_wt_kill_theta2.png)\n",
    "![image](./figs/tc_vs_wt_kill_theta.png)"
   ]
  },
  {
   "cell_type": "markdown",
   "metadata": {},
   "source": [
    "#### Conclusion\n",
    "\n",
    "Results are roughly the same with $\\Delta_{\\theta}2$ than with $\\Delta_{\\theta}$"
   ]
  },
  {
   "cell_type": "code",
   "execution_count": null,
   "metadata": {
    "collapsed": true
   },
   "outputs": [],
   "source": []
  },
  {
   "cell_type": "code",
   "execution_count": null,
   "metadata": {
    "collapsed": true
   },
   "outputs": [],
   "source": []
  },
  {
   "cell_type": "code",
   "execution_count": null,
   "metadata": {
    "collapsed": true
   },
   "outputs": [],
   "source": []
  },
  {
   "cell_type": "code",
   "execution_count": null,
   "metadata": {
    "collapsed": true
   },
   "outputs": [],
   "source": []
  },
  {
   "cell_type": "code",
   "execution_count": null,
   "metadata": {
    "collapsed": true
   },
   "outputs": [],
   "source": []
  },
  {
   "cell_type": "markdown",
   "metadata": {},
   "source": [
    "### Number of dropped images"
   ]
  },
  {
   "cell_type": "markdown",
   "metadata": {},
   "source": [
    "Images returned by cleaning methods are dropped when they are completely empty\n",
    "(to avoid division by zero in some metrics)."
   ]
  },
  {
   "cell_type": "markdown",
   "metadata": {},
   "source": [
    "Total number of input images for presented results: 14899\n",
    "\n",
    "```\n",
    "find ~/astri_data/fits/gamma/ -type f -name \"*.fits\" 2> /dev/null | wc -l\n",
    "cut -s -d , -f 1 score_gamma_all.csv | grep \"FILE_NAME.json\" | wc -l\n",
    "```\n",
    "\n",
    "| File                                               | Num. images | Dropped images |\n",
    "| -------------------------------------------------- | -----------:| --------------:|\n",
    "| score_gamma_all_tailcut_ref.json                   | 14528       | 371            |\n",
    "| score_gamma_all_wavelets_mrfilter_ref.json         | 14894       | 5              |\n",
    "| score_gamma_all_wavelets_mrfilter_kill.json        | 14894       | 5              |\n",
    "| score_gamma_all_wavelets_mrfilter_c2.json          | 14639       | 260            |\n",
    "| score_gamma_all_wavelets_mrfilter_c2_kill.json     | 14639       | 260            |\n",
    "| score_gamma_all_wavelets_mrfilter_kill_offset.json | 12352       | 2547           |\n"
   ]
  },
  {
   "cell_type": "markdown",
   "metadata": {},
   "source": [
    "## Logarithmic and square root images\n",
    "\n",
    "When applying an offset (10 PE) and a logarithmic (or square root)\n",
    "transformation on the input image image (and the inverses\n",
    "transformations after cleaning on output images).\n"
   ]
  },
  {
   "cell_type": "markdown",
   "metadata": {},
   "source": [
    "## Logarithmic and square root images\n",
    "### Example 1\n",
    "\n",
    "<img src=\"./figs/lip1.svg\" width=\"100%\">\n"
   ]
  },
  {
   "cell_type": "markdown",
   "metadata": {},
   "source": [
    "## Logarithmic and square root images\n",
    "### Example 2\n",
    "\n",
    "<img src=\"./figs/lip2.svg\" width=\"100%\">\n"
   ]
  },
  {
   "cell_type": "markdown",
   "metadata": {},
   "source": [
    "## Logarithmic and square root images\n",
    "### Conclusion\n",
    "\n",
    "As is, it doesn't work\n"
   ]
  },
  {
   "cell_type": "markdown",
   "metadata": {},
   "source": [
    "## Consistency with Tino's results"
   ]
  },
  {
   "cell_type": "markdown",
   "metadata": {},
   "source": [
    "### On small set of images"
   ]
  },
  {
   "cell_type": "markdown",
   "metadata": {},
   "source": [
    "Tested on a set of 5 images (event \\#100):\n",
    "\n",
    "    Tel 9:\n",
    "        E_energy TC: 0.23361876971918988\n",
    "        E_energy WT: 0.34390493542761413\n",
    "\n",
    "    Tel 14:\n",
    "        E_energy TC: 0.18085652413547679\n",
    "        E_energy WT: 0.22658406662684616\n",
    "\n",
    "    Tel 17:\n",
    "        E_energy TC: 0.13956736034362127\n",
    "        E_energy WT: 0.24204471371821221\n",
    "\n",
    "    Tel 25:\n",
    "        E_energy TC: 0.25076103102349279\n",
    "        E_energy WT: 0.4738171241645302"
   ]
  },
  {
   "cell_type": "markdown",
   "metadata": {},
   "source": [
    "Data:\n",
    "\n",
    "```\n",
    "~/git/pub/jdhp-sap/sap-cta-data-pipeline/testset/gamma/ev100\n",
    "```\n",
    "\n",
    "Params:\n",
    "\n",
    "```\n",
    "mr_filter -K -k -C1 -m3 -s3 -n4\n",
    "```\n",
    "\n",
    "Resluts are exaclty the same in tino\\_cta and sap-cta-data-pipeline.\n",
    "\n",
    "But...\n"
   ]
  },
  {
   "cell_type": "markdown",
   "metadata": {},
   "source": [
    "### On all images"
   ]
  },
  {
   "cell_type": "markdown",
   "metadata": {},
   "source": [
    "![image](./figs/wt_ref_jd.png)"
   ]
  },
  {
   "cell_type": "markdown",
   "metadata": {},
   "source": [
    "![image](./figs/wt_ref_tino.png)"
   ]
  },
  {
   "cell_type": "markdown",
   "metadata": {},
   "source": [
    "## Perpendicular hit distribution"
   ]
  },
  {
   "cell_type": "code",
   "execution_count": null,
   "metadata": {
    "collapsed": true
   },
   "outputs": [],
   "source": []
  },
  {
   "cell_type": "markdown",
   "metadata": {},
   "source": [
    "## Noise (NSB, electronic noise, ...)"
   ]
  },
  {
   "cell_type": "markdown",
   "metadata": {},
   "source": [
    "Here is is plotted:\n",
    "\n",
    "```\n",
    "input_image - reference_image\n",
    "```"
   ]
  },
  {
   "cell_type": "markdown",
   "metadata": {},
   "source": [
    "### Noise histogram for telescope 1"
   ]
  },
  {
   "cell_type": "code",
   "execution_count": 2,
   "metadata": {
    "collapsed": false
   },
   "outputs": [
    {
     "name": "stdout",
     "output_type": "stream",
     "text": [
      "Parsing ./testset/gamma/tel1/\n",
      "0.21% (1/475)\n",
      "1.26% (6/475)\n",
      "2.32% (11/475)\n",
      "3.37% (16/475)\n",
      "4.42% (21/475)\n",
      "5.47% (26/475)\n",
      "6.53% (31/475)\n",
      "7.58% (36/475)\n",
      "8.63% (41/475)\n",
      "9.68% (46/475)\n",
      "10.74% (51/475)\n",
      "11.79% (56/475)\n",
      "12.84% (61/475)\n",
      "13.89% (66/475)\n",
      "14.95% (71/475)\n",
      "16.00% (76/475)\n",
      "17.05% (81/475)\n",
      "18.11% (86/475)\n",
      "19.16% (91/475)\n",
      "20.21% (96/475)\n",
      "21.26% (101/475)\n",
      "22.32% (106/475)\n",
      "23.37% (111/475)\n",
      "24.42% (116/475)\n",
      "25.47% (121/475)\n",
      "26.53% (126/475)\n",
      "27.58% (131/475)\n",
      "28.63% (136/475)\n",
      "29.68% (141/475)\n",
      "30.74% (146/475)\n",
      "31.79% (151/475)\n",
      "32.84% (156/475)\n",
      "33.89% (161/475)\n",
      "34.95% (166/475)\n",
      "36.00% (171/475)\n",
      "37.05% (176/475)\n",
      "38.11% (181/475)\n",
      "39.16% (186/475)\n",
      "40.21% (191/475)\n",
      "41.26% (196/475)\n",
      "42.32% (201/475)\n",
      "43.37% (206/475)\n",
      "44.42% (211/475)\n",
      "45.47% (216/475)\n",
      "46.53% (221/475)\n",
      "47.58% (226/475)\n",
      "48.63% (231/475)\n",
      "49.68% (236/475)\n",
      "50.74% (241/475)\n",
      "51.79% (246/475)\n",
      "52.84% (251/475)\n",
      "53.89% (256/475)\n",
      "54.95% (261/475)\n",
      "56.00% (266/475)\n",
      "57.05% (271/475)\n",
      "58.11% (276/475)\n",
      "59.16% (281/475)\n",
      "60.21% (286/475)\n",
      "61.26% (291/475)\n",
      "62.32% (296/475)\n",
      "63.37% (301/475)\n",
      "64.42% (306/475)\n",
      "65.47% (311/475)\n",
      "66.53% (316/475)\n",
      "67.58% (321/475)\n",
      "68.63% (326/475)\n",
      "69.68% (331/475)\n",
      "70.74% (336/475)\n",
      "71.79% (341/475)\n",
      "72.84% (346/475)\n",
      "73.89% (351/475)\n",
      "74.95% (356/475)\n",
      "76.00% (361/475)\n",
      "77.05% (366/475)\n",
      "78.11% (371/475)\n",
      "79.16% (376/475)\n",
      "80.21% (381/475)\n",
      "81.26% (386/475)\n",
      "82.32% (391/475)\n",
      "83.37% (396/475)\n",
      "84.42% (401/475)\n",
      "85.47% (406/475)\n",
      "86.53% (411/475)\n",
      "87.58% (416/475)\n",
      "88.63% (421/475)\n",
      "89.68% (426/475)\n",
      "90.74% (431/475)\n",
      "91.79% (436/475)\n",
      "92.84% (441/475)\n",
      "93.89% (446/475)\n",
      "94.95% (451/475)\n",
      "96.00% (456/475)\n",
      "97.05% (461/475)\n",
      "98.11% (466/475)\n",
      "99.16% (471/475)\n"
     ]
    },
    {
     "name": "stderr",
     "output_type": "stream",
     "text": [
      "/Users/jdecock/anaconda/envs/cta/lib/python3.5/site-packages/matplotlib/axes/_axes.py:519: UserWarning: No labelled objects found. Use label='...' kwarg on individual plots.\n",
      "  warnings.warn(\"No labelled objects found. \"\n"
     ]
    },
    {
     "data": {
      "image/png": "[encoded data removed]",
      "text/plain": [
       "<matplotlib.figure.Figure at 0x10a2d8dd8>"
      ]
     },
     "metadata": {},
     "output_type": "display_data"
    }
   ],
   "source": [
    "%run ./utils/plot_noise_histogram.py --notebook --logy ./testset/gamma/tel1/"
   ]
  },
  {
   "cell_type": "markdown",
   "metadata": {},
   "source": [
    "### Noise histogram for telescope 2"
   ]
  },
  {
   "cell_type": "code",
   "execution_count": null,
   "metadata": {
    "collapsed": false
   },
   "outputs": [],
   "source": [
    "%run ./utils/plot_noise_histogram.py --quiet --output ./noise_histogram_tel2.png --logy ./testset/gamma/tel2/"
   ]
  },
  {
   "cell_type": "markdown",
   "metadata": {},
   "source": [
    "![image](./noise_histogram_tel2.png)"
   ]
  },
  {
   "cell_type": "markdown",
   "metadata": {},
   "source": [
    "## Noise histogram for some events\n",
    "\n",
    "![image](./figs/noise_histogram_ev507_tel1.png)\n",
    "\n",
    "--\n",
    "\n",
    "## Noise histogram for some events\n",
    "\n",
    "![image](./figs/noise_histogram_ev1909_tel1.png)\n",
    "\n",
    "--\n",
    "\n",
    "## Noise histogram for some events\n",
    "\n",
    "![image](./figs/noise_histogram_ev2403_tel1.png)\n"
   ]
  },
  {
   "cell_type": "markdown",
   "metadata": {},
   "source": [
    "## Noise\n",
    "\n",
    "Not a friendly distribution for Sparce2D\n",
    "\n",
    "~~\n",
    "\n",
    "Not a friendly distribution for Cosmostat tools\n"
   ]
  },
  {
   "cell_type": "markdown",
   "metadata": {},
   "source": [
    "## Default wavelet implemetation\n",
    "### Bspline \"a trou\"\n"
   ]
  },
  {
   "cell_type": "markdown",
   "metadata": {},
   "source": [
    "## Default wavelet implemetation\n",
    "### *mr_transform()* function\n",
    "\n",
    "Implemented in *~/bin/isap/cxx/sparse2d/src/libsparse2d/MR_Trans.cc*\n",
    "\n",
    "```cpp\n",
    "static void mr_transform (Ifloat &Image,\n",
    "                          MultiResol &MR_Transf,\n",
    "                          Bool EdgeLineTransform,\n",
    "                          type_border Border,\n",
    "                          Bool Details) {\n",
    "    // [...]\n",
    "    MR_Transf.band(0) = Image;\n",
    "    for (s = 0; s < Nbr_Plan -1; s++) {\n",
    "       smooth_bspline (MR_Transf.band(s),MR_Transf.band(s+1),Border,s);\n",
    "       MR_Transf.band(s) -= MR_Transf.band(s+1);\n",
    "    }\n",
    "    // [...]\n",
    "}\n",
    "```\n",
    "\n",
    "--\n",
    "\n",
    "## Default wavelet implemetation\n",
    "### Bspline \"a trou\"\n",
    "\n",
    "<img src=\"./figs/wt_bspline.tex.svg\" width=\"90%\">\n",
    "\n",
    "*convolve()* function is implemented in *smooth_bspline()* in sparce2d\n"
   ]
  },
  {
   "cell_type": "markdown",
   "metadata": {},
   "source": [
    "## Default wavelet implemetation\n",
    "### *smooth_bspline()* function\n",
    "\n",
    "Implemented in *isap/cxx/sparse2d/src/libsparse2d/IM_Smooth.cc*\n",
    "\n",
    "```cpp\n",
    "void smooth_bspline (const Ifloat & Im_in,\n",
    "                     Ifloat &Im_out,\n",
    "                     type_border Type, int Step_trou) {\n",
    "    int Nl = Im_in.nl();\n",
    "    int Nc = Im_in.nc();\n",
    "    int i,j,Step;\n",
    "    float Coeff_h0 = 3. / 8.;\n",
    "    float Coeff_h1 = 1. / 4.;\n",
    "    float Coeff_h2 = 1. / 16.;\n",
    "    Ifloat Buff(Nl,Nc,\"Buff smooth_bspline\");\n",
    "\n",
    "    Step = (int)(pow((double)2., (double) Step_trou) + 0.5);\n",
    "\n",
    "    for (i = 0; i < Nl; i ++)\n",
    "    for (j = 0; j < Nc; j ++)\n",
    "       Buff(i,j) = Coeff_h0 *    Im_in(i,j)\n",
    "                 + Coeff_h1 * (  Im_in (i, j-Step, Type) \n",
    "                               + Im_in (i, j+Step, Type)) \n",
    "                 + Coeff_h2 * (  Im_in (i, j-2*Step, Type) \n",
    "                               + Im_in (i, j+2*Step, Type));\n",
    "\n",
    "    for (i = 0; i < Nl; i ++)\n",
    "    for (j = 0; j < Nc; j ++)\n",
    "       Im_out(i,j) = Coeff_h0 *    Buff(i,j)\n",
    "                   + Coeff_h1 * (  Buff (i-Step, j, Type) \n",
    "                                 + Buff (i+Step, j, Type)) \n",
    "                   + Coeff_h2 * (  Buff (i-2*Step, j, Type) \n",
    "                                 + Buff (i+2*Step, j, Type));\n",
    "}\n",
    "```\n"
   ]
  },
  {
   "cell_type": "markdown",
   "metadata": {},
   "source": [
    "## Default wavelet implemetation\n",
    "\n",
    "Good for:\n",
    "- Kai tests (wrapper)\n",
    "- Hexagonal shape cameras\n",
    "- Logarithmic image processing studies\n",
    "\n",
    "~~\n",
    "\n",
    "The implementation is simpler than what I thought\n",
    "and it is conceptually easy to adapt it to hexagonal pixel shapes cameras\n",
    "\n",
    "--\n",
    "\n",
    "<img src=\"./figs/hexagonal_grid.png\" width=\"50%\">\n",
    "\n",
    "--\n",
    "\n",
    "<img src=\"./figs/hexagonal_grid_2.gif\" width=\"70%\">\n"
   ]
  },
  {
   "cell_type": "markdown",
   "metadata": {},
   "source": [
    "### Loss of energy on very high energy images (> 10000 pe)"
   ]
  },
  {
   "cell_type": "markdown",
   "metadata": {},
   "source": [
    "#### Problem description"
   ]
  },
  {
   "cell_type": "markdown",
   "metadata": {},
   "source": [
    "On images with NPE > 10000, we lose a lot of energy i.e. on $\\mathcal{E}_{\\text{energy}}$ 2D histograms, performance of cleaning algorithms decrease strongly at high NPE.\n",
    "\n",
    "Yeah... but actualy Tailcut has the same problem."
   ]
  },
  {
   "cell_type": "markdown",
   "metadata": {},
   "source": [
    "#### Conclusion [2017-02-01]"
   ]
  },
  {
   "cell_type": "markdown",
   "metadata": {},
   "source": [
    "Actually, the cut on very high pixel values is already done within calibrated **input** images...\n",
    "Thus of course, no cleaning algorithm can retrive them.\n",
    "\n",
    "The electronic simply saturates (~\"the ADC has a 11 bits buffer\"~) and there is nothing we can do about this...\n",
    "We should drop those images."
   ]
  }
 ],
 "metadata": {
  "anaconda-cloud": {},
  "kernelspec": {
   "display_name": "Python [conda env:cta]",
   "language": "python",
   "name": "conda-env-cta-py"
  },
  "language_info": {
   "codemirror_mode": {
    "name": "ipython",
    "version": 3
   },
   "file_extension": ".py",
   "mimetype": "text/x-python",
   "name": "python",
   "nbconvert_exporter": "python",
   "pygments_lexer": "ipython3",
   "version": "3.5.2"
  }
 },
 "nbformat": 4,
 "nbformat_minor": 1
}
