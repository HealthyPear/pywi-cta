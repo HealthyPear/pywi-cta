{
 "cells": [
  {
   "cell_type": "code",
   "execution_count": null,
   "metadata": {
    "collapsed": false
   },
   "outputs": [],
   "source": [
    "#%matplotlib notebook\n",
    "%matplotlib inline\n",
    "#%config InlineBackend.figure_formats=['svg']\n",
    "#%config InlineBackend.figure_formats=['pdf']\n",
    "\n",
    "import matplotlib\n",
    "\n",
    "matplotlib.rcParams['figure.figsize'] = (12, 9)\n",
    "\n",
    "from IPython.display import display\n",
    "\n",
    "from matplotlib.colors import LogNorm\n",
    "\n",
    "import scipy\n",
    "import scipy.stats\n",
    "import math\n",
    "import numpy as np\n",
    "import pandas as pd\n",
    "\n",
    "#import ipywidgets\n",
    "#from ipywidgets import interact\n",
    "\n",
    "#import sys\n",
    "#sys.path.append(\"/Users/jdecock/git/pub/jdhp-sap/sap-cta-data-pipeline/utils/\")\n",
    "#import common_functions as common"
   ]
  },
  {
   "cell_type": "code",
   "execution_count": null,
   "metadata": {
    "collapsed": false
   },
   "outputs": [],
   "source": [
    "CSV_FILE_PATH = \"../xps/best.csv\"\n",
    "\n",
    "#WAVELET_LABEL = \"Wavelets-n4-K-k-C1-s3-m3-kill\"\n",
    "#WAVELET_LABEL = \"WT-ref-f3-s3\"\n",
    "#WAVELET_LABEL = \"WT-t24-f3-s4\"\n",
    "#WAVELET_LABEL = \"WT-t28-f3-s5\"\n",
    "WAVELET_LABEL = \"WT-ref-s2-2-3-3\"\n",
    "\n",
    "TAILCUT_LABEL = \"Tailcut-5-10-kill\"\n",
    "\n",
    "PART = 0         # 0 for gamma, 1 for protons\n",
    "\n",
    "FAINT_BRIGHT_BORDER = 100\n",
    "\n",
    "full_df = pd.read_csv(CSV_FILE_PATH)\n",
    "\n",
    "ref = full_df[full_df.Type == 'Ref']\n",
    "ref = ref[ref.Part == PART]\n",
    "\n",
    "tc = full_df[full_df.Type == TAILCUT_LABEL]\n",
    "tc = tc[tc.Part == PART]\n",
    "\n",
    "wt = full_df[full_df.Type == WAVELET_LABEL]\n",
    "wt = wt[wt.Part == PART]\n",
    "\n",
    "\n",
    "tc_wt = pd.merge(tc, wt, on=\"Id\", how=\"outer\", suffixes=('_tc', '_wt'))  #.dropna(how='any')\n",
    "df = pd.merge(tc_wt, ref, on=\"Id\", how=\"outer\")\n",
    "\n",
    "df[\"delta_tc\"] = np.fmod(((df['hPsi'] - df['hPsi_tc']) * 180. / np.pi), 90.)\n",
    "df[\"delta_wt\"] = np.fmod(((df['hPsi'] - df['hPsi_wt']) * 180. / np.pi), 90.)\n",
    "\n",
    "df.delta_tc = abs(df.delta_tc)\n",
    "df.delta_wt = abs(df.delta_wt)\n",
    "\n",
    "df[\"delta_pe_tc\"] = df.delta_tc * df.peSum_tc\n",
    "df[\"delta_pe_wt\"] = df.delta_wt * df.peSum_wt\n",
    "\n",
    "#df = df[df.border > 0]   # CONTAINED\n",
    "#df = df[df.border == 0]  # NOT CONTAINED\n",
    "\n",
    "grpdf = df.groupby([\"Evt\"])"
   ]
  },
  {
   "cell_type": "markdown",
   "metadata": {},
   "source": [
    "## Number of fails"
   ]
  },
  {
   "cell_type": "code",
   "execution_count": null,
   "metadata": {
    "collapsed": false
   },
   "outputs": [],
   "source": [
    "print(\"TC:\", np.sum(grpdf.peSum.count() - grpdf.peSum_tc.count()), \"failed\")\n",
    "print(\"WT:\", np.sum(grpdf.peSum.count() - grpdf.peSum_wt.count()), \"failed\")\n",
    "\n",
    "# Check\n",
    "print(\"TC:\", len(df[df.Success_tc == 0]), \"failed\")\n",
    "print(\"WT:\", len(df[df.Success_wt == 0]), \"failed\")"
   ]
  },
  {
   "cell_type": "markdown",
   "metadata": {},
   "source": [
    "## Mean number of telescope per event"
   ]
  },
  {
   "cell_type": "code",
   "execution_count": null,
   "metadata": {
    "collapsed": false
   },
   "outputs": [],
   "source": [
    "print(\"Ref. mean={:.2f}, med={:.2f}, std={:.2f}\".format( grpdf.peSum.count().mean(), grpdf.peSum.count().median(), grpdf.peSum.count().std() ))\n",
    "print(\"TC   mean={:.2f}, med={:.2f}, std={:.2f}\".format( grpdf.peSum_tc.count().mean(), grpdf.peSum_tc.count().median(), grpdf.peSum_tc.count().std() ))\n",
    "print(\"WT   mean={:.2f}, med={:.2f}, std={:.2f}\".format( grpdf.peSum_wt.count().mean(), grpdf.peSum_wt.count().median(), grpdf.peSum_wt.count().std() ))"
   ]
  },
  {
   "cell_type": "markdown",
   "metadata": {},
   "source": [
    "## Number of telescope per event after cleaning"
   ]
  },
  {
   "cell_type": "code",
   "execution_count": null,
   "metadata": {
    "collapsed": false
   },
   "outputs": [],
   "source": [
    "fig, ax = plt.subplots()\n",
    "\n",
    "bins = np.arange(0, 34)\n",
    "\n",
    "grpdf.peSum.count().hist(bins=bins, label=\"Ref\", linewidth=2, alpha=0.9, color='green', histtype=\"step\")\n",
    "\n",
    "#ax.set_yscale('log')\n",
    "\n",
    "ax.set_xlabel('Num tel per event for the clean signal (ref.)', fontsize=20)\n",
    "ax.set_ylabel('Counts', fontsize=20)\n",
    "\n",
    "ax.legend(prop={'size': 11}, loc='best', fancybox=True, framealpha=0.5)"
   ]
  },
  {
   "cell_type": "code",
   "execution_count": null,
   "metadata": {
    "collapsed": false
   },
   "outputs": [],
   "source": [
    "fig, ax = plt.subplots()\n",
    "\n",
    "bins = np.arange(0, 34)\n",
    "\n",
    "grpdf.peSum.count().hist(bins=bins, label=\"Ref\", linewidth=0, alpha=0.4, color='green', histtype=\"bar\")\n",
    "grpdf.peSum_tc.count().hist(bins=bins, label=\"TC\", linewidth=2, alpha=0.5, color='blue', histtype=\"step\")\n",
    "grpdf.peSum_wt.count().hist(bins=bins, label=\"WT\", linewidth=2, alpha=0.5, color='red', histtype=\"step\")\n",
    "\n",
    "#ax.set_yscale('log')\n",
    "\n",
    "ax.set_xlabel('Num tel per event after cleaning', fontsize=20)\n",
    "ax.set_ylabel('Counts', fontsize=20)\n",
    "\n",
    "ax.legend(prop={'size': 11}, loc='best', fancybox=True, framealpha=0.5)"
   ]
  },
  {
   "cell_type": "markdown",
   "metadata": {},
   "source": [
    "## PE sum"
   ]
  },
  {
   "cell_type": "code",
   "execution_count": null,
   "metadata": {
    "collapsed": false
   },
   "outputs": [],
   "source": [
    "fig, ax = plt.subplots()\n",
    "\n",
    "max_value = max(np.max(df.peSum_tc), np.max(df.peSum_wt))\n",
    "bins = np.logspace(0, np.log10(max_value), 50)\n",
    "\n",
    "df.peSum_tc.hist(bins=bins, alpha=0.5,\n",
    "                 label=r\"TC {}, $\\tilde x$={:.2f}, $\\sigma$={:.2f}\".format(len(df.peSum_tc.dropna()),\n",
    "                                                                           df.peSum_tc.median(),\n",
    "                                                                           #df.peSum_tc.mean(),\n",
    "                                                                           df.peSum_tc.std()))\n",
    "df.peSum_wt.hist(bins=bins, alpha=0.5,\n",
    "                 label=r\"WT {}, $\\tilde x$={:.2f}, $\\sigma$={:.2f}\".format(len(df.peSum_wt.dropna()),\n",
    "                                                                           df.peSum_wt.median(),\n",
    "                                                                           #df.peSum_wt.mean(),\n",
    "                                                                           df.peSum_wt.std()))\n",
    "\n",
    "ax.axvline(x=50, linewidth=2, linestyle='--', color='black', alpha=0.5)\n",
    "ax.axvline(x=2000, linewidth=2, linestyle='--', color='black', alpha=0.5)\n",
    "ax.axvline(x=125, linewidth=3, linestyle=':', color='black', alpha=0.7)\n",
    "\n",
    "ax.set_xscale('log')\n",
    "#ax.set_yscale('log')\n",
    "\n",
    "ax.set_xlabel(r'$\\sum_{pix} PE$', fontsize=20)\n",
    "ax.set_ylabel('Counts', fontsize=20)\n",
    "\n",
    "ax.set_title(\"Total PE sum per image\", fontsize=20)\n",
    "\n",
    "ax.legend(prop={'size': 16}, loc='best', fancybox=True, framealpha=0.5)"
   ]
  },
  {
   "cell_type": "code",
   "execution_count": null,
   "metadata": {
    "collapsed": false
   },
   "outputs": [],
   "source": [
    "fig, ax = plt.subplots()\n",
    "\n",
    "max_value = max(np.max(grpdf.peSum_tc.sum()), np.max(grpdf.peSum_wt.sum()))\n",
    "bins = np.logspace(0, np.log10(max_value), 50)\n",
    "\n",
    "grpdf.peSum_tc.sum().hist(bins=bins, alpha=0.5,\n",
    "                          label=r\"TC $\\tilde x$={:.2f}, $\\sigma$={:.2f}\".format(grpdf.peSum_tc.sum().median(),\n",
    "                                                                                grpdf.peSum_tc.sum().std()))\n",
    "grpdf.peSum_wt.sum().hist(bins=bins, alpha=0.5,\n",
    "                          label=r\"WT $\\tilde x$={:.2f}, $\\sigma$={:.2f}\".format(grpdf.peSum_wt.sum().median(),\n",
    "                                                                                grpdf.peSum_wt.sum().std()))\n",
    "\n",
    "ax.axvline(x=50, linewidth=2, linestyle='--', color='black', alpha=0.5)\n",
    "ax.axvline(x=2000, linewidth=2, linestyle='--', color='black', alpha=0.5)\n",
    "ax.axvline(x=125, linewidth=2, linestyle=':', color='black', alpha=0.5)\n",
    "ax.axvline(x=297, linewidth=3, linestyle=':', color='black', alpha=0.7)\n",
    "\n",
    "ax.set_xscale('log')\n",
    "#ax.set_yscale('log')\n",
    "\n",
    "ax.set_xlabel(r'$\\sum_{img} \\sum_{pix} PE$', fontsize=20)\n",
    "ax.set_ylabel('Counts', fontsize=20)\n",
    "\n",
    "ax.set_title(\"Total PE sum per event\", fontsize=20)\n",
    "\n",
    "ax.legend(prop={'size': 16}, loc='best', fancybox=True, framealpha=0.5)"
   ]
  },
  {
   "cell_type": "markdown",
   "metadata": {},
   "source": [
    "## Delta psi"
   ]
  },
  {
   "cell_type": "code",
   "execution_count": null,
   "metadata": {
    "collapsed": false
   },
   "outputs": [],
   "source": [
    "fig, ax = plt.subplots()\n",
    "\n",
    "ax.plot(df.delta_tc, df.peSum_tc, \".b\", alpha=0.2, label=\"TC\")\n",
    "ax.plot(df.delta_wt, df.peSum_wt, \".r\", alpha=0.2, label=\"WT\")\n",
    "\n",
    "#ax.set_xscale('log')\n",
    "ax.set_yscale('log')\n",
    "\n",
    "ax.set_xlabel(r'$\\Delta\\psi$', fontsize=20)\n",
    "ax.set_ylabel(r'$\\sum_{pix} PE$', fontsize=20)\n",
    "\n",
    "ax.set_title(r\"$\\Delta\\psi$ (per image)\", fontsize=20)\n",
    "\n",
    "ax.legend(prop={'size': 11}, loc='best', fancybox=True, framealpha=0.5)"
   ]
  },
  {
   "cell_type": "code",
   "execution_count": null,
   "metadata": {
    "collapsed": false,
    "scrolled": false
   },
   "outputs": [],
   "source": [
    "fig, ax = plt.subplots()\n",
    "\n",
    "ax.plot(grpdf.delta_pe_tc.sum() / grpdf.peSum_tc.sum(), grpdf.peSum_tc.sum(), \".b\", alpha=0.5, label=\"TC\")\n",
    "ax.plot(grpdf.delta_pe_wt.sum() / grpdf.peSum_wt.sum(), grpdf.peSum_wt.sum(), \".r\", alpha=0.5, label=\"WT\")\n",
    "\n",
    "#ax.set_xscale('log')\n",
    "ax.set_yscale('log')\n",
    "\n",
    "ax.set_xlabel(r'$\\sum_{img} \\omega_{img} \\Delta\\psi$', fontsize=20)\n",
    "ax.set_ylabel(r'$\\sum_{img} \\sum_{pix} PE$', fontsize=20)\n",
    "\n",
    "ax.set_title(r\"Weighted sum of $\\Delta\\psi$ (per event)\", fontsize=20)\n",
    "\n",
    "ax.legend(prop={'size': 11}, loc='best', fancybox=True, framealpha=0.5)"
   ]
  },
  {
   "cell_type": "code",
   "execution_count": null,
   "metadata": {
    "collapsed": false,
    "scrolled": false
   },
   "outputs": [],
   "source": [
    "fig, (ax1, ax2) = plt.subplots(nrows=1, ncols=2, figsize=(16, 9))\n",
    "\n",
    "x1, y1 = grpdf.delta_pe_tc.sum() / grpdf.peSum_tc.sum(), grpdf.peSum_tc.sum()\n",
    "x2, y2 = grpdf.delta_pe_wt.sum() / grpdf.peSum_wt.sum(), grpdf.peSum_wt.sum()\n",
    "\n",
    "xbins = np.linspace(0, 90, 50)\n",
    "ybins = np.logspace(-1, 6, 50)\n",
    "\n",
    "counts1, _, _ = np.histogram2d(x1, y1, bins=(xbins, ybins))\n",
    "counts2, _, _ = np.histogram2d(x2, y2, bins=(xbins, ybins))\n",
    "\n",
    "pcm1 = ax1.pcolormesh(xbins, ybins, counts1.T, norm=LogNorm())\n",
    "fig.colorbar(pcm1, ax=ax1)\n",
    "\n",
    "pcm2 = ax2.pcolormesh(xbins, ybins, counts2.T, norm=LogNorm())\n",
    "fig.colorbar(pcm2, ax=ax2)\n",
    "\n",
    "#CS = plt.contour(X, Y, Z)\n",
    "#plt.clabel(CS, inline=1, fontsize=10)\n",
    "\n",
    "for ax in [ax1, ax2]:\n",
    "    #ax.set_xscale('log')\n",
    "    ax.set_yscale('log')\n",
    "\n",
    "    ax.set_xlabel(r'$\\sum_{img} \\omega_{img} \\Delta\\psi$', fontsize=20)\n",
    "    ax.set_ylabel(r'$\\sum_{img} \\sum_{pix} PE$', fontsize=20)\n",
    "\n",
    "    ax.set_title(r\"Weighted sum of $\\Delta\\psi$ (per event)\", fontsize=20)\n",
    "\n",
    "    ax.legend(prop={'size': 11}, loc='best', fancybox=True, framealpha=0.5)"
   ]
  },
  {
   "cell_type": "code",
   "execution_count": null,
   "metadata": {
    "collapsed": false,
    "scrolled": false
   },
   "outputs": [],
   "source": [
    "fig, ax = plt.subplots(figsize=(9, 9))\n",
    "\n",
    "x1, y1 = grpdf.delta_pe_tc.sum() / grpdf.peSum_tc.sum(), grpdf.peSum_tc.sum()\n",
    "x2, y2 = grpdf.delta_pe_wt.sum() / grpdf.peSum_wt.sum(), grpdf.peSum_wt.sum()\n",
    "\n",
    "xbins = np.linspace(0, 90, 30)\n",
    "ybins = np.logspace(-1, 6, 30)\n",
    "\n",
    "counts1, xedges, yedges = np.histogram2d(x1, y1, bins=(xbins, ybins))\n",
    "counts2, xedges, yedges = np.histogram2d(x2, y2, bins=(xbins, ybins))\n",
    "\n",
    "max_value = max(np.max(counts1), np.max(counts2))\n",
    "\n",
    "#levels = np.arange(10, 60, 10)\n",
    "levels = np.array([0.1*max_value, 0.4*max_value, 0.8*max_value])\n",
    "\n",
    "cs1 = plt.contour(xedges[:-1], yedges[:-1], counts1.T, levels,\n",
    "                  linewidths=(2, 2, 3), linestyles=('dotted', 'dashed', 'solid'),\n",
    "                  alpha=0.5, colors='blue')\n",
    "ax.clabel(cs1, inline=False, fontsize=12)\n",
    "\n",
    "cs2 = plt.contour(xedges[:-1], yedges[:-1], counts2.T, levels,\n",
    "                  linewidths=(2, 2, 3), linestyles=('dotted', 'dashed', 'solid'),\n",
    "                  alpha=0.5, colors='red')\n",
    "ax.clabel(cs2, inline=False, fontsize=12)\n",
    "\n",
    "#ax.set_xscale('log')\n",
    "ax.set_yscale('log')\n",
    "\n",
    "ax.set_xlim(0, 60)\n",
    "ax.set_ylim(10, 1e5)\n",
    "\n",
    "ax.set_xlabel(r'$\\sum_{img} \\omega_{img} \\Delta\\psi$', fontsize=20)\n",
    "ax.set_ylabel(r'$\\sum_{img} \\sum_{pix} PE$', fontsize=20)\n",
    "\n",
    "ax.set_title(r\"Weighted sum of $\\Delta\\psi$ (per event)\", fontsize=20)\n",
    "\n",
    "lines = [ cs1.collections[0], cs2.collections[0]]\n",
    "labels = ['TC','WT']\n",
    "ax.legend(lines, labels, prop={'size': 14}, loc='best', fancybox=True, framealpha=0.5)"
   ]
  },
  {
   "cell_type": "code",
   "execution_count": null,
   "metadata": {
    "collapsed": false,
    "scrolled": false
   },
   "outputs": [],
   "source": [
    "fig, ax = plt.subplots(figsize=(9, 9))\n",
    "\n",
    "x1, y1 = grpdf.delta_pe_tc.sum() / grpdf.peSum_tc.sum(), grpdf.peSum_tc.sum()\n",
    "x2, y2 = grpdf.delta_pe_wt.sum() / grpdf.peSum_wt.sum(), grpdf.peSum_wt.sum()\n",
    "\n",
    "xbins = np.linspace(0, 90, 30)\n",
    "ybins = np.logspace(-1, 6, 30)\n",
    "\n",
    "counts1, xedges, yedges = np.histogram2d(x1, y1, bins=(xbins, ybins))\n",
    "counts2, xedges, yedges = np.histogram2d(x2, y2, bins=(xbins, ybins))\n",
    "\n",
    "max_value = max(np.max(counts1), np.max(counts2))\n",
    "\n",
    "#levels = np.arange(10, 60, 10)\n",
    "#levels1 = np.array([1.*np.std(counts1), 3.*np.std(counts1), 6.*np.std(counts1)])\n",
    "#levels2 = np.array([1.*np.std(counts2), 3.*np.std(counts2), 6.*np.std(counts2)])\n",
    "sigmas = [1., 3., 6.]\n",
    "levels1 = []\n",
    "levels2 = []\n",
    "fmt1 = {}\n",
    "fmt2 = {}\n",
    "\n",
    "for sigma in sigmas:\n",
    "    levels1.append(float(sigma) * np.std(counts1))\n",
    "    levels2.append(float(sigma) * np.std(counts2))\n",
    "    fmt1[float(sigma) * np.std(counts1)] = r\"${}\\sigma$\".format(int(sigma))\n",
    "    fmt2[float(sigma) * np.std(counts2)] = r\"${}\\sigma$\".format(int(sigma))\n",
    "\n",
    "cs1 = plt.contour(xedges[:-1], yedges[:-1], counts1.T, levels1,\n",
    "                  linewidths=(2, 2, 3), linestyles=('dotted', 'dashed', 'solid'),\n",
    "                  alpha=0.5, colors='blue')\n",
    "ax.clabel(cs1, inline=False, fontsize=18, fmt=fmt1)\n",
    "\n",
    "cs2 = plt.contour(xedges[:-1], yedges[:-1], counts2.T, levels2,\n",
    "                  linewidths=(2, 2, 3), linestyles=('dotted', 'dashed', 'solid'),\n",
    "                  alpha=0.5, colors='red')\n",
    "ax.clabel(cs2, inline=False, fontsize=18, fmt=fmt2)\n",
    "\n",
    "#ax.set_xscale('log')\n",
    "ax.set_yscale('log')\n",
    "\n",
    "ax.set_xlim(0, 60)\n",
    "ax.set_ylim(10, 1e5)\n",
    "\n",
    "ax.set_xlabel(r'$\\sum_{img} \\omega_{img} \\Delta\\psi$', fontsize=20)\n",
    "ax.set_ylabel(r'$\\sum_{img} \\sum_{pix} PE$', fontsize=20)\n",
    "\n",
    "ax.set_title(r\"Weighted sum of $\\Delta\\psi$ (per event)\", fontsize=20)\n",
    "\n",
    "lines = [ cs1.collections[0], cs2.collections[0]]\n",
    "labels = ['TC','WT']\n",
    "ax.legend(lines, labels, prop={'size': 14}, loc='best', fancybox=True, framealpha=0.5)"
   ]
  },
  {
   "cell_type": "markdown",
   "metadata": {},
   "source": [
    "$$\n",
    "\\sum_{img} \\omega_{img} \\Delta\\psi\n",
    "$$\n",
    "with\n",
    "$$\n",
    "\\omega_{img} = \\frac{\\sum_{pix} PE}{\\sum_{img}\\sum_{pix} PE}\n",
    "$$"
   ]
  },
  {
   "cell_type": "code",
   "execution_count": null,
   "metadata": {
    "collapsed": false
   },
   "outputs": [],
   "source": [
    "def plot_ratio(ax, res_tuple_tc, res_tuple_wt):\n",
    "    val_of_bins_tc, bins_tc, patches_tc = res_tuple_tc\n",
    "    val_of_bins_wt, bins_wt, patches_wt = res_tuple_wt\n",
    "    edges_of_bins = bins_tc\n",
    "\n",
    "    # Set ratio where val_of_bins_data is not zero\n",
    "    ratio = np.divide(val_of_bins_wt,\n",
    "                      val_of_bins_tc,\n",
    "                      where=(val_of_bins_tc != 0))\n",
    "\n",
    "    # Compute error on ratio (null if cannot be computed)\n",
    "    # This is wrong as it's made for Gaussian distributions and here we have Poisson distribution\n",
    "    error = np.divide(val_of_bins_wt * np.sqrt(val_of_bins_tc) + val_of_bins_tc * np.sqrt(val_of_bins_wt),\n",
    "                       np.power(val_of_bins_tc, 2),\n",
    "                       where=(val_of_bins_tc != 0))\n",
    "\n",
    "    ax.set_ylabel('Ratio (WT/TC)', fontsize=20)\n",
    "    ax.axhline(y=1, linewidth=2, linestyle='--', color='gray', alpha=0.5)\n",
    "\n",
    "    bincenter = 0.5 * (edges_of_bins[1:] + edges_of_bins[:-1])\n",
    "    ax.errorbar(bincenter, ratio, yerr=error, fmt='o', color='k', elinewidth=3, capsize=4, capthick=3, linewidth=6)\n",
    "    ax.plot(bincenter, ratio, 'ok', linewidth=6)\n",
    "\n",
    "################################\n",
    "\n",
    "fig, ((ax1, ax2), (ax3, ax4)) = plt.subplots(nrows=2, ncols=2, figsize=(16, 9))\n",
    "\n",
    "#BINS_START, BINS_STOP, BINS_STEP = 0., 99., 9.\n",
    "#BINS_START, BINS_STOP, BINS_STEP = 0., 99., 9.\n",
    "\n",
    "#BINS = np.arange(BINS_START, BINS_STOP, BINS_STEP)\n",
    "#BINS = 30\n",
    "#BINS = np.linspace(BINS_START, BINS_STOP, 30)\n",
    "#BINS = [3.53056780e-03, 5.99515231e+00, 1.19867741e+01, 1.79783958e+01, 2.39700176e+01, 2.99616393e+01,\n",
    "#        3.59532610e+01, 4.19448828e+01, 4.79365045e+01, 5.39281263e+01, 5.99197480e+01, 6.59113698e+01,\n",
    "#        7.19029915e+01, 7.78946133e+01, 8.38862350e+01, 8.98778568e+01]\n",
    "BINS = 15\n",
    "\n",
    "################################\n",
    "\n",
    "NPE_MIN, NPE_MAX = 150, 300\n",
    "\n",
    "dftc = pd.DataFrame({\"delta\": grpdf.delta_pe_tc.sum() / grpdf.peSum_tc.sum(),\n",
    "                     \"peSum\": grpdf.peSum_tc.sum()})\n",
    "dfwt = pd.DataFrame({\"delta\": grpdf.delta_pe_wt.sum() / grpdf.peSum_wt.sum(),\n",
    "                     \"peSum\": grpdf.peSum_wt.sum()})\n",
    "\n",
    "df1 = dftc[dftc.peSum > NPE_MIN][dftc.peSum <= NPE_MAX][\"peSum\"]\n",
    "df2 = dfwt[dfwt.peSum > NPE_MIN][dfwt.peSum <= NPE_MAX][\"peSum\"]\n",
    "\n",
    "res_tuple_tc1 = ax1.hist(df1,\n",
    "                         label=\"TC num={}\".format(len(df1)),\n",
    "                         bins=BINS,\n",
    "                         linewidth=2, alpha=.5, color='blue', histtype=\"step\")\n",
    "\n",
    "res_tuple_wt1 = ax1.hist(df2,\n",
    "                         label=\"WT num={}\".format(len(df2)),\n",
    "                         bins=BINS,\n",
    "                         linewidth=2, alpha=.5, color='red',  histtype=\"step\")\n",
    "\n",
    "ax1.set_title(\"{} to {} NPE\".format(NPE_MIN, NPE_MAX), fontsize=20)\n",
    "ax1.set_xlabel(\"delta_psi\", fontsize=20)\n",
    "ax1.set_ylabel(\"counts\", fontsize=20)\n",
    "ax1.legend(prop={'size': 18}, loc='best', fancybox=True, framealpha=0.5)\n",
    "\n",
    "plot_ratio(ax3, res_tuple_tc1, res_tuple_wt1)\n",
    "\n",
    "################################\n",
    "\n",
    "NPE_MIN, NPE_MAX = 300, 6000\n",
    "\n",
    "df1 = dftc[dftc.peSum > NPE_MIN][dftc.peSum <= NPE_MAX][\"peSum\"]\n",
    "df2 = dfwt[dfwt.peSum > NPE_MIN][dfwt.peSum <= NPE_MAX][\"peSum\"]\n",
    "\n",
    "res_tuple_tc2 = ax2.hist(df1,\n",
    "                         label=\"TC num={}\".format(len(df1)),\n",
    "                         bins=BINS,\n",
    "                         linewidth=2, alpha=.5, color='blue', histtype=\"step\")\n",
    "\n",
    "res_tuple_wt2 = ax2.hist(df2,\n",
    "                         label=\"WT num={}\".format(len(df2)),\n",
    "                         bins=BINS,\n",
    "                         linewidth=2, alpha=.5, color='red',  histtype=\"step\")\n",
    "\n",
    "ax2.set_title(\"{} to {} NPE\".format(NPE_MIN, NPE_MAX), fontsize=20)\n",
    "ax2.set_xlabel(\"delta_psi\", fontsize=20)\n",
    "ax2.set_ylabel(\"counts\", fontsize=20)\n",
    "ax2.legend(prop={'size': 18}, loc='best', fancybox=True, framealpha=0.5)\n",
    "\n",
    "plot_ratio(ax4, res_tuple_tc2, res_tuple_wt2)\n",
    "\n",
    "#ax.set_yscale('log')"
   ]
  },
  {
   "cell_type": "markdown",
   "metadata": {},
   "source": [
    "## Delta psi from script"
   ]
  },
  {
   "cell_type": "markdown",
   "metadata": {},
   "source": [
    "Rem: this is a cross check, you can ignore it..."
   ]
  },
  {
   "cell_type": "code",
   "execution_count": null,
   "metadata": {
    "collapsed": false
   },
   "outputs": [],
   "source": [
    "#%run ./utils/plot_delta_psi.py --notebook --metric hillas2_delta_psi_norm2 xps/2017_02_23_sapcta/run_8/score_gamma_all_wavelets_mrfilter_kill.json xps/2017_02_22_sapcta/run_1/score_gamma_all_tailcut_kill.json"
   ]
  },
  {
   "cell_type": "code",
   "execution_count": null,
   "metadata": {
    "collapsed": true
   },
   "outputs": [],
   "source": []
  }
 ],
 "metadata": {
  "anaconda-cloud": {},
  "kernelspec": {
   "display_name": "Python [conda env:cta]",
   "language": "python",
   "name": "conda-env-cta-py"
  },
  "language_info": {
   "codemirror_mode": {
    "name": "ipython",
    "version": 3
   },
   "file_extension": ".py",
   "mimetype": "text/x-python",
   "name": "python",
   "nbconvert_exporter": "python",
   "pygments_lexer": "ipython3",
   "version": "3.5.2"
  }
 },
 "nbformat": 4,
 "nbformat_minor": 1
}
