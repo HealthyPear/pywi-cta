{
 "cells": [
  {
   "cell_type": "code",
   "execution_count": null,
   "metadata": {
    "collapsed": false,
    "scrolled": false
   },
   "outputs": [],
   "source": [
    "%matplotlib inline\n",
    "\n",
    "import matplotlib\n",
    "matplotlib.rcParams['figure.figsize'] = (6, 6)\n",
    "\n",
    "import math\n",
    "import cmath          # math functions for complex numbers\n",
    "import numpy as np\n",
    "import matplotlib.pyplot as plt\n",
    "\n",
    "from matplotlib.colors import LogNorm\n",
    "\n",
    "import scipy\n",
    "import scipy.stats\n",
    "import pandas as pd\n",
    "\n",
    "from astropy.io import fits\n",
    "import os.path\n",
    "\n",
    "import ipywidgets\n",
    "from ipywidgets import interact\n",
    "\n",
    "import sys\n",
    "sys.path.append(\"../\")\n",
    "sys.path.append(\"../utils\")\n",
    "\n",
    "import datapipe\n",
    "import datapipe.denoising.wavelets_mrfilter as mrfilter\n",
    "import common_functions as common\n",
    "\n",
    "from datapipe.image.hillas_parameters import get_hillas_parameters"
   ]
  },
  {
   "cell_type": "markdown",
   "metadata": {},
   "source": [
    "## Tool functions"
   ]
  },
  {
   "cell_type": "code",
   "execution_count": null,
   "metadata": {
    "collapsed": true
   },
   "outputs": [],
   "source": [
    "def plot(data, title=\"\", log=False):\n",
    "    fig = plt.figure()\n",
    "    ax1 = fig.add_subplot(111)\n",
    "\n",
    "    ax1.set_title(title)\n",
    "    \n",
    "    if log:\n",
    "        # See http://matplotlib.org/examples/pylab_examples/pcolor_log.html\n",
    "        #     http://stackoverflow.com/questions/2546475/how-can-i-draw-a-log-normalized-imshow-plot-with-a-colorbar-representing-the-raw\n",
    "        #im = ax1.pcolor(x, y, image_array, norm=LogNorm(vmin=0.01, vmax=image_array.max()), cmap=self.color_map)  # TODO: \"vmin=0.01\" is an arbitrary choice...\n",
    "        im = ax1.imshow(data, interpolation='nearest', origin='lower', norm=LogNorm(vmin=0.01, vmax=data.max()), cmap=\"gnuplot2\")   # cmap=cm.inferno and cmap=\"inferno\" are both valid\n",
    "    else:\n",
    "        im = ax1.imshow(data, interpolation='nearest', origin='lower', cmap=\"gnuplot2\")   # cmap=cm.inferno and cmap=\"inferno\" are both valid\n",
    "        #im = ax1.pcolor(x, y, image_array, cmap=self.color_map, vmin=z_min, vmax=z_max)\n",
    "\n",
    "    plt.colorbar(im, ax=ax1)  # draw the colorbar\n",
    "    \n",
    "    #ax2 = fig.add_subplot(212)\n",
    "    #ax2.hist(data)\n",
    "    \n",
    "    plt.show()"
   ]
  },
  {
   "cell_type": "markdown",
   "metadata": {},
   "source": [
    "## Data"
   ]
  },
  {
   "cell_type": "code",
   "execution_count": null,
   "metadata": {
    "collapsed": false
   },
   "outputs": [],
   "source": [
    "file_path = \"/Users/jdecock/data/astri_mini_array/fits/gamma/run1001.simtel.gz_TEL001_EV00507.fits\"\n",
    "\n",
    "ref = datapipe.io.images.load_benchmark_images(file_path)[0][\"reference_image\"]\n",
    "pix_pos = datapipe.io.images.load_benchmark_images(file_path)[0][\"pixels_position\"]\n",
    "\n",
    "img = ref\n",
    "pix = (pix_pos[0], pix_pos[1])\n",
    "\n",
    "img = ref[20:29,25:35]\n",
    "pix_pos = (pix_pos[0][20:29,25:35], pix_pos[1][20:29,25:35])\n",
    "\n",
    "print(img)\n",
    "plot(img)\n",
    "\n",
    "print(pix_pos)\n",
    "plot(pix_pos[0])\n",
    "plot(pix_pos[1])\n",
    "\n",
    "img_nan = np.copy(img)\n",
    "lx, ly = img_nan.shape\n",
    "img_nan[0:2,0:2] = np.nan\n",
    "img_nan[0:2,-2:ly] = np.nan\n",
    "img_nan[-2:lx,0:2] = np.nan\n",
    "img_nan[-2:lx,-2:ly] = np.nan\n",
    "\n",
    "\n",
    "\n",
    "pix_pos_nan = (np.copy(pix_pos[0]), np.copy(pix_pos[1]))\n",
    "\n",
    "lx, ly = pix_pos_nan[0].shape\n",
    "\n",
    "pix_pos_nan[0][0:2,0:2] = np.nan\n",
    "pix_pos_nan[0][0:2,-2:ly] = np.nan\n",
    "pix_pos_nan[0][-2:lx,0:2] = np.nan\n",
    "pix_pos_nan[0][-2:lx,-2:ly] = np.nan\n",
    "\n",
    "pix_pos_nan[1][0:2,0:2] = np.nan\n",
    "pix_pos_nan[1][0:2,-2:ly] = np.nan\n",
    "pix_pos_nan[1][-2:lx,0:2] = np.nan\n",
    "pix_pos_nan[1][-2:lx,-2:ly] = np.nan\n",
    "\n",
    "print(img_nan)\n",
    "print(pix_pos_nan[0])\n",
    "print(pix_pos_nan[1])\n",
    "\n",
    "plot(img_nan)\n",
    "plot(pix_pos_nan[0])\n",
    "plot(pix_pos_nan[1])"
   ]
  },
  {
   "cell_type": "markdown",
   "metadata": {},
   "source": [
    "### Test Hillas with reference img"
   ]
  },
  {
   "cell_type": "code",
   "execution_count": null,
   "metadata": {
    "collapsed": false
   },
   "outputs": [],
   "source": [
    "hillas = get_hillas_parameters(img)\n",
    "hillas_nan = get_hillas_parameters(img_nan)"
   ]
  },
  {
   "cell_type": "code",
   "execution_count": null,
   "metadata": {
    "collapsed": false
   },
   "outputs": [],
   "source": [
    "hillas == hillas_nan"
   ]
  },
  {
   "cell_type": "code",
   "execution_count": null,
   "metadata": {
    "collapsed": false
   },
   "outputs": [],
   "source": [
    "hillas"
   ]
  },
  {
   "cell_type": "code",
   "execution_count": null,
   "metadata": {
    "collapsed": false,
    "scrolled": true
   },
   "outputs": [],
   "source": [
    "hillas_nan"
   ]
  },
  {
   "cell_type": "markdown",
   "metadata": {},
   "source": [
    "### Test Hillas with geometry data"
   ]
  },
  {
   "cell_type": "code",
   "execution_count": null,
   "metadata": {
    "collapsed": false
   },
   "outputs": [],
   "source": [
    "hillas = get_hillas_parameters(img, implementation=2, pixels_position=pix_pos)\n",
    "hillas_nan = get_hillas_parameters(img_nan, implementation=2, pixels_position=pix_pos_nan)"
   ]
  },
  {
   "cell_type": "code",
   "execution_count": null,
   "metadata": {
    "collapsed": false
   },
   "outputs": [],
   "source": [
    "hillas == hillas_nan"
   ]
  },
  {
   "cell_type": "code",
   "execution_count": null,
   "metadata": {
    "collapsed": false
   },
   "outputs": [],
   "source": [
    "hillas"
   ]
  },
  {
   "cell_type": "code",
   "execution_count": null,
   "metadata": {
    "collapsed": false,
    "scrolled": true
   },
   "outputs": [],
   "source": [
    "hillas_nan"
   ]
  }
 ],
 "metadata": {
  "anaconda-cloud": {},
  "kernelspec": {
   "display_name": "Python [conda env:cta]",
   "language": "python",
   "name": "conda-env-cta-py"
  },
  "language_info": {
   "codemirror_mode": {
    "name": "ipython",
    "version": 3
   },
   "file_extension": ".py",
   "mimetype": "text/x-python",
   "name": "python",
   "nbconvert_exporter": "python",
   "pygments_lexer": "ipython3",
   "version": "3.5.2"
  }
 },
 "nbformat": 4,
 "nbformat_minor": 1
}
