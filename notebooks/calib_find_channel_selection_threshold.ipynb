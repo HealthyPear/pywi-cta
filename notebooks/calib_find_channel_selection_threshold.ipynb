{
 "cells": [
  {
   "cell_type": "code",
   "execution_count": null,
   "metadata": {
    "collapsed": true
   },
   "outputs": [],
   "source": [
    "#%matplotlib notebook\n",
    "%matplotlib inline\n",
    "\n",
    "import matplotlib\n",
    "matplotlib.rcParams['figure.figsize'] = (10, 10)\n",
    "\n",
    "import numpy as np\n",
    "#np.set_printoptions(threshold=np.nan)\n",
    "from matplotlib import pyplot as plt\n",
    "from matplotlib import cm\n",
    "\n",
    "import ctapipe\n",
    "from ctapipe.io.hessio import hessio_event_source\n",
    "import pyhessio\n",
    "\n",
    "import sys\n",
    "sys.path.append(\"../\")\n",
    "\n",
    "import datapipe\n",
    "import datapipe.denoising.wavelets_mrfilter as mrfilter\n",
    "\n",
    "sys.path.append(\"../utils\")\n",
    "import common_functions as common\n",
    "\n",
    "from datapipe.io import images\n",
    "from datapipe.io import geometry_converter"
   ]
  },
  {
   "cell_type": "code",
   "execution_count": null,
   "metadata": {
    "scrolled": true
   },
   "outputs": [],
   "source": [
    "#ctapipe.version.get_version()\n",
    "print(ctapipe.__version__)\n",
    "print(pyhessio.__version__)\n",
    "\n",
    "import ctapipe.image.geometry_converter as geomconv\n",
    "from ctapipe.instrument import CameraGeometry"
   ]
  },
  {
   "cell_type": "code",
   "execution_count": null,
   "metadata": {
    "collapsed": true
   },
   "outputs": [],
   "source": [
    "# calibrator\n",
    "from ctapipe.calib import CameraCalibrator\n",
    "\n",
    "calib = CameraCalibrator(None, None)"
   ]
  },
  {
   "cell_type": "markdown",
   "metadata": {},
   "source": [
    "## ASTRI mini array"
   ]
  },
  {
   "cell_type": "code",
   "execution_count": null,
   "metadata": {},
   "outputs": [],
   "source": [
    "%run ~/git/pub/jdhp-sap/snippets/ctapipe/list_telescopes_geometry.py ~/data/astri_mini_array/proton/run10001.simtel.gz"
   ]
  },
  {
   "cell_type": "markdown",
   "metadata": {},
   "source": [
    "### ASTRI"
   ]
  },
  {
   "cell_type": "markdown",
   "metadata": {},
   "source": [
    "ASTRI = \"ASTRICam\" (tel 1 to 33 in astri mini array), 2 channels"
   ]
  },
  {
   "cell_type": "code",
   "execution_count": null,
   "metadata": {},
   "outputs": [],
   "source": [
    "#tel_id_filter_list = list(range(1, 34))\n",
    "tel_id_filter_list = [1]\n",
    "print(\"Tel ID range:\", tel_id_filter_list)\n",
    "\n",
    "source = hessio_event_source(\"/Users/jdecock/data/astri_mini_array/gamma/run1001.simtel.gz\",\n",
    "                             allowed_tels=tel_id_filter_list)\n",
    "\n",
    "# ITERATE OVER EVENTS #############################################\n",
    "\n",
    "pe_list = []\n",
    "calibrated_in_ch0_list = []\n",
    "calibrated_in_ch1_list = []\n",
    "\n",
    "for ev in source:\n",
    "    calib.calibrate(ev)  # calibrate the event\n",
    "    \n",
    "    #print(ev)\n",
    "    \n",
    "    # ITERATE OVER IMAGES #########################################\n",
    "\n",
    "    for tel_id in ev.trig.tels_with_trigger:\n",
    "\n",
    "        tel_id = int(tel_id)\n",
    "\n",
    "        if tel_id in tel_id_filter_list:\n",
    "\n",
    "            pe = ev.mc.tel[tel_id].photo_electron_image\n",
    "            #pedestal = ev.mc.tel[tel_id].pedestal[channel]\n",
    "            #gain = ev.mc.tel[tel_id].dc_to_pe[channel]\n",
    "            #uncalibrated_image = ev.r0.tel[tel_id].adc_sums[channel]\n",
    "            calibrated_image = ev.dl1.tel[tel_id].image\n",
    "            \n",
    "            pe_list.append(pe)\n",
    "            calibrated_in_ch0_list.append(calibrated_image[0])\n",
    "            calibrated_in_ch1_list.append(calibrated_image[1])\n",
    "\n",
    "pe_array = np.array(pe_list).ravel()\n",
    "calibrated_in_ch0_array = np.array(calibrated_in_ch0_list).ravel()\n",
    "calibrated_in_ch1_array = np.array(calibrated_in_ch1_list).ravel()\n",
    "\n",
    "print(\"ch0 max:\", calibrated_in_ch0_array.max())\n",
    "print(\"num samples:\", len(pe_array))"
   ]
  },
  {
   "cell_type": "code",
   "execution_count": null,
   "metadata": {
    "scrolled": false
   },
   "outputs": [],
   "source": [
    "fig, ax = plt.subplots(ncols=1, nrows=1, figsize=(13, 13))\n",
    "\n",
    "ax.scatter(pe_array,\n",
    "           calibrated_in_ch0_array,\n",
    "           s=0.5,         # radius\n",
    "           c=\"black\",     # color\n",
    "           alpha=0.75,\n",
    "           label=\"channel 0\")\n",
    "\n",
    "ax.scatter(pe_array,\n",
    "           calibrated_in_ch1_array,\n",
    "           s=0.5,         # radius\n",
    "           c=\"red\",     # color\n",
    "           alpha=0.75,\n",
    "           label=\"channel 1\")\n",
    "\n",
    "ax.set_xlabel(\"PE\", fontsize=16)\n",
    "ax.set_ylabel(\"Calibrated IN\", fontsize=16)\n",
    "\n",
    "ax.set_xlim(0, 120)\n",
    "ax.set_ylim(-3, 40)"
   ]
  },
  {
   "cell_type": "code",
   "execution_count": null,
   "metadata": {},
   "outputs": [],
   "source": [
    "fig, ax = plt.subplots(ncols=1, nrows=1, figsize=(13, 13))\n",
    "\n",
    "ax.hist(pe_array,\n",
    "        alpha=0.5,\n",
    "        log=True,\n",
    "        bins=30,\n",
    "        label=\"PE\")\n",
    "\n",
    "ax.hist(calibrated_in_ch0_array,\n",
    "        alpha=0.5,\n",
    "        log=True,\n",
    "        bins=30,\n",
    "        label=\"Channel 0\")\n",
    "\n",
    "ax.hist(calibrated_in_ch1_array,\n",
    "        alpha=0.5,\n",
    "        log=True,\n",
    "        bins=30,\n",
    "        label=\"Channel 1\")\n",
    "\n",
    "ax.set_xlabel(\"PE\", fontsize=16)\n",
    "ax.set_ylabel(\"Count\", fontsize=16)\n",
    "\n",
    "ax.legend(prop={'size': 18}, loc='best', fancybox=True, framealpha=0.5)"
   ]
  },
  {
   "cell_type": "markdown",
   "metadata": {},
   "source": [
    "## Prod3"
   ]
  },
  {
   "cell_type": "code",
   "execution_count": null,
   "metadata": {
    "scrolled": false
   },
   "outputs": [],
   "source": [
    "%run ~/git/pub/jdhp-sap/snippets/ctapipe/list_telescopes_geometry.py ~/vm-shared/data/prod3/full_telarray_example.simtel.gz"
   ]
  },
  {
   "cell_type": "markdown",
   "metadata": {},
   "source": [
    "### ASTRI"
   ]
  },
  {
   "cell_type": "markdown",
   "metadata": {},
   "source": [
    "ASTRI = \"ASTRICam\" (tel 29 to 52 in prod3), 2 channels"
   ]
  },
  {
   "cell_type": "code",
   "execution_count": null,
   "metadata": {},
   "outputs": [],
   "source": [
    "tel_id_filter_list = list(range(29, 53))\n",
    "print(\"Tel ID range:\", tel_id_filter_list)\n",
    "\n",
    "source = hessio_event_source(\"/Users/jdecock/vm-shared/data/prod3/full_telarray_example.simtel.gz\",\n",
    "                             allowed_tels=tel_id_filter_list)\n",
    "\n",
    "# ITERATE OVER EVENTS #############################################\n",
    "\n",
    "pe_list = []\n",
    "calibrated_in_ch0_list = []\n",
    "calibrated_in_ch1_list = []\n",
    "\n",
    "for ev in source:\n",
    "    calib.calibrate(ev)  # calibrate the event\n",
    "    \n",
    "    #print(ev)\n",
    "    \n",
    "    # ITERATE OVER IMAGES #########################################\n",
    "\n",
    "    for tel_id in ev.trig.tels_with_trigger:\n",
    "\n",
    "        tel_id = int(tel_id)\n",
    "\n",
    "        if tel_id in tel_id_filter_list:\n",
    "\n",
    "            pe = ev.mc.tel[tel_id].photo_electron_image\n",
    "            #pedestal = ev.mc.tel[tel_id].pedestal[channel]\n",
    "            #gain = ev.mc.tel[tel_id].dc_to_pe[channel]\n",
    "            #uncalibrated_image = ev.r0.tel[tel_id].adc_sums[channel]\n",
    "            calibrated_image = ev.dl1.tel[tel_id].image\n",
    "            \n",
    "            pe_list.append(pe)\n",
    "            calibrated_in_ch0_list.append(calibrated_image[0])\n",
    "            calibrated_in_ch1_list.append(calibrated_image[1])\n",
    "\n",
    "pe_array = np.array(pe_list).ravel()\n",
    "calibrated_in_ch0_array = np.array(calibrated_in_ch0_list).ravel()\n",
    "calibrated_in_ch1_array = np.array(calibrated_in_ch1_list).ravel()\n",
    "\n",
    "print(\"ch0 max:\", calibrated_in_ch0_array.max())\n",
    "print(\"num samples:\", len(pe_array))"
   ]
  },
  {
   "cell_type": "code",
   "execution_count": null,
   "metadata": {
    "scrolled": false
   },
   "outputs": [],
   "source": [
    "fig, ax = plt.subplots(ncols=1, nrows=1, figsize=(13, 13))\n",
    "\n",
    "ax.scatter(pe_array,\n",
    "           calibrated_in_ch0_array,\n",
    "           s=0.5,         # radius\n",
    "           c=\"black\",     # color\n",
    "           alpha=0.75,\n",
    "           label=\"channel 0\")\n",
    "\n",
    "ax.scatter(pe_array,\n",
    "           calibrated_in_ch1_array,\n",
    "           s=0.5,         # radius\n",
    "           c=\"red\",     # color\n",
    "           alpha=0.75,\n",
    "           label=\"channel 1\")\n",
    "\n",
    "ax.set_xlabel(\"PE\", fontsize=16)\n",
    "ax.set_ylabel(\"Calibrated IN\", fontsize=16)"
   ]
  },
  {
   "cell_type": "code",
   "execution_count": null,
   "metadata": {},
   "outputs": [],
   "source": [
    "fig, ax = plt.subplots(ncols=1, nrows=1, figsize=(13, 13))\n",
    "\n",
    "ax.hist(pe_array,\n",
    "        alpha=0.5,\n",
    "        log=True,\n",
    "        bins=30,\n",
    "        label=\"PE\")\n",
    "\n",
    "ax.hist(calibrated_in_ch0_array,\n",
    "        alpha=0.5,\n",
    "        log=True,\n",
    "        bins=30,\n",
    "        label=\"Channel 0\")\n",
    "\n",
    "ax.hist(calibrated_in_ch1_array,\n",
    "        alpha=0.5,\n",
    "        log=True,\n",
    "        bins=30,\n",
    "        label=\"Channel 1\")\n",
    "\n",
    "ax.set_xlabel(\"PE\", fontsize=16)\n",
    "ax.set_ylabel(\"Count\", fontsize=16)\n",
    "\n",
    "ax.legend(prop={'size': 18}, loc='best', fancybox=True, framealpha=0.5)"
   ]
  },
  {
   "cell_type": "markdown",
   "metadata": {},
   "source": [
    "### LSTCam"
   ]
  },
  {
   "cell_type": "markdown",
   "metadata": {},
   "source": [
    "Dragoncam = \"LSTCam\" (tel 1 to 4 in prod3), 2 channels"
   ]
  },
  {
   "cell_type": "code",
   "execution_count": null,
   "metadata": {},
   "outputs": [],
   "source": [
    "tel_id_filter_list = list(range(1, 5))\n",
    "print(\"Tel ID range:\", tel_id_filter_list)\n",
    "\n",
    "source = hessio_event_source(\"/Users/jdecock/vm-shared/data/prod3/full_telarray_example.simtel.gz\",\n",
    "                             allowed_tels=tel_id_filter_list)\n",
    "\n",
    "# ITERATE OVER EVENTS #############################################\n",
    "\n",
    "pe_list = []\n",
    "calibrated_in_ch0_list = []\n",
    "calibrated_in_ch1_list = []\n",
    "\n",
    "for ev in source:\n",
    "    calib.calibrate(ev)  # calibrate the event\n",
    "    \n",
    "    #print(ev)\n",
    "    \n",
    "    # ITERATE OVER IMAGES #########################################\n",
    "\n",
    "    for tel_id in ev.trig.tels_with_trigger:\n",
    "\n",
    "        tel_id = int(tel_id)\n",
    "\n",
    "        if tel_id in tel_id_filter_list:\n",
    "\n",
    "            pe = ev.mc.tel[tel_id].photo_electron_image\n",
    "            #pedestal = ev.mc.tel[tel_id].pedestal[channel]\n",
    "            #gain = ev.mc.tel[tel_id].dc_to_pe[channel]\n",
    "            #uncalibrated_image = ev.r0.tel[tel_id].adc_sums[channel]\n",
    "            calibrated_image = ev.dl1.tel[tel_id].image\n",
    "            \n",
    "            pe_list.append(pe)\n",
    "            calibrated_in_ch0_list.append(calibrated_image[0])\n",
    "            calibrated_in_ch1_list.append(calibrated_image[1])\n",
    "\n",
    "pe_array = np.array(pe_list).ravel()\n",
    "calibrated_in_ch0_array = np.array(calibrated_in_ch0_list).ravel()\n",
    "calibrated_in_ch1_array = np.array(calibrated_in_ch1_list).ravel()\n",
    "\n",
    "print(\"ch0 max:\", calibrated_in_ch0_array.max())\n",
    "print(\"num samples:\", len(pe_array))"
   ]
  },
  {
   "cell_type": "code",
   "execution_count": null,
   "metadata": {
    "scrolled": false
   },
   "outputs": [],
   "source": [
    "fig, ax = plt.subplots(ncols=1, nrows=1, figsize=(13, 13))\n",
    "\n",
    "ax.scatter(pe_array,\n",
    "           calibrated_in_ch0_array,\n",
    "           s=0.5,         # radius\n",
    "           c=\"black\",     # color\n",
    "           alpha=0.75,\n",
    "           label=\"channel 0\")\n",
    "\n",
    "ax.scatter(pe_array,\n",
    "           calibrated_in_ch1_array,\n",
    "           s=0.5,         # radius\n",
    "           c=\"red\",     # color\n",
    "           alpha=0.75,\n",
    "           label=\"channel 1\")\n",
    "\n",
    "ax.set_xlabel(\"PE\", fontsize=16)\n",
    "ax.set_ylabel(\"Calibrated IN\", fontsize=16)"
   ]
  },
  {
   "cell_type": "code",
   "execution_count": null,
   "metadata": {
    "scrolled": false
   },
   "outputs": [],
   "source": [
    "fig, ax = plt.subplots(ncols=1, nrows=1, figsize=(13, 13))\n",
    "\n",
    "ax.hist(pe_array,\n",
    "        alpha=0.5,\n",
    "        log=True,\n",
    "        bins=30,\n",
    "        label=\"PE\")\n",
    "\n",
    "ax.hist(calibrated_in_ch0_array,\n",
    "        alpha=0.5,\n",
    "        log=True,\n",
    "        bins=30,\n",
    "        label=\"Channel 0\")\n",
    "\n",
    "ax.hist(calibrated_in_ch1_array,\n",
    "        alpha=0.5,\n",
    "        log=True,\n",
    "        bins=30,\n",
    "        label=\"Channel 1\")\n",
    "\n",
    "ax.set_xlabel(\"PE\", fontsize=16)\n",
    "ax.set_ylabel(\"Count\", fontsize=16)\n",
    "\n",
    "ax.legend(prop={'size': 18}, loc='best', fancybox=True, framealpha=0.5)"
   ]
  },
  {
   "cell_type": "markdown",
   "metadata": {},
   "source": [
    "### NectarCam"
   ]
  },
  {
   "cell_type": "markdown",
   "metadata": {},
   "source": [
    "Nectarcam = \"NectarCam\" (tel 5 to 16 in prod3), 2 channels"
   ]
  },
  {
   "cell_type": "code",
   "execution_count": null,
   "metadata": {},
   "outputs": [],
   "source": [
    "tel_id_filter_list = list(range(5, 17))\n",
    "print(\"Tel ID range:\", tel_id_filter_list)\n",
    "\n",
    "source = hessio_event_source(\"/Users/jdecock/vm-shared/data/prod3/full_telarray_example.simtel.gz\",\n",
    "                             allowed_tels=tel_id_filter_list)\n",
    "\n",
    "# ITERATE OVER EVENTS #############################################\n",
    "\n",
    "pe_list = []\n",
    "calibrated_in_ch0_list = []\n",
    "calibrated_in_ch1_list = []\n",
    "\n",
    "for ev in source:\n",
    "    calib.calibrate(ev)  # calibrate the event\n",
    "    \n",
    "    #print(ev)\n",
    "    \n",
    "    # ITERATE OVER IMAGES #########################################\n",
    "\n",
    "    for tel_id in ev.trig.tels_with_trigger:\n",
    "\n",
    "        tel_id = int(tel_id)\n",
    "\n",
    "        if tel_id in tel_id_filter_list:\n",
    "\n",
    "            pe = ev.mc.tel[tel_id].photo_electron_image\n",
    "            #pedestal = ev.mc.tel[tel_id].pedestal[channel]\n",
    "            #gain = ev.mc.tel[tel_id].dc_to_pe[channel]\n",
    "            #uncalibrated_image = ev.r0.tel[tel_id].adc_sums[channel]\n",
    "            calibrated_image = ev.dl1.tel[tel_id].image\n",
    "            \n",
    "            pe_list.append(pe)\n",
    "            calibrated_in_ch0_list.append(calibrated_image[0])\n",
    "            calibrated_in_ch1_list.append(calibrated_image[1])\n",
    "\n",
    "pe_array = np.array(pe_list).ravel()\n",
    "calibrated_in_ch0_array = np.array(calibrated_in_ch0_list).ravel()\n",
    "calibrated_in_ch1_array = np.array(calibrated_in_ch1_list).ravel()\n",
    "\n",
    "print(\"ch0 max:\", calibrated_in_ch0_array.max())\n",
    "print(\"num samples:\", len(pe_array))"
   ]
  },
  {
   "cell_type": "code",
   "execution_count": null,
   "metadata": {},
   "outputs": [],
   "source": [
    "fig, ax = plt.subplots(ncols=1, nrows=1, figsize=(13, 13))\n",
    "\n",
    "ax.scatter(pe_array,\n",
    "           calibrated_in_ch0_array,\n",
    "           s=0.5,         # radius\n",
    "           c=\"black\",     # color\n",
    "           alpha=0.75,\n",
    "           label=\"channel 0\")\n",
    "\n",
    "ax.scatter(pe_array,\n",
    "           calibrated_in_ch1_array,\n",
    "           s=0.5,         # radius\n",
    "           c=\"red\",     # color\n",
    "           alpha=0.75,\n",
    "           label=\"channel 1\")\n",
    "\n",
    "ax.set_xlabel(\"PE\", fontsize=16)\n",
    "ax.set_ylabel(\"Calibrated IN\", fontsize=16)"
   ]
  },
  {
   "cell_type": "code",
   "execution_count": null,
   "metadata": {
    "scrolled": false
   },
   "outputs": [],
   "source": [
    "fig, ax = plt.subplots(ncols=1, nrows=1, figsize=(13, 13))\n",
    "\n",
    "ax.hist(pe_array,\n",
    "        alpha=0.5,\n",
    "        log=True,\n",
    "        bins=30,\n",
    "        label=\"PE\")\n",
    "\n",
    "ax.hist(calibrated_in_ch0_array,\n",
    "        alpha=0.5,\n",
    "        log=True,\n",
    "        bins=30,\n",
    "        label=\"Channel 0\")\n",
    "\n",
    "ax.hist(calibrated_in_ch1_array,\n",
    "        alpha=0.5,\n",
    "        log=True,\n",
    "        bins=30,\n",
    "        label=\"Channel 1\")\n",
    "\n",
    "ax.set_xlabel(\"PE\", fontsize=16)\n",
    "ax.set_ylabel(\"Count\", fontsize=16)\n",
    "\n",
    "ax.legend(prop={'size': 18}, loc='best', fancybox=True, framealpha=0.5)"
   ]
  },
  {
   "cell_type": "markdown",
   "metadata": {},
   "source": [
    "## Channel mix snippet"
   ]
  },
  {
   "cell_type": "code",
   "execution_count": null,
   "metadata": {},
   "outputs": [],
   "source": [
    "img = np.array([[  1,   2,   3,   4, 5, 6, 6, 6, 6],\n",
    "                [1.5, 2.5, 3.5, 4.5, 5, 6, 7, 8, 9]])\n",
    "\n",
    "threshold = 5\n",
    "\n",
    "img[1, img[0,:] <= threshold] = 0\n",
    "img[0, img[0,:] >  threshold] = 0\n",
    "\n",
    "#img[0, img[0,:] >  threshold] = 0\n",
    "#img[1, img[1,:] <= threshold] = 0\n",
    "\n",
    "print(img)\n",
    "\n",
    "img = img.sum(axis=0)\n",
    "\n",
    "print(img)"
   ]
  }
 ],
 "metadata": {
  "anaconda-cloud": {},
  "kernelspec": {
   "display_name": "Python [conda env:cta]",
   "language": "python",
   "name": "conda-env-cta-py"
  },
  "language_info": {
   "codemirror_mode": {
    "name": "ipython",
    "version": 3
   },
   "file_extension": ".py",
   "mimetype": "text/x-python",
   "name": "python",
   "nbconvert_exporter": "python",
   "pygments_lexer": "ipython3",
   "version": "3.5.1"
  }
 },
 "nbformat": 4,
 "nbformat_minor": 1
}
