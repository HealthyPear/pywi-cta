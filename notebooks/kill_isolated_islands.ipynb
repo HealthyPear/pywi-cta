{
 "cells": [
  {
   "cell_type": "code",
   "execution_count": null,
   "metadata": {
    "collapsed": false
   },
   "outputs": [],
   "source": [
    "%matplotlib inline\n",
    "\n",
    "import matplotlib\n",
    "matplotlib.rcParams['figure.figsize'] = (6, 6)\n",
    "\n",
    "import scipy.ndimage as ndimage\n",
    "\n",
    "import math\n",
    "import numpy as np\n",
    "import matplotlib.pyplot as plt\n",
    "\n",
    "from matplotlib.colors import LogNorm\n",
    "\n",
    "from astropy.io import fits\n",
    "import os.path\n",
    "\n",
    "import ipywidgets\n",
    "from ipywidgets import interact\n",
    "\n",
    "import sys\n",
    "sys.path.append(\"../\")\n",
    "sys.path.append(\"../utils\")\n",
    "\n",
    "import datapipe\n",
    "import datapipe.image.kill_isolated_pixels as kill_islands\n",
    "import common_functions as common"
   ]
  },
  {
   "cell_type": "code",
   "execution_count": null,
   "metadata": {
    "collapsed": true
   },
   "outputs": [],
   "source": [
    "file_path_list = [\n",
    "    \"/Users/jdecock/data/astri_mini_array/fits/gamma/run1001.simtel.gz_TEL001_EV155601.fits\",\n",
    "    \"/Users/jdecock/data/astri_mini_array/fits/gamma/run1001.simtel.gz_TEL001_EV193406.fits\",\n",
    "    \"/Users/jdecock/data/astri_mini_array/fits/gamma/run1001.simtel.gz_TEL001_EV347307.fits\",\n",
    "    \"/Users/jdecock/data/astri_mini_array/fits/gamma/run1001.simtel.gz_TEL001_EV427404.fits\",\n",
    "    \"/Users/jdecock/data/astri_mini_array/fits/gamma/run1001.simtel.gz_TEL001_EV450207.fits\",\n",
    "    \"/Users/jdecock/data/astri_mini_array/fits/gamma/run1001.simtel.gz_TEL001_EV454807.fits\",\n",
    "    \"/Users/jdecock/data/astri_mini_array/fits/gamma/run1001.simtel.gz_TEL001_EV48104.fits\",\n",
    "    \"/Users/jdecock/data/astri_mini_array/fits/gamma/run1001.simtel.gz_TEL001_EV58000.fits\",\n",
    "    \"/Users/jdecock/data/astri_mini_array/fits/gamma/run1001.simtel.gz_TEL001_EV126402.fits\",\n",
    "    \"/Users/jdecock/data/astri_mini_array/fits/gamma/run1001.simtel.gz_TEL001_EV131305.fits\",\n",
    "    \"/Users/jdecock/data/astri_mini_array/fits/gamma/run1001.simtel.gz_TEL001_EV182506.fits\",\n",
    "    \"/Users/jdecock/data/astri_mini_array/fits/gamma/run1001.simtel.gz_TEL001_EV225002.fits\",\n",
    "    \"/Users/jdecock/data/astri_mini_array/fits/gamma/run1001.simtel.gz_TEL001_EV26603.fits\",\n",
    "    \"/Users/jdecock/data/astri_mini_array/fits/gamma/run1001.simtel.gz_TEL001_EV458108.fits\",\n",
    "    \"/Users/jdecock/data/astri_mini_array/fits/gamma/run1001.simtel.gz_TEL001_EV483109.fits\",\n",
    "    \"/Users/jdecock/data/astri_mini_array/fits/gamma/run1001.simtel.gz_TEL001_EV62605.fits\"\n",
    "    ]"
   ]
  },
  {
   "cell_type": "code",
   "execution_count": null,
   "metadata": {
    "collapsed": false
   },
   "outputs": [],
   "source": [
    "@interact(file_path=file_path_list, threshold=0.2)\n",
    "def compute_hillas_and_display(file_path, threshold):\n",
    "    fig, ((ax1, ax2), (ax3, ax4)) = plt.subplots(nrows=2, ncols=2, figsize=(16, 16))\n",
    "\n",
    "    images_dict, metadata_dict = datapipe.io.images.load_benchmark_images(file_path)\n",
    "    \n",
    "    array = images_dict[\"reference_image\"]\n",
    "\n",
    "    # KILL ISLANDS #############################################\n",
    "    \n",
    "    filtered_array = np.copy(array)\n",
    "\n",
    "    # Put to 0 pixels that are below 'threshold'\n",
    "    if threshold is not None:\n",
    "        filtered_array[filtered_array < threshold] = 0\n",
    "    mask = filtered_array > 0\n",
    "\n",
    "    # Detect islands (\"label\")\n",
    "    label_array, num_labels = ndimage.label(mask)#, structure=np.ones((5, 5)))\n",
    "\n",
    "    # Count the number of pixels for each island\n",
    "    num_pixels_per_island = ndimage.sum(filtered_array, label_array, range(num_labels + 1))\n",
    "\n",
    "    # Only keep the biggest island\n",
    "    mask_biggest_island = num_pixels_per_island < np.max(num_pixels_per_island)\n",
    "    remove_pixel = mask_biggest_island[label_array]\n",
    "\n",
    "    filtered_array[remove_pixel] = 0\n",
    "    \n",
    "    # PLOT #####################################################\n",
    "    \n",
    "    pixels_positions = images_dict[\"pixels_position\"]\n",
    "    common.plot_image_meter(ax1, array, pixels_positions, title=\"Not killed\", plot_log_scale=True)\n",
    "    common.plot_image_meter(ax2, label_array, pixels_positions, title=\"Labels\", plot_log_scale=False)\n",
    "    common.plot_image_meter(ax3, filtered_array, pixels_positions, title=\"Killed\", plot_log_scale=True)\n",
    "    \n",
    "    print(\"Num labels:\", num_labels)\n",
    "    print(\"Num pixels per island:\", np.sort(num_pixels_per_island))\n",
    "    \n",
    "    print(\"NPE of the filtered image (i.e. of the biggest island):\", np.sum(filtered_array))"
   ]
  },
  {
   "cell_type": "code",
   "execution_count": null,
   "metadata": {
    "collapsed": true
   },
   "outputs": [],
   "source": []
  }
 ],
 "metadata": {
  "anaconda-cloud": {},
  "kernelspec": {
   "display_name": "Python [conda env:cta]",
   "language": "python",
   "name": "conda-env-cta-py"
  },
  "language_info": {
   "codemirror_mode": {
    "name": "ipython",
    "version": 3
   },
   "file_extension": ".py",
   "mimetype": "text/x-python",
   "name": "python",
   "nbconvert_exporter": "python",
   "pygments_lexer": "ipython3",
   "version": "3.5.2"
  }
 },
 "nbformat": 4,
 "nbformat_minor": 1
}
