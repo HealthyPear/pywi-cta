{
 "cells": [
  {
   "cell_type": "code",
   "execution_count": null,
   "metadata": {
    "collapsed": false
   },
   "outputs": [],
   "source": [
    "%matplotlib inline\n",
    "\n",
    "import matplotlib\n",
    "matplotlib.rcParams['figure.figsize'] = (6, 6)\n",
    "\n",
    "import scipy.ndimage as ndimage\n",
    "\n",
    "import math\n",
    "import numpy as np\n",
    "np.set_printoptions(threshold=np.nan)\n",
    "import matplotlib.pyplot as plt\n",
    "\n",
    "from matplotlib.colors import LogNorm\n",
    "\n",
    "from astropy.io import fits\n",
    "import os.path\n",
    "\n",
    "import ipywidgets\n",
    "from ipywidgets import interact\n",
    "\n",
    "import sys\n",
    "sys.path.append(\"../\")\n",
    "sys.path.append(\"../utils\")\n",
    "\n",
    "import datapipe\n",
    "import datapipe.image.kill_isolated_pixels as kill_islands\n",
    "import common_functions as common"
   ]
  },
  {
   "cell_type": "code",
   "execution_count": null,
   "metadata": {
    "collapsed": true
   },
   "outputs": [],
   "source": [
    "file_path_list = [\n",
    "    \"/Users/jdecock/data/astri_mini_array/fits/gamma/run1001.simtel.gz_TEL001_EV155601.fits\",\n",
    "    \"/Users/jdecock/data/astri_mini_array/fits/gamma/run1001.simtel.gz_TEL001_EV193406.fits\",\n",
    "    \"/Users/jdecock/data/astri_mini_array/fits/gamma/run1001.simtel.gz_TEL001_EV347307.fits\",\n",
    "    \"/Users/jdecock/data/astri_mini_array/fits/gamma/run1001.simtel.gz_TEL001_EV427404.fits\",\n",
    "    \"/Users/jdecock/data/astri_mini_array/fits/gamma/run1001.simtel.gz_TEL001_EV450207.fits\",\n",
    "    \"/Users/jdecock/data/astri_mini_array/fits/gamma/run1001.simtel.gz_TEL001_EV454807.fits\",\n",
    "    \"/Users/jdecock/data/astri_mini_array/fits/gamma/run1001.simtel.gz_TEL001_EV48104.fits\",\n",
    "    \"/Users/jdecock/data/astri_mini_array/fits/gamma/run1001.simtel.gz_TEL001_EV58000.fits\",\n",
    "    \"/Users/jdecock/data/astri_mini_array/fits/gamma/run1001.simtel.gz_TEL001_EV126402.fits\",\n",
    "    \"/Users/jdecock/data/astri_mini_array/fits/gamma/run1001.simtel.gz_TEL001_EV131305.fits\",\n",
    "    \"/Users/jdecock/data/astri_mini_array/fits/gamma/run1001.simtel.gz_TEL001_EV182506.fits\",\n",
    "    \"/Users/jdecock/data/astri_mini_array/fits/gamma/run1001.simtel.gz_TEL001_EV225002.fits\",\n",
    "    \"/Users/jdecock/data/astri_mini_array/fits/gamma/run1001.simtel.gz_TEL001_EV26603.fits\",\n",
    "    \"/Users/jdecock/data/astri_mini_array/fits/gamma/run1001.simtel.gz_TEL001_EV458108.fits\",\n",
    "    \"/Users/jdecock/data/astri_mini_array/fits/gamma/run1001.simtel.gz_TEL001_EV483109.fits\",\n",
    "    \"/Users/jdecock/data/astri_mini_array/fits/gamma/run1001.simtel.gz_TEL001_EV62605.fits\"\n",
    "    ]"
   ]
  },
  {
   "cell_type": "markdown",
   "metadata": {},
   "source": [
    "## Datapipe's implementation"
   ]
  },
  {
   "cell_type": "code",
   "execution_count": null,
   "metadata": {
    "collapsed": false
   },
   "outputs": [],
   "source": [
    "@interact(file_path=file_path_list, threshold=0.2)\n",
    "def compute_hillas_and_display(file_path, threshold):\n",
    "    fig, (ax1, ax2, ax3) = plt.subplots(nrows=1, ncols=3, figsize=(16, 8))\n",
    "\n",
    "    images_dict, metadata_dict = datapipe.io.images.load_benchmark_images(file_path)\n",
    "    \n",
    "    img = images_dict[\"reference_image\"]\n",
    "    pixels_positions = images_dict[\"pixels_position\"]\n",
    "\n",
    "    # GET ISLANDS ##############################################\n",
    "    \n",
    "    filtered_img, islands, num_labels = datapipe.image.kill_isolated_pixels.get_islands(img, threshold=0.2)\n",
    "    common.plot_image_meter(ax1, islands, pixels_positions, title=\"get_islands()\", plot_log_scale=False)\n",
    "    common.plot_image_meter(ax2, filtered_img, pixels_positions, title=\"get_islands()\", plot_log_scale=True)\n",
    "    #print(\"filtered_img:\", filtered_img)       # may contain NaN\n",
    "    #print(\"islands:\", islands)                 # doesn't contain NaN\n",
    "    print(\"num_labels:\", num_labels)\n",
    "    \n",
    "    # KILL ISOLATED PIXELS #####################################\n",
    "    \n",
    "    cleaned_img = datapipe.image.kill_isolated_pixels.kill_isolated_pixels(img, threshold=0.2)\n",
    "    common.plot_image_meter(ax3, cleaned_img, pixels_positions, title=\"kill_isolated_pixels()\", plot_log_scale=True)\n",
    "    #print(\"cleaned_img:\", cleaned_img)         # may contain NaN\n",
    "\n",
    "    # KILL ISOLATED PIXELS STATS ###############################\n",
    "    \n",
    "    stats = datapipe.image.kill_isolated_pixels.kill_isolated_pixels_stats(img, threshold=0.2)\n",
    "    print(\"kill_isolated_pixels_stats():\", stats)\n",
    "    \n",
    "    # NUMBER OF ISLANDS ########################################\n",
    "    \n",
    "    num_islands = datapipe.image.kill_isolated_pixels.number_of_islands(img, threshold=0.2)\n",
    "    print(\"number_of_islands():\", num_islands)"
   ]
  },
  {
   "cell_type": "markdown",
   "metadata": {},
   "source": [
    "## Basic implementation (doesn't handle NaN)"
   ]
  },
  {
   "cell_type": "code",
   "execution_count": null,
   "metadata": {
    "collapsed": false,
    "scrolled": false
   },
   "outputs": [],
   "source": [
    "@interact(file_path=file_path_list, threshold=0.2)\n",
    "def compute_hillas_and_display(file_path, threshold):\n",
    "    fig, ((ax1, ax2), (ax3, ax4)) = plt.subplots(nrows=2, ncols=2, figsize=(16, 16))\n",
    "\n",
    "    images_dict, metadata_dict = datapipe.io.images.load_benchmark_images(file_path)\n",
    "    \n",
    "    array = images_dict[\"reference_image\"]\n",
    "\n",
    "    # KILL ISLANDS #############################################\n",
    "    \n",
    "    filtered_array = np.copy(array)\n",
    "\n",
    "    # Put to 0 pixels that are below 'threshold'\n",
    "    if threshold is not None:\n",
    "        filtered_array[filtered_array < threshold] = 0\n",
    "    mask = filtered_array > 0\n",
    "\n",
    "    # Detect islands (\"label\")\n",
    "    label_array, num_labels = ndimage.label(mask)#, structure=np.ones((5, 5)))\n",
    "\n",
    "    # Count the number of pixels for each island\n",
    "    num_pixels_per_island = ndimage.sum(filtered_array, label_array, range(num_labels + 1))\n",
    "\n",
    "    # Only keep the biggest island\n",
    "    mask_biggest_island = num_pixels_per_island < np.max(num_pixels_per_island)\n",
    "    remove_pixel = mask_biggest_island[label_array]\n",
    "\n",
    "    filtered_array[remove_pixel] = 0\n",
    "    \n",
    "    # PLOT #####################################################\n",
    "    \n",
    "    pixels_positions = images_dict[\"pixels_position\"]\n",
    "    common.plot_image_meter(ax1, array, pixels_positions, title=\"Not killed\", plot_log_scale=True)\n",
    "    common.plot_image_meter(ax2, label_array, pixels_positions, title=\"Labels\", plot_log_scale=False)\n",
    "    common.plot_image_meter(ax3, filtered_array, pixels_positions, title=\"Killed\", plot_log_scale=True)\n",
    "    \n",
    "    print(\"Num labels:\", num_labels)\n",
    "    print(\"Num pixels per island:\", np.sort(num_pixels_per_island))\n",
    "    \n",
    "    print(\"NPE of the filtered image (i.e. of the biggest island):\", np.sum(filtered_array))"
   ]
  },
  {
   "cell_type": "markdown",
   "metadata": {},
   "source": [
    "## NaN compliant implementation"
   ]
  },
  {
   "cell_type": "code",
   "execution_count": null,
   "metadata": {
    "collapsed": false,
    "scrolled": false
   },
   "outputs": [],
   "source": [
    "@interact(file_path=file_path_list, threshold=0.2)\n",
    "def compute_hillas_and_display(file_path, threshold):\n",
    "    fig, ((ax1, ax2), (ax3, ax4)) = plt.subplots(nrows=2, ncols=2, figsize=(16, 16))\n",
    "\n",
    "    images_dict, metadata_dict = datapipe.io.images.load_benchmark_images(file_path)\n",
    "    \n",
    "    array = images_dict[\"reference_image\"]\n",
    "\n",
    "    assert threshold >= 0\n",
    "    \n",
    "    # KILL ISLANDS #############################################\n",
    "    \n",
    "    filtered_array = np.copy(array)\n",
    "    \n",
    "    # Put NaN pixels to 0\n",
    "    filtered_array[np.isnan(filtered_array)] = 0\n",
    "\n",
    "    # Put to 0 pixels that are below 'threshold'\n",
    "    if threshold is not None:\n",
    "        filtered_array[filtered_array < threshold] = 0\n",
    "    mask = filtered_array > 0\n",
    "    \n",
    "    # mask is a boolean 2d array\n",
    "    #print(\"mask:\", mask)\n",
    "\n",
    "    # Detect islands (\"label\")\n",
    "    label_array, num_labels = ndimage.label(mask)#, structure=np.ones((5, 5)))\n",
    "    \n",
    "    #print(\"label_array:\", label_array)\n",
    "    print(\"num_labels:\", num_labels)\n",
    "\n",
    "    # Count the number of pixels for each island\n",
    "    num_pixels_per_island = ndimage.sum(filtered_array, label_array, range(num_labels + 1))\n",
    "\n",
    "    # Only keep the biggest island\n",
    "    mask_biggest_island = num_pixels_per_island < np.max(num_pixels_per_island)\n",
    "    remove_pixel = mask_biggest_island[label_array]\n",
    "\n",
    "    filtered_array[remove_pixel] = 0\n",
    "    #print(filtered_array)\n",
    "    \n",
    "    filtered_array[np.isnan(array)] = np.nan\n",
    "    #print(filtered_array)\n",
    "    \n",
    "    # PLOT #####################################################\n",
    "    \n",
    "    pixels_positions = images_dict[\"pixels_position\"]\n",
    "    common.plot_image_meter(ax1, array, pixels_positions, title=\"Not killed\", plot_log_scale=True)\n",
    "    common.plot_image_meter(ax2, label_array, pixels_positions, title=\"Labels\", plot_log_scale=False)\n",
    "    common.plot_image_meter(ax3, filtered_array, pixels_positions, title=\"Killed\", plot_log_scale=True)\n",
    "    \n",
    "    print(\"Num pixels per island:\", np.sort(num_pixels_per_island))\n",
    "    \n",
    "    print(\"NPE of the filtered image (i.e. of the biggest island):\", np.sum(filtered_array))"
   ]
  }
 ],
 "metadata": {
  "anaconda-cloud": {},
  "kernelspec": {
   "display_name": "Python [conda env:cta]",
   "language": "python",
   "name": "conda-env-cta-py"
  },
  "language_info": {
   "codemirror_mode": {
    "name": "ipython",
    "version": 3
   },
   "file_extension": ".py",
   "mimetype": "text/x-python",
   "name": "python",
   "nbconvert_exporter": "python",
   "pygments_lexer": "ipython3",
   "version": "3.5.2"
  }
 },
 "nbformat": 4,
 "nbformat_minor": 1
}
