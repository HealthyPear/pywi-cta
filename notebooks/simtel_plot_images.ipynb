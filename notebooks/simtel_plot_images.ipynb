{
 "cells": [
  {
   "cell_type": "code",
   "execution_count": null,
   "metadata": {
    "collapsed": false
   },
   "outputs": [],
   "source": [
    "%matplotlib inline\n",
    "\n",
    "import matplotlib\n",
    "#matplotlib.rcParams['figure.figsize'] = (10, 10)\n",
    "\n",
    "import ipywidgets\n",
    "from ipywidgets import interact\n",
    "\n",
    "import numpy as np\n",
    "#np.set_printoptions(threshold=np.nan)\n",
    "from matplotlib import pyplot as plt\n",
    "from matplotlib import cm\n",
    "\n",
    "import ctapipe\n",
    "import ctapipe.visualization\n",
    "from ctapipe.io.hessio import hessio_event_source\n",
    "import pyhessio"
   ]
  },
  {
   "cell_type": "code",
   "execution_count": null,
   "metadata": {
    "collapsed": true
   },
   "outputs": [],
   "source": [
    "tel_id = 1\n",
    "channel = 0\n",
    "\n",
    "#simtel_path = \"/Users/jdecock/data/astri_mini_array/proton/run10001.simtel.gz\"\n",
    "simtel_path = \"/Users/jdecock/data/gct/proton/group1run1000.simtel.gz\""
   ]
  },
  {
   "cell_type": "code",
   "execution_count": null,
   "metadata": {
    "collapsed": false
   },
   "outputs": [],
   "source": [
    "event_dict = {}\n",
    "\n",
    "source = hessio_event_source(simtel_path, allowed_tels=[tel_id])\n",
    "\n",
    "for ev in source:\n",
    "    pedestal = ev.mc.tel[tel_id].pedestal[channel]\n",
    "    gain = ev.mc.tel[tel_id].dc_to_pe[channel]\n",
    "    adc_sum = ev.r0.tel[tel_id].adc_sums[channel]\n",
    "    #print(ev.r0.tel[tel_id].adc_samples.shape)\n",
    "    #break\n",
    "    pe = ev.mc.tel[tel_id].photo_electron_image\n",
    "    num_channels = ev.inst.num_channels[tel_id]\n",
    "    \n",
    "    geom_x, geom_y = ev.inst.pixel_pos[tel_id]\n",
    "    foclen = ev.inst.optical_foclen[tel_id]\n",
    "    \n",
    "    # calibrating\n",
    "    #calibrated_image = mc_calibration.apply_mc_calibration(uncalibrated_image, pedestal, gain)\n",
    "    calibrated_image = (adc_sum - pedestal) * gain            # TODO\n",
    "    #calibrated_image = Calibrator.calib(uncalibrated_image)\n",
    "    # ne pas oublier de diviser pedestal par num_samples pour les samples\n",
    "    # a[..., None]  # numpy ellipsis\n",
    "    # pedestal correct ? l'histograme de l'image d doit etre centre sur 0 quand il n'y a pas de signal\n",
    "    \n",
    "    event_dict[int(ev.dl0.event_id)] = {\n",
    "        \"pedestal\": pedestal,\n",
    "        \"gain\": gain,\n",
    "        \"adc_sum\": adc_sum,\n",
    "        \"pe\": pe,\n",
    "        \"calibrated_image\": calibrated_image,\n",
    "        \"num_channels\": num_channels,\n",
    "        \"geom_x\": geom_x,\n",
    "        \"geom_y\": geom_y,\n",
    "        \"foclen\": foclen\n",
    "    }"
   ]
  },
  {
   "cell_type": "code",
   "execution_count": null,
   "metadata": {
    "collapsed": false
   },
   "outputs": [],
   "source": [
    "@interact(event_id=list(event_dict.keys()), image_type=[\"pedestal\", \"gain\", \"adc_sum\", \"calibrated_image\", \"pe\"])\n",
    "def gui(event_id, image_type):\n",
    "    ev = event_dict[int(event_id)]\n",
    "\n",
    "    #########################################################################\n",
    "\n",
    "    x, y = ev[\"geom_x\"], ev[\"geom_y\"]\n",
    "    foclen = ev[\"foclen\"]\n",
    "    geom = ctapipe.io.CameraGeometry.guess(x, y, foclen)\n",
    "\n",
    "    disp = ctapipe.visualization.CameraDisplay(geom, title='CT%d' % tel_id)\n",
    "    disp.enable_pixel_picker()\n",
    "    disp.add_colorbar()\n",
    "\n",
    "    disp.axes.set_title('Telescope {:03d}'.format(tel_id))\n",
    "\n",
    "    # DISPLAY TIME-VARYING EVENT ############################################\n",
    "\n",
    "    #data = event.dl0.tel[tel_num].adc_samples[channel]\n",
    "    #for ii in range(data.shape[1]):\n",
    "    #    disp.image = data[:, ii]\n",
    "    #    disp.set_limits_percent(70)   # TODO\n",
    "    #    plt.savefig('CT{:03d}_EV{:05d}_S{:02d}.png'.format(tel_num, event_id, ii), bbox_inches='tight')\n",
    "\n",
    "    # DISPLAY INTEGRATED EVENT ##############################################\n",
    "\n",
    "    disp.image = ev[image_type]\n",
    "\n",
    "    #disp.set_limits_minmax(0, 9000)\n",
    "    disp.set_limits_percent(70)        # TODO\n",
    "\n",
    "    # PLOT ##################################################################\n",
    "\n",
    "    plt.show()"
   ]
  }
 ],
 "metadata": {
  "anaconda-cloud": {},
  "kernelspec": {
   "display_name": "Python [conda env:cta]",
   "language": "python",
   "name": "conda-env-cta-py"
  },
  "language_info": {
   "codemirror_mode": {
    "name": "ipython",
    "version": 3
   },
   "file_extension": ".py",
   "mimetype": "text/x-python",
   "name": "python",
   "nbconvert_exporter": "python",
   "pygments_lexer": "ipython3",
   "version": "3.5.2"
  }
 },
 "nbformat": 4,
 "nbformat_minor": 1
}
