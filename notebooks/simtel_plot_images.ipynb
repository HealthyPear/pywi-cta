{
 "cells": [
  {
   "cell_type": "code",
   "execution_count": null,
   "metadata": {},
   "outputs": [],
   "source": [
    "%matplotlib inline\n",
    "\n",
    "import matplotlib\n",
    "matplotlib.rcParams['figure.figsize'] = (12, 12)\n",
    "\n",
    "import ipywidgets\n",
    "from ipywidgets import interact\n",
    "\n",
    "import numpy as np\n",
    "#np.set_printoptions(threshold=np.nan)\n",
    "from matplotlib import pyplot as plt\n",
    "from matplotlib import cm\n",
    "\n",
    "import ctapipe\n",
    "import ctapipe.visualization\n",
    "from ctapipe.io.hessio import hessio_event_source\n",
    "import pyhessio\n",
    "\n",
    "#ctapipe.version.get_version()\n",
    "print(ctapipe.__version__)\n",
    "print(pyhessio.__version__)\n",
    "\n",
    "from ctapipe.instrument import CameraGeometry"
   ]
  },
  {
   "cell_type": "code",
   "execution_count": null,
   "metadata": {
    "collapsed": true
   },
   "outputs": [],
   "source": [
    "# calibrator\n",
    "from ctapipe.calib import CameraCalibrator\n",
    "\n",
    "calib = CameraCalibrator(None, None)"
   ]
  },
  {
   "cell_type": "code",
   "execution_count": null,
   "metadata": {
    "collapsed": true
   },
   "outputs": [],
   "source": [
    "tel_id = 1\n",
    "channel = 0\n",
    "\n",
    "#file_path = \"/Users/jdecock/vm-shared/data/Prod3b/LaPalma/gamma_20deg_0deg_run104___cta-prod3-lapalma3-2147m-LaPalma.simtel.gz\"\n",
    "file_path = \"/Users/jdecock/vm-shared/data/Prod3b/LaPalma/proton_20deg_0deg_run50001___cta-prod3-lapalma3-2147m-LaPalma.simtel.gz\"\n",
    "\n",
    "source = hessio_event_source(file_path,\n",
    "                             allowed_tels=[tel_id])"
   ]
  },
  {
   "cell_type": "code",
   "execution_count": null,
   "metadata": {},
   "outputs": [],
   "source": [
    "event_dict = {}\n",
    "\n",
    "NUM_MAX_IMAGES = 100\n",
    "\n",
    "for ev in source:\n",
    "    calib.calibrate(ev)  # calibrate the event\n",
    "\n",
    "    # GET IMAGES ##############################################\n",
    "\n",
    "    channel = 0\n",
    "\n",
    "    pe = ev.mc.tel[tel_id].photo_electron_image\n",
    "    pedestal = ev.mc.tel[tel_id].pedestal[channel]\n",
    "    gain = ev.mc.tel[tel_id].dc_to_pe[channel]\n",
    "    uncalibrated_image = ev.r0.tel[tel_id].adc_sums[channel]\n",
    "\n",
    "    calibrated_image = ev.dl1.tel[tel_id].image[channel]\n",
    "\n",
    "    ## Mix channels (not done in ctapipe because cameras will do it automatically in production, there will be only 1 channel then ; i.e. this issue only concerns simulations)\n",
    "    ## Taken from TinoCTA ./modules/prepare_event.py l.77\n",
    "    #pmt_signal = event.dl1.tel[tel_id].image\n",
    "    #if pmt_signal.ndim > 1 and pmt_signal.shape[0] > 1:\n",
    "    #    pick = (pmt_signal > 14).any(axis=0) != np_true_false\n",
    "    #    pmt_signal = pmt_signal.T[pick.T]\n",
    "    #else:\n",
    "    #    pmt_signal = pmt_signal.ravel()\n",
    "\n",
    "    #threshold = 190  # cf. \"calib_find_channel_selection_threshold\" notebook\n",
    "    #calibrated_image[1, calibrated_image[0,:] <= threshold] = 0\n",
    "    #calibrated_image[0, calibrated_image[0,:] >  threshold] = 0\n",
    "    #calibrated_image = calibrated_image.sum(axis=0)\n",
    "\n",
    "    pixel_pos = ev.inst.pixel_pos[tel_id]\n",
    "\n",
    "    event_id = ev.dl0.event_id\n",
    "\n",
    "    foclen = ev.inst.optical_foclen[tel_id]\n",
    "\n",
    "    num_channels = len(ev.r0.tel[tel_id].adc_sums)\n",
    "\n",
    "    event_dict[int(ev.dl0.event_id)] = {\n",
    "        \"pedestal\": pedestal,\n",
    "        \"gain\": gain,\n",
    "        \"adc_sum\": uncalibrated_image,\n",
    "        \"pe\": pe,\n",
    "        \"calibrated_image\": calibrated_image,\n",
    "        \"num_channels\": num_channels,\n",
    "        \"geom_x\": pixel_pos[0],\n",
    "        \"geom_y\": pixel_pos[1],\n",
    "        \"foclen\": foclen\n",
    "    }\n",
    "    \n",
    "    if len(event_dict) > NUM_MAX_IMAGES:\n",
    "        break"
   ]
  },
  {
   "cell_type": "code",
   "execution_count": null,
   "metadata": {},
   "outputs": [],
   "source": [
    "@interact(event_id=list(event_dict.keys()), image_type=[\"pedestal\", \"gain\", \"adc_sum\", \"calibrated_image\", \"pe\"])\n",
    "def gui(event_id, image_type):\n",
    "    ev = event_dict[int(event_id)]\n",
    "\n",
    "    #########################################################################\n",
    "\n",
    "    x, y = ev[\"geom_x\"], ev[\"geom_y\"]\n",
    "    foclen = ev[\"foclen\"]\n",
    "    geom = ctapipe.instrument.CameraGeometry.guess(x, y, foclen)\n",
    "\n",
    "    disp = ctapipe.visualization.CameraDisplay(geom, title='CT%d' % tel_id)\n",
    "    disp.enable_pixel_picker()\n",
    "    disp.add_colorbar()\n",
    "\n",
    "    disp.axes.set_title('Telescope {:03d}'.format(tel_id))\n",
    "\n",
    "    # DISPLAY TIME-VARYING EVENT ############################################\n",
    "\n",
    "    #data = event.dl0.tel[tel_num].adc_samples[channel]\n",
    "    #for ii in range(data.shape[1]):\n",
    "    #    disp.image = data[:, ii]\n",
    "    #    disp.set_limits_percent(70)   # TODO\n",
    "    #    plt.savefig('CT{:03d}_EV{:05d}_S{:02d}.png'.format(tel_num, event_id, ii), bbox_inches='tight')\n",
    "\n",
    "    # DISPLAY INTEGRATED EVENT ##############################################\n",
    "\n",
    "    disp.image = ev[image_type]\n",
    "\n",
    "    #disp.set_limits_minmax(0, 9000)\n",
    "    disp.set_limits_percent(70)        # TODO\n",
    "\n",
    "    # PLOT ##################################################################\n",
    "\n",
    "    plt.show()"
   ]
  }
 ],
 "metadata": {
  "anaconda-cloud": {},
  "kernelspec": {
   "display_name": "Python [conda env:cta]",
   "language": "python",
   "name": "conda-env-cta-py"
  },
  "language_info": {
   "codemirror_mode": {
    "name": "ipython",
    "version": 3
   },
   "file_extension": ".py",
   "mimetype": "text/x-python",
   "name": "python",
   "nbconvert_exporter": "python",
   "pygments_lexer": "ipython3",
   "version": "3.5.1"
  },
  "widgets": {
   "state": {
    "7ac1b70bfef148fa9d0819f97195e9c8": {
     "views": [
      {
       "cell_index": 3
      }
     ]
    }
   },
   "version": "1.2.0"
  }
 },
 "nbformat": 4,
 "nbformat_minor": 1
}
