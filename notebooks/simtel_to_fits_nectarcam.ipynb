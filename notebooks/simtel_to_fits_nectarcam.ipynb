{
 "cells": [
  {
   "cell_type": "markdown",
   "metadata": {},
   "source": [
    "**TODO**:\n",
    "* calibration : find the threshold value to select the right channel (meld 2 channels)\n",
    "* rotation before Tino's geometry transformation ?\n",
    "* optimize parameters for noise injection"
   ]
  },
  {
   "cell_type": "code",
   "execution_count": null,
   "metadata": {
    "collapsed": true
   },
   "outputs": [],
   "source": [
    "#%matplotlib notebook\n",
    "%matplotlib inline\n",
    "\n",
    "import matplotlib\n",
    "matplotlib.rcParams['figure.figsize'] = (10, 10)\n",
    "\n",
    "import numpy as np\n",
    "#np.set_printoptions(threshold=np.nan)\n",
    "from matplotlib import pyplot as plt\n",
    "from matplotlib import cm\n",
    "\n",
    "import ctapipe\n",
    "from ctapipe.io.hessio import hessio_event_source\n",
    "import pyhessio\n",
    "\n",
    "import sys\n",
    "sys.path.append(\"../\")\n",
    "\n",
    "import datapipe\n",
    "import datapipe.denoising.wavelets_mrfilter as mrfilter\n",
    "\n",
    "sys.path.append(\"../utils\")\n",
    "import common_functions as common\n",
    "\n",
    "from datapipe.io import images\n",
    "from datapipe.io import geometry_converter"
   ]
  },
  {
   "cell_type": "markdown",
   "metadata": {},
   "source": [
    "Nectarcam = \"NectarCam\" (tel 5 to 16 in prod3), 2 channels"
   ]
  },
  {
   "cell_type": "code",
   "execution_count": null,
   "metadata": {},
   "outputs": [],
   "source": [
    "%run ~/git/pub/jdhp-sap/snippets/ctapipe/list_telescopes_geometry.py ~/vm-shared/data/prod3/full_telarray_example.simtel.gz"
   ]
  },
  {
   "cell_type": "code",
   "execution_count": null,
   "metadata": {
    "scrolled": true
   },
   "outputs": [],
   "source": [
    "#ctapipe.version.get_version()\n",
    "print(ctapipe.__version__)\n",
    "print(pyhessio.__version__)\n",
    "\n",
    "import ctapipe.image.geometry_converter as geomconv\n",
    "from ctapipe.instrument import CameraGeometry"
   ]
  },
  {
   "cell_type": "code",
   "execution_count": null,
   "metadata": {
    "collapsed": true
   },
   "outputs": [],
   "source": [
    "# calibrator\n",
    "from ctapipe.calib import CameraCalibrator\n",
    "\n",
    "calib = CameraCalibrator(None, None)"
   ]
  },
  {
   "cell_type": "code",
   "execution_count": null,
   "metadata": {
    "collapsed": true
   },
   "outputs": [],
   "source": [
    "tel_id = 5\n",
    "source = hessio_event_source(\"/Users/jdecock/vm-shared/data/prod3/full_telarray_example.simtel.gz\", allowed_tels=[tel_id])"
   ]
  },
  {
   "cell_type": "code",
   "execution_count": null,
   "metadata": {
    "collapsed": true
   },
   "outputs": [],
   "source": [
    "for ev in source:\n",
    "    calib.calibrate(ev)  # calibrate the event\n",
    "    break"
   ]
  },
  {
   "cell_type": "code",
   "execution_count": null,
   "metadata": {
    "scrolled": true
   },
   "outputs": [],
   "source": [
    "print(ev)"
   ]
  },
  {
   "cell_type": "code",
   "execution_count": null,
   "metadata": {
    "collapsed": true
   },
   "outputs": [],
   "source": [
    "# GET IMAGES ##############################################\n",
    "\n",
    "channel = 0\n",
    "\n",
    "pe = ev.mc.tel[tel_id].photo_electron_image\n",
    "pedestal = ev.mc.tel[tel_id].pedestal[channel]\n",
    "gain = ev.mc.tel[tel_id].dc_to_pe[channel]\n",
    "uncalibrated_image = ev.r0.tel[tel_id].adc_sums[channel]\n",
    "\n",
    "calibrated_image = ev.dl1.tel[tel_id].image\n",
    "\n",
    "## Mix channels (not done in ctapipe because cameras will do it automatically in production, there will be only 1 channel then ; i.e. this issue only concerns simulations)\n",
    "## Taken from TinoCTA ./modules/prepare_event.py l.77\n",
    "#pmt_signal = event.dl1.tel[tel_id].image\n",
    "#if pmt_signal.ndim > 1 and pmt_signal.shape[0] > 1:\n",
    "#    pick = (pmt_signal > 14).any(axis=0) != np_true_false\n",
    "#    pmt_signal = pmt_signal.T[pick.T]\n",
    "#else:\n",
    "#    pmt_signal = pmt_signal.ravel()\n",
    "threshold = 200\n",
    "calibrated_image[1, calibrated_image[0,:] <= threshold] = 0\n",
    "calibrated_image[0, calibrated_image[0,:] >  threshold] = 0\n",
    "calibrated_image = calibrated_image.sum(axis=0)\n",
    "\n",
    "pixel_pos = ev.inst.pixel_pos[tel_id]\n",
    "\n",
    "event_id = ev.dl0.event_id"
   ]
  },
  {
   "cell_type": "code",
   "execution_count": null,
   "metadata": {},
   "outputs": [],
   "source": [
    "# %load ~/git/pub/jdhp-sap/snippets/ctapipe/plot_pixels_index.py\n",
    "#!/usr/bin/env python3\n",
    "\n",
    "\"\"\"\n",
    "Display the pixel layout of the givent telescope as defined in a given simtel file.\n",
    "\"\"\"\n",
    "\n",
    "(pos_x_list, pos_y_list) = pixel_pos\n",
    "pos_x_list = [float(pos.value) for pos in pos_x_list]\n",
    "pos_y_list = [float(pos.value) for pos in pos_y_list]\n",
    "\n",
    "assert len(pos_x_list) == len(pos_y_list)\n",
    "\n",
    "# PLOT ####################################################################\n",
    "\n",
    "fig, ax = plt.subplots(ncols=1, nrows=1, figsize=(13, 13))\n",
    "\n",
    "# Scatter method ##################\n",
    "\n",
    "ax.scatter(pos_x_list,    # x\n",
    "           pos_y_list,    # y\n",
    "           s=0.2,         # radius\n",
    "           c=\"black\",     # color\n",
    "           alpha=0.75)\n",
    "\n",
    "ax.plot(pos_x_list,    # x\n",
    "        pos_y_list,    # y\n",
    "        \"k-\",\n",
    "        alpha=0.25)\n",
    "\n",
    "for pixel_index in range(len(pos_x_list)):\n",
    "    ax.text(pos_x_list[pixel_index], pos_y_list[pixel_index], str(pixel_index), fontsize=8)\n",
    "\n",
    "ax.set_title(\"Pixels position (telescope {})\".format(tel_id), fontsize=16)\n",
    "\n",
    "ax.set_xlabel(\"x position (m)\", fontsize=16)\n",
    "ax.set_ylabel(\"y position (m)\", fontsize=16)\n",
    "\n",
    "#ax.set_xlim(-0.17, 0.17)\n",
    "#ax.set_ylim(-0.17, 0.17)\n",
    "\n",
    "plt.show()"
   ]
  },
  {
   "cell_type": "markdown",
   "metadata": {},
   "source": [
    "### Plot image with ctapipe"
   ]
  },
  {
   "cell_type": "code",
   "execution_count": null,
   "metadata": {
    "collapsed": true
   },
   "outputs": [],
   "source": [
    "image = calibrated_image   # pe, uncalibrated_image, calibrated_image"
   ]
  },
  {
   "cell_type": "code",
   "execution_count": null,
   "metadata": {},
   "outputs": [],
   "source": [
    "#%load ../../snippets/ctapipe/plot_events_image.py\n",
    "\n",
    "import ctapipe\n",
    "import ctapipe.visualization\n",
    "from ctapipe.io.hessio import hessio_event_source\n",
    "\n",
    "from matplotlib import pyplot as plt\n",
    "\n",
    "x, y = ev.inst.pixel_pos[tel_id]\n",
    "foclen = ev.inst.optical_foclen[tel_id]\n",
    "geom = ctapipe.instrument.CameraGeometry.guess(x, y, foclen)\n",
    "\n",
    "disp = ctapipe.visualization.CameraDisplay(geom,\n",
    "                                           image=image,   # pe, adc_sum\n",
    "                                           title='CT%d' % tel_id)\n",
    "disp.enable_pixel_picker()\n",
    "disp.add_colorbar()\n",
    "\n",
    "disp.axes.set_title('Telescope {:03d} Event {}'.format(tel_id, event_id))"
   ]
  },
  {
   "cell_type": "markdown",
   "metadata": {},
   "source": [
    "## 1D to 2D"
   ]
  },
  {
   "cell_type": "code",
   "execution_count": null,
   "metadata": {
    "collapsed": true
   },
   "outputs": [],
   "source": [
    "cam_id = \"NectarCam\"\n",
    "rot = 0\n",
    "\n",
    "geom = CameraGeometry.from_name(cam_id)\n",
    "\n",
    "if geom.pix_type=='rectangular':\n",
    "    print(\"Error: skip non-hexagonal cameras, since they don't need conversion\")"
   ]
  },
  {
   "cell_type": "code",
   "execution_count": null,
   "metadata": {
    "scrolled": false
   },
   "outputs": [],
   "source": [
    "print(image.shape)\n",
    "    \n",
    "geom2d, image2d = geomconv.convert_geometry_1d_to_2d(geom,\n",
    "                                                     image,\n",
    "                                                     geom.cam_id + str(rot),\n",
    "                                                     add_rot=0)\n",
    "\n",
    "print(image2d.shape)\n",
    "print(image2d)\n",
    "\n",
    "disp = ctapipe.visualization.CameraDisplay(geom2d, image=image2d)\n",
    "disp.enable_pixel_picker()\n",
    "disp.add_colorbar()"
   ]
  },
  {
   "cell_type": "markdown",
   "metadata": {},
   "source": [
    "### Get and print the pixel mask of the new geometry"
   ]
  },
  {
   "cell_type": "code",
   "execution_count": null,
   "metadata": {
    "scrolled": false
   },
   "outputs": [],
   "source": [
    "print(geom2d.mask.shape)\n",
    "print(geom2d.mask)\n",
    "\n",
    "disp = ctapipe.visualization.CameraDisplay(geom2d, image=geom2d.mask)\n",
    "disp.enable_pixel_picker()\n",
    "disp.add_colorbar()"
   ]
  },
  {
   "cell_type": "markdown",
   "metadata": {},
   "source": [
    "### Put NaN in blank areas (instead 0)"
   ]
  },
  {
   "cell_type": "markdown",
   "metadata": {},
   "source": [
    "This step is optional, the aim is to be closer to what is actually done in `datapipe`."
   ]
  },
  {
   "cell_type": "code",
   "execution_count": null,
   "metadata": {},
   "outputs": [],
   "source": [
    "image2d[np.logical_not(geom2d.mask)] = np.nan\n",
    "\n",
    "print(image2d)"
   ]
  },
  {
   "cell_type": "code",
   "execution_count": null,
   "metadata": {
    "scrolled": false
   },
   "outputs": [],
   "source": [
    "disp = ctapipe.visualization.CameraDisplay(geom2d, image=image2d)\n",
    "disp.enable_pixel_picker()\n",
    "disp.add_colorbar()"
   ]
  },
  {
   "cell_type": "markdown",
   "metadata": {},
   "source": [
    "### Inject noise in blank areas"
   ]
  },
  {
   "cell_type": "code",
   "execution_count": null,
   "metadata": {},
   "outputs": [],
   "source": [
    "nan_mask = np.isnan(image2d)\n",
    "\n",
    "print(np.nanmin(image2d))\n",
    "print(np.nanmean(image2d))\n",
    "print(np.nanstd(image2d))\n",
    "\n",
    "# See https://stackoverflow.com/questions/29365194/replacing-missing-values-with-random-in-a-numpy-array\n",
    "\n",
    "# GCT\n",
    "#image2d[nan_mask] = np.random.poisson(lam=3, size=np.count_nonzero(nan_mask)) - 3.\n",
    "image2d[nan_mask] = np.random.normal(0.13, 5.77, size=np.count_nonzero(nan_mask))"
   ]
  },
  {
   "cell_type": "code",
   "execution_count": null,
   "metadata": {
    "scrolled": false
   },
   "outputs": [],
   "source": [
    "#disp = ctapipe.visualization.CameraDisplay(geom2d, image=image2d)\n",
    "#disp.enable_pixel_picker()\n",
    "#disp.add_colorbar()\n",
    "\n",
    "plt.imshow(image2d, interpolation=\"nearest\", cmap=\"gnuplot2\")\n",
    "plt.colorbar()"
   ]
  },
  {
   "cell_type": "markdown",
   "metadata": {},
   "source": [
    "## 2D to 1D"
   ]
  },
  {
   "cell_type": "code",
   "execution_count": null,
   "metadata": {},
   "outputs": [],
   "source": [
    "geom1d, image1d = geomconv.convert_geometry_back(geom2d,\n",
    "                                                 image2d,\n",
    "                                                 geom.cam_id + str(rot),\n",
    "                                                 add_rot=rot)\n",
    "\n",
    "print(image.shape)\n",
    "\n",
    "disp = ctapipe.visualization.CameraDisplay(geom1d, image=image1d) # Warning: \"geom != geom1d\" (becauseof the use fo np.histogram to make the conversino) thus use geom1d here, not geom !\n",
    "disp.enable_pixel_picker()\n",
    "disp.add_colorbar()"
   ]
  }
 ],
 "metadata": {
  "anaconda-cloud": {},
  "kernelspec": {
   "display_name": "Python [conda env:cta]",
   "language": "python",
   "name": "conda-env-cta-py"
  },
  "language_info": {
   "codemirror_mode": {
    "name": "ipython",
    "version": 3
   },
   "file_extension": ".py",
   "mimetype": "text/x-python",
   "name": "python",
   "nbconvert_exporter": "python",
   "pygments_lexer": "ipython3",
   "version": "3.5.1"
  }
 },
 "nbformat": 4,
 "nbformat_minor": 1
}
