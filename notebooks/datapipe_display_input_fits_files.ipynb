{
 "cells": [
  {
   "cell_type": "code",
   "execution_count": 1,
   "metadata": {
    "collapsed": true,
    "scrolled": false
   },
   "outputs": [],
   "source": [
    "%matplotlib inline\n",
    "\n",
    "import matplotlib\n",
    "matplotlib.rcParams['figure.figsize'] = (6, 6)\n",
    "\n",
    "import matplotlib.pyplot as plt\n",
    "from matplotlib.colors import LogNorm\n",
    "\n",
    "import ipywidgets\n",
    "from ipywidgets import interact\n",
    "\n",
    "import sys\n",
    "sys.path.append(\"../\")\n",
    "\n",
    "import datapipe\n",
    "from datapipe.io.images import image_files_in_dir\n",
    "from datapipe.denoising.wavelets_mrtransform import wavelet_transform"
   ]
  },
  {
   "cell_type": "code",
   "execution_count": 2,
   "metadata": {},
   "outputs": [
    {
     "data": {
      "application/javascript": [
       "IPython.OutputArea.auto_scroll_threshold = 9999;\n",
       "// see https://github.com/ipython/ipython/issues/2172"
      ],
      "text/plain": [
       "<IPython.core.display.Javascript object>"
      ]
     },
     "metadata": {},
     "output_type": "display_data"
    }
   ],
   "source": [
    "%%javascript\n",
    "IPython.OutputArea.auto_scroll_threshold = 9999;\n",
    "// see https://github.com/ipython/ipython/issues/2172"
   ]
  },
  {
   "cell_type": "markdown",
   "metadata": {},
   "source": [
    "## Display input fits files"
   ]
  },
  {
   "cell_type": "code",
   "execution_count": 3,
   "metadata": {},
   "outputs": [
    {
     "data": {
      "text/plain": [
       "['/Users/jdecock/data/sst1m_mini_array_konrad/fits/sst1m/gamma/gamma_20deg_180deg_run2203___cta-prod3-sst-dc_desert-2150m-Paranal-sst-dc.simtel.gz_TEL001_EV00109.fits',\n",
       " '/Users/jdecock/data/sst1m_mini_array_konrad/fits/sst1m/gamma/gamma_20deg_180deg_run2203___cta-prod3-sst-dc_desert-2150m-Paranal-sst-dc.simtel.gz_TEL001_EV02301.fits',\n",
       " '/Users/jdecock/data/sst1m_mini_array_konrad/fits/sst1m/gamma/gamma_20deg_180deg_run2203___cta-prod3-sst-dc_desert-2150m-Paranal-sst-dc.simtel.gz_TEL001_EV02308.fits',\n",
       " '/Users/jdecock/data/sst1m_mini_array_konrad/fits/sst1m/gamma/gamma_20deg_180deg_run2203___cta-prod3-sst-dc_desert-2150m-Paranal-sst-dc.simtel.gz_TEL001_EV02607.fits',\n",
       " '/Users/jdecock/data/sst1m_mini_array_konrad/fits/sst1m/gamma/gamma_20deg_180deg_run2203___cta-prod3-sst-dc_desert-2150m-Paranal-sst-dc.simtel.gz_TEL001_EV02802.fits']"
      ]
     },
     "execution_count": 3,
     "metadata": {},
     "output_type": "execute_result"
    }
   ],
   "source": [
    "#DIR_PATH = \"/Users/jdecock/astri_data/fits_cropped/proton/\"\n",
    "#DIR_PATH = \"Users/jdecock/astri_data/fits/proton/\"\n",
    "#DIR_PATH = \"/Users/jdecock/astri_data/fits/gamma/\"\n",
    "#DIR_PATH = \"/Users/jdecock/data/gct/fits/proton/\"\n",
    "#DIR_PATH = \"/Users/jdecock/astri_data/fits_flashcam/gamma/\"\n",
    "#DIR_PATH = \"/Users/jdecock/astri_data/fits_flashcam/proton/\"\n",
    "#DIR_PATH = \"/Volumes/ramdisk/flashcam/fits/gamma/\"\n",
    "#DIR_PATH = \"/Users/jdecock/data/grid_prod3b_north/fits/lst/gamma/\"\n",
    "DIR_PATH = \"/Users/jdecock/data/sst1m_mini_array_konrad/fits/sst1m/gamma/\"\n",
    "\n",
    "file_path_list = list(image_files_in_dir(DIR_PATH, max_num_files=5))\n",
    "file_path_list"
   ]
  },
  {
   "cell_type": "code",
   "execution_count": 4,
   "metadata": {
    "collapsed": true
   },
   "outputs": [],
   "source": [
    "def plot(data, title=\"\", log=False):\n",
    "    fig = plt.figure()\n",
    "    ax1 = fig.add_subplot(111)\n",
    "\n",
    "    ax1.set_title(title)\n",
    "    \n",
    "    if log:\n",
    "        # See http://matplotlib.org/examples/pylab_examples/pcolor_log.html\n",
    "        #     http://stackoverflow.com/questions/2546475/how-can-i-draw-a-log-normalized-imshow-plot-with-a-colorbar-representing-the-raw\n",
    "        #im = ax1.pcolor(x, y, image_array, norm=LogNorm(vmin=0.01, vmax=image_array.max()), cmap=self.color_map)  # TODO: \"vmin=0.01\" is an arbitrary choice...\n",
    "        im = ax1.imshow(data, interpolation='nearest', origin='lower', norm=LogNorm(vmin=0.01, vmax=data.max()), cmap=\"gnuplot2\")   # cmap=cm.inferno and cmap=\"inferno\" are both valid\n",
    "    else:\n",
    "        im = ax1.imshow(data, interpolation='nearest', origin='lower', cmap=\"gnuplot2\")   # cmap=cm.inferno and cmap=\"inferno\" are both valid\n",
    "        #im = ax1.pcolor(x, y, image_array, cmap=self.color_map, vmin=z_min, vmax=z_max)\n",
    "\n",
    "    plt.colorbar(im, ax=ax1)  # draw the colorbar\n",
    "    \n",
    "    #ax2 = fig.add_subplot(212)\n",
    "    #ax2.hist(data)\n",
    "    \n",
    "    plt.show()"
   ]
  },
  {
   "cell_type": "code",
   "execution_count": 8,
   "metadata": {
    "scrolled": false
   },
   "outputs": [
    {
     "data": {
      "application/vnd.jupyter.widget-view+json": {
       "model_id": "48ed8a570ed449298cb8f30a8441dec9"
      }
     },
     "metadata": {},
     "output_type": "display_data"
    }
   ],
   "source": [
    "@interact(file_path=file_path_list)\n",
    "def gui(file_path):\n",
    "    images, metadata = datapipe.io.images.load_benchmark_images(file_path)\n",
    "\n",
    "    print(metadata[\"npe\"])\n",
    "    \n",
    "    for key, data in images.items():\n",
    "        print(key, data.ndim, data.shape)\n",
    "        if data.ndim == 2:\n",
    "            plot(data, title=key)\n",
    "        elif data.ndim == 3:\n",
    "            for channel in range(data.shape[0]):\n",
    "                plot(data[channel], title=key + \" [{}]\".format(channel))\n",
    "            \n",
    "    for key, val in metadata.items():\n",
    "        print(\"{}: {}\".format(key, val))\n",
    "        \n",
    "    print(images[\"reference_image\"])\n",
    "    print(images[\"input_image\"])\n",
    "    \n",
    "    plan_imgs = wavelet_transform(images[\"input_image\"])\n",
    "    for plan_index, plan_img in enumerate(plan_imgs):\n",
    "        plot(plan_img, title=\"Input image - WT plan {}\".format(plan_index))\n",
    "        \n",
    "    plan_imgs = wavelet_transform(images[\"reference_image\"])\n",
    "    for plan_index, plan_img in enumerate(plan_imgs):\n",
    "        plot(plan_img, title=\"PE image - WT plan {}\".format(plan_index))"
   ]
  }
 ],
 "metadata": {
  "anaconda-cloud": {},
  "kernelspec": {
   "display_name": "Python [conda env:cta]",
   "language": "python",
   "name": "conda-env-cta-py"
  },
  "language_info": {
   "codemirror_mode": {
    "name": "ipython",
    "version": 3
   },
   "file_extension": ".py",
   "mimetype": "text/x-python",
   "name": "python",
   "nbconvert_exporter": "python",
   "pygments_lexer": "ipython3",
   "version": "3.5.1"
  },
  "widgets": {
   "state": {
    "ba93fbc083634eb8a0b668fac7071dce": {
     "views": [
      {
       "cell_index": 4
      }
     ]
    }
   },
   "version": "1.2.0"
  }
 },
 "nbformat": 4,
 "nbformat_minor": 1
}
