{
 "cells": [
  {
   "cell_type": "code",
   "execution_count": null,
   "metadata": {
    "collapsed": false,
    "scrolled": false
   },
   "outputs": [],
   "source": [
    "%matplotlib inline\n",
    "\n",
    "import matplotlib\n",
    "matplotlib.rcParams['figure.figsize'] = (6, 6)\n",
    "\n",
    "import math\n",
    "import cmath          # math functions for complex numbers\n",
    "import numpy as np\n",
    "import matplotlib.pyplot as plt\n",
    "\n",
    "from matplotlib.colors import LogNorm\n",
    "\n",
    "import scipy\n",
    "import scipy.stats\n",
    "import pandas as pd\n",
    "\n",
    "from astropy.io import fits\n",
    "import os.path\n",
    "\n",
    "import ipywidgets\n",
    "from ipywidgets import interact\n",
    "\n",
    "import sys\n",
    "sys.path.append(\"/Users/jdecock/git/pub/jdhp-sap/sap-cta-data-pipeline\")\n",
    "\n",
    "import datapipe\n",
    "import datapipe.denoising.wavelets_mrfilter as mrfilter\n",
    "\n",
    "sys.path.append(\"/Users/jdecock/git/pub/jdhp-sap/sap-cta-data-pipeline/utils\")\n",
    "import common_functions as common"
   ]
  },
  {
   "cell_type": "markdown",
   "metadata": {},
   "source": [
    "## Display input fits files"
   ]
  },
  {
   "cell_type": "code",
   "execution_count": null,
   "metadata": {
    "collapsed": false
   },
   "outputs": [],
   "source": [
    "file_path_list = common.get_fits_files_list(\"../tst/\")"
   ]
  },
  {
   "cell_type": "code",
   "execution_count": null,
   "metadata": {
    "collapsed": true
   },
   "outputs": [],
   "source": [
    "def plot(data, title=\"\", log=False):\n",
    "    fig = plt.figure()\n",
    "    ax1 = fig.add_subplot(111)\n",
    "\n",
    "    ax1.set_title(title)\n",
    "    \n",
    "    if log:\n",
    "        # See http://matplotlib.org/examples/pylab_examples/pcolor_log.html\n",
    "        #     http://stackoverflow.com/questions/2546475/how-can-i-draw-a-log-normalized-imshow-plot-with-a-colorbar-representing-the-raw\n",
    "        #im = ax1.pcolor(x, y, image_array, norm=LogNorm(vmin=0.01, vmax=image_array.max()), cmap=self.color_map)  # TODO: \"vmin=0.01\" is an arbitrary choice...\n",
    "        im = ax1.imshow(data, interpolation='nearest', origin='lower', norm=LogNorm(vmin=0.01, vmax=data.max()), cmap=\"gnuplot2\")   # cmap=cm.inferno and cmap=\"inferno\" are both valid\n",
    "    else:\n",
    "        im = ax1.imshow(data, interpolation='nearest', origin='lower', cmap=\"gnuplot2\")   # cmap=cm.inferno and cmap=\"inferno\" are both valid\n",
    "        #im = ax1.pcolor(x, y, image_array, cmap=self.color_map, vmin=z_min, vmax=z_max)\n",
    "\n",
    "    plt.colorbar(im, ax=ax1)  # draw the colorbar\n",
    "    \n",
    "    #ax2 = fig.add_subplot(212)\n",
    "    #ax2.hist(data)\n",
    "    \n",
    "    plt.show()"
   ]
  },
  {
   "cell_type": "code",
   "execution_count": null,
   "metadata": {
    "collapsed": false
   },
   "outputs": [],
   "source": [
    "@interact(file_path=file_path_list)\n",
    "def gui(file_path):\n",
    "    for key, data in datapipe.io.images.load_benchmark_images(file_path)[0].items():\n",
    "        if data.ndim == 2:\n",
    "            plot(data, title=key)\n",
    "        elif data.ndim == 3:\n",
    "            plot(data[0], title=key + \" [0]\")\n",
    "            plot(data[1], title=key + \" [1]\")"
   ]
  }
 ],
 "metadata": {
  "anaconda-cloud": {},
  "kernelspec": {
   "display_name": "Python [conda env:cta]",
   "language": "python",
   "name": "conda-env-cta-py"
  },
  "language_info": {
   "codemirror_mode": {
    "name": "ipython",
    "version": 3
   },
   "file_extension": ".py",
   "mimetype": "text/x-python",
   "name": "python",
   "nbconvert_exporter": "python",
   "pygments_lexer": "ipython3",
   "version": "3.5.2"
  }
 },
 "nbformat": 4,
 "nbformat_minor": 1
}
