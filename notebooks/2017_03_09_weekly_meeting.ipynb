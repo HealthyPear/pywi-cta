{
 "cells": [
  {
   "cell_type": "code",
   "execution_count": null,
   "metadata": {
    "collapsed": false
   },
   "outputs": [],
   "source": [
    "#%matplotlib notebook\n",
    "%matplotlib inline\n",
    "#%config InlineBackend.figure_formats=['svg']\n",
    "#%config InlineBackend.figure_formats=['pdf']\n",
    "\n",
    "import matplotlib\n",
    "matplotlib.rcParams['figure.figsize'] = (12, 9)\n",
    "\n",
    "from matplotlib.colors import LogNorm\n",
    "from matplotlib.ticker import FuncFormatter\n",
    "\n",
    "import scipy\n",
    "import scipy.stats\n",
    "import math\n",
    "import numpy as np\n",
    "import pandas as pd\n",
    "\n",
    "#import ipywidgets\n",
    "#from ipywidgets import interact"
   ]
  },
  {
   "cell_type": "markdown",
   "metadata": {},
   "source": [
    "## Reminder of last results"
   ]
  },
  {
   "cell_type": "markdown",
   "metadata": {},
   "source": [
    "### Improvement ratio for $\\Delta\\psi$ < 0.2°"
   ]
  },
  {
   "cell_type": "markdown",
   "metadata": {},
   "source": [
    "The conclusion of the last weekly meeting:\n",
    "* with the wavelet configuration at used that time,\n",
    "* with cuts at 50 NPE on cleaned image,\n",
    "* the gain ratio of wavelets / tailcut  was almost 0% (with a small population of ~350 images)"
   ]
  },
  {
   "cell_type": "markdown",
   "metadata": {},
   "source": [
    "### What happen if we change the requested precision angle ?"
   ]
  },
  {
   "cell_type": "markdown",
   "metadata": {},
   "source": [
    "See http://localhost:8888/notebooks/first_bin_delta_psi_func.ipynb"
   ]
  },
  {
   "cell_type": "markdown",
   "metadata": {},
   "source": [
    "CCL:\n",
    "* The ratio depends a lot on this requested precision angle.\n",
    "* Despite the low statistics, a similar pattern is observed with other wavelet configurations.\n",
    "* Systematics ?\n",
    "* Why ?"
   ]
  },
  {
   "cell_type": "markdown",
   "metadata": {},
   "source": [
    "### New configuration: reduce the threshold for small scales"
   ]
  },
  {
   "cell_type": "markdown",
   "metadata": {},
   "source": [
    "During my postdoc seminar, I presented several new configurations for wavelets.\n",
    "One of them gives escpcially good results on the $\\Delta\\psi$ estimator:\n",
    "* mr_filter -n4 -K -k -C1 -s2,2,3,3 -m3 --kill-isolated-pixels\n",
    "* in this configuration, the threshold is reduced for small scales only"
   ]
  },
  {
   "cell_type": "markdown",
   "metadata": {},
   "source": [
    "#### PE sum"
   ]
  },
  {
   "cell_type": "markdown",
   "metadata": {},
   "source": [
    "##### Initial configuration (-n4 -K -k -C1 -s3 -m3  --kill-isolated-pixels)"
   ]
  },
  {
   "cell_type": "markdown",
   "metadata": {},
   "source": [
    "See http://localhost:8888/notebooks/npe_analysis-TMP-former-ref.ipynb#"
   ]
  },
  {
   "cell_type": "markdown",
   "metadata": {},
   "source": [
    "##### New configuration (-n4 -K -k -C1 -s2,2,3,3 -m3  --kill-isolated-pixels)"
   ]
  },
  {
   "cell_type": "markdown",
   "metadata": {},
   "source": [
    "See http://localhost:8888/notebooks/npe_analysis.ipynb"
   ]
  },
  {
   "cell_type": "markdown",
   "metadata": {},
   "source": [
    "#### $\\Delta\\psi$ histogram for bright and faint showers on images"
   ]
  },
  {
   "cell_type": "code",
   "execution_count": null,
   "metadata": {
    "collapsed": true
   },
   "outputs": [],
   "source": [
    "# Plot delta psi #####################\n",
    "\n",
    "def plot_ratio(ax, res_tuple_tc, res_tuple_wt):\n",
    "    val_of_bins_tc, bins_tc, patches_tc = res_tuple_tc\n",
    "    val_of_bins_wt, bins_wt, patches_wt = res_tuple_wt\n",
    "    edges_of_bins = bins_tc\n",
    "\n",
    "    # Set ratio where val_of_bins_data is not zero\n",
    "    ratio = np.divide(val_of_bins_wt,\n",
    "                      val_of_bins_tc,\n",
    "                      where=(val_of_bins_tc != 0))\n",
    "\n",
    "    # Compute error on ratio (null if cannot be computed)\n",
    "    # This is wrong as it's made for Gaussian distributions and here we have Poisson distribution\n",
    "    error = np.divide(val_of_bins_wt * np.sqrt(val_of_bins_tc) + val_of_bins_tc * np.sqrt(val_of_bins_wt),\n",
    "                       np.power(val_of_bins_tc, 2),\n",
    "                       where=(val_of_bins_tc != 0))\n",
    "\n",
    "    ax.set_ylabel('Ratio (WT/TC)', fontsize=20)\n",
    "    ax.axhline(y=1, linewidth=2, linestyle='--', color='gray', alpha=0.5)\n",
    "\n",
    "    bincenter = 0.5 * (edges_of_bins[1:] + edges_of_bins[:-1])\n",
    "    ax.errorbar(bincenter, ratio, yerr=error, fmt='o', color='k', elinewidth=3, capsize=4, capthick=3, linewidth=6)\n",
    "    ax.plot(bincenter, ratio, 'ok', linewidth=6)\n",
    "\n",
    "################################\n",
    "\n",
    "def plot_delta_psi(df):\n",
    "    fig, ((ax1, ax2), (ax3, ax4)) = plt.subplots(nrows=2, ncols=2, figsize=(16, 9))\n",
    "\n",
    "    #BINS_START, BINS_STOP, BINS_STEP = 0., 99., 9.\n",
    "    #BINS_START, BINS_STOP, BINS_STEP = 0., 99., 9.\n",
    "\n",
    "    #BINS = np.arange(BINS_START, BINS_STOP, BINS_STEP)\n",
    "    #BINS = 30\n",
    "    #BINS = np.linspace(BINS_START, BINS_STOP, 30)\n",
    "    #BINS = [3.53056780e-03, 5.99515231e+00, 1.19867741e+01, 1.79783958e+01, 2.39700176e+01, 2.99616393e+01,\n",
    "    #        3.59532610e+01, 4.19448828e+01, 4.79365045e+01, 5.39281263e+01, 5.99197480e+01, 6.59113698e+01,\n",
    "    #        7.19029915e+01, 7.78946133e+01, 8.38862350e+01, 8.98778568e+01]\n",
    "    BINS = 15\n",
    "\n",
    "    ################################\n",
    "\n",
    "    NPE_MIN, NPE_MAX = 50, FAINT_BRIGHT_BORDER\n",
    "\n",
    "    df1 = df[df.peSum_tc > NPE_MIN][df.peSum_tc <= NPE_MAX]['delta_tc']\n",
    "    df2 = df[df.peSum_wt > NPE_MIN][df.peSum_wt <= NPE_MAX]['delta_wt']\n",
    "\n",
    "    res_tuple_tc1 = ax1.hist(df1,\n",
    "                             label=\"TC num={}\".format(len(df1)),\n",
    "                             bins=BINS,\n",
    "                             linewidth=2, alpha=.5, color='blue', histtype=\"step\")\n",
    "\n",
    "    res_tuple_wt1 = ax1.hist(df2,\n",
    "                             label=\"WT num={}\".format(len(df2)),\n",
    "                             bins=BINS,\n",
    "                             linewidth=2, alpha=.5, color='red',  histtype=\"step\")\n",
    "\n",
    "    ax1.set_title(\"{} to {} NPE\".format(NPE_MIN, NPE_MAX), fontsize=20)\n",
    "    ax1.set_xlabel(\"delta_psi\", fontsize=20)\n",
    "    ax1.set_ylabel(\"counts\", fontsize=20)\n",
    "    ax1.legend(prop={'size': 18}, loc='best', fancybox=True, framealpha=0.5)\n",
    "\n",
    "    plot_ratio(ax3, res_tuple_tc1, res_tuple_wt1)\n",
    "\n",
    "    ################################\n",
    "\n",
    "    NPE_MIN, NPE_MAX = FAINT_BRIGHT_BORDER, 2000\n",
    "\n",
    "    df1 = df[df.peSum_tc > NPE_MIN][df.peSum_tc <= NPE_MAX]['delta_tc']\n",
    "    df2 = df[df.peSum_wt > NPE_MIN][df.peSum_wt <= NPE_MAX]['delta_wt']\n",
    "\n",
    "    res_tuple_tc2 = ax2.hist(df1,\n",
    "                             label=\"TC num={}\".format(len(df1)),\n",
    "                             bins=BINS,\n",
    "                             linewidth=2, alpha=.5, color='blue', histtype=\"step\")\n",
    "\n",
    "    res_tuple_wt2 = ax2.hist(df2,\n",
    "                             label=\"WT num={}\".format(len(df2)),\n",
    "                             bins=BINS,\n",
    "                             linewidth=2, alpha=.5, color='red',  histtype=\"step\")\n",
    "\n",
    "    ax2.set_title(\"{} to {} NPE\".format(NPE_MIN, NPE_MAX), fontsize=20)\n",
    "    ax2.set_xlabel(\"delta_psi\", fontsize=20)\n",
    "    ax2.set_ylabel(\"counts\", fontsize=20)\n",
    "    ax2.legend(prop={'size': 18}, loc='best', fancybox=True, framealpha=0.5)\n",
    "\n",
    "    plot_ratio(ax4, res_tuple_tc2, res_tuple_wt2)\n",
    "\n",
    "    #ax.set_yscale('log')\n",
    "\n",
    "    fig.suptitle(WAVELET_LABEL + \" / \" + TAILCUT_LABEL, fontsize=20)\n",
    "    \n",
    "    return fig"
   ]
  },
  {
   "cell_type": "markdown",
   "metadata": {},
   "source": [
    "##### Initial configuration (-n4 -K -k -C1 -s3 -m3  --kill-isolated-pixels)"
   ]
  },
  {
   "cell_type": "code",
   "execution_count": null,
   "metadata": {
    "collapsed": false
   },
   "outputs": [],
   "source": [
    "#CSV_FILE_PATH = \"../xps/best.csv\"\n",
    "CSV_FILE_PATH = \"../xps/2017_02_20/2017_02_20.csv\"\n",
    "\n",
    "WAVELET_LABEL = \"Wavelets-n4-K-k-C1-s3-m3-kill\"\n",
    "#WAVELET_LABEL = \"WT-ref-f3-s3\"\n",
    "#WAVELET_LABEL = \"WT-t24-f3-s4\"\n",
    "#WAVELET_LABEL = \"WT-t28-f3-s5\"\n",
    "#WAVELET_LABEL = \"WT-ref-s2-2-3-3\"\n",
    "\n",
    "TAILCUT_LABEL = \"Tailcut-5-10-kill\"\n",
    "\n",
    "PART = 0         # 0 for gamma, 1 for protons\n",
    "\n",
    "FAINT_BRIGHT_BORDER = 100\n",
    "\n",
    "full_df = pd.read_csv(CSV_FILE_PATH)\n",
    "\n",
    "ref = full_df[full_df.Type == 'Ref']\n",
    "ref = ref[ref.Part == PART]\n",
    "\n",
    "tc = full_df[full_df.Type == TAILCUT_LABEL]\n",
    "tc = tc[tc.Part == PART]\n",
    "\n",
    "wt = full_df[full_df.Type == WAVELET_LABEL]\n",
    "wt = wt[wt.Part == PART]\n",
    "\n",
    "tc_wt = pd.merge(tc, wt, on=\"Id\", how=\"outer\", suffixes=('_tc', '_wt'))  #.dropna(how='any')\n",
    "df = pd.merge(tc_wt, ref, on=\"Id\", how=\"outer\")\n",
    "\n",
    "df[\"delta_tc\"] = np.fmod(((df['hPsi'] - df['hPsi_tc']) * 180. / np.pi), 90.)\n",
    "df[\"delta_wt\"] = np.fmod(((df['hPsi'] - df['hPsi_wt']) * 180. / np.pi), 90.)\n",
    "\n",
    "df.delta_tc = abs(df.delta_tc)\n",
    "df.delta_wt = abs(df.delta_wt)\n",
    "\n",
    "#df = df[df.border > 0]   # CONTAINED\n",
    "#df = df[df.border == 0]  # NOT CONTAINED\n",
    "\n",
    "plot_delta_psi(df)"
   ]
  },
  {
   "cell_type": "markdown",
   "metadata": {},
   "source": [
    "##### New configuration (-n4 -K -k -C1 -s2,2,3,3 -m3  --kill-isolated-pixels)"
   ]
  },
  {
   "cell_type": "code",
   "execution_count": null,
   "metadata": {
    "collapsed": false,
    "scrolled": false
   },
   "outputs": [],
   "source": [
    "CSV_FILE_PATH = \"../xps/best.csv\"\n",
    "#CSV_FILE_PATH = \"../xps/2017_02_20/2017_02_20.csv\"\n",
    "\n",
    "#WAVELET_LABEL = \"Wavelets-n4-K-k-C1-s3-m3-kill\"\n",
    "#WAVELET_LABEL = \"WT-ref-f3-s3\"\n",
    "#WAVELET_LABEL = \"WT-t24-f3-s4\"\n",
    "#WAVELET_LABEL = \"WT-t28-f3-s5\"\n",
    "WAVELET_LABEL = \"WT-ref-s2-2-3-3\"\n",
    "\n",
    "TAILCUT_LABEL = \"Tailcut-5-10-kill\"\n",
    "\n",
    "PART = 0         # 0 for gamma, 1 for protons\n",
    "\n",
    "FAINT_BRIGHT_BORDER = 100\n",
    "\n",
    "full_df = pd.read_csv(CSV_FILE_PATH)\n",
    "\n",
    "ref = full_df[full_df.Type == 'Ref']\n",
    "ref = ref[ref.Part == PART]\n",
    "\n",
    "tc = full_df[full_df.Type == TAILCUT_LABEL]\n",
    "tc = tc[tc.Part == PART]\n",
    "\n",
    "wt = full_df[full_df.Type == WAVELET_LABEL]\n",
    "wt = wt[wt.Part == PART]\n",
    "\n",
    "tc_wt = pd.merge(tc, wt, on=\"Id\", how=\"outer\", suffixes=('_tc', '_wt'))  #.dropna(how='any')\n",
    "df = pd.merge(tc_wt, ref, on=\"Id\", how=\"outer\")\n",
    "\n",
    "df[\"delta_tc\"] = np.fmod(((df['hPsi'] - df['hPsi_tc']) * 180. / np.pi), 90.)\n",
    "df[\"delta_wt\"] = np.fmod(((df['hPsi'] - df['hPsi_wt']) * 180. / np.pi), 90.)\n",
    "\n",
    "df.delta_tc = abs(df.delta_tc)\n",
    "df.delta_wt = abs(df.delta_wt)\n",
    "\n",
    "#df = df[df.border > 0]   # CONTAINED\n",
    "#df = df[df.border == 0]  # NOT CONTAINED\n",
    "\n",
    "plot_delta_psi(df)"
   ]
  },
  {
   "cell_type": "markdown",
   "metadata": {},
   "source": [
    "### Impact for the first bin"
   ]
  },
  {
   "cell_type": "markdown",
   "metadata": {},
   "source": [
    "See: http://localhost:8888/notebooks/first_bin_delta_psi_func-TMP-new-config.ipynb"
   ]
  },
  {
   "cell_type": "markdown",
   "metadata": {},
   "source": [
    "## Impact on results of showers on borders"
   ]
  },
  {
   "cell_type": "markdown",
   "metadata": {},
   "source": [
    "See http://localhost:8888/notebooks/cut_on_border_analysis.ipynb"
   ]
  },
  {
   "cell_type": "code",
   "execution_count": null,
   "metadata": {
    "collapsed": false
   },
   "outputs": [],
   "source": [
    "CSV_FILE_PATH = \"../xps/best.csv\"\n",
    "#CSV_FILE_PATH = \"../xps/2017_02_20/2017_02_20.csv\"\n",
    "\n",
    "#WAVELET_LABEL = \"Wavelets-n4-K-k-C1-s3-m3-kill\"\n",
    "#WAVELET_LABEL = \"WT-ref-f3-s3\"\n",
    "#WAVELET_LABEL = \"WT-t24-f3-s4\"\n",
    "#WAVELET_LABEL = \"WT-t28-f3-s5\"\n",
    "WAVELET_LABEL = \"WT-ref-s2-2-3-3\"\n",
    "\n",
    "TAILCUT_LABEL = \"Tailcut-5-10-kill\"\n",
    "\n",
    "PART = 0         # 0 for gamma, 1 for protons\n",
    "\n",
    "FAINT_BRIGHT_BORDER = 100\n",
    "\n",
    "full_df = pd.read_csv(CSV_FILE_PATH)\n",
    "\n",
    "ref = full_df[full_df.Type == 'Ref']\n",
    "ref = ref[ref.Part == PART]\n",
    "\n",
    "tc = full_df[full_df.Type == TAILCUT_LABEL]\n",
    "tc = tc[tc.Part == PART]\n",
    "\n",
    "wt = full_df[full_df.Type == WAVELET_LABEL]\n",
    "wt = wt[wt.Part == PART]\n",
    "\n",
    "tc_wt = pd.merge(tc, wt, on=\"Id\", how=\"outer\", suffixes=('_tc', '_wt'))  #.dropna(how='any')\n",
    "df = pd.merge(tc_wt, ref, on=\"Id\", how=\"outer\")\n",
    "\n",
    "df[\"delta_tc\"] = np.fmod(((df['hPsi'] - df['hPsi_tc']) * 180. / np.pi), 90.)\n",
    "df[\"delta_wt\"] = np.fmod(((df['hPsi'] - df['hPsi_wt']) * 180. / np.pi), 90.)\n",
    "\n",
    "df.delta_tc = abs(df.delta_tc)\n",
    "df.delta_wt = abs(df.delta_wt)\n",
    "\n",
    "df = df[df.border > 0]   # CONTAINED\n",
    "#df = df[df.border == 0]  # NOT CONTAINED\n",
    "\n",
    "fig = plot_delta_psi(df)\n",
    "\n",
    "fig.suptitle(WAVELET_LABEL + \" / \" + TAILCUT_LABEL + \" CONTAINED\", fontsize=20)"
   ]
  },
  {
   "cell_type": "code",
   "execution_count": null,
   "metadata": {
    "collapsed": false
   },
   "outputs": [],
   "source": [
    "CSV_FILE_PATH = \"../xps/best.csv\"\n",
    "#CSV_FILE_PATH = \"../xps/2017_02_20/2017_02_20.csv\"\n",
    "\n",
    "#WAVELET_LABEL = \"Wavelets-n4-K-k-C1-s3-m3-kill\"\n",
    "#WAVELET_LABEL = \"WT-ref-f3-s3\"\n",
    "#WAVELET_LABEL = \"WT-t24-f3-s4\"\n",
    "#WAVELET_LABEL = \"WT-t28-f3-s5\"\n",
    "WAVELET_LABEL = \"WT-ref-s2-2-3-3\"\n",
    "\n",
    "TAILCUT_LABEL = \"Tailcut-5-10-kill\"\n",
    "\n",
    "PART = 0         # 0 for gamma, 1 for protons\n",
    "\n",
    "FAINT_BRIGHT_BORDER = 100\n",
    "\n",
    "full_df = pd.read_csv(CSV_FILE_PATH)\n",
    "\n",
    "ref = full_df[full_df.Type == 'Ref']\n",
    "ref = ref[ref.Part == PART]\n",
    "\n",
    "tc = full_df[full_df.Type == TAILCUT_LABEL]\n",
    "tc = tc[tc.Part == PART]\n",
    "\n",
    "wt = full_df[full_df.Type == WAVELET_LABEL]\n",
    "wt = wt[wt.Part == PART]\n",
    "\n",
    "tc_wt = pd.merge(tc, wt, on=\"Id\", how=\"outer\", suffixes=('_tc', '_wt'))  #.dropna(how='any')\n",
    "df = pd.merge(tc_wt, ref, on=\"Id\", how=\"outer\")\n",
    "\n",
    "df[\"delta_tc\"] = np.fmod(((df['hPsi'] - df['hPsi_tc']) * 180. / np.pi), 90.)\n",
    "df[\"delta_wt\"] = np.fmod(((df['hPsi'] - df['hPsi_wt']) * 180. / np.pi), 90.)\n",
    "\n",
    "df.delta_tc = abs(df.delta_tc)\n",
    "df.delta_wt = abs(df.delta_wt)\n",
    "\n",
    "#df = df[df.border > 0]   # CONTAINED\n",
    "df = df[df.border == 0]  # NOT CONTAINED\n",
    "\n",
    "fig = plot_delta_psi(df)\n",
    "\n",
    "fig.suptitle(WAVELET_LABEL + \" / \" + TAILCUT_LABEL + \" NOT CONTAINED\", fontsize=20)"
   ]
  },
  {
   "cell_type": "markdown",
   "metadata": {},
   "source": [
    "## Multiplicity"
   ]
  },
  {
   "cell_type": "markdown",
   "metadata": {},
   "source": [
    "See http://localhost:8888/notebooks/delta_psi_analysis_with_multiplicity.ipynb#Ratio"
   ]
  }
 ],
 "metadata": {
  "anaconda-cloud": {},
  "kernelspec": {
   "display_name": "Python [conda env:cta]",
   "language": "python",
   "name": "conda-env-cta-py"
  },
  "language_info": {
   "codemirror_mode": {
    "name": "ipython",
    "version": 3
   },
   "file_extension": ".py",
   "mimetype": "text/x-python",
   "name": "python",
   "nbconvert_exporter": "python",
   "pygments_lexer": "ipython3",
   "version": "3.5.2"
  }
 },
 "nbformat": 4,
 "nbformat_minor": 1
}
