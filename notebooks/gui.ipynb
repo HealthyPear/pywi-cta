{
 "cells": [
  {
   "cell_type": "code",
   "execution_count": null,
   "metadata": {
    "scrolled": false
   },
   "outputs": [],
   "source": [
    "%matplotlib inline\n",
    "\n",
    "import matplotlib\n",
    "matplotlib.rcParams['figure.figsize'] = (6, 6)\n",
    "\n",
    "import math\n",
    "import cmath          # math functions for complex numbers\n",
    "import numpy as np\n",
    "import matplotlib.pyplot as plt\n",
    "\n",
    "from matplotlib.colors import LogNorm\n",
    "\n",
    "import scipy\n",
    "import scipy.stats\n",
    "import pandas as pd\n",
    "\n",
    "from astropy.io import fits\n",
    "import os.path\n",
    "\n",
    "import time\n",
    "\n",
    "import ipywidgets\n",
    "from ipywidgets import interact\n",
    "\n",
    "import sys\n",
    "sys.path.append(\"/Users/jdecock/git/pub/jdhp-sap/sap-cta-data-pipeline\")\n",
    "import datapipe\n",
    "import datapipe.denoising.wavelets_mrfilter as mrfilter\n",
    "\n",
    "sys.path.append(\"/Users/jdecock/git/pub/jdhp-sap/sap-cta-data-pipeline/utils\")\n",
    "import common_functions as common\n",
    "\n",
    "from datapipe.denoising import wavelets_mrfilter as wavelets_mod\n",
    "from datapipe.benchmark import assess as assess_mod"
   ]
  },
  {
   "cell_type": "code",
   "execution_count": null,
   "metadata": {
    "collapsed": true
   },
   "outputs": [],
   "source": [
    "#dataset = \"astri_gamma\"\n",
    "#dataset = \"astri_gamma_cropped\"\n",
    "#dataset = \"astri_proton\"\n",
    "#dataset = \"astri_proton_cropped\"\n",
    "dataset = \"gct\""
   ]
  },
  {
   "cell_type": "code",
   "execution_count": null,
   "metadata": {
    "collapsed": true
   },
   "outputs": [],
   "source": [
    "ramdisk = True\n",
    "\n",
    "if ramdisk:\n",
    "    ROOT_DIR=\"/Volumes/ramdisk/data\"\n",
    "else:\n",
    "    ROOT_DIR=\"/Users/jdecock/data\"\n",
    "\n",
    "if dataset == \"astri_gamma\":\n",
    "    FITS_FILE_PATH = os.path.join(ROOT_DIR, \"astri_mini_array/fits/gamma\")\n",
    "elif dataset == \"astri_gamma_cropped\":\n",
    "    FITS_FILE_PATH = os.path.join(ROOT_DIR, \"astri_mini_array/fits_cropped/gamma\")\n",
    "elif dataset == \"astri_proton\":\n",
    "    FITS_FILE_PATH = os.path.join(ROOT_DIR, \"astri_mini_array/fits/proton\")\n",
    "elif dataset == \"astri_proton_cropped\":\n",
    "    FITS_FILE_PATH = os.path.join(ROOT_DIR, \"astri_mini_array/fits_cropped/proton\")\n",
    "elif dataset == \"gct\":\n",
    "    FITS_FILE_PATH = os.path.join(ROOT_DIR, \"gct/fits/proton\")"
   ]
  },
  {
   "cell_type": "markdown",
   "metadata": {},
   "source": [
    "### Copy input files in ramdisk to speedup processes"
   ]
  },
  {
   "cell_type": "code",
   "execution_count": null,
   "metadata": {
    "collapsed": true
   },
   "outputs": [],
   "source": [
    "#!mkdir -p /Volumes/ramdisk/data/gct/fits/proton"
   ]
  },
  {
   "cell_type": "code",
   "execution_count": null,
   "metadata": {
    "collapsed": true
   },
   "outputs": [],
   "source": [
    "#!ls /Users/jdecock/data/gct/fits/proton/group1run1000.simtel.gz_TEL001_EV003*.fits"
   ]
  },
  {
   "cell_type": "code",
   "execution_count": null,
   "metadata": {
    "collapsed": true
   },
   "outputs": [],
   "source": [
    "#!cp /Users/jdecock/data/gct/fits/proton/group1run1000.simtel.gz_TEL001_EV003*.fits /Volumes/ramdisk/data/gct/fits/proton/"
   ]
  },
  {
   "cell_type": "code",
   "execution_count": null,
   "metadata": {},
   "outputs": [],
   "source": [
    "!tree /Volumes/ramdisk/data/"
   ]
  },
  {
   "cell_type": "markdown",
   "metadata": {},
   "source": [
    "### GUI"
   ]
  },
  {
   "cell_type": "code",
   "execution_count": null,
   "metadata": {},
   "outputs": [],
   "source": [
    "if dataset in (\"astri_gamma\", \"astri_gamma_cropped\"):\n",
    "    file_path_list = [\n",
    "        os.path.join(FITS_FILE_PATH, \"run1001.simtel.gz_TEL001_EV00507.fits\"),\n",
    "        os.path.join(FITS_FILE_PATH, \"run1001.simtel.gz_TEL001_EV01909.fits\")\n",
    "        ]\n",
    "elif dataset in (\"astri_proton\", \"astri_proton_cropped\"):\n",
    "    file_path_list = [\n",
    "        os.path.join(FITS_FILE_PATH, \"run10000.simtel.gz_TEL001_EV03118.fits\"),\n",
    "        os.path.join(FITS_FILE_PATH, \"run10000.simtel.gz_TEL001_EV08001.fits\")\n",
    "        ]\n",
    "elif dataset == \"gct\":\n",
    "    file_path_list = [\n",
    "        os.path.join(FITS_FILE_PATH, \"group1run1000.simtel.gz_TEL001_EV00304.fits\"),\n",
    "        os.path.join(FITS_FILE_PATH, \"group1run1000.simtel.gz_TEL001_EV00305.fits\"),\n",
    "        os.path.join(FITS_FILE_PATH, \"group1run1000.simtel.gz_TEL001_EV00307.fits\"),\n",
    "        os.path.join(FITS_FILE_PATH, \"group1run1000.simtel.gz_TEL001_EV00316.fits\")\n",
    "        ]\n",
    "\n",
    "file_path_list"
   ]
  },
  {
   "cell_type": "code",
   "execution_count": null,
   "metadata": {
    "collapsed": true
   },
   "outputs": [],
   "source": [
    "# mr_filter options\n",
    "\n",
    "option_list = [\n",
    "    \"-K -k -C1 -m3 -n4 -s2,2.5,3,3\",\n",
    "    \"-K -k -C1 -m3 -n4 -s2,2,3,3\",\n",
    "    \"-K -k -C1 -m3 -n5 -s2,2,3,3,3\",\n",
    "    \"-K -k -C1 -m3 -n4 -s2,2,3,3 -I../astri_pixels_mask.fits -v\",\n",
    "    \"-K    -C1 -m3 -n4 -s2,2,3,3\",\n",
    "    \"-K -k -C1 -m3 -n4 -s3\",\n",
    "    \"-K    -C1 -m3 -n4 -s3\",      # Hard K-Sigma Thresholding, Poisson + Gaussian\n",
    "    #\n",
    "    \"-K -C1 -m3  -s4 -n4 -t24 -f3\",           # Suggested by Jean-Luc (TODO: try to adapt -s)\n",
    "#    \"-K -C1 -m3  -s5 -n4 -t28 -f3 -i10 -e0\",  # Suggested by Jean-Luc (TODO: try to adapt -s)\n",
    "    \"-K -C1 -m3  -s3 -n4 -f3\",\n",
    "#    \"-K -C1 -m3  -s2,2,3,3 -n4 -f3\",\n",
    "#    \"-K -C1 -m3  -s3 -n4 -f2\",  # Soft K-Sigma Thresholding, Poisson + Gaussian (deconseille par JL)\n",
    "#    \"-K -C2 -m1      -n4 -f2\",  # False Discovery Rate\n",
    "#    \"-K     -m1      -n4 -f6\",  # Wiener Filtering (min MSE between random process and desired process)\n",
    "#    \"-K -C1 -m10 -s3 -n4\",      # Poisson with few events\n",
    "#    \"-K -C1 -m2  -s3 -n4\",      # Poisson\n",
    "    ]"
   ]
  },
  {
   "cell_type": "code",
   "execution_count": null,
   "metadata": {
    "collapsed": true,
    "scrolled": true
   },
   "outputs": [],
   "source": [
    "#!mr_filter -h"
   ]
  },
  {
   "cell_type": "code",
   "execution_count": null,
   "metadata": {
    "scrolled": false
   },
   "outputs": [],
   "source": [
    "@interact(kill_pix=True,\n",
    "          hist=False,\n",
    "          log_scale=True,\n",
    "          ellipses=True,\n",
    "          lateral_hst=[\"None\", \"Wavelet\", \"Tailcut\"],\n",
    "          ref_angle=False,\n",
    "          file_path=file_path_list,\n",
    "          mrfilter=option_list)\n",
    "def gui(kill_pix, hist, log_scale, ellipses, lateral_hst, ref_angle, file_path, mrfilter):\n",
    "    fits_images_dict, fits_metadata_dict = datapipe.io.images.load_benchmark_images(file_path)\n",
    "    input_img = fits_images_dict[\"input_image\"]\n",
    "    reference_img = fits_images_dict[\"reference_image\"]\n",
    "    pixels_position = fits_images_dict[\"pixels_position\"]\n",
    "\n",
    "    fig = plt.figure(figsize=(14, 14))\n",
    "\n",
    "    common.plot_gui(fig,\n",
    "                    input_img,\n",
    "                    reference_img,\n",
    "                    pixels_position,\n",
    "                    fits_metadata_dict,\n",
    "                    wavelets_cmd=mrfilter,\n",
    "                    kill_isolated_pixels=kill_pix,\n",
    "                    plot_histogram=hist,\n",
    "                    plot_log_scale=log_scale,\n",
    "                    plot_ellipse_shower=ellipses,\n",
    "                    _plot_perpendicular_hit_distribution=lateral_hst,  # None, \"Tailcut\", \"Wavelet\"\n",
    "                    use_ref_angle_for_perpendicular_hit_distribution=ref_angle,\n",
    "                    notebook=True\n",
    "                   )"
   ]
  },
  {
   "cell_type": "markdown",
   "metadata": {},
   "source": [
    "## Tweak thresholds"
   ]
  },
  {
   "cell_type": "code",
   "execution_count": null,
   "metadata": {},
   "outputs": [],
   "source": [
    "file_path = \"/Volumes/ramdisk/data/gct/fits/proton/group1run1000.simtel.gz_TEL001_EV00307.fits\"\n",
    "fits_images_dict, fits_metadata_dict = datapipe.io.images.load_benchmark_images(file_path)\n",
    "input_img = fits_images_dict[\"input_image\"]\n",
    "reference_img = fits_images_dict[\"reference_image\"]\n",
    "pixels_position = fits_images_dict[\"pixels_position\"]\n",
    "\n",
    "wavelets = wavelets_mod.WaveletTransform()\n",
    "\n",
    "#mrfilter = \"-K -k -C1 -m3 -n5 -s{:0.2f},{:0.2f},{:0.2f},{:0.2f},{:0.2f}\"\n",
    "mrfilter_option_string = \"-K -k -C1 -m3 -n4 -s{:0.2f},{:0.2f},{:0.2f},{:0.2f}\""
   ]
  },
  {
   "cell_type": "code",
   "execution_count": null,
   "metadata": {},
   "outputs": [],
   "source": [
    "#@interact(s1=(0., 8., 0.1), s2=(0., 8., 0.1), s3=(0., 8., 0.1), s4=(0., 8., 0.1), s5=(0., 8., 0.1))\n",
    "#def gui(s1, s2, s3, s4, s5):\n",
    "\n",
    "@interact(s1=(0., 6.1, 0.1), s2=(0., 6.1, 0.1), s3=(0., 6.1, 0.1), s4=(0., 6.1, 0.1))\n",
    "def gui(s1, s2, s3, s4):\n",
    "    fig, ax = plt.subplots(figsize=(8, 8))\n",
    "    #raw_option_string = mrfilter.format(s1, s2, s3, s4, s5)\n",
    "    raw_option_string = mrfilter_option_string.format(s1, s2, s3, s4)\n",
    "    wavelets_cleaned_img = wavelets.clean_image(input_img,\n",
    "                                                kill_isolated_pixels=False,\n",
    "                                                verbose=True,\n",
    "                                                raw_option_string=raw_option_string)\n",
    "\n",
    "    psi_ref = datapipe.image.hillas_parameters.get_hillas_parameters(reference_img).psi\n",
    "    psi_cln = datapipe.image.hillas_parameters.get_hillas_parameters(wavelets_cleaned_img).psi\n",
    "    print(\"ref:\", psi_ref)\n",
    "    print(\"cln:\", psi_cln)\n",
    "    print(\"delta:\", abs(psi_ref - psi_cln))\n",
    "\n",
    "    #common.plot_image_meter(axis=ax, image_array=wavelets_cleaned_img, pixels_position=pixels_position, title=\"\")   \n",
    "    plt.imshow(wavelets_cleaned_img, interpolation='nearest', cmap='gnuplot2')"
   ]
  },
  {
   "cell_type": "code",
   "execution_count": null,
   "metadata": {
    "collapsed": true
   },
   "outputs": [],
   "source": []
  },
  {
   "cell_type": "code",
   "execution_count": null,
   "metadata": {
    "collapsed": true
   },
   "outputs": [],
   "source": []
  },
  {
   "cell_type": "code",
   "execution_count": null,
   "metadata": {
    "collapsed": true
   },
   "outputs": [],
   "source": []
  },
  {
   "cell_type": "code",
   "execution_count": null,
   "metadata": {
    "collapsed": true
   },
   "outputs": [],
   "source": []
  },
  {
   "cell_type": "code",
   "execution_count": null,
   "metadata": {
    "collapsed": true
   },
   "outputs": [],
   "source": []
  },
  {
   "cell_type": "code",
   "execution_count": null,
   "metadata": {
    "collapsed": true
   },
   "outputs": [],
   "source": []
  },
  {
   "cell_type": "code",
   "execution_count": null,
   "metadata": {
    "collapsed": true
   },
   "outputs": [],
   "source": []
  },
  {
   "cell_type": "code",
   "execution_count": null,
   "metadata": {
    "collapsed": true
   },
   "outputs": [],
   "source": []
  },
  {
   "cell_type": "code",
   "execution_count": null,
   "metadata": {
    "collapsed": true
   },
   "outputs": [],
   "source": []
  }
 ],
 "metadata": {
  "anaconda-cloud": {},
  "kernelspec": {
   "display_name": "Python [conda env:cta]",
   "language": "python",
   "name": "conda-env-cta-py"
  },
  "language_info": {
   "codemirror_mode": {
    "name": "ipython",
    "version": 3
   },
   "file_extension": ".py",
   "mimetype": "text/x-python",
   "name": "python",
   "nbconvert_exporter": "python",
   "pygments_lexer": "ipython3",
   "version": "3.5.2"
  },
  "widgets": {
   "state": {
    "30cb2295442d4fdfa9d49b2abe7b1104": {
     "views": [
      {
       "cell_index": 6
      }
     ]
    }
   },
   "version": "1.2.0"
  }
 },
 "nbformat": 4,
 "nbformat_minor": 1
}
