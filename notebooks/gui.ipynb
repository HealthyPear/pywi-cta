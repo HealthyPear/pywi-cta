{
 "cells": [
  {
   "cell_type": "code",
   "execution_count": null,
   "metadata": {
    "collapsed": false,
    "scrolled": false
   },
   "outputs": [],
   "source": [
    "%matplotlib inline\n",
    "\n",
    "import matplotlib\n",
    "matplotlib.rcParams['figure.figsize'] = (6, 6)\n",
    "\n",
    "import math\n",
    "import cmath          # math functions for complex numbers\n",
    "import numpy as np\n",
    "import matplotlib.pyplot as plt\n",
    "\n",
    "from matplotlib.colors import LogNorm\n",
    "\n",
    "import scipy\n",
    "import scipy.stats\n",
    "import pandas as pd\n",
    "\n",
    "from astropy.io import fits\n",
    "import os.path\n",
    "\n",
    "import ipywidgets\n",
    "from ipywidgets import interact\n",
    "\n",
    "import sys\n",
    "sys.path.append(\"/Users/jdecock/git/pub/jdhp-sap/sap-cta-data-pipeline/datapipe\")\n",
    "import datapipe\n",
    "import datapipe.denoising.wavelets_mrfilter as mrfilter\n",
    "\n",
    "sys.path.append(\"/Users/jdecock/git/pub/jdhp-sap/sap-cta-data-pipeline\")\n",
    "sys.path.append(\"/Users/jdecock/git/pub/jdhp-sap/sap-cta-data-pipeline/utils\")\n",
    "import common_functions as common"
   ]
  },
  {
   "cell_type": "markdown",
   "metadata": {},
   "source": [
    "### GUI"
   ]
  },
  {
   "cell_type": "code",
   "execution_count": null,
   "metadata": {
    "collapsed": true
   },
   "outputs": [],
   "source": [
    "file_path_list = [\n",
    "    \"/Users/jdecock/data/astri_mini_array/fits/gamma/run1001.simtel.gz_TEL001_EV00507.fits\",\n",
    "    \"/Users/jdecock/data/astri_mini_array/fits/gamma/run1001.simtel.gz_TEL001_EV01909.fits\"\n",
    "    ]"
   ]
  },
  {
   "cell_type": "code",
   "execution_count": null,
   "metadata": {
    "collapsed": true
   },
   "outputs": [],
   "source": [
    "# gamma 10000 - 50000 (electronic saturation!)\n",
    "file_path_list = [\n",
    "    \"/Users/jdecock/data/astri_mini_array/fits/gamma/run1001.simtel.gz_TEL033_EV131901.fits\",\n",
    "    \"/Users/jdecock/data/astri_mini_array/fits/gamma/run1001.simtel.gz_TEL012_EV131903.fits\",\n",
    "    \"/Users/jdecock/data/astri_mini_array/fits/gamma/run1001.simtel.gz_TEL030_EV131907.fits\",\n",
    "    \"/Users/jdecock/data/astri_mini_array/fits/gamma/run1001.simtel.gz_TEL030_EV131908.fits\",\n",
    "    \"/Users/jdecock/data/astri_mini_array/fits/gamma/run1001.simtel.gz_TEL031_EV311808.fits\"\n",
    "    ]"
   ]
  },
  {
   "cell_type": "code",
   "execution_count": null,
   "metadata": {
    "collapsed": true
   },
   "outputs": [],
   "source": [
    "# gamma 1000 - 10000\n",
    "file_path_list = [\n",
    "    \"/Users/jdecock/data/astri_mini_array/fits/gamma/run1001.simtel.gz_TEL001_EV126402.fits\",\n",
    "    \"/Users/jdecock/data/astri_mini_array/fits/gamma/run1001.simtel.gz_TEL001_EV131305.fits\",\n",
    "    \"/Users/jdecock/data/astri_mini_array/fits/gamma/run1001.simtel.gz_TEL001_EV182506.fits\",\n",
    "    \"/Users/jdecock/data/astri_mini_array/fits/gamma/run1001.simtel.gz_TEL001_EV225002.fits\",\n",
    "    \"/Users/jdecock/data/astri_mini_array/fits/gamma/run1001.simtel.gz_TEL001_EV26603.fits\",\n",
    "    \"/Users/jdecock/data/astri_mini_array/fits/gamma/run1001.simtel.gz_TEL001_EV458108.fits\",\n",
    "    \"/Users/jdecock/data/astri_mini_array/fits/gamma/run1001.simtel.gz_TEL001_EV483109.fits\",\n",
    "    \"/Users/jdecock/data/astri_mini_array/fits/gamma/run1001.simtel.gz_TEL001_EV62605.fits\"\n",
    "    ]"
   ]
  },
  {
   "cell_type": "code",
   "execution_count": null,
   "metadata": {
    "collapsed": false
   },
   "outputs": [],
   "source": [
    "# gamma 50 - 1000\n",
    "\n",
    "file_path_list = [\n",
    "    \"/Users/jdecock/data/astri_mini_array/fits/gamma/run1001.simtel.gz_TEL001_EV155601.fits\",\n",
    "    \"/Users/jdecock/data/astri_mini_array/fits/gamma/run1001.simtel.gz_TEL001_EV193406.fits\",\n",
    "    \"/Users/jdecock/data/astri_mini_array/fits/gamma/run1001.simtel.gz_TEL001_EV347307.fits\",\n",
    "    \"/Users/jdecock/data/astri_mini_array/fits/gamma/run1001.simtel.gz_TEL001_EV427404.fits\",\n",
    "    \"/Users/jdecock/data/astri_mini_array/fits/gamma/run1001.simtel.gz_TEL001_EV450207.fits\",\n",
    "    \"/Users/jdecock/data/astri_mini_array/fits/gamma/run1001.simtel.gz_TEL001_EV454807.fits\",\n",
    "    \"/Users/jdecock/data/astri_mini_array/fits/gamma/run1001.simtel.gz_TEL001_EV48104.fits\",\n",
    "    \"/Users/jdecock/data/astri_mini_array/fits/gamma/run1001.simtel.gz_TEL001_EV58000.fits\"\n",
    "    ]"
   ]
  },
  {
   "cell_type": "code",
   "execution_count": null,
   "metadata": {
    "collapsed": true
   },
   "outputs": [],
   "source": [
    "# mr_filter options\n",
    "\n",
    "option_list = [\n",
    "    \"-K -C1 -m3  -s4 -n4 -t24 -f3\",           # Suggested by Jean-Luc (TODO: try to adapt -s)\n",
    "#    \"-K -C1 -m3  -s5 -n4 -t28 -f3 -i10 -e0\",  # Suggested by Jean-Luc (TODO: try to adapt -s)\n",
    "    \"-K -C1 -m3  -s3 -n4\",      # Hard K-Sigma Thresholding, Poisson + Gaussian\n",
    "    \"-K -C1 -m3  -s3 -n4 -f3\",\n",
    "#    \"-K -C1 -m3  -s2,2,3,3 -n4 -f3\",\n",
    "    \"-K -C1 -m3  -s2,2,3,3 -n4\",\n",
    "#    \"-K -C1 -m3  -s3 -n4 -f2\",  # Soft K-Sigma Thresholding, Poisson + Gaussian (deconseille par JL)\n",
    "#    \"-K -C2 -m1      -n4 -f2\",  # False Discovery Rate\n",
    "#    \"-K     -m1      -n4 -f6\",  # Wiener Filtering (min MSE between random process and desired process)\n",
    "#    \"-K -C1 -m10 -s3 -n4\",      # Poisson with few events\n",
    "#    \"-K -C1 -m2  -s3 -n4\",      # Poisson\n",
    "    ]"
   ]
  },
  {
   "cell_type": "code",
   "execution_count": null,
   "metadata": {
    "collapsed": false
   },
   "outputs": [],
   "source": [
    "!mr_filter -h"
   ]
  },
  {
   "cell_type": "code",
   "execution_count": null,
   "metadata": {
    "collapsed": false
   },
   "outputs": [],
   "source": [
    "@interact(kill_pix=True, hist=False, log_scale=True, ellipses=True, lateral_hst=[\"Wavelet\", \"Tailcut\", None], ref_angle=False, file_path=file_path_list, mrfilter=option_list)\n",
    "def gui(kill_pix, hist, log_scale, ellipses, lateral_hst, ref_angle, file_path, mrfilter):\n",
    "    fits_images_dict, fits_metadata_dict = datapipe.io.images.load_benchmark_images(file_path)\n",
    "    input_img = fits_images_dict[\"input_image\"]\n",
    "    reference_img = fits_images_dict[\"reference_image\"]\n",
    "    pixels_position = fits_images_dict[\"pixels_position\"]\n",
    "\n",
    "    fig = plt.figure(figsize=(14, 14))\n",
    "\n",
    "    common.plot_gui(fig,\n",
    "                    input_img,\n",
    "                    reference_img,\n",
    "                    pixels_position,\n",
    "                    fits_metadata_dict,\n",
    "                    wavelets_cmd=mrfilter,\n",
    "                    kill_isolated_pixels=kill_pix,\n",
    "                    plot_histogram=hist,\n",
    "                    plot_log_scale=log_scale,\n",
    "                    plot_ellipse_shower=ellipses,\n",
    "                    _plot_perpendicular_hit_distribution=lateral_hst,  # None, \"Tailcut\", \"Wavelet\"\n",
    "                    use_ref_angle_for_perpendicular_hit_distribution=ref_angle,\n",
    "                    notebook=True\n",
    "                   )"
   ]
  },
  {
   "cell_type": "code",
   "execution_count": null,
   "metadata": {
    "collapsed": true
   },
   "outputs": [],
   "source": []
  }
 ],
 "metadata": {
  "anaconda-cloud": {},
  "kernelspec": {
   "display_name": "Python [conda env:cta]",
   "language": "python",
   "name": "conda-env-cta-py"
  },
  "language_info": {
   "codemirror_mode": {
    "name": "ipython",
    "version": 3
   },
   "file_extension": ".py",
   "mimetype": "text/x-python",
   "name": "python",
   "nbconvert_exporter": "python",
   "pygments_lexer": "ipython3",
   "version": "3.5.2"
  }
 },
 "nbformat": 4,
 "nbformat_minor": 1
}
