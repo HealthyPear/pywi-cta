{
 "cells": [
  {
   "cell_type": "code",
   "execution_count": null,
   "metadata": {
    "collapsed": true
   },
   "outputs": [],
   "source": [
    "%matplotlib inline\n",
    "\n",
    "import numpy as np\n",
    "import matplotlib.pyplot as plt"
   ]
  },
  {
   "cell_type": "code",
   "execution_count": null,
   "metadata": {
    "collapsed": false
   },
   "outputs": [],
   "source": [
    "img = np.array([[np.nan, 0, 0, 0, 0, 0, 0, 0, np.nan],\n",
    "                [0,      0, 0, 0, 0, 0, 0, 0, 0],\n",
    "                [0,      0, 0, 0, 0, 0, 0, 0, 0],\n",
    "                [0,      0, 0, 1, 1, 0, 0, 0, 0],\n",
    "                [0,      0, 0, 1, 1, 0, np.nan, 0, 0],\n",
    "                [0,      0, 0, 1, 1, 0, 0, 0, 0],\n",
    "                [0,      0, 0, 0, 0, 0, 0, 0, 0],\n",
    "                [0,      0, 0, 0, 0, 0, 0, 0, 0],\n",
    "                [np.nan, 0, 0, 0, 0, 0, 0, 0, np.nan]])"
   ]
  },
  {
   "cell_type": "code",
   "execution_count": null,
   "metadata": {
    "collapsed": false
   },
   "outputs": [],
   "source": [
    "res = []\n",
    "\n",
    "# make a bigger array\n",
    "em = np.zeros(np.array(img.shape) + 2)\n",
    "em = em.astype(\"bool\")\n",
    "em[1:-1,1:-1] = np.isfinite(img)\n",
    "\n",
    "res.append(np.nansum(img[em[1:-1,1:-1]]))\n",
    "\n",
    "while em.any():\n",
    "    emt = em.copy()\n",
    "    \n",
    "    # \"shrink\" the \"True\" area in the mask by moving it in all directions, taking the logical 'AND'\n",
    "    em[1:  ,1:]   &= emt[0:-1,0:-1]\n",
    "    em[0:-1,0:-1] &= emt[1:,1:]\n",
    "    em[1:  ,0:-1] &= emt[0:-1,1:]\n",
    "    em[0:-1,1:]   &= emt[1:,0:-1]\n",
    "    \n",
    "    em[0:-1,:]    &= emt[1:  ,:]\n",
    "    em[1:  ,:]    &= emt[0:-1,:]\n",
    "    em[:   ,0:-1] &= emt[:   ,1:]\n",
    "    em[:   ,1:]   &= emt[:   ,0:-1]\n",
    "\n",
    "    # Get the pixel sum of the shrinked image\n",
    "    res.append(np.nansum(img[em[1:-1,1:-1]]))\n",
    "    \n",
    "    fig, (ax1, ax2) = plt.subplots(ncols=2)\n",
    "    ax1.imshow(em[1:-1,1:-1], interpolation=\"nearest\", cmap=\"gray\")\n",
    "    ax2.imshow(img.astype(\"bool\") & em[1:-1,1:-1], interpolation=\"nearest\", cmap=\"gray\")\n",
    "\n",
    "print(res)"
   ]
  }
 ],
 "metadata": {
  "anaconda-cloud": {},
  "kernelspec": {
   "display_name": "Python [default]",
   "language": "python",
   "name": "python3"
  },
  "language_info": {
   "codemirror_mode": {
    "name": "ipython",
    "version": 3
   },
   "file_extension": ".py",
   "mimetype": "text/x-python",
   "name": "python",
   "nbconvert_exporter": "python",
   "pygments_lexer": "ipython3",
   "version": "3.5.2"
  }
 },
 "nbformat": 4,
 "nbformat_minor": 1
}
