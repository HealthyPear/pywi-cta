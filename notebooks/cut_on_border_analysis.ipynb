{
 "cells": [
  {
   "cell_type": "code",
   "execution_count": null,
   "metadata": {
    "collapsed": false
   },
   "outputs": [],
   "source": [
    "#%matplotlib notebook\n",
    "%matplotlib inline\n",
    "\n",
    "import matplotlib\n",
    "matplotlib.rcParams['figure.figsize'] = (12, 9)\n",
    "\n",
    "import scipy\n",
    "import scipy.stats\n",
    "import math\n",
    "import numpy as np\n",
    "import pandas as pd\n",
    "\n",
    "#import ipywidgets\n",
    "#from ipywidgets import interact"
   ]
  },
  {
   "cell_type": "markdown",
   "metadata": {},
   "source": [
    "## Cut images with signal on borders"
   ]
  },
  {
   "cell_type": "markdown",
   "metadata": {},
   "source": [
    "Definitions:\n",
    "* border > 0 (\"contenu\")\n",
    "* border == 0 (\"non contenu\")\n",
    "\n",
    "Follow this: https://github.com/jdhp-sap/tino_cta#edge-rejection"
   ]
  },
  {
   "cell_type": "code",
   "execution_count": null,
   "metadata": {
    "collapsed": false
   },
   "outputs": [],
   "source": [
    "CSV_FILE_PATH = \"../xps/best.csv\"\n",
    "\n",
    "#WAVELET_LABEL = \"WT-K-k-C1-m3-n4-s3\"\n",
    "WAVELET_LABEL = \"WT-K-k-C1-m3-n4-s2-2-3-3\"\n",
    "\n",
    "TAILCUT_LABEL = \"Tailcut-5-10\"\n",
    "\n",
    "PART = 0         # 0 for gamma, 1 for protons\n",
    "\n",
    "FAINT_BRIGHT_BORDER = 100\n",
    "\n",
    "full_df = pd.read_csv(CSV_FILE_PATH)\n",
    "\n",
    "ref = full_df[full_df.Type == 'Ref']\n",
    "ref = ref[ref.Part == PART]\n",
    "\n",
    "tc = full_df[full_df.Type == TAILCUT_LABEL]\n",
    "tc = tc[tc.Part == PART]\n",
    "\n",
    "wt = full_df[full_df.Type == WAVELET_LABEL]\n",
    "wt = wt[wt.Part == PART]\n",
    "\n",
    "tc_wt = pd.merge(tc, wt, on=\"Id\", how=\"outer\", suffixes=('_tc', '_wt'))  #.dropna(how='any')\n",
    "df = pd.merge(tc_wt, ref, on=\"Id\", how=\"outer\")\n",
    "\n",
    "df[\"delta_tc\"] = np.fmod(((df['hPsi'] - df['hPsi_tc']) * 180. / np.pi), 90.)\n",
    "df[\"delta_wt\"] = np.fmod(((df['hPsi'] - df['hPsi_wt']) * 180. / np.pi), 90.)\n",
    "\n",
    "df.delta_tc = abs(df.delta_tc)\n",
    "df.delta_wt = abs(df.delta_wt)\n",
    "\n",
    "dfi = df[df.border >  0]\n",
    "dfo = df[df.border == 0]"
   ]
  },
  {
   "cell_type": "code",
   "execution_count": null,
   "metadata": {
    "collapsed": false
   },
   "outputs": [],
   "source": [
    "df.columns\n",
    "#df.groupby([\"Type\",\"Part\",\"Success\"]).count()\n",
    "#df.groupby([\"Type\",\"Part\"]).describe()"
   ]
  },
  {
   "cell_type": "code",
   "execution_count": null,
   "metadata": {
    "collapsed": false,
    "scrolled": true
   },
   "outputs": [],
   "source": [
    "print(\"{} images contained, {} not contained\".format(len(dfi), len(dfo)))"
   ]
  },
  {
   "cell_type": "markdown",
   "metadata": {},
   "source": [
    "### NPE on cleaned image"
   ]
  },
  {
   "cell_type": "code",
   "execution_count": null,
   "metadata": {
    "collapsed": false,
    "scrolled": false
   },
   "outputs": [],
   "source": [
    "fig, ax = plt.subplots()\n",
    "\n",
    "dfi['peSum'].plot.hist(alpha=0.2,  bottom=0.1,\n",
    "                       bins=np.logspace(0.1, 6., 200),\n",
    "                       label=\"contained ({})\".format(len(dfi)), legend=True)\n",
    "dfo['peSum'].plot.hist(alpha=0.2,  bottom=0.1,\n",
    "                       bins=np.logspace(0.1, 6., 200),\n",
    "                       label=\"not contained ({})\".format(len(dfo)), legend=True)\n",
    "\n",
    "ax.axvline(x=50, linewidth=2, linestyle='--', color='black', alpha=0.5)\n",
    "ax.axvline(x=2000, linewidth=2, linestyle='--', color='black', alpha=0.5)\n",
    "ax.axvline(x=FAINT_BRIGHT_BORDER, linewidth=2, linestyle=':', color='black', alpha=0.5)\n",
    "\n",
    "ax.set_xscale('log')\n",
    "\n",
    "ax.set_title(\"Ref.\", fontsize=20)"
   ]
  },
  {
   "cell_type": "markdown",
   "metadata": {},
   "source": [
    "CCL:\n",
    "\n",
    "* more images on border (*not contained images*) at high energy"
   ]
  },
  {
   "cell_type": "markdown",
   "metadata": {},
   "source": [
    "## Analysis of the energy estimator bias"
   ]
  },
  {
   "cell_type": "markdown",
   "metadata": {},
   "source": [
    "### PEmax VS PEsum for Ref."
   ]
  },
  {
   "cell_type": "code",
   "execution_count": null,
   "metadata": {
    "collapsed": false,
    "scrolled": false
   },
   "outputs": [],
   "source": [
    "fig, ax = plt.subplots()\n",
    "\n",
    "ax.plot(dfi['peMax1'], dfi['peSum'], '.b', alpha=0.3, label=\"contained ({})\".format(len(dfi)))\n",
    "ax.plot(dfo['peMax1'], dfo['peSum'], '.r', alpha=0.3, label=\"not contained ({})\".format(len(dfo)))\n",
    "\n",
    "ax.axhline(y=50, linewidth=2, linestyle='--', color='black', alpha=0.5)\n",
    "ax.axhline(y=2000, linewidth=2, linestyle='--', color='black', alpha=0.5)\n",
    "ax.axhline(y=FAINT_BRIGHT_BORDER, linewidth=2, linestyle=':', color='black', alpha=0.5)\n",
    "\n",
    "ax.set_yscale('log')\n",
    "ax.set_xscale('log')\n",
    "\n",
    "ax.set_xlabel(\"pe max\", fontsize=20)\n",
    "ax.set_ylabel(\"pe sum\", fontsize=20)\n",
    "\n",
    "ax.legend(prop={'size': 11}, loc='best', fancybox=True, framealpha=0.5)\n",
    "\n",
    "ax.set_title(\"PEmax VS PEsum for Ref.\", fontsize=20)"
   ]
  },
  {
   "cell_type": "code",
   "execution_count": null,
   "metadata": {
    "collapsed": false
   },
   "outputs": [],
   "source": [
    "fig, ax = plt.subplots()\n",
    "\n",
    "x1, y1 = dfi['peMax1'], dfi['peSum']\n",
    "x2, y2 = dfo['peMax1'], dfo['peSum']\n",
    "\n",
    "xbins = np.logspace(0, 4, 30)\n",
    "ybins = np.logspace(0, 5, 30)\n",
    "\n",
    "counts1, xedges, yedges = np.histogram2d(x1, y1, bins=(xbins, ybins))\n",
    "counts2, xedges, yedges = np.histogram2d(x2, y2, bins=(xbins, ybins))\n",
    "\n",
    "max_value = max(np.max(counts1), np.max(counts2))\n",
    "\n",
    "#levels = np.arange(10, 60, 10)\n",
    "levels = np.array([0.01*max_value, 0.3*max_value, 0.5*max_value])\n",
    "\n",
    "cs1 = plt.contour(xedges[:-1], yedges[:-1], counts1.T, levels,\n",
    "                  linewidths=(2, 2, 3), linestyles=('dotted', 'dashed', 'solid'),\n",
    "                  alpha=0.5, colors='blue', label=\"Ref\")\n",
    "ax.clabel(cs1, inline=False, fontsize=12)\n",
    "\n",
    "cs2 = plt.contour(xedges[:-1], yedges[:-1], counts2.T, levels,\n",
    "                  linewidths=(2, 2, 3), linestyles=('dotted', 'dashed', 'solid'),\n",
    "                  alpha=0.5, colors='red', label=\"Ref\")\n",
    "ax.clabel(cs2, inline=False, fontsize=12)\n",
    "\n",
    "ax.axhline(y=50, linewidth=2, linestyle='--', color='black', alpha=0.5)\n",
    "ax.axhline(y=2000, linewidth=2, linestyle='--', color='black', alpha=0.5)\n",
    "ax.axhline(y=FAINT_BRIGHT_BORDER, linewidth=2, linestyle=':', color='black', alpha=0.5)\n",
    "\n",
    "#ax.set_xlim(1e-2, 1e1)\n",
    "#ax.set_ylim(1e0, 1e5)\n",
    "\n",
    "ax.set_yscale('log')\n",
    "ax.set_xscale('log')\n",
    "\n",
    "ax.set_xlabel(\"pe max\", fontsize=20)\n",
    "ax.set_ylabel(\"pe sum\", fontsize=20)\n",
    "\n",
    "lines = [ cs1.collections[0], cs2.collections[0]]\n",
    "labels = [\"contained ({})\".format(len(dfi)), \"not contained ({})\".format(len(dfo))]\n",
    "ax.legend(lines, labels, prop={'size': 14}, loc='best', fancybox=True, framealpha=0.5)\n",
    "\n",
    "ax.set_title(\"PEmax VS PEsum for Ref.\", fontsize=20)"
   ]
  },
  {
   "cell_type": "markdown",
   "metadata": {},
   "source": [
    "### nPix VS PEsum for Ref."
   ]
  },
  {
   "cell_type": "code",
   "execution_count": null,
   "metadata": {
    "collapsed": false,
    "scrolled": false
   },
   "outputs": [],
   "source": [
    "fig, ax = plt.subplots()\n",
    "\n",
    "ax.plot(dfi['nPix'], dfi['peSum'], '.b', alpha=0.3, label=\"contained ({})\".format(len(dfi)))\n",
    "ax.plot(dfo['nPix'], dfo['peSum'], '.r', alpha=0.3, label=\"not contained ({})\".format(len(dfo)))\n",
    "\n",
    "ax.axhline(y=50, linewidth=2, linestyle='--', color='black', alpha=0.5)\n",
    "ax.axhline(y=2000, linewidth=2, linestyle='--', color='black', alpha=0.5)\n",
    "ax.axhline(y=FAINT_BRIGHT_BORDER, linewidth=2, linestyle=':', color='black', alpha=0.5)\n",
    "\n",
    "ax.set_yscale('log')\n",
    "ax.set_xscale('log')\n",
    "\n",
    "ax.set_xlabel(\"num pixels > 0\", fontsize=20)\n",
    "ax.set_ylabel(\"pe sum\", fontsize=20)\n",
    "\n",
    "ax.legend(prop={'size': 11}, loc='best', fancybox=True, framealpha=0.5)\n",
    "\n",
    "ax.set_title(\"NumPix>0 VS PEsum for Ref.\", fontsize=20)"
   ]
  },
  {
   "cell_type": "code",
   "execution_count": null,
   "metadata": {
    "collapsed": false
   },
   "outputs": [],
   "source": [
    "fig, ax = plt.subplots()\n",
    "\n",
    "x1, y1 = dfi['nPix'], dfi['peSum']\n",
    "x2, y2 = dfo['nPix'], dfo['peSum']\n",
    "\n",
    "xbins = np.logspace(0, 3, 30)\n",
    "ybins = np.logspace(0, 5, 30)\n",
    "\n",
    "counts1, xedges, yedges = np.histogram2d(x1, y1, bins=(xbins, ybins))\n",
    "counts2, xedges, yedges = np.histogram2d(x2, y2, bins=(xbins, ybins))\n",
    "\n",
    "max_value = max(np.max(counts1), np.max(counts2))\n",
    "\n",
    "#levels = np.arange(10, 60, 10)\n",
    "levels = np.array([0.01*max_value, 0.3*max_value, 0.5*max_value])\n",
    "\n",
    "cs1 = plt.contour(xedges[:-1], yedges[:-1], counts1.T, levels,\n",
    "                  linewidths=(2, 2, 3), linestyles=('dotted', 'dashed', 'solid'),\n",
    "                  alpha=0.5, colors='blue', label=\"Ref\")\n",
    "ax.clabel(cs1, inline=False, fontsize=12)\n",
    "\n",
    "cs2 = plt.contour(xedges[:-1], yedges[:-1], counts2.T, levels,\n",
    "                  linewidths=(2, 2, 3), linestyles=('dotted', 'dashed', 'solid'),\n",
    "                  alpha=0.5, colors='red', label=\"Ref\")\n",
    "ax.clabel(cs2, inline=False, fontsize=12)\n",
    "\n",
    "ax.axhline(y=50, linewidth=2, linestyle='--', color='black', alpha=0.5)\n",
    "ax.axhline(y=2000, linewidth=2, linestyle='--', color='black', alpha=0.5)\n",
    "ax.axhline(y=FAINT_BRIGHT_BORDER, linewidth=2, linestyle=':', color='black', alpha=0.5)\n",
    "\n",
    "#ax.set_xlim(1e-2, 1e1)\n",
    "#ax.set_ylim(1e0, 1e5)\n",
    "\n",
    "ax.set_yscale('log')\n",
    "ax.set_xscale('log')\n",
    "\n",
    "ax.set_xlabel(\"num pixels > 0\", fontsize=20)\n",
    "ax.set_ylabel(\"pe sum\", fontsize=20)\n",
    "\n",
    "lines = [ cs1.collections[0], cs2.collections[0]]\n",
    "labels = [\"contained ({})\".format(len(dfi)), \"not contained ({})\".format(len(dfo))]\n",
    "ax.legend(lines, labels, prop={'size': 14}, loc='best', fancybox=True, framealpha=0.5)\n",
    "\n",
    "ax.set_title(\"NumPix>0 VS PEsum for Ref.\", fontsize=20)"
   ]
  },
  {
   "cell_type": "markdown",
   "metadata": {},
   "source": [
    "### (Hillas length / Hillas width) VS PEsum for Ref."
   ]
  },
  {
   "cell_type": "code",
   "execution_count": null,
   "metadata": {
    "collapsed": false,
    "scrolled": false
   },
   "outputs": [],
   "source": [
    "fig, ax = plt.subplots()\n",
    "\n",
    "ax.plot(dfi['hLength']/dfi['hWidth'], dfi['peSum'], '.b', alpha=0.3, label=\"contained ({})\".format(len(dfi)))\n",
    "ax.plot(dfo['hLength']/dfo['hWidth'], dfo['peSum'], '.r', alpha=0.3, label=\"not contained ({})\".format(len(dfo)))\n",
    "\n",
    "ax.axhline(y=50, linewidth=2, linestyle='--', color='black', alpha=0.5)\n",
    "ax.axhline(y=2000, linewidth=2, linestyle='--', color='black', alpha=0.5)\n",
    "ax.axhline(y=FAINT_BRIGHT_BORDER, linewidth=2, linestyle=':', color='black', alpha=0.5)\n",
    "\n",
    "ax.set_yscale('log')\n",
    "#ax.set_xscale('log')\n",
    "\n",
    "ax.set_xlabel(\"Hillas length / Hillas width\", fontsize=20)\n",
    "ax.set_ylabel(\"pe sum\", fontsize=20)\n",
    "\n",
    "ax.legend(prop={'size': 11}, loc='best', fancybox=True, framealpha=0.5)\n",
    "\n",
    "ax.set_title(\"(Hillas length / Hillas width) VS PEsum for Ref.\", fontsize=20)"
   ]
  },
  {
   "cell_type": "code",
   "execution_count": null,
   "metadata": {
    "collapsed": false
   },
   "outputs": [],
   "source": [
    "fig, ax = plt.subplots()\n",
    "\n",
    "x1, y1 = dfi['hLength']/dfi['hWidth'], dfi['peSum']\n",
    "x2, y2 = dfo['hLength']/dfo['hWidth'], dfo['peSum']\n",
    "\n",
    "xbins = np.linspace(1, 7, 30)\n",
    "ybins = np.logspace(0, 5, 30)\n",
    "\n",
    "counts1, xedges, yedges = np.histogram2d(x1, y1, bins=(xbins, ybins))\n",
    "counts2, xedges, yedges = np.histogram2d(x2, y2, bins=(xbins, ybins))\n",
    "\n",
    "max_value = max(np.max(counts1), np.max(counts2))\n",
    "\n",
    "#levels = np.arange(10, 60, 10)\n",
    "levels = np.array([0.01*max_value, 0.3*max_value, 0.5*max_value])\n",
    "\n",
    "cs1 = plt.contour(xedges[:-1], yedges[:-1], counts1.T, levels,\n",
    "                  linewidths=(2, 2, 3), linestyles=('dotted', 'dashed', 'solid'),\n",
    "                  alpha=0.5, colors='blue', label=\"Ref\")\n",
    "ax.clabel(cs1, inline=False, fontsize=12)\n",
    "\n",
    "cs2 = plt.contour(xedges[:-1], yedges[:-1], counts2.T, levels,\n",
    "                  linewidths=(2, 2, 3), linestyles=('dotted', 'dashed', 'solid'),\n",
    "                  alpha=0.5, colors='red', label=\"Ref\")\n",
    "ax.clabel(cs2, inline=False, fontsize=12)\n",
    "\n",
    "ax.axhline(y=50, linewidth=2, linestyle='--', color='black', alpha=0.5)\n",
    "ax.axhline(y=2000, linewidth=2, linestyle='--', color='black', alpha=0.5)\n",
    "ax.axhline(y=FAINT_BRIGHT_BORDER, linewidth=2, linestyle=':', color='black', alpha=0.5)\n",
    "\n",
    "#ax.set_xlim(1e-2, 1e1)\n",
    "#ax.set_ylim(1e0, 1e5)\n",
    "\n",
    "ax.set_yscale('log')\n",
    "#ax.set_xscale('log')\n",
    "\n",
    "ax.set_xlabel(\"Hillas length / Hillas width\", fontsize=20)\n",
    "ax.set_ylabel(\"pe sum\", fontsize=20)\n",
    "\n",
    "lines = [ cs1.collections[0], cs2.collections[0]]\n",
    "labels = [\"contained ({})\".format(len(dfi)), \"not contained ({})\".format(len(dfo))]\n",
    "ax.legend(lines, labels, prop={'size': 14}, loc='best', fancybox=True, framealpha=0.5)\n",
    "\n",
    "ax.set_title(\"(Hillas length / Hillas width) VS PEsum for Ref.\", fontsize=20)"
   ]
  },
  {
   "cell_type": "markdown",
   "metadata": {},
   "source": [
    "### Analysis"
   ]
  },
  {
   "cell_type": "markdown",
   "metadata": {},
   "source": [
    "Contained images are a bit less ellongated."
   ]
  },
  {
   "cell_type": "markdown",
   "metadata": {},
   "source": [
    "## Epsilon energy"
   ]
  },
  {
   "cell_type": "markdown",
   "metadata": {},
   "source": [
    "### Tailcut"
   ]
  },
  {
   "cell_type": "code",
   "execution_count": null,
   "metadata": {
    "collapsed": false,
    "scrolled": false
   },
   "outputs": [],
   "source": [
    "fig, ax = plt.subplots()\n",
    "\n",
    "ax.plot(dfi['Denergy_tc'], dfi['peSum_tc'], '.b', alpha=0.3, label=\"contained ({})\".format(len(dfi)))\n",
    "ax.plot(dfo['Denergy_tc'], dfo['peSum_tc'], '.r', alpha=0.3, label=\"not contained ({})\".format(len(dfo)))\n",
    "\n",
    "ax.axhline(y=50, linewidth=2, linestyle='--', color='black', alpha=0.5)\n",
    "ax.axhline(y=2000, linewidth=2, linestyle='--', color='black', alpha=0.5)\n",
    "ax.axhline(y=FAINT_BRIGHT_BORDER, linewidth=2, linestyle=':', color='black', alpha=0.5)\n",
    "\n",
    "ax.set_yscale('log')\n",
    "ax.set_xscale('log')\n",
    "\n",
    "ax.set_xlabel(r\"$\\mathcal{E}$ energy\", fontsize=20)\n",
    "ax.set_ylabel(\"npe\", fontsize=20)\n",
    "\n",
    "ax.set_xlim(1e-4, 1e1)\n",
    "ax.set_ylim(1e0, 1e5)\n",
    "\n",
    "ax.legend(prop={'size': 11}, loc='best', fancybox=True, framealpha=0.5)\n",
    "\n",
    "ax.set_title(r\"$\\mathcal{E}$ energy for \" + TAILCUT_LABEL, fontsize=20)"
   ]
  },
  {
   "cell_type": "code",
   "execution_count": null,
   "metadata": {
    "collapsed": false
   },
   "outputs": [],
   "source": [
    "fig, ax = plt.subplots()\n",
    "\n",
    "x1, y1 = dfi['Denergy_tc'], dfi['peSum_tc']\n",
    "x2, y2 = dfo['Denergy_tc'], dfo['peSum_tc']\n",
    "\n",
    "xbins = np.logspace(-3, 1, 30)\n",
    "ybins = np.logspace(0, 5, 30)\n",
    "\n",
    "counts1, xedges, yedges = np.histogram2d(x1, y1, bins=(xbins, ybins))\n",
    "counts2, xedges, yedges = np.histogram2d(x2, y2, bins=(xbins, ybins))\n",
    "\n",
    "max_value = max(np.max(counts1), np.max(counts2))\n",
    "\n",
    "#levels = np.arange(10, 60, 10)\n",
    "levels = np.array([0.01*max_value, 0.3*max_value, 0.5*max_value])\n",
    "\n",
    "cs1 = plt.contour(xedges[:-1], yedges[:-1], counts1.T, levels,\n",
    "                  linewidths=(2, 2, 3), linestyles=('dotted', 'dashed', 'solid'),\n",
    "                  alpha=0.5, colors='blue', label=\"TC\")\n",
    "ax.clabel(cs1, inline=False, fontsize=12)\n",
    "\n",
    "cs2 = plt.contour(xedges[:-1], yedges[:-1], counts2.T, levels,\n",
    "                  linewidths=(2, 2, 3), linestyles=('dotted', 'dashed', 'solid'),\n",
    "                  alpha=0.5, colors='red', label=\"WT\")\n",
    "ax.clabel(cs2, inline=False, fontsize=12)\n",
    "\n",
    "ax.axhline(y=50, linewidth=2, linestyle='--', color='black', alpha=0.5)\n",
    "ax.axhline(y=2000, linewidth=2, linestyle='--', color='black', alpha=0.5)\n",
    "ax.axhline(y=FAINT_BRIGHT_BORDER, linewidth=2, linestyle=':', color='black', alpha=0.5)\n",
    "\n",
    "ax.set_xlim(1e-2, 1e1)\n",
    "ax.set_ylim(1e0, 1e5)\n",
    "\n",
    "ax.set_yscale('log')\n",
    "ax.set_xscale('log')\n",
    "\n",
    "ax.set_xlabel(r\"$\\mathcal{E}$ energy\", fontsize=20)\n",
    "ax.set_ylabel(\"npe\", fontsize=20)\n",
    "\n",
    "lines = [ cs1.collections[0], cs2.collections[0]]\n",
    "labels = [\"contained ({})\".format(len(dfi)), \"not contained ({})\".format(len(dfo))]\n",
    "ax.legend(lines, labels, prop={'size': 14}, loc='best', fancybox=True, framealpha=0.5)\n",
    "\n",
    "ax.set_title(r\"$\\mathcal{E}$ energy for \" + TAILCUT_LABEL, fontsize=20)"
   ]
  },
  {
   "cell_type": "markdown",
   "metadata": {},
   "source": [
    "CCL for **Tailcut**:\n",
    "\n",
    "1. less images at high energy for *contained images* (coherent previous ccl)\n",
    "2. **better energy conservation for *contained images*** (why ?)\n",
    "\n",
    "** Reminder **\n",
    "\n",
    "$\\mathcal{E}_{\\text{energy}}$ (relative total counts difference) is defined by:\n",
    "\n",
    "$$\n",
    "\\mathcal{E}_{\\text{energy}}(\\hat{\\boldsymbol{S}}, \\boldsymbol{S}^*) = \\frac{ \\text{abs} \\left( \\sum_i \\hat{\\boldsymbol{S}}_i - \\sum_i \\boldsymbol{S}^*_i \\right) }{ \\sum_i \\boldsymbol{S}^*_i }\n",
    "$$\n",
    "\n",
    "with:\n",
    "\n",
    "- $\\hat{\\boldsymbol{S}}$ the algorithm's output image (i.e. the *cleaned* image);\n",
    "- $\\boldsymbol{S}^*$ the reference image (i.e. the *clean* image)."
   ]
  },
  {
   "cell_type": "markdown",
   "metadata": {},
   "source": [
    "### Wavelets"
   ]
  },
  {
   "cell_type": "code",
   "execution_count": null,
   "metadata": {
    "collapsed": false
   },
   "outputs": [],
   "source": [
    "fig, ax = plt.subplots()\n",
    "\n",
    "ax.plot(dfi['Denergy_wt'], dfi['peSum_wt'], '.b', alpha=0.3, label=\"contained ({})\".format(len(dfi)))\n",
    "ax.plot(dfo['Denergy_wt'], dfo['peSum_wt'], '.r', alpha=0.3, label=\"not contained ({})\".format(len(dfo)))\n",
    "\n",
    "ax.axhline(y=50, linewidth=2, linestyle='--', color='black', alpha=0.5)\n",
    "ax.axhline(y=2000, linewidth=2, linestyle='--', color='black', alpha=0.5)\n",
    "ax.axhline(y=FAINT_BRIGHT_BORDER, linewidth=2, linestyle=':', color='black', alpha=0.5)\n",
    "\n",
    "ax.set_yscale('log')\n",
    "ax.set_xscale('log')\n",
    "\n",
    "ax.set_xlabel(r\"$\\mathcal{E}$ energy\", fontsize=20)\n",
    "ax.set_ylabel(\"npe\", fontsize=20)\n",
    "\n",
    "ax.set_xlim(1e-4, 1e1)\n",
    "ax.set_ylim(1e0, 1e5)\n",
    "\n",
    "ax.legend(prop={'size': 11}, loc='best', fancybox=True, framealpha=0.5)\n",
    "\n",
    "ax.set_title(r\"$\\mathcal{E}$ energy for \" + WAVELET_LABEL, fontsize=20)"
   ]
  },
  {
   "cell_type": "code",
   "execution_count": null,
   "metadata": {
    "collapsed": false
   },
   "outputs": [],
   "source": [
    "fig, ax = plt.subplots()\n",
    "\n",
    "x1, y1 = dfi['Denergy_wt'], dfi['peSum_wt']\n",
    "x2, y2 = dfo['Denergy_wt'], dfo['peSum_wt']\n",
    "\n",
    "xbins = np.logspace(-3, 1, 30)\n",
    "ybins = np.logspace(0, 5, 30)\n",
    "\n",
    "counts1, xedges, yedges = np.histogram2d(x1, y1, bins=(xbins, ybins))\n",
    "counts2, xedges, yedges = np.histogram2d(x2, y2, bins=(xbins, ybins))\n",
    "\n",
    "max_value = max(np.max(counts1), np.max(counts2))\n",
    "\n",
    "#levels = np.arange(10, 60, 10)\n",
    "levels = np.array([0.01*max_value, 0.3*max_value, 0.5*max_value])\n",
    "\n",
    "cs1 = plt.contour(xedges[:-1], yedges[:-1], counts1.T, levels,\n",
    "                  linewidths=(2, 2, 3), linestyles=('dotted', 'dashed', 'solid'),\n",
    "                  alpha=0.5, colors='blue', label=\"TC\")\n",
    "ax.clabel(cs1, inline=False, fontsize=12)\n",
    "\n",
    "cs2 = plt.contour(xedges[:-1], yedges[:-1], counts2.T, levels,\n",
    "                  linewidths=(2, 2, 3), linestyles=('dotted', 'dashed', 'solid'),\n",
    "                  alpha=0.5, colors='red', label=\"WT\")\n",
    "ax.clabel(cs2, inline=False, fontsize=12)\n",
    "\n",
    "ax.axhline(y=50, linewidth=2, linestyle='--', color='black', alpha=0.5)\n",
    "ax.axhline(y=2000, linewidth=2, linestyle='--', color='black', alpha=0.5)\n",
    "ax.axhline(y=FAINT_BRIGHT_BORDER, linewidth=2, linestyle=':', color='black', alpha=0.5)\n",
    "\n",
    "ax.set_xlim(1e-2, 1e1)\n",
    "ax.set_ylim(1e0, 1e5)\n",
    "\n",
    "ax.set_yscale('log')\n",
    "ax.set_xscale('log')\n",
    "\n",
    "ax.set_xlabel(r\"$\\mathcal{E}$ energy\", fontsize=20)\n",
    "ax.set_ylabel(\"npe\", fontsize=20)\n",
    "\n",
    "lines = [ cs1.collections[0], cs2.collections[0]]\n",
    "labels = [\"contained ({})\".format(len(dfi)), \"not contained ({})\".format(len(dfo))]\n",
    "ax.legend(lines, labels, prop={'size': 14}, loc='best', fancybox=True, framealpha=0.5)\n",
    "\n",
    "ax.set_title(r\"$\\mathcal{E}$ energy for \" + WAVELET_LABEL, fontsize=20)"
   ]
  },
  {
   "cell_type": "markdown",
   "metadata": {},
   "source": [
    "CCL for **Wavelets**:\n",
    "\n",
    "1. as for Tailcut, less images at high energy for *contained images* (coherent previous ccl)\n",
    "2. as for Tailcut, **better energy conservation for *contained images*** (why ?)\n",
    "\n",
    "** Reminder **\n",
    "\n",
    "$\\mathcal{E}_{\\text{energy}}$ (relative total counts difference) is defined by:\n",
    "\n",
    "$$\n",
    "\\mathcal{E}_{\\text{energy}}(\\hat{\\boldsymbol{S}}, \\boldsymbol{S}^*) = \\frac{ \\text{abs} \\left( \\sum_i \\hat{\\boldsymbol{S}}_i - \\sum_i \\boldsymbol{S}^*_i \\right) }{ \\sum_i \\boldsymbol{S}^*_i }\n",
    "$$\n",
    "\n",
    "with:\n",
    "\n",
    "- $\\hat{\\boldsymbol{S}}$ the algorithm's output image (i.e. the *cleaned* image);\n",
    "- $\\boldsymbol{S}^*$ the reference image (i.e. the *clean* image)."
   ]
  },
  {
   "cell_type": "markdown",
   "metadata": {},
   "source": [
    "## Delta psi"
   ]
  },
  {
   "cell_type": "code",
   "execution_count": null,
   "metadata": {
    "collapsed": true
   },
   "outputs": [],
   "source": [
    "# Plot delta psi #####################\n",
    "\n",
    "def plot_ratio(ax, res_tuple_tc, res_tuple_wt):\n",
    "    val_of_bins_tc, bins_tc, patches_tc = res_tuple_tc\n",
    "    val_of_bins_wt, bins_wt, patches_wt = res_tuple_wt\n",
    "    edges_of_bins = bins_tc\n",
    "\n",
    "    # Set ratio where val_of_bins_data is not zero\n",
    "    ratio = np.divide(val_of_bins_wt,\n",
    "                      val_of_bins_tc,\n",
    "                      where=(val_of_bins_tc != 0))\n",
    "\n",
    "    # Compute error on ratio (null if cannot be computed)\n",
    "    # This is wrong as it's made for Gaussian distributions and here we have Poisson distribution\n",
    "    error = np.divide(val_of_bins_wt * np.sqrt(val_of_bins_tc) + val_of_bins_tc * np.sqrt(val_of_bins_wt),\n",
    "                       np.power(val_of_bins_tc, 2),\n",
    "                       where=(val_of_bins_tc != 0))\n",
    "\n",
    "    ax.set_ylabel('Ratio (WT/TC)', fontsize=20)\n",
    "    ax.axhline(y=1, linewidth=2, linestyle='--', color='gray', alpha=0.5)\n",
    "\n",
    "    bincenter = 0.5 * (edges_of_bins[1:] + edges_of_bins[:-1])\n",
    "    ax.errorbar(bincenter, ratio, yerr=error, fmt='o', color='k', elinewidth=3, capsize=4, capthick=3, linewidth=6)\n",
    "    ax.plot(bincenter, ratio, 'ok', linewidth=6)"
   ]
  },
  {
   "cell_type": "markdown",
   "metadata": {},
   "source": [
    "### Tailcut"
   ]
  },
  {
   "cell_type": "code",
   "execution_count": null,
   "metadata": {
    "collapsed": false
   },
   "outputs": [],
   "source": [
    "fig, ax = plt.subplots()\n",
    "\n",
    "ax.plot(dfi['delta_tc'], dfi['peSum_tc'], '.b', alpha=0.1, label=\"contained ({})\".format(len(dfi)))\n",
    "ax.plot(dfo['delta_tc'], dfo['peSum_tc'], '.r', alpha=0.1, label=\"not contained ({})\".format(len(dfo)))\n",
    "\n",
    "ax.axhline(y=50, linewidth=2, linestyle='--', color='black', alpha=0.5)\n",
    "ax.axhline(y=2000, linewidth=2, linestyle='--', color='black', alpha=0.5)\n",
    "ax.axhline(y=FAINT_BRIGHT_BORDER, linewidth=2, linestyle=':', color='black', alpha=0.5)\n",
    "\n",
    "ax.set_yscale('log')\n",
    "\n",
    "ax.set_xlabel(\"delta_psi\", fontsize=20)\n",
    "ax.set_ylabel(\"npe\", fontsize=20)\n",
    "\n",
    "ax.legend(prop={'size': 11}, loc='best', fancybox=True, framealpha=0.5)\n",
    "\n",
    "ax.set_title(r\"$\\Delta\\psi$ for \" + TAILCUT_LABEL, fontsize=20)"
   ]
  },
  {
   "cell_type": "markdown",
   "metadata": {},
   "source": [
    "CCL: difficult to conclude anything... see the figure below"
   ]
  },
  {
   "cell_type": "code",
   "execution_count": null,
   "metadata": {
    "collapsed": false
   },
   "outputs": [],
   "source": [
    "fig, ax = plt.subplots()\n",
    "\n",
    "x1, y1 = dfi['delta_tc'], dfi['peSum_tc']\n",
    "x2, y2 = dfo['delta_tc'], dfo['peSum_tc']\n",
    "\n",
    "xbins = np.linspace(0, 90, 50)\n",
    "ybins = np.logspace(0, 5, 50)\n",
    "\n",
    "counts1, xedges, yedges = np.histogram2d(x1, y1, bins=(xbins, ybins))\n",
    "counts2, xedges, yedges = np.histogram2d(x2, y2, bins=(xbins, ybins))\n",
    "\n",
    "max_value = max(np.max(counts1), np.max(counts2))\n",
    "\n",
    "#levels = np.arange(10, 60, 10)\n",
    "levels = np.array([0.1*max_value, 0.3*max_value, 0.4*max_value])\n",
    "\n",
    "cs1 = plt.contour(xedges[:-1], yedges[:-1], counts1.T, levels,\n",
    "                  linewidths=(2, 2, 3), linestyles=('dotted', 'dashed', 'solid'),\n",
    "                  alpha=0.5, colors='blue', label=\"TC\")\n",
    "ax.clabel(cs1, inline=False, fontsize=12)\n",
    "\n",
    "cs2 = plt.contour(xedges[:-1], yedges[:-1], counts2.T, levels,\n",
    "                  linewidths=(2, 2, 3), linestyles=('dotted', 'dashed', 'solid'),\n",
    "                  alpha=0.5, colors='red', label=\"WT\")\n",
    "ax.clabel(cs2, inline=False, fontsize=12)\n",
    "\n",
    "ax.axhline(y=50, linewidth=2, linestyle='--', color='black', alpha=0.5)\n",
    "ax.axhline(y=2000, linewidth=2, linestyle='--', color='black', alpha=0.5)\n",
    "ax.axhline(y=FAINT_BRIGHT_BORDER, linewidth=2, linestyle=':', color='black', alpha=0.5)\n",
    "\n",
    "ax.set_xlim(0, 30)\n",
    "ax.set_ylim(1e1, 1e5)\n",
    "\n",
    "ax.set_yscale('log')\n",
    "#ax.set_xscale('log')\n",
    "\n",
    "ax.set_xlabel(\"delta_psi\", fontsize=20)\n",
    "ax.set_ylabel(\"npe\", fontsize=20)\n",
    "\n",
    "lines = [ cs1.collections[0], cs2.collections[0]]\n",
    "labels = [\"contained ({})\".format(len(dfi)), \"not contained ({})\".format(len(dfo))]\n",
    "ax.legend(lines, labels, prop={'size': 14}, loc='best', fancybox=True, framealpha=0.5)\n",
    "\n",
    "ax.set_title(r\"$\\Delta\\psi$ for \" + TAILCUT_LABEL, fontsize=20)"
   ]
  },
  {
   "cell_type": "markdown",
   "metadata": {},
   "source": [
    "CCL for **Tailcut**:\n",
    "\n",
    "1. less images at high energy for *contained images* (coherent previous ccl)\n",
    "2. seems to have slightly better precision for *contained images* around 100PE"
   ]
  },
  {
   "cell_type": "markdown",
   "metadata": {},
   "source": [
    "### Wavelets"
   ]
  },
  {
   "cell_type": "code",
   "execution_count": null,
   "metadata": {
    "collapsed": false,
    "scrolled": false
   },
   "outputs": [],
   "source": [
    "fig, ax = plt.subplots()\n",
    "\n",
    "# x=ref, y=clean\n",
    "ax.plot(dfi['delta_wt'], dfi['peSum_wt'], '.b', alpha=0.1, label=\"contained ({})\".format(len(dfi)))\n",
    "ax.plot(dfo['delta_wt'], dfo['peSum_wt'], '.r', alpha=0.1, label=\"not contained ({})\".format(len(dfo)))\n",
    "\n",
    "ax.axhline(y=50, linewidth=2, linestyle='--', color='black', alpha=0.5)\n",
    "ax.axhline(y=2000, linewidth=2, linestyle='--', color='black', alpha=0.5)\n",
    "ax.axhline(y=FAINT_BRIGHT_BORDER, linewidth=2, linestyle=':', color='black', alpha=0.5)\n",
    "\n",
    "ax.set_yscale('log')\n",
    "\n",
    "ax.set_xlabel(\"delta_psi\", fontsize=20)\n",
    "ax.set_ylabel(\"npe\", fontsize=20)\n",
    "\n",
    "ax.legend(prop={'size': 11}, loc='best', fancybox=True, framealpha=0.5)\n",
    "\n",
    "ax.set_title(r\"$\\Delta\\psi$ for \" + WAVELET_LABEL, fontsize=20)"
   ]
  },
  {
   "cell_type": "markdown",
   "metadata": {},
   "source": [
    "CCL: difficult to conclude anything... see the figure below"
   ]
  },
  {
   "cell_type": "code",
   "execution_count": null,
   "metadata": {
    "collapsed": false
   },
   "outputs": [],
   "source": [
    "fig, ax = plt.subplots()\n",
    "\n",
    "x1, y1 = dfi['delta_wt'], dfi['peSum_wt']\n",
    "x2, y2 = dfo['delta_wt'], dfo['peSum_wt']\n",
    "\n",
    "xbins = np.linspace(0, 90, 50)\n",
    "ybins = np.logspace(0, 5, 50)\n",
    "\n",
    "counts1, xedges, yedges = np.histogram2d(x1, y1, bins=(xbins, ybins))\n",
    "counts2, xedges, yedges = np.histogram2d(x2, y2, bins=(xbins, ybins))\n",
    "\n",
    "max_value = max(np.max(counts1), np.max(counts2))\n",
    "\n",
    "#levels = np.arange(10, 60, 10)\n",
    "levels = np.array([0.1*max_value, 0.3*max_value, 0.4*max_value])\n",
    "\n",
    "cs1 = plt.contour(xedges[:-1], yedges[:-1], counts1.T, levels,\n",
    "                  linewidths=(2, 2, 3), linestyles=('dotted', 'dashed', 'solid'),\n",
    "                  alpha=0.5, colors='blue', label=\"TC\")\n",
    "ax.clabel(cs1, inline=False, fontsize=12)\n",
    "\n",
    "cs2 = plt.contour(xedges[:-1], yedges[:-1], counts2.T, levels,\n",
    "                  linewidths=(2, 2, 3), linestyles=('dotted', 'dashed', 'solid'),\n",
    "                  alpha=0.5, colors='red', label=\"WT\")\n",
    "ax.clabel(cs2, inline=False, fontsize=12)\n",
    "\n",
    "ax.axhline(y=50, linewidth=2, linestyle='--', color='black', alpha=0.5)\n",
    "ax.axhline(y=2000, linewidth=2, linestyle='--', color='black', alpha=0.5)\n",
    "ax.axhline(y=FAINT_BRIGHT_BORDER, linewidth=2, linestyle=':', color='black', alpha=0.5)\n",
    "\n",
    "ax.set_xlim(0, 30)\n",
    "ax.set_ylim(1e1, 1e5)\n",
    "\n",
    "ax.set_yscale('log')\n",
    "#ax.set_xscale('log')\n",
    "\n",
    "ax.set_xlabel(\"delta_psi\", fontsize=20)\n",
    "ax.set_ylabel(\"npe\", fontsize=20)\n",
    "\n",
    "lines = [ cs1.collections[0], cs2.collections[0]]\n",
    "labels = [\"contained ({})\".format(len(dfi)), \"not contained ({})\".format(len(dfo))]\n",
    "ax.legend(lines, labels, prop={'size': 14}, loc='best', fancybox=True, framealpha=0.5)\n",
    "\n",
    "ax.set_title(r\"$\\Delta\\psi$ for \" + WAVELET_LABEL, fontsize=20)"
   ]
  },
  {
   "cell_type": "markdown",
   "metadata": {},
   "source": [
    "CCL for Wavelets:\n",
    "\n",
    "1. less images at high energy for *contained images* (coherent previous ccl)\n",
    "2. seems to have slightly better precision for *contained images* around 100PE"
   ]
  },
  {
   "cell_type": "code",
   "execution_count": null,
   "metadata": {
    "collapsed": false
   },
   "outputs": [],
   "source": [
    "################################\n",
    "\n",
    "fig, ((ax1, ax2), (ax3, ax4)) = plt.subplots(nrows=2, ncols=2, figsize=(16, 9))\n",
    "\n",
    "#BINS_START, BINS_STOP, BINS_STEP = 0., 99., 9.\n",
    "#BINS_START, BINS_STOP, BINS_STEP = 0., 99., 9.\n",
    "\n",
    "#BINS = np.arange(BINS_START, BINS_STOP, BINS_STEP)\n",
    "#BINS = 30\n",
    "#BINS = np.linspace(BINS_START, BINS_STOP, 30)\n",
    "#BINS = [3.53056780e-03, 5.99515231e+00, 1.19867741e+01, 1.79783958e+01, 2.39700176e+01, 2.99616393e+01,\n",
    "#        3.59532610e+01, 4.19448828e+01, 4.79365045e+01, 5.39281263e+01, 5.99197480e+01, 6.59113698e+01,\n",
    "#        7.19029915e+01, 7.78946133e+01, 8.38862350e+01, 8.98778568e+01]\n",
    "BINS = 15\n",
    "\n",
    "################################\n",
    "\n",
    "NPE_MIN, NPE_MAX = 50, FAINT_BRIGHT_BORDER\n",
    "\n",
    "df1 = dfi[dfi.peSum_wt > NPE_MIN][dfi.peSum_wt <= NPE_MAX]['delta_wt']\n",
    "df2 = dfo[dfo.peSum_wt > NPE_MIN][dfo.peSum_wt <= NPE_MAX]['delta_wt']\n",
    "\n",
    "res_tuple_tc1 = ax1.hist(df1,\n",
    "                         label=\"contained ({})\".format(len(df1)),\n",
    "                         bins=BINS,\n",
    "                         linewidth=2, alpha=.5, color='blue', histtype=\"step\")\n",
    "\n",
    "res_tuple_wt1 = ax1.hist(df2,\n",
    "                         label=\"not contained ({})\".format(len(df2)),\n",
    "                         bins=BINS,\n",
    "                         linewidth=2, alpha=.5, color='red',  histtype=\"step\")\n",
    "\n",
    "ax1.set_title(\"{} to {} NPE\".format(NPE_MIN, NPE_MAX), fontsize=20)\n",
    "ax1.set_xlabel(\"delta_psi\", fontsize=20)\n",
    "ax1.set_ylabel(\"counts\", fontsize=20)\n",
    "ax1.legend(prop={'size': 18}, loc='best', fancybox=True, framealpha=0.5)\n",
    "\n",
    "plot_ratio(ax3, res_tuple_tc1, res_tuple_wt1)\n",
    "\n",
    "################################\n",
    "\n",
    "NPE_MIN, NPE_MAX = FAINT_BRIGHT_BORDER, 2000\n",
    "\n",
    "df1 = dfi[dfi.peSum_wt > NPE_MIN][dfi.peSum_wt <= NPE_MAX]['delta_wt']\n",
    "df2 = dfo[dfo.peSum_wt > NPE_MIN][dfo.peSum_wt <= NPE_MAX]['delta_wt']\n",
    "\n",
    "res_tuple_tc2 = ax2.hist(df1,\n",
    "                         label=\"contained ({})\".format(len(df1)),\n",
    "                         bins=BINS,\n",
    "                         linewidth=2, alpha=.5, color='blue', histtype=\"step\")\n",
    "\n",
    "res_tuple_wt2 = ax2.hist(df2,\n",
    "                         label=\"not contained ({})\".format(len(df2)),\n",
    "                         bins=BINS,\n",
    "                         linewidth=2, alpha=.5, color='red',  histtype=\"step\")\n",
    "\n",
    "ax2.set_title(\"{} to {} NPE\".format(NPE_MIN, NPE_MAX), fontsize=20)\n",
    "ax2.set_xlabel(\"delta_psi\", fontsize=20)\n",
    "ax2.set_ylabel(\"counts\", fontsize=20)\n",
    "ax2.legend(prop={'size': 18}, loc='best', fancybox=True, framealpha=0.5)\n",
    "\n",
    "plot_ratio(ax4, res_tuple_tc2, res_tuple_wt2)\n",
    "\n",
    "#ax.set_yscale('log')\n",
    "\n",
    "fig.suptitle(WAVELET_LABEL, fontsize=20)"
   ]
  },
  {
   "cell_type": "markdown",
   "metadata": {
    "collapsed": true
   },
   "source": [
    "Does this plot has any sense ?"
   ]
  },
  {
   "cell_type": "code",
   "execution_count": null,
   "metadata": {
    "collapsed": true
   },
   "outputs": [],
   "source": []
  }
 ],
 "metadata": {
  "anaconda-cloud": {},
  "kernelspec": {
   "display_name": "Python [conda env:cta]",
   "language": "python",
   "name": "conda-env-cta-py"
  },
  "language_info": {
   "codemirror_mode": {
    "name": "ipython",
    "version": 3
   },
   "file_extension": ".py",
   "mimetype": "text/x-python",
   "name": "python",
   "nbconvert_exporter": "python",
   "pygments_lexer": "ipython3",
   "version": "3.5.2"
  }
 },
 "nbformat": 4,
 "nbformat_minor": 1
}
