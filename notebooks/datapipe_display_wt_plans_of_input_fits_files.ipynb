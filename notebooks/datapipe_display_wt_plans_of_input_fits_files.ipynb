{
 "cells": [
  {
   "cell_type": "code",
   "execution_count": 1,
   "metadata": {
    "collapsed": true,
    "scrolled": false
   },
   "outputs": [],
   "source": [
    "%matplotlib inline\n",
    "\n",
    "import matplotlib\n",
    "matplotlib.rcParams['figure.figsize'] = (6, 6)\n",
    "\n",
    "import matplotlib.pyplot as plt\n",
    "from matplotlib.colors import LogNorm\n",
    "\n",
    "import ipywidgets\n",
    "from ipywidgets import interact\n",
    "\n",
    "import sys\n",
    "sys.path.append(\"../\")\n",
    "\n",
    "import datapipe\n",
    "from datapipe.io.images import image_files_in_dir\n",
    "from datapipe.denoising.wavelets_mrtransform import wavelet_transform"
   ]
  },
  {
   "cell_type": "code",
   "execution_count": 2,
   "metadata": {
    "collapsed": true
   },
   "outputs": [],
   "source": [
    "from datapipe.denoising.inverse_transform_sampling import EmpiricalDistribution\n",
    "import datapipe.denoising.cdf"
   ]
  },
  {
   "cell_type": "code",
   "execution_count": 3,
   "metadata": {},
   "outputs": [
    {
     "data": {
      "application/javascript": [
       "IPython.OutputArea.auto_scroll_threshold = 9999;\n",
       "// see https://github.com/ipython/ipython/issues/2172"
      ],
      "text/plain": [
       "<IPython.core.display.Javascript object>"
      ]
     },
     "metadata": {},
     "output_type": "display_data"
    }
   ],
   "source": [
    "%%javascript\n",
    "IPython.OutputArea.auto_scroll_threshold = 9999;\n",
    "// see https://github.com/ipython/ipython/issues/2172"
   ]
  },
  {
   "cell_type": "code",
   "execution_count": 4,
   "metadata": {
    "collapsed": true
   },
   "outputs": [],
   "source": [
    "np.set_printoptions(threshold=np.inf)"
   ]
  },
  {
   "cell_type": "markdown",
   "metadata": {},
   "source": [
    "## Display input fits files"
   ]
  },
  {
   "cell_type": "code",
   "execution_count": 5,
   "metadata": {},
   "outputs": [
    {
     "data": {
      "text/plain": [
       "['/Users/jdecock/data/grid_prod3b_north/fits/lst/gamma/gamma_20deg_0deg_run104___cta-prod3-lapalma3-2147m-LaPalma.simtel.gz_TEL001_EV00406.fits',\n",
       " '/Users/jdecock/data/grid_prod3b_north/fits/lst/gamma/gamma_20deg_0deg_run104___cta-prod3-lapalma3-2147m-LaPalma.simtel.gz_TEL001_EV06903.fits',\n",
       " '/Users/jdecock/data/grid_prod3b_north/fits/lst/gamma/gamma_20deg_0deg_run104___cta-prod3-lapalma3-2147m-LaPalma.simtel.gz_TEL001_EV06905.fits',\n",
       " '/Users/jdecock/data/grid_prod3b_north/fits/lst/gamma/gamma_20deg_0deg_run104___cta-prod3-lapalma3-2147m-LaPalma.simtel.gz_TEL001_EV1001200.fits',\n",
       " '/Users/jdecock/data/grid_prod3b_north/fits/lst/gamma/gamma_20deg_0deg_run104___cta-prod3-lapalma3-2147m-LaPalma.simtel.gz_TEL001_EV1001203.fits']"
      ]
     },
     "execution_count": 5,
     "metadata": {},
     "output_type": "execute_result"
    }
   ],
   "source": [
    "#DIR_PATH = \"/Users/jdecock/data/astri_mini_array_konrad/fits/astri_v2/gamma/\"\n",
    "#DIR_PATH = \"/Users/jdecock/data/gct_mini_array_konrad/fits/gct/gamma/\"\n",
    "#DIR_PATH = \"/Users/jdecock/data/sst1m_mini_array_konrad/fits/sst1m/gamma/\"\n",
    "#DIR_PATH = \"/Users/jdecock/data/astri_mini_array/fits/flashcam/gamma/\"\n",
    "#DIR_PATH = \"/Users/jdecock/data/grid_prod3b_north/fits/nectarcam/gamma/\"\n",
    "DIR_PATH = \"/Users/jdecock/data/grid_prod3b_north/fits/lst/gamma/\"\n",
    "\n",
    "file_path_list = list(image_files_in_dir(DIR_PATH, max_num_files=5))\n",
    "file_path_list"
   ]
  },
  {
   "cell_type": "code",
   "execution_count": 6,
   "metadata": {
    "collapsed": true
   },
   "outputs": [],
   "source": [
    "IMG_SIZE = 7\n",
    "\n",
    "def plot(data_list, title_list=\"\", log=False):\n",
    "    num_imgs = len(data_list)\n",
    "    \n",
    "    fig, ax_list = plt.subplots(ncols=num_imgs, figsize=(num_imgs*IMG_SIZE, IMG_SIZE), squeeze=True)\n",
    "    \n",
    "    for data, title, ax in zip(data_list, title_list, ax_list):\n",
    "        ax.set_title(title)\n",
    "\n",
    "        if log:\n",
    "            # See http://matplotlib.org/examples/pylab_examples/pcolor_log.html\n",
    "            #     http://stackoverflow.com/questions/2546475/how-can-i-draw-a-log-normalized-imshow-plot-with-a-colorbar-representing-the-raw\n",
    "            #im = ax1.pcolor(x, y, image_array, norm=LogNorm(vmin=0.01, vmax=image_array.max()), cmap=self.color_map)  # TODO: \"vmin=0.01\" is an arbitrary choice...\n",
    "            im = ax.imshow(data, interpolation='nearest', origin='lower', norm=LogNorm(vmin=0.01, vmax=data.max()), cmap=\"gnuplot2\")   # cmap=cm.inferno and cmap=\"inferno\" are both valid\n",
    "        else:\n",
    "            im = ax.imshow(data, interpolation='nearest', origin='lower', cmap=\"gnuplot2\")   # cmap=cm.inferno and cmap=\"inferno\" are both valid\n",
    "            #im = ax1.pcolor(x, y, image_array, cmap=self.color_map, vmin=z_min, vmax=z_max)\n",
    "\n",
    "        plt.colorbar(im, ax=ax)  # draw the colorbar\n",
    "\n",
    "        #ax2 = fig.add_subplot(212)\n",
    "        #ax2.hist(data)\n",
    "    \n",
    "    plt.show()\n",
    "\n",
    "\n",
    "def plot_hist(data_list, title_list=\"\", log=True):\n",
    "    num_imgs = len(data_list)\n",
    "    \n",
    "    fig, ax_list = plt.subplots(ncols=num_imgs, figsize=(num_imgs*IMG_SIZE, IMG_SIZE), squeeze=True)\n",
    "    \n",
    "    for data, title, ax in zip(data_list, title_list, ax_list):\n",
    "        ax.set_title(title)\n",
    "        \n",
    "        nan_mask = np.isnan(data)\n",
    "\n",
    "        ax.hist(data[np.logical_not(nan_mask)], log=log)\n",
    "    \n",
    "    plt.show()"
   ]
  },
  {
   "cell_type": "code",
   "execution_count": 7,
   "metadata": {
    "scrolled": false
   },
   "outputs": [
    {
     "data": {
      "application/vnd.jupyter.widget-view+json": {
       "model_id": "45880e1902ef4d3c8075821dd1fafa4d"
      }
     },
     "metadata": {},
     "output_type": "display_data"
    }
   ],
   "source": [
    "@interact(file_path=file_path_list)\n",
    "def gui(file_path, noise_injection=True):\n",
    "    images, metadata = datapipe.io.images.load_benchmark_images(file_path)\n",
    "    \n",
    "    # Make ref, input and noise images #################\n",
    "    \n",
    "    in_img = images[\"input_image\"]\n",
    "    ref_img = images[\"reference_image\"]\n",
    "    \n",
    "    noise_img = np.copy(in_img)\n",
    "    noise_img[ref_img != 0.] = np.nan\n",
    "    \n",
    "    plot([in_img, ref_img, noise_img],\n",
    "         title_list=[\"Input image\", \"Ref. image\", \"Noise image\"])\n",
    "    \n",
    "    # Inject noise in NaN pixels #######################\n",
    "\n",
    "    in_nan_mask = np.isnan(in_img)\n",
    "    ref_nan_mask = np.isnan(ref_img)\n",
    "    noise_nan_mask = np.isnan(noise_img)\n",
    "    \n",
    "    if noise_injection:\n",
    "        if metadata['cam_id'] == 'ASTRI':\n",
    "            dist = EmpiricalDistribution(datapipe.denoising.cdf.ASTRI_CDF_FILE)\n",
    "            \n",
    "        elif metadata['cam_id'] in ('GATE', 'CHEC'):\n",
    "            dist = EmpiricalDistribution(datapipe.denoising.cdf.GCT_CDF_FILE)\n",
    "            \n",
    "        elif metadata['cam_id'] == 'DigiCam':\n",
    "            dist = EmpiricalDistribution(datapipe.denoising.cdf.DIGICAM_CDF_FILE)\n",
    "            \n",
    "        elif metadata['cam_id'] == 'FlashCam':\n",
    "            dist = EmpiricalDistribution(datapipe.denoising.cdf.FLASHCAM_CDF_FILE)\n",
    "            \n",
    "        elif metadata['cam_id'] == 'NectarCam':\n",
    "            dist = EmpiricalDistribution(datapipe.denoising.cdf.NECTARCAM_CDF_FILE)\n",
    "            \n",
    "        elif metadata['cam_id'] == 'LSTCam':\n",
    "            dist = EmpiricalDistribution(datapipe.denoising.cdf.LSTCAM_CDF_FILE)\n",
    "            \n",
    "        else:\n",
    "            raise ValueError(\"Wrong cam_id\", metadata['cam_id'])\n",
    "\n",
    "        in_img[in_nan_mask] = dist.rvs(size=np.count_nonzero(in_nan_mask))\n",
    "        \n",
    "        ref_img[ref_nan_mask] = 0.\n",
    "\n",
    "        noise_img[noise_nan_mask] = dist.rvs(size=np.count_nonzero(noise_nan_mask))\n",
    "\n",
    "        plot([in_img, ref_img, noise_img],\n",
    "             title_list=[\"Input image (after noise injection)\", \"Ref. image (after 0 injection)\", \"Noise image (after noise injection)\"])\n",
    "    \n",
    "    # Apply Wavelet transform ##########################\n",
    "    \n",
    "    in_plan_imgs = wavelet_transform(in_img)\n",
    "    ref_plan_imgs = wavelet_transform(ref_img)\n",
    "    noise_plan_imgs = wavelet_transform(noise_img)\n",
    "    \n",
    "    plot(in_plan_imgs,\n",
    "         title_list=[\"Input image - WT plan {}\".format(i) for i in range(len(in_plan_imgs))])\n",
    "    \n",
    "    plot(ref_plan_imgs,\n",
    "         title_list=[\"PE image - WT plan {}\".format(i) for i in range(len(ref_plan_imgs))])\n",
    "            \n",
    "    plot(noise_plan_imgs,\n",
    "         title_list=[\"Noise image - WT plan {}\".format(i) for i in range(len(noise_plan_imgs))])\n",
    "\n",
    "    # \"Normalize plans\" ################################\n",
    "    \n",
    "    for plan in in_plan_imgs:\n",
    "        std = plan.std()\n",
    "        plan /= std\n",
    "    \n",
    "    for plan in ref_plan_imgs:\n",
    "        std = plan.std()\n",
    "        plan /= std\n",
    "    \n",
    "    for plan in noise_plan_imgs:\n",
    "        std = plan.std()\n",
    "        plan /= std\n",
    "    \n",
    "    plot(in_plan_imgs,\n",
    "         title_list=[\"Input image - WT plan {} / std\".format(i) for i in range(len(in_plan_imgs))])\n",
    "    \n",
    "    plot(ref_plan_imgs,\n",
    "         title_list=[\"PE image - WT plan {} / std\".format(i) for i in range(len(ref_plan_imgs))])\n",
    "            \n",
    "    plot(noise_plan_imgs,\n",
    "         title_list=[\"Noise image - WT plan {} / std\".format(i) for i in range(len(noise_plan_imgs))])\n",
    "    \n",
    "    # Filter NaN pixels ################################\n",
    "    \n",
    "    for plan in in_plan_imgs:\n",
    "        plan[in_nan_mask] = np.nan\n",
    "    \n",
    "    for plan in ref_plan_imgs:\n",
    "        plan[ref_nan_mask] = np.nan\n",
    "    \n",
    "    for plan in noise_plan_imgs:\n",
    "        plan[noise_nan_mask] = np.nan\n",
    "    \n",
    "    plot(in_plan_imgs,\n",
    "         title_list=[\"Input image - WT plan {} / std (nan)\".format(i) for i in range(len(in_plan_imgs))])\n",
    "    \n",
    "    plot(ref_plan_imgs,\n",
    "         title_list=[\"PE image - WT plan {} / std (nan)\".format(i) for i in range(len(ref_plan_imgs))])\n",
    "            \n",
    "    plot(noise_plan_imgs,\n",
    "         title_list=[\"Noise image - WT plan {} / std (nan)\".format(i) for i in range(len(noise_plan_imgs))])\n",
    "    \n",
    "    # Histograms #######################################\n",
    "    \n",
    "    plot_hist(in_plan_imgs,\n",
    "              title_list=[\"Input image - WT plan {} / std (nan)\".format(i) for i in range(len(in_plan_imgs))])\n",
    "    \n",
    "    plot_hist(ref_plan_imgs,\n",
    "              title_list=[\"PE image - WT plan {} / std (nan)\".format(i) for i in range(len(ref_plan_imgs))])\n",
    "            \n",
    "    plot_hist(noise_plan_imgs,\n",
    "              title_list=[\"Noise image - WT plan {} / std (nan)\".format(i) for i in range(len(noise_plan_imgs))])"
   ]
  }
 ],
 "metadata": {
  "anaconda-cloud": {},
  "kernelspec": {
   "display_name": "Python [conda env:cta]",
   "language": "python",
   "name": "conda-env-cta-py"
  },
  "language_info": {
   "codemirror_mode": {
    "name": "ipython",
    "version": 3
   },
   "file_extension": ".py",
   "mimetype": "text/x-python",
   "name": "python",
   "nbconvert_exporter": "python",
   "pygments_lexer": "ipython3",
   "version": "3.5.1"
  },
  "widgets": {
   "state": {
    "ba93fbc083634eb8a0b668fac7071dce": {
     "views": [
      {
       "cell_index": 4
      }
     ]
    }
   },
   "version": "1.2.0"
  }
 },
 "nbformat": 4,
 "nbformat_minor": 1
}
