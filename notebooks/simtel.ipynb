{
 "cells": [
  {
   "cell_type": "code",
   "execution_count": null,
   "metadata": {
    "collapsed": false
   },
   "outputs": [],
   "source": [
    "import ctapipe\n",
    "from ctapipe.io.hessio import hessio_event_source\n",
    "import pyhessio"
   ]
  },
  {
   "cell_type": "code",
   "execution_count": null,
   "metadata": {
    "collapsed": true
   },
   "outputs": [],
   "source": [
    "tel_id = 1\n",
    "source = hessio_event_source(\"/Users/jdecock/data/astri_mini_array/proton/run10001.simtel.gz\", allowed_tels=[tel_id])"
   ]
  },
  {
   "cell_type": "code",
   "execution_count": null,
   "metadata": {
    "collapsed": false
   },
   "outputs": [],
   "source": [
    "for ev in source:\n",
    "    event = ev\n",
    "    if 1 in ev.dl0.tel:\n",
    "        print(ev.dl0.tel[1].adc_sums[1])"
   ]
  },
  {
   "cell_type": "code",
   "execution_count": null,
   "metadata": {
    "collapsed": false
   },
   "outputs": [],
   "source": [
    "print(ev)"
   ]
  },
  {
   "cell_type": "code",
   "execution_count": null,
   "metadata": {
    "collapsed": false
   },
   "outputs": [],
   "source": [
    "# Pedestal\n",
    "print(ev.mc.tel[tel_id].pedestal[0])\n",
    "print(ev.mc.tel[tel_id].pedestal[1])\n",
    "\n",
    "# Gain\n",
    "print(ev.mc.tel[tel_id].dc_to_pe[0])\n",
    "print(ev.mc.tel[tel_id].dc_to_pe[1])\n",
    "\n",
    "# ADC sums\n",
    "print(ev.r0.tel[tel_id].adc_sums[0])\n",
    "print(ev.r0.tel[tel_id].adc_sums[1])\n",
    "\n",
    "print(ev.mc.tel[tel_id].photo_electron_image)\n",
    "\n",
    "ev.mc.tel[tel_id].reference_pulse_shape.shape\n",
    "\n",
    "plt.plot(ev.mc.tel[tel_id].reference_pulse_shape[0])\n",
    "plt.plot(ev.mc.tel[tel_id].reference_pulse_shape[1])\n",
    "\n",
    "# TODO!!!\n",
    "#help(pyhessio)\n",
    "#pedestal, gains = get_mc_calibration_data(tel_id)\n",
    "#print(\"pedestal:\", pedestal)\n",
    "#print(\"gains:\", gains)"
   ]
  }
 ],
 "metadata": {
  "anaconda-cloud": {},
  "kernelspec": {
   "display_name": "Python [conda env:cta]",
   "language": "python",
   "name": "conda-env-cta-py"
  },
  "language_info": {
   "codemirror_mode": {
    "name": "ipython",
    "version": 3
   },
   "file_extension": ".py",
   "mimetype": "text/x-python",
   "name": "python",
   "nbconvert_exporter": "python",
   "pygments_lexer": "ipython3",
   "version": "3.5.2"
  }
 },
 "nbformat": 4,
 "nbformat_minor": 1
}
