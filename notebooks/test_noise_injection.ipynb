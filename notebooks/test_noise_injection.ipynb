{
 "cells": [
  {
   "cell_type": "markdown",
   "metadata": {},
   "source": [
    "# Test noise injection"
   ]
  },
  {
   "cell_type": "markdown",
   "metadata": {},
   "source": [
    "## TODO\n",
    "\n",
    "- look at the model of noise Tino used (Gaussian only)\n",
    "- optimize the model by minimizing the $\\chi^2$"
   ]
  },
  {
   "cell_type": "code",
   "execution_count": null,
   "metadata": {
    "scrolled": true
   },
   "outputs": [],
   "source": [
    "%matplotlib inline\n",
    "\n",
    "import numpy as np\n",
    "import matplotlib\n",
    "matplotlib.rcParams['figure.figsize'] = (6, 6)\n",
    "\n",
    "import sys\n",
    "sys.path.append(\"/Users/jdecock/git/pub/jdhp-sap/sap-cta-data-pipeline\")\n",
    "import datapipe\n",
    "import datapipe.denoising.wavelets_mrfilter as mrfilter\n",
    "\n",
    "sys.path.append(\"/Users/jdecock/git/pub/jdhp-sap/sap-cta-data-pipeline/utils\")\n",
    "import common_functions as common\n",
    "\n",
    "from datapipe.denoising import wavelets_mrfilter as wavelets_mod\n",
    "from datapipe.benchmark import assess as assess_mod"
   ]
  },
  {
   "cell_type": "markdown",
   "metadata": {},
   "source": [
    "## Pure artificial noise image example"
   ]
  },
  {
   "cell_type": "code",
   "execution_count": null,
   "metadata": {
    "scrolled": false
   },
   "outputs": [],
   "source": [
    "data = np.random.poisson(lam=2, size=(40,40))\n",
    "plt.imshow(data, interpolation=\"nearest\", cmap=\"gnuplot2\", vmax=10)"
   ]
  },
  {
   "cell_type": "markdown",
   "metadata": {},
   "source": [
    "## GCT"
   ]
  },
  {
   "cell_type": "code",
   "execution_count": null,
   "metadata": {},
   "outputs": [],
   "source": [
    "file_path = \"/Volumes/ramdisk/data/gct/fits/proton/group1run1000.simtel.gz_TEL001_EV00307.fits\"\n",
    "fits_images_dict, fits_metadata_dict = datapipe.io.images.load_benchmark_images(file_path)\n",
    "input_img = fits_images_dict[\"input_image\"]\n",
    "reference_img = fits_images_dict[\"reference_image\"]\n",
    "pixels_position = fits_images_dict[\"pixels_position\"]\n",
    "\n",
    "plt.imshow(input_img, interpolation=\"nearest\", cmap=\"gnuplot2\")\n",
    "plt.colorbar()"
   ]
  },
  {
   "cell_type": "code",
   "execution_count": null,
   "metadata": {},
   "outputs": [],
   "source": [
    "nan_mask = np.isnan(input_img)\n",
    "\n",
    "print(np.nanmin(input_img))\n",
    "\n",
    "# See https://stackoverflow.com/questions/29365194/replacing-missing-values-with-random-in-a-numpy-array\n",
    "\n",
    "# GCT\n",
    "input_img[nan_mask] = np.random.poisson(lam=4, size=np.count_nonzero(nan_mask)) - 4. # np.random.normal(..., size=np.count_nonzero(nan_mask))\n",
    "print(input_img)\n",
    "\n",
    "plt.imshow(input_img, interpolation=\"nearest\", cmap=\"gnuplot2\")\n",
    "plt.colorbar()"
   ]
  },
  {
   "cell_type": "markdown",
   "metadata": {},
   "source": [
    "## ASTRI"
   ]
  },
  {
   "cell_type": "code",
   "execution_count": null,
   "metadata": {},
   "outputs": [],
   "source": [
    "file_path = \"/Users/jdecock/data/astri_mini_array/fits/gamma/run1001.simtel.gz_TEL010_EV00109.fits\"\n",
    "fits_images_dict, fits_metadata_dict = datapipe.io.images.load_benchmark_images(file_path)\n",
    "input_img = fits_images_dict[\"input_image\"]\n",
    "reference_img = fits_images_dict[\"reference_image\"]\n",
    "pixels_position = fits_images_dict[\"pixels_position\"]\n",
    "\n",
    "plt.imshow(input_img, interpolation=\"nearest\", cmap=\"gnuplot2\")\n",
    "plt.colorbar()"
   ]
  },
  {
   "cell_type": "code",
   "execution_count": null,
   "metadata": {
    "scrolled": false
   },
   "outputs": [],
   "source": [
    "nan_mask = np.isnan(input_img)\n",
    "\n",
    "print(np.nanmin(input_img))\n",
    "\n",
    "# See https://stackoverflow.com/questions/29365194/replacing-missing-values-with-random-in-a-numpy-array\n",
    "\n",
    "# Astri\n",
    "#input_img[nan_mask] = np.random.poisson(lam=2, size=np.count_nonzero(nan_mask))\n",
    "#input_img[nan_mask] = np.random.poisson(lam=3, size=np.count_nonzero(nan_mask)) - .5 # np.random.normal(..., size=np.count_nonzero(nan_mask))\n",
    "#input_img[nan_mask] = np.random.poisson(lam=4, size=np.count_nonzero(nan_mask)) - 1.5 # np.random.normal(..., size=np.count_nonzero(nan_mask))\n",
    "#input_img[nan_mask] = np.random.poisson(lam=5, size=np.count_nonzero(nan_mask)) - 2.5 # np.random.normal(..., size=np.count_nonzero(nan_mask))\n",
    "input_img[nan_mask] = np.random.poisson(lam=5, size=np.count_nonzero(nan_mask))\n",
    "input_img[nan_mask] += np.random.normal(loc=-2., scale=0.2, size=np.count_nonzero(nan_mask))\n",
    "\n",
    "plt.imshow(input_img, interpolation=\"nearest\", cmap=\"gnuplot2\")\n",
    "plt.colorbar()"
   ]
  },
  {
   "cell_type": "markdown",
   "metadata": {},
   "source": [
    "## Test: put back NaN in corners"
   ]
  },
  {
   "cell_type": "code",
   "execution_count": null,
   "metadata": {
    "scrolled": false
   },
   "outputs": [],
   "source": [
    "input_img[nan_mask] = np.nan\n",
    "\n",
    "print(input_img)\n",
    "\n",
    "plt.imshow(input_img, interpolation=\"nearest\", cmap=\"gnuplot2\")\n",
    "plt.colorbar()"
   ]
  }
 ],
 "metadata": {
  "anaconda-cloud": {},
  "kernelspec": {
   "display_name": "Python [conda env:cta]",
   "language": "python",
   "name": "conda-env-cta-py"
  },
  "language_info": {
   "codemirror_mode": {
    "name": "ipython",
    "version": 3
   },
   "file_extension": ".py",
   "mimetype": "text/x-python",
   "name": "python",
   "nbconvert_exporter": "python",
   "pygments_lexer": "ipython3",
   "version": "3.5.2"
  }
 },
 "nbformat": 4,
 "nbformat_minor": 1
}
