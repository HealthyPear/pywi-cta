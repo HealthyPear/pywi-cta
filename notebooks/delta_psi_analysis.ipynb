{
 "cells": [
  {
   "cell_type": "code",
   "execution_count": null,
   "metadata": {
    "collapsed": false
   },
   "outputs": [],
   "source": [
    "#%matplotlib notebook\n",
    "%matplotlib inline\n",
    "#%config InlineBackend.figure_formats=['svg']\n",
    "#%config InlineBackend.figure_formats=['pdf']\n",
    "\n",
    "import matplotlib\n",
    "\n",
    "matplotlib.rcParams['figure.figsize'] = (12, 9)\n",
    "\n",
    "import scipy\n",
    "import scipy.stats\n",
    "import math\n",
    "import numpy as np\n",
    "import pandas as pd\n",
    "\n",
    "#import ipywidgets\n",
    "#from ipywidgets import interact\n",
    "\n",
    "#import sys\n",
    "#sys.path.append(\"/Users/jdecock/git/pub/jdhp-sap/sap-cta-data-pipeline/utils/\")\n",
    "#import common_functions as common"
   ]
  },
  {
   "cell_type": "markdown",
   "metadata": {},
   "source": [
    "## Delta psi"
   ]
  },
  {
   "cell_type": "code",
   "execution_count": null,
   "metadata": {
    "collapsed": false
   },
   "outputs": [],
   "source": [
    "CSV_FILE_PATH = \"../xps/best.csv\"\n",
    "\n",
    "#WAVELET_LABEL = \"Wavelets-n4-K-k-C1-s3-m3-kill\"\n",
    "#WAVELET_LABEL = \"WT-ref-f3-s3\"\n",
    "#WAVELET_LABEL = \"WT-t24-f3-s4\"\n",
    "#WAVELET_LABEL = \"WT-t28-f3-s5\"\n",
    "WAVELET_LABEL = \"WT-ref-s2-2-3-3\"\n",
    "\n",
    "TAILCUT_LABEL = \"Tailcut-5-10-kill\"\n",
    "\n",
    "PART = 0         # 0 for gamma, 1 for protons\n",
    "\n",
    "FAINT_BRIGHT_BORDER = 100\n",
    "\n",
    "df = pd.read_csv(CSV_FILE_PATH)\n",
    "\n",
    "ref = df[df.Type == 'Ref']\n",
    "ref = ref[ref.Part == PART]\n",
    "\n",
    "tc = df[df.Type == TAILCUT_LABEL]\n",
    "tc = tc[tc.Part == PART]\n",
    "\n",
    "wt = df[df.Type == WAVELET_LABEL]\n",
    "wt = wt[wt.Part == PART]\n",
    "\n",
    "tc_wt = pd.merge(tc, wt, on=\"Id\", suffixes=('_tc', '_wt'))  #.dropna(how='any')\n",
    "df = pd.merge(tc_wt, ref, on=\"Id\")\n",
    "\n",
    "df[\"delta_tc\"] = np.fmod(((df['hPsi'] - df['hPsi_tc']) * 180. / np.pi), 90.)\n",
    "df[\"delta_wt\"] = np.fmod(((df['hPsi'] - df['hPsi_wt']) * 180. / np.pi), 90.)\n",
    "\n",
    "df.delta_tc = abs(df.delta_tc)\n",
    "df.delta_wt = abs(df.delta_wt)\n",
    "\n",
    "# Plot delta psi #####################\n",
    "\n",
    "def plot_ratio(ax, res_tuple_tc, res_tuple_wt):\n",
    "    val_of_bins_tc, bins_tc, patches_tc = res_tuple_tc\n",
    "    val_of_bins_wt, bins_wt, patches_wt = res_tuple_wt\n",
    "    edges_of_bins = bins_tc\n",
    "\n",
    "    # Set ratio where val_of_bins_data is not zero\n",
    "    ratio = np.divide(val_of_bins_wt,\n",
    "                      val_of_bins_tc,\n",
    "                      where=(val_of_bins_tc != 0))\n",
    "\n",
    "    # Compute error on ratio (null if cannot be computed)\n",
    "    # This is wrong as it's made for Gaussian distributions and here we have Poisson distribution\n",
    "    error = np.divide(val_of_bins_wt * np.sqrt(val_of_bins_tc) + val_of_bins_tc * np.sqrt(val_of_bins_wt),\n",
    "                       np.power(val_of_bins_tc, 2),\n",
    "                       where=(val_of_bins_tc != 0))\n",
    "\n",
    "    ax.set_ylabel('Ratio (WT/TC)', fontsize=20)\n",
    "    ax.axhline(y=1, linewidth=2, linestyle='--', color='gray', alpha=0.5)\n",
    "\n",
    "    bincenter = 0.5 * (edges_of_bins[1:] + edges_of_bins[:-1])\n",
    "    ax.errorbar(bincenter, ratio, yerr=error, fmt='o', color='k', elinewidth=3, capsize=4, capthick=3, linewidth=6)\n",
    "    ax.plot(bincenter, ratio, 'ok', linewidth=6)\n",
    "\n",
    "################################\n",
    "\n",
    "fig, ((ax1, ax2), (ax3, ax4)) = plt.subplots(nrows=2, ncols=2, figsize=(16, 9))\n",
    "\n",
    "#BINS_START, BINS_STOP, BINS_STEP = 0., 99., 9.\n",
    "#BINS_START, BINS_STOP, BINS_STEP = 0., 99., 9.\n",
    "\n",
    "#BINS = np.arange(BINS_START, BINS_STOP, BINS_STEP)\n",
    "#BINS = 30\n",
    "#BINS = np.linspace(BINS_START, BINS_STOP, 30)\n",
    "#BINS = [3.53056780e-03, 5.99515231e+00, 1.19867741e+01, 1.79783958e+01, 2.39700176e+01, 2.99616393e+01,\n",
    "#        3.59532610e+01, 4.19448828e+01, 4.79365045e+01, 5.39281263e+01, 5.99197480e+01, 6.59113698e+01,\n",
    "#        7.19029915e+01, 7.78946133e+01, 8.38862350e+01, 8.98778568e+01]\n",
    "BINS = 15\n",
    "\n",
    "################################\n",
    "\n",
    "NPE_MIN, NPE_MAX = 50, FAINT_BRIGHT_BORDER\n",
    "res_tuple_tc1 = ax1.hist(df[df.peSum_tc > NPE_MIN][df.peSum_tc <= NPE_MAX]['delta_tc'],\n",
    "                         label=\"TC num={}\".format(len(df[df.peSum_tc > NPE_MIN][df.peSum_tc <= NPE_MAX])),\n",
    "                         bins=BINS,\n",
    "                         linewidth=2, alpha=.5, color='blue', histtype=\"step\")\n",
    "\n",
    "res_tuple_wt1 = ax1.hist(df[df.peSum_wt > NPE_MIN][df.peSum_wt <= NPE_MAX]['delta_wt'],\n",
    "                         label=\"WT num={}\".format(len(df[df.peSum_wt > NPE_MIN][df.peSum_wt <= NPE_MAX])),\n",
    "                         bins=BINS,\n",
    "                         linewidth=2, alpha=.5, color='red',  histtype=\"step\")\n",
    "\n",
    "ax1.set_title(\"{} to {} NPE\".format(NPE_MIN, NPE_MAX), fontsize=20)\n",
    "ax1.set_xlabel(\"delta_psi\", fontsize=20)\n",
    "ax1.set_ylabel(\"counts\", fontsize=20)\n",
    "ax1.legend(prop={'size': 18}, loc='best', fancybox=True, framealpha=0.5)\n",
    "\n",
    "plot_ratio(ax3, res_tuple_tc1, res_tuple_wt1)\n",
    "\n",
    "################################\n",
    "\n",
    "NPE_MIN, NPE_MAX = FAINT_BRIGHT_BORDER, 2000\n",
    "res_tuple_tc2 = ax2.hist(df[df.peSum_tc > NPE_MIN][df.peSum_tc <= NPE_MAX]['delta_tc'],\n",
    "                         label=\"TC num={}\".format(len(df[df.peSum_tc > NPE_MIN][df.peSum_tc <= NPE_MAX])),\n",
    "                         bins=BINS,\n",
    "                         linewidth=2, alpha=.5, color='blue', histtype=\"step\")\n",
    "\n",
    "res_tuple_wt2 = ax2.hist(df[df.peSum_wt > NPE_MIN][df.peSum_wt <= NPE_MAX]['delta_wt'],\n",
    "                         label=\"WT num={}\".format(len(df[df.peSum_wt > NPE_MIN][df.peSum_wt <= NPE_MAX])),\n",
    "                         bins=BINS,\n",
    "                         linewidth=2, alpha=.5, color='red',  histtype=\"step\")\n",
    "\n",
    "ax2.set_title(\"{} to {} NPE\".format(NPE_MIN, NPE_MAX), fontsize=20)\n",
    "ax2.set_xlabel(\"delta_psi\", fontsize=20)\n",
    "ax2.set_ylabel(\"counts\", fontsize=20)\n",
    "ax2.legend(prop={'size': 18}, loc='best', fancybox=True, framealpha=0.5)\n",
    "\n",
    "plot_ratio(ax4, res_tuple_tc2, res_tuple_wt2)\n",
    "\n",
    "#ax.set_yscale('log')"
   ]
  },
  {
   "cell_type": "markdown",
   "metadata": {},
   "source": [
    "## Delta psi from script"
   ]
  },
  {
   "cell_type": "markdown",
   "metadata": {},
   "source": [
    "Rem: this is a cross check, you can ignore it..."
   ]
  },
  {
   "cell_type": "code",
   "execution_count": null,
   "metadata": {
    "collapsed": false
   },
   "outputs": [],
   "source": [
    "#%run ./utils/plot_delta_psi.py --notebook --metric hillas2_delta_psi_norm2 xps/2017_02_23_sapcta/run_8/score_gamma_all_wavelets_mrfilter_kill.json xps/2017_02_22_sapcta/run_1/score_gamma_all_tailcut_kill.json"
   ]
  },
  {
   "cell_type": "code",
   "execution_count": null,
   "metadata": {
    "collapsed": true
   },
   "outputs": [],
   "source": []
  }
 ],
 "metadata": {
  "anaconda-cloud": {},
  "kernelspec": {
   "display_name": "Python [conda env:cta]",
   "language": "python",
   "name": "conda-env-cta-py"
  },
  "language_info": {
   "codemirror_mode": {
    "name": "ipython",
    "version": 3
   },
   "file_extension": ".py",
   "mimetype": "text/x-python",
   "name": "python",
   "nbconvert_exporter": "python",
   "pygments_lexer": "ipython3",
   "version": "3.5.2"
  }
 },
 "nbformat": 4,
 "nbformat_minor": 1
}
