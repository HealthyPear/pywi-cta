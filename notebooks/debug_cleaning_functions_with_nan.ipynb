{
 "cells": [
  {
   "cell_type": "code",
   "execution_count": null,
   "metadata": {
    "collapsed": false
   },
   "outputs": [],
   "source": [
    "%matplotlib inline\n",
    "\n",
    "import matplotlib\n",
    "matplotlib.rcParams['figure.figsize'] = (6, 6)\n",
    "\n",
    "import scipy.ndimage as ndimage\n",
    "\n",
    "import math\n",
    "import numpy as np\n",
    "np.set_printoptions(threshold=np.nan)\n",
    "import matplotlib.pyplot as plt\n",
    "\n",
    "from matplotlib.colors import LogNorm\n",
    "\n",
    "from astropy.io import fits\n",
    "import os.path\n",
    "\n",
    "import ipywidgets\n",
    "from ipywidgets import interact\n",
    "\n",
    "import sys\n",
    "sys.path.append(\"../\")\n",
    "sys.path.append(\"../utils\")\n",
    "\n",
    "import datapipe\n",
    "import datapipe.image.kill_isolated_pixels as kill_islands\n",
    "import common_functions as common"
   ]
  },
  {
   "cell_type": "code",
   "execution_count": null,
   "metadata": {
    "collapsed": true
   },
   "outputs": [],
   "source": [
    "file_path = \"/Users/jdecock/data/astri_mini_array/fits/gamma/run1001.simtel.gz_TEL001_EV155601.fits\""
   ]
  },
  {
   "cell_type": "markdown",
   "metadata": {},
   "source": [
    "## Null"
   ]
  },
  {
   "cell_type": "code",
   "execution_count": null,
   "metadata": {
    "collapsed": false
   },
   "outputs": [],
   "source": [
    "import datapipe.denoising.null as null\n",
    "\n",
    "fig, (ax1, ax2) = plt.subplots(nrows=1, ncols=2, figsize=(16, 8))\n",
    "\n",
    "images_dict, metadata_dict = datapipe.io.images.load_benchmark_images(file_path)\n",
    "\n",
    "inp_img = images_dict[\"input_image\"]\n",
    "ref_img = images_dict[\"reference_image\"]\n",
    "pix_pos = images_dict[\"pixels_position\"]\n",
    "\n",
    "cleaning_algorithm = null.Null()\n",
    "cln_img = cleaning_algorithm.clean_image(inp_img)\n",
    "\n",
    "common.plot_image_meter(ax1, inp_img, pix_pos, title=\"Input image\", plot_log_scale=True)\n",
    "common.plot_image_meter(ax2, cln_img, pix_pos, title=\"Cleaned image\", plot_log_scale=True)\n",
    "\n",
    "#print(\"cleaned_img:\", cln_img)         # may contain NaN"
   ]
  },
  {
   "cell_type": "markdown",
   "metadata": {},
   "source": [
    "## Tailcut"
   ]
  },
  {
   "cell_type": "code",
   "execution_count": null,
   "metadata": {
    "collapsed": false,
    "scrolled": false
   },
   "outputs": [],
   "source": [
    "import datapipe.denoising.tailcut as tailcut\n",
    "\n",
    "fig, (ax1, ax2) = plt.subplots(nrows=1, ncols=2, figsize=(16, 8))\n",
    "\n",
    "images_dict, metadata_dict = datapipe.io.images.load_benchmark_images(file_path)\n",
    "\n",
    "inp_img = images_dict[\"input_image\"]\n",
    "ref_img = images_dict[\"reference_image\"]\n",
    "pix_pos = images_dict[\"pixels_position\"]\n",
    "\n",
    "cleaning_algorithm = tailcut.Tailcut()\n",
    "cln_img = cleaning_algorithm.clean_image(inp_img,\n",
    "                                         high_threshold=10.,\n",
    "                                         low_threshold=8.,\n",
    "                                         kill_isolated_pixels=False,\n",
    "                                         verbose=False)\n",
    "\n",
    "common.plot_image_meter(ax1, inp_img, pix_pos, title=\"Input image\", plot_log_scale=True)\n",
    "common.plot_image_meter(ax2, cln_img, pix_pos, title=\"Cleaned image\", plot_log_scale=True)\n",
    "\n",
    "#print(\"cleaned_img:\", cln_img)         # may contain NaN"
   ]
  },
  {
   "cell_type": "markdown",
   "metadata": {},
   "source": [
    "## Mr_filter"
   ]
  },
  {
   "cell_type": "code",
   "execution_count": null,
   "metadata": {
    "collapsed": false
   },
   "outputs": [],
   "source": [
    "cleaning_algorithm = datapipe.denoising.wavelets_mrfilter.WaveletTransform()\n",
    "cln_img = cleaning_algorithm.clean_image(inp_img, raw_option_string=\"-K -k -C1 -m3 -n4 -s4\")\n",
    "\n",
    "fig, (ax1, ax2) = plt.subplots(nrows=1, ncols=2, figsize=(16, 8))\n",
    "common.plot_image_meter(ax1, cln_img, pix_pos, title=\"Cleaned image\", plot_log_scale=False)\n",
    "common.plot_image_meter(ax2, ref_img, pix_pos, title=\"Ref. image\", plot_log_scale=False)"
   ]
  }
 ],
 "metadata": {
  "anaconda-cloud": {},
  "kernelspec": {
   "display_name": "Python [conda env:cta]",
   "language": "python",
   "name": "conda-env-cta-py"
  },
  "language_info": {
   "codemirror_mode": {
    "name": "ipython",
    "version": 3
   },
   "file_extension": ".py",
   "mimetype": "text/x-python",
   "name": "python",
   "nbconvert_exporter": "python",
   "pygments_lexer": "ipython3",
   "version": "3.5.2"
  }
 },
 "nbformat": 4,
 "nbformat_minor": 1
}
