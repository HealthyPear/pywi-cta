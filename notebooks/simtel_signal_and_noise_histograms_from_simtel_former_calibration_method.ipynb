{
 "cells": [
  {
   "cell_type": "markdown",
   "metadata": {},
   "source": [
    "# Signal and noise histograms (from simtel files)"
   ]
  },
  {
   "cell_type": "code",
   "execution_count": 1,
   "metadata": {
    "collapsed": true,
    "scrolled": false
   },
   "outputs": [],
   "source": [
    "%matplotlib inline\n",
    "\n",
    "import numpy as np\n",
    "import matplotlib\n",
    "matplotlib.rcParams['figure.figsize'] = (8, 8)\n",
    "\n",
    "import sys\n",
    "sys.path.append(\"..\")\n",
    "import datapipe\n",
    "import datapipe.io.montecarlo_calibration_astri as mc_calibration\n",
    "\n",
    "import ctapipe\n",
    "from ctapipe.io.hessio import hessio_event_source\n",
    "import pyhessio\n",
    "\n",
    "#ctapipe.version.get_version()\n",
    "print(ctapipe.__version__)\n",
    "print(pyhessio.__version__)\n",
    "\n",
    "from ctapipe.instrument import CameraGeometry"
   ]
  },
  {
   "cell_type": "code",
   "execution_count": 4,
   "metadata": {
    "collapsed": true
   },
   "outputs": [],
   "source": [
    "MAX_NUM_SAMPLES = 2000000"
   ]
  },
  {
   "cell_type": "markdown",
   "metadata": {},
   "source": [
    "## Common functions"
   ]
  },
  {
   "cell_type": "code",
   "execution_count": 5,
   "metadata": {
    "collapsed": true,
    "scrolled": true
   },
   "outputs": [],
   "source": [
    "def plot_all(simtel_file,\n",
    "             tel_id_filter_list,\n",
    "             channel_threshold,\n",
    "             cam_id,\n",
    "             max_num_samples=1000000):\n",
    "\n",
    "    print(\"Cam ID:\", cam_id)\n",
    "    print(\"Simtel file:\", simtel_file)\n",
    "    print(\"Tel ID range:\", tel_id_filter_list)\n",
    "\n",
    "    source = hessio_event_source(simtel_file, allowed_tels=tel_id_filter_list)\n",
    "\n",
    "    #in_sample_list = []\n",
    "    sig_sample_list = []\n",
    "    #noise_sample_list = []\n",
    "    noise2_sample_list = []\n",
    "    \n",
    "    # ITERATE OVER EVENTS #############################################\n",
    "\n",
    "    for ev in source:\n",
    "\n",
    "        if len(sig_sample_list) >= max_num_samples:\n",
    "            break\n",
    "        \n",
    "        #calib.calibrate(ev)  # calibrate the event\n",
    "        \n",
    "        # ITERATE OVER IMAGES #########################################\n",
    "\n",
    "        for tel_id in ev.trig.tels_with_trigger:\n",
    "            \n",
    "            if len(sig_sample_list) >= max_num_samples:\n",
    "                break\n",
    "\n",
    "            tel_id = int(tel_id)\n",
    "\n",
    "            if tel_id in tel_id_filter_list:\n",
    "\n",
    "                # CHECK THE IMAGE GEOMETRY ############################\n",
    "\n",
    "                x, y = ev.inst.pixel_pos[tel_id]\n",
    "                foclen = ev.inst.optical_foclen[tel_id]\n",
    "                geom = ctapipe.instrument.CameraGeometry.guess(x, y, foclen)\n",
    "\n",
    "                if geom.cam_id != cam_id:\n",
    "                    raise ValueError(\"Telescope {}: error (the input image is not a valide {} telescope image but a {} telescope image)\".format(tel_id, cam_id, geom.cam_id))\n",
    "\n",
    "                # GET IMAGES ##########################################\n",
    "\n",
    "                pe_image = ev.mc.tel[tel_id].photo_electron_image  # 1D np array\n",
    "                uncalibrated_image = ev.r0.tel[tel_id].adc_sums   # ctapipe 0.4.0\n",
    "                pedestal = ev.mc.tel[tel_id].pedestal\n",
    "                gain = ev.mc.tel[tel_id].dc_to_pe\n",
    "                #pixel_pos = ev.inst.pixel_pos[tel_id]\n",
    "                #calibrated_image = ev.dl1.tel[tel_id].image\n",
    "                \n",
    "                calibrated_image = mc_calibration.apply_mc_calibration(uncalibrated_image, pedestal, gain)\n",
    "                \n",
    "                # ADD SAMPLES #########################################\n",
    "\n",
    "                #in_sample_list.append(calibrated_image)\n",
    "                sig_sample_list.append(pe_image)\n",
    "                #noise_sample_list.append(calibrated_image - pe_image)\n",
    "                noise2_sample_list.extend(calibrated_image[pe_image == 0.].tolist())\n",
    "\n",
    "    #in_sample_array = np.array(in_sample_list).ravel()\n",
    "    \n",
    "    sig_sample_array = np.array(sig_sample_list).ravel()\n",
    "    del sig_sample_list\n",
    "    \n",
    "    #noise_sample_array = np.array(noise_sample_list).ravel()\n",
    "    \n",
    "    noise2_sample_array = np.array(noise2_sample_list)\n",
    "    del noise2_sample_list\n",
    "\n",
    "    # PLOT ############################################################\n",
    "    \n",
    "    fig, (ax1, ax2) = plt.subplots(ncols=1, nrows=2, figsize=(13, 13))\n",
    "    \n",
    "    num_bins = 100\n",
    "    \n",
    "    print(\"Num samples:\", len(sig_sample_array))\n",
    "    print(\"Memory usage for sig_sample_array: {} Mb\".format(sig_sample_array.nbytes / 1000000.))\n",
    "    print(\"Memory usage for noise2_sample_array: {} Mb\".format(noise2_sample_array.nbytes / 1000000.))\n",
    "    \n",
    "    #plt.hist(in_sample_array, bins=num_bins, range=(-10, 2500), log=True);\n",
    "\n",
    "    ax1.hist(sig_sample_array,\n",
    "             bins=num_bins,\n",
    "             range=(-10, 2500),\n",
    "             log=True)\n",
    "\n",
    "    #plt.hist(noise_sample_array,\n",
    "    #         bins=num_bins,\n",
    "    #         range=(-50, 50),\n",
    "    #         log=False);\n",
    "\n",
    "    ax2.hist(noise2_sample_array,\n",
    "             bins=num_bins,\n",
    "             #range=(-10, 50),\n",
    "             log=False)\n",
    "    \n",
    "    print(\"Noise: Mean = {} ; Std = {}\".format(noise2_sample_array.mean(), noise2_sample_array.std()))"
   ]
  },
  {
   "cell_type": "markdown",
   "metadata": {},
   "source": [
    "## ASTRI : former calibration method"
   ]
  },
  {
   "cell_type": "code",
   "execution_count": 6,
   "metadata": {},
   "outputs": [
    {
     "name": "stderr",
     "output_type": "stream",
     "text": [
      "WARNING:ctapipe.core.provenance:No activity has been started... starting a default one\n"
     ]
    },
    {
     "name": "stdout",
     "output_type": "stream",
     "text": [
      "Cam ID: ASTRICam\n",
      "Simtel file: /Users/jdecock/vm-shared/data/astri_mini_array/simtel/gamma/run1001.simtel.gz\n",
      "Tel ID range: [1, 2, 3, 4, 5, 6, 7, 8, 9, 10, 11, 12, 13, 14, 15, 16, 17, 18, 19, 20, 21, 22, 23, 24, 25, 26, 27, 28, 29, 30, 31, 32, 33]\n",
      "Num samples: 35280832\n",
      "Memory usage for sig_sample_array: 141.123328 Mb\n",
      "Memory usage for noise2_sample_array: 273.958416 Mb\n",
      "Noise: Mean = 2.3908609943024826 ; Std = 1.6126124149838617\n",
      "CPU times: user 3min 48s, sys: 6.95 s, total: 3min 55s\n",
      "Wall time: 4min 6s\n"
     ]
    },
    {
     "data": {
      "image/png": "[encoded data removed]",
      "text/plain": [
       "<matplotlib.figure.Figure at 0x117963978>"
      ]
     },
     "metadata": {},
     "output_type": "display_data"
    }
   ],
   "source": [
    "%%time\n",
    "\n",
    "channel_threshold = 14   # FYI Tino uses 14\n",
    "\n",
    "gamma_file_path =  \"/Users/jdecock/vm-shared/data/astri_mini_array/simtel/gamma/run1001.simtel.gz\"\n",
    "proton_file_path = \"/Users/jdecock/vm-shared/data/astri_mini_array/simtel/proton/run10001.simtel.gz\"\n",
    "\n",
    "plot_all(gamma_file_path,\n",
    "         tel_id_filter_list=list(range(1, 34)),\n",
    "         channel_threshold=channel_threshold,\n",
    "         cam_id=\"ASTRICam\",\n",
    "         max_num_samples=MAX_NUM_SAMPLES)"
   ]
  }
 ],
 "metadata": {
  "anaconda-cloud": {},
  "kernelspec": {
   "display_name": "Python [conda env:cta]",
   "language": "python",
   "name": "conda-env-cta-py"
  },
  "language_info": {
   "codemirror_mode": {
    "name": "ipython",
    "version": 3
   },
   "file_extension": ".py",
   "mimetype": "text/x-python",
   "name": "python",
   "nbconvert_exporter": "python",
   "pygments_lexer": "ipython3",
   "version": "3.5.1"
  }
 },
 "nbformat": 4,
 "nbformat_minor": 1
}
