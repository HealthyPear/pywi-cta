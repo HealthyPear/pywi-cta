{
 "cells": [
  {
   "cell_type": "code",
   "execution_count": null,
   "metadata": {
    "collapsed": false,
    "scrolled": false
   },
   "outputs": [],
   "source": [
    "%matplotlib inline\n",
    "\n",
    "import matplotlib\n",
    "matplotlib.rcParams['figure.figsize'] = (6, 6)\n",
    "\n",
    "import math\n",
    "import numpy as np\n",
    "import matplotlib.pyplot as plt\n",
    "\n",
    "import scipy\n",
    "import scipy.stats\n",
    "\n",
    "from astropy.io import fits\n",
    "import os.path\n",
    "\n",
    "import sys\n",
    "sys.path.append(\"../\")\n",
    "sys.path.append(\"../utils\")\n",
    "\n",
    "import datapipe\n",
    "import common_functions as common"
   ]
  },
  {
   "cell_type": "markdown",
   "metadata": {},
   "source": [
    "\n",
    "## Options"
   ]
  },
  {
   "cell_type": "code",
   "execution_count": null,
   "metadata": {
    "collapsed": false
   },
   "outputs": [],
   "source": [
    "!mr_filter -h"
   ]
  },
  {
   "cell_type": "markdown",
   "metadata": {},
   "source": [
    "## Tool functions"
   ]
  },
  {
   "cell_type": "markdown",
   "metadata": {},
   "source": [
    "### Afficher les informations d'un fichier fits"
   ]
  },
  {
   "cell_type": "code",
   "execution_count": null,
   "metadata": {
    "collapsed": true
   },
   "outputs": [],
   "source": [
    "# %load /Users/jdecock/git/pub/jdhp/snippets/python/astropy/fits/print_infos.py\n",
    "def fits_info(file_path):\n",
    "    hdu_list = fits.open(file_path)\n",
    "    hdu_list.info()\n",
    "    hdu_list.close()"
   ]
  },
  {
   "cell_type": "markdown",
   "metadata": {},
   "source": [
    "### Créer un fichier fits"
   ]
  },
  {
   "cell_type": "code",
   "execution_count": null,
   "metadata": {
    "collapsed": true
   },
   "outputs": [],
   "source": [
    "# %load /Users/jdecock/git/pub/jdhp/snippets/python/astropy/fits/create_a_2d_fits_image_v2.py\n",
    "def data_to_fits(img, file_path):\n",
    "    hdu = fits.PrimaryHDU(img)\n",
    "    hdu.writeto(file_path, clobber=True)"
   ]
  },
  {
   "cell_type": "markdown",
   "metadata": {},
   "source": [
    "### Lire un fichier fits"
   ]
  },
  {
   "cell_type": "code",
   "execution_count": null,
   "metadata": {
    "collapsed": true
   },
   "outputs": [],
   "source": [
    "def fits_to_data(file_path):\n",
    "    hdu_list = fits.open(file_path) # Open the FITS file\n",
    "    data = hdu_list[0].data\n",
    "    hdu_list.close()                # Close the FITS file\n",
    "    return data"
   ]
  },
  {
   "cell_type": "markdown",
   "metadata": {},
   "source": [
    "### Charger un fichier fits mrfilter"
   ]
  },
  {
   "cell_type": "code",
   "execution_count": null,
   "metadata": {
    "collapsed": true
   },
   "outputs": [],
   "source": [
    "def read_mr_file(file_path):\n",
    "    hdu_list = fits.open(file_path) # Open the FITS file\n",
    "    data = hdu_list[0].data\n",
    "    hdu_list.close()                # Close the FITS file\n",
    "    return data"
   ]
  },
  {
   "cell_type": "markdown",
   "metadata": {},
   "source": [
    "### Plot"
   ]
  },
  {
   "cell_type": "code",
   "execution_count": null,
   "metadata": {
    "collapsed": true
   },
   "outputs": [],
   "source": [
    "def plot(data, title=\"\", log=False):\n",
    "    fig = plt.figure()\n",
    "    ax1 = fig.add_subplot(111)\n",
    "\n",
    "    ax1.set_title(title)\n",
    "    \n",
    "    if log:\n",
    "        # See http://matplotlib.org/examples/pylab_examples/pcolor_log.html\n",
    "        #     http://stackoverflow.com/questions/2546475/how-can-i-draw-a-log-normalized-imshow-plot-with-a-colorbar-representing-the-raw\n",
    "        #im = ax1.pcolor(x, y, image_array, norm=LogNorm(vmin=0.01, vmax=image_array.max()), cmap=self.color_map)  # TODO: \"vmin=0.01\" is an arbitrary choice...\n",
    "        im = ax1.imshow(data, interpolation='nearest', origin='lower', norm=LogNorm(vmin=0.01, vmax=data.max()), cmap=\"gnuplot2\")   # cmap=cm.inferno and cmap=\"inferno\" are both valid\n",
    "    else:\n",
    "        im = ax1.imshow(data, interpolation='nearest', origin='lower', cmap=\"gnuplot2\")   # cmap=cm.inferno and cmap=\"inferno\" are both valid\n",
    "        #im = ax1.pcolor(x, y, image_array, cmap=self.color_map, vmin=z_min, vmax=z_max)\n",
    "\n",
    "    plt.colorbar(im, ax=ax1)  # draw the colorbar\n",
    "    \n",
    "    #ax2 = fig.add_subplot(212)\n",
    "    #ax2.hist(data)\n",
    "    \n",
    "    plt.show()"
   ]
  },
  {
   "cell_type": "code",
   "execution_count": null,
   "metadata": {
    "collapsed": true
   },
   "outputs": [],
   "source": [
    "#datapipe.io.images.plot(img, title=\"...\")\n",
    "#common.plot_image_meter(ax, img, pix_pos, title=\"...\", plot_log_scale=True)"
   ]
  },
  {
   "cell_type": "markdown",
   "metadata": {},
   "source": [
    "## Experiments with mock data"
   ]
  },
  {
   "cell_type": "markdown",
   "metadata": {},
   "source": [
    "### Make data"
   ]
  },
  {
   "cell_type": "code",
   "execution_count": null,
   "metadata": {
    "collapsed": true
   },
   "outputs": [],
   "source": [
    "size = 400\n",
    "\n",
    "x = np.linspace(.0, np.pi, size)\n",
    "y = np.linspace(.0, np.pi, size)\n",
    "X, Y = np.meshgrid(x, y)\n",
    "\n",
    "Z = np.sin(X*4.) * np.sin(Y*4.) + 1.\n",
    "\n",
    "#Zmask = np.ones(Zn.shape, dtype=np.bool)\n",
    "#border_size = int(size / 4)\n",
    "#Zmask[border_size:2*border_size,border_size:2*border_size] = False\n",
    "#Z[Zmask] = 0\n",
    "\n",
    "Zn = Z + np.random.uniform(low=0., high=2., size=Z.shape)"
   ]
  },
  {
   "cell_type": "code",
   "execution_count": null,
   "metadata": {
    "collapsed": false
   },
   "outputs": [],
   "source": [
    "fig = plt.figure()\n",
    "ax = fig.add_subplot(111)\n",
    "\n",
    "im = ax.imshow(Z, interpolation='nearest', origin='lower', cmap=\"gray\") # gnuplot2\n",
    "plt.colorbar(im, ax=ax)  # draw the colorbar\n",
    "\n",
    "plt.show()"
   ]
  },
  {
   "cell_type": "code",
   "execution_count": null,
   "metadata": {
    "collapsed": false,
    "scrolled": true
   },
   "outputs": [],
   "source": [
    "fig = plt.figure()\n",
    "ax = fig.add_subplot(111)\n",
    "\n",
    "im = ax.imshow(Zn, interpolation='nearest', origin='lower', cmap=\"gray\") # gnuplot2\n",
    "plt.colorbar(im, ax=ax)  # draw the colorbar\n",
    "\n",
    "plt.show()"
   ]
  },
  {
   "cell_type": "code",
   "execution_count": null,
   "metadata": {
    "collapsed": false
   },
   "outputs": [],
   "source": [
    "Zmask = np.zeros(Zn.shape, dtype=np.bool)\n",
    "\n",
    "border_size = int(size / 4)\n",
    "Zmask[:border_size,:border_size] = True\n",
    "Zmask[-border_size:,-border_size:] = True\n",
    "Zmask[:border_size,-border_size:] = True\n",
    "Zmask[-border_size:,:border_size] = True"
   ]
  },
  {
   "cell_type": "code",
   "execution_count": null,
   "metadata": {
    "collapsed": false
   },
   "outputs": [],
   "source": [
    "Znc = Zn.copy()\n",
    "Znc[Zmask] = 0"
   ]
  },
  {
   "cell_type": "code",
   "execution_count": null,
   "metadata": {
    "collapsed": false,
    "scrolled": false
   },
   "outputs": [],
   "source": [
    "fig = plt.figure()\n",
    "ax = fig.add_subplot(111)\n",
    "\n",
    "im = ax.imshow(Znc, interpolation='nearest', origin='lower', cmap=\"gray\") # gnuplot2\n",
    "plt.colorbar(im, ax=ax)  # draw the colorbar\n",
    "\n",
    "plt.show()"
   ]
  },
  {
   "cell_type": "code",
   "execution_count": null,
   "metadata": {
    "collapsed": false
   },
   "outputs": [],
   "source": [
    "#Zm = np.logical_not(Zmask).astype(np.int8, copy=True)\n",
    "#Zm = np.logical_not(Zmask).astype(np.int, copy=True)\n",
    "Zm = np.logical_not(Zmask).astype(np.uint8, copy=True)"
   ]
  },
  {
   "cell_type": "code",
   "execution_count": null,
   "metadata": {
    "collapsed": false,
    "scrolled": false
   },
   "outputs": [],
   "source": [
    "fig = plt.figure()\n",
    "ax = fig.add_subplot(111)\n",
    "\n",
    "im = ax.imshow(Zm, interpolation='nearest', origin='lower', cmap=\"gray\") # gnuplot2\n",
    "plt.colorbar(im, ax=ax)  # draw the colorbar\n",
    "\n",
    "plt.show()"
   ]
  },
  {
   "cell_type": "markdown",
   "metadata": {},
   "source": [
    "### Make a fits files for mr_filter"
   ]
  },
  {
   "cell_type": "markdown",
   "metadata": {},
   "source": [
    "#### Noised image without corner"
   ]
  },
  {
   "cell_type": "code",
   "execution_count": null,
   "metadata": {
    "collapsed": false,
    "scrolled": false
   },
   "outputs": [],
   "source": [
    "data_to_fits(Zn, \"zn.fits\")\n",
    "plot(fits_to_data(\"zn.fits\"))"
   ]
  },
  {
   "cell_type": "markdown",
   "metadata": {},
   "source": [
    "#### Noised image with corners"
   ]
  },
  {
   "cell_type": "code",
   "execution_count": null,
   "metadata": {
    "collapsed": false,
    "scrolled": false
   },
   "outputs": [],
   "source": [
    "data_to_fits(Znc, \"znc.fits\")\n",
    "plot(fits_to_data(\"znc.fits\"))"
   ]
  },
  {
   "cell_type": "markdown",
   "metadata": {},
   "source": [
    "#### Mask"
   ]
  },
  {
   "cell_type": "code",
   "execution_count": null,
   "metadata": {
    "collapsed": false,
    "scrolled": true
   },
   "outputs": [],
   "source": [
    "data_to_fits(Zm, \"mask.fits\")\n",
    "plot(fits_to_data(\"mask.fits\"))"
   ]
  },
  {
   "cell_type": "code",
   "execution_count": null,
   "metadata": {
    "collapsed": false
   },
   "outputs": [],
   "source": [
    "fits_info(\"mask.fits\")"
   ]
  },
  {
   "cell_type": "markdown",
   "metadata": {},
   "source": [
    "### Reference"
   ]
  },
  {
   "cell_type": "code",
   "execution_count": null,
   "metadata": {
    "collapsed": false
   },
   "outputs": [],
   "source": [
    "plot(Z)"
   ]
  },
  {
   "cell_type": "markdown",
   "metadata": {},
   "source": [
    "### Call mr_filter"
   ]
  },
  {
   "cell_type": "code",
   "execution_count": null,
   "metadata": {
    "collapsed": false
   },
   "outputs": [],
   "source": [
    "!mr_filter -w planes.mr -n4 zn.fits out.mr\n",
    "\n",
    "fits_info(\"out.mr\")\n",
    "plot(read_mr_file(\"out.mr\"))\n",
    "\n",
    "plot(read_mr_file(\"planes.mr\")[0])\n",
    "plot(read_mr_file(\"planes.mr\")[1])\n",
    "plot(read_mr_file(\"planes.mr\")[2])\n",
    "plot(read_mr_file(\"planes.mr\")[3])"
   ]
  },
  {
   "cell_type": "code",
   "execution_count": null,
   "metadata": {
    "collapsed": false,
    "scrolled": true
   },
   "outputs": [],
   "source": [
    "!mr_filter -w planes.mr -n4 znc.fits out.mr\n",
    "\n",
    "fits_info(\"out.mr\")\n",
    "plot(read_mr_file(\"out.mr\"))\n",
    "\n",
    "plot(read_mr_file(\"planes.mr\")[0])\n",
    "plot(read_mr_file(\"planes.mr\")[1])\n",
    "plot(read_mr_file(\"planes.mr\")[2])\n",
    "plot(read_mr_file(\"planes.mr\")[3])"
   ]
  },
  {
   "cell_type": "code",
   "execution_count": null,
   "metadata": {
    "collapsed": false
   },
   "outputs": [],
   "source": [
    "!mr_filter -w planes.mr -n4 -I mask.fits znc.fits out.mr\n",
    "#!mr_filter -w planes.mr -n4 -K -I mask.fits znc.fits out.mr\n",
    "\n",
    "fits_info(\"out.mr\")\n",
    "plot(read_mr_file(\"out.mr\"))\n",
    "\n",
    "plot(read_mr_file(\"planes.mr\")[0])\n",
    "plot(read_mr_file(\"planes.mr\")[1])\n",
    "plot(read_mr_file(\"planes.mr\")[2])\n",
    "plot(read_mr_file(\"planes.mr\")[3])"
   ]
  },
  {
   "cell_type": "markdown",
   "metadata": {},
   "source": [
    "## Experiments with mock data 2"
   ]
  },
  {
   "cell_type": "markdown",
   "metadata": {},
   "source": [
    "### Make data"
   ]
  },
  {
   "cell_type": "code",
   "execution_count": null,
   "metadata": {
    "collapsed": true
   },
   "outputs": [],
   "source": [
    "size = 400\n",
    "\n",
    "x = np.linspace(.0, np.pi, size)\n",
    "y = np.linspace(.0, np.pi, size)\n",
    "X, Y = np.meshgrid(x, y)\n",
    "\n",
    "mu, sigma = np.pi/2., 8\n",
    "Z = np.exp(-((X-mu)**2 + (Y-mu)**2) / 2.0 * sigma**2) * 100.\n",
    "\n",
    "#Zmask = np.ones(Zn.shape, dtype=np.bool)\n",
    "#border_size = int(size / 4)\n",
    "#Zmask[border_size:2*border_size,border_size:2*border_size] = False\n",
    "#Z[Zmask] = 0\n",
    "\n",
    "Zn = Z + np.random.uniform(low=0., high=100., size=Z.shape)"
   ]
  },
  {
   "cell_type": "code",
   "execution_count": null,
   "metadata": {
    "collapsed": false
   },
   "outputs": [],
   "source": [
    "fig = plt.figure()\n",
    "ax = fig.add_subplot(111)\n",
    "\n",
    "im = ax.imshow(Z, interpolation='nearest', origin='lower', cmap=\"gray\") # gnuplot2\n",
    "plt.colorbar(im, ax=ax)  # draw the colorbar\n",
    "\n",
    "plt.show()"
   ]
  },
  {
   "cell_type": "code",
   "execution_count": null,
   "metadata": {
    "collapsed": false,
    "scrolled": true
   },
   "outputs": [],
   "source": [
    "fig = plt.figure()\n",
    "ax = fig.add_subplot(111)\n",
    "\n",
    "im = ax.imshow(Zn, interpolation='nearest', origin='lower', cmap=\"gray\") # gnuplot2\n",
    "plt.colorbar(im, ax=ax)  # draw the colorbar\n",
    "\n",
    "plt.show()"
   ]
  },
  {
   "cell_type": "code",
   "execution_count": null,
   "metadata": {
    "collapsed": false
   },
   "outputs": [],
   "source": [
    "Zmask = np.zeros(Zn.shape, dtype=np.bool)\n",
    "Zmask[150:250,150:250] = True"
   ]
  },
  {
   "cell_type": "code",
   "execution_count": null,
   "metadata": {
    "collapsed": false
   },
   "outputs": [],
   "source": [
    "Znc = Zn.copy()\n",
    "Znc[Zmask] = 0"
   ]
  },
  {
   "cell_type": "code",
   "execution_count": null,
   "metadata": {
    "collapsed": false
   },
   "outputs": [],
   "source": [
    "fig = plt.figure()\n",
    "ax = fig.add_subplot(111)\n",
    "\n",
    "im = ax.imshow(Znc, interpolation='nearest', origin='lower', cmap=\"gray\") # gnuplot2\n",
    "plt.colorbar(im, ax=ax)  # draw the colorbar\n",
    "\n",
    "plt.show()"
   ]
  },
  {
   "cell_type": "code",
   "execution_count": null,
   "metadata": {
    "collapsed": false
   },
   "outputs": [],
   "source": [
    "#Zm = np.logical_not(Zmask).astype(np.int8, copy=True)\n",
    "#Zm = np.logical_not(Zmask).astype(np.int, copy=True)\n",
    "Zm = np.logical_not(Zmask).astype(np.uint8, copy=True)"
   ]
  },
  {
   "cell_type": "code",
   "execution_count": null,
   "metadata": {
    "collapsed": false,
    "scrolled": false
   },
   "outputs": [],
   "source": [
    "fig = plt.figure()\n",
    "ax = fig.add_subplot(111)\n",
    "\n",
    "im = ax.imshow(Zm, interpolation='nearest', origin='lower', cmap=\"gray\") # gnuplot2\n",
    "plt.colorbar(im, ax=ax)  # draw the colorbar\n",
    "\n",
    "plt.show()"
   ]
  },
  {
   "cell_type": "markdown",
   "metadata": {},
   "source": [
    "### Make a fits files for mr_filter"
   ]
  },
  {
   "cell_type": "markdown",
   "metadata": {},
   "source": [
    "#### Noised image without corner"
   ]
  },
  {
   "cell_type": "code",
   "execution_count": null,
   "metadata": {
    "collapsed": false,
    "scrolled": true
   },
   "outputs": [],
   "source": [
    "data_to_fits(Zn, \"zn.fits\")\n",
    "plot(fits_to_data(\"zn.fits\"))"
   ]
  },
  {
   "cell_type": "markdown",
   "metadata": {},
   "source": [
    "#### Mask"
   ]
  },
  {
   "cell_type": "code",
   "execution_count": null,
   "metadata": {
    "collapsed": false,
    "scrolled": true
   },
   "outputs": [],
   "source": [
    "data_to_fits(Zm, \"mask.fits\")\n",
    "plot(fits_to_data(\"mask.fits\"))"
   ]
  },
  {
   "cell_type": "code",
   "execution_count": null,
   "metadata": {
    "collapsed": false
   },
   "outputs": [],
   "source": [
    "fits_info(\"mask.fits\")"
   ]
  },
  {
   "cell_type": "markdown",
   "metadata": {},
   "source": [
    "### Reference"
   ]
  },
  {
   "cell_type": "code",
   "execution_count": null,
   "metadata": {
    "collapsed": false
   },
   "outputs": [],
   "source": [
    "plot(Z)"
   ]
  },
  {
   "cell_type": "markdown",
   "metadata": {},
   "source": [
    "### Call mr_filter"
   ]
  },
  {
   "cell_type": "code",
   "execution_count": null,
   "metadata": {
    "collapsed": false
   },
   "outputs": [],
   "source": [
    "!mr_filter -w planes.mr -n4 zn.fits out.mr\n",
    "\n",
    "fits_info(\"out.mr\")\n",
    "plot(read_mr_file(\"out.mr\"))\n",
    "\n",
    "plot(read_mr_file(\"planes.mr\")[0])\n",
    "plot(read_mr_file(\"planes.mr\")[1])\n",
    "plot(read_mr_file(\"planes.mr\")[2])\n",
    "plot(read_mr_file(\"planes.mr\")[3])"
   ]
  },
  {
   "cell_type": "code",
   "execution_count": null,
   "metadata": {
    "collapsed": false,
    "scrolled": false
   },
   "outputs": [],
   "source": [
    "!mr_filter -w planes.mr -n4 -I mask.fits zn.fits out.mr\n",
    "\n",
    "fits_info(\"out.mr\")\n",
    "plot(read_mr_file(\"out.mr\"))\n",
    "\n",
    "plot(read_mr_file(\"planes.mr\")[0])\n",
    "plot(read_mr_file(\"planes.mr\")[1])\n",
    "plot(read_mr_file(\"planes.mr\")[2])\n",
    "plot(read_mr_file(\"planes.mr\")[3])"
   ]
  },
  {
   "cell_type": "markdown",
   "metadata": {},
   "source": [
    "## Experiment with ASTRI data"
   ]
  },
  {
   "cell_type": "code",
   "execution_count": null,
   "metadata": {
    "collapsed": true
   },
   "outputs": [],
   "source": [
    "#datapipe.io.images.plot(img, title=\"plot()\")\n",
    "#common.plot_image_meter(ax1, inp_img, pix_pos, title=\"Input image\", plot_log_scale=True)"
   ]
  },
  {
   "cell_type": "code",
   "execution_count": null,
   "metadata": {
    "collapsed": true
   },
   "outputs": [],
   "source": [
    "#file_path = \"/Users/jdecock/data/astri_mini_array/fits/gamma/run1001.simtel.gz_TEL001_EV07702.fits\"\n",
    "file_path = \"/Users/jdecock/data/astri_mini_array/fits/gamma/run1001.simtel.gz_TEL001_EV07702.fits\"\n",
    "\n",
    "inp_ref = datapipe.io.images.load_benchmark_images(file_path)[0][\"reference_image\"]\n",
    "inp_img = datapipe.io.images.load_benchmark_images(file_path)[0][\"input_image\"]\n",
    "pix_pos = datapipe.io.images.load_benchmark_images(file_path)[0][\"pixels_position\"]\n",
    "msk_img = datapipe.io.images.load_benchmark_images(file_path)[0][\"pixels_mask\"]"
   ]
  },
  {
   "cell_type": "code",
   "execution_count": null,
   "metadata": {
    "collapsed": false
   },
   "outputs": [],
   "source": [
    "!rm -v znc.fits"
   ]
  },
  {
   "cell_type": "code",
   "execution_count": null,
   "metadata": {
    "collapsed": false,
    "scrolled": true
   },
   "outputs": [],
   "source": [
    "data_to_fits(inp_img, \"znc.fits\")\n",
    "plot(fits_to_data(\"znc.fits\"))\n",
    "#print(fits_to_data(\"znc.fits\"))"
   ]
  },
  {
   "cell_type": "code",
   "execution_count": null,
   "metadata": {
    "collapsed": false
   },
   "outputs": [],
   "source": [
    "!rm -v mask.fits"
   ]
  },
  {
   "cell_type": "code",
   "execution_count": null,
   "metadata": {
    "collapsed": false,
    "scrolled": false
   },
   "outputs": [],
   "source": [
    "msk_img = msk_img.astype(np.uint8, copy=True)\n",
    "data_to_fits(msk_img, \"mask.fits\")\n",
    "plot(fits_to_data(\"mask.fits\"))\n",
    "#print(fits_to_data(\"mask.fits\"))"
   ]
  },
  {
   "cell_type": "code",
   "execution_count": null,
   "metadata": {
    "collapsed": false
   },
   "outputs": [],
   "source": [
    "!rm -v out.mr planes.mr"
   ]
  },
  {
   "cell_type": "code",
   "execution_count": null,
   "metadata": {
    "collapsed": false,
    "scrolled": false
   },
   "outputs": [],
   "source": [
    "!mr_filter -w planes.mr -K -k -C1 -m3 -n4 -s4 out.mr\n",
    "#!mr_filter -w planes.mr -K -k -C1 -m3 -n4 -s2,2,3,3 -I mask.fits znc.fits out.mr\n",
    "#!mr_filter -w planes.mr -n4 -I mask.fits znc.fits out.mr\n",
    "\n",
    "fits_info(\"out.mr\")\n",
    "plot(read_mr_file(\"out.mr\"))\n",
    "\n",
    "plot(read_mr_file(\"planes.mr\")[0])\n",
    "plot(read_mr_file(\"planes.mr\")[1])\n",
    "plot(read_mr_file(\"planes.mr\")[2])\n",
    "plot(read_mr_file(\"planes.mr\")[3])"
   ]
  },
  {
   "cell_type": "code",
   "execution_count": null,
   "metadata": {
    "collapsed": true
   },
   "outputs": [],
   "source": []
  }
 ],
 "metadata": {
  "anaconda-cloud": {},
  "kernelspec": {
   "display_name": "Python [conda env:cta]",
   "language": "python",
   "name": "conda-env-cta-py"
  },
  "language_info": {
   "codemirror_mode": {
    "name": "ipython",
    "version": 3
   },
   "file_extension": ".py",
   "mimetype": "text/x-python",
   "name": "python",
   "nbconvert_exporter": "python",
   "pygments_lexer": "ipython3",
   "version": "3.5.2"
  }
 },
 "nbformat": 4,
 "nbformat_minor": 1
}
