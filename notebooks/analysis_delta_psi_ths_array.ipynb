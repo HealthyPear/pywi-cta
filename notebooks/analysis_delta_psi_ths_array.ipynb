{
 "cells": [
  {
   "cell_type": "code",
   "execution_count": null,
   "metadata": {
    "collapsed": false
   },
   "outputs": [],
   "source": [
    "#%matplotlib notebook\n",
    "%matplotlib inline\n",
    "#%config InlineBackend.figure_formats=['svg']\n",
    "#%config InlineBackend.figure_formats=['pdf']\n",
    "\n",
    "import matplotlib\n",
    "\n",
    "matplotlib.rcParams['figure.figsize'] = (12, 9)\n",
    "\n",
    "import scipy\n",
    "import scipy.stats\n",
    "import math\n",
    "import numpy as np\n",
    "import pandas as pd\n",
    "\n",
    "#import ipywidgets\n",
    "#from ipywidgets import interact"
   ]
  },
  {
   "cell_type": "markdown",
   "metadata": {},
   "source": [
    "## Delta psi"
   ]
  },
  {
   "cell_type": "code",
   "execution_count": null,
   "metadata": {
    "collapsed": false,
    "scrolled": false
   },
   "outputs": [],
   "source": [
    "CSV_FILE_PATH = \"../xps/best.csv\"\n",
    "\n",
    "WAVELET_LABEL = \"Wavelets-n4-K-k-C1-s3-m3-kill\"\n",
    "#WAVELET_LABEL = \"WT-ref-f3-s3\"\n",
    "#WAVELET_LABEL = \"WT-t24-f3-s4\"\n",
    "#WAVELET_LABEL = \"WT-t28-f3-s5\"\n",
    "#WAVELET_LABEL = \"WT-ref-s2-2-3-3\"\n",
    "\n",
    "TAILCUT_LABEL = \"Tailcut-5-10-kill\"\n",
    "\n",
    "PART = 0         # 0 for gamma, 1 for protons\n",
    "\n",
    "XLINE = 100\n",
    "\n",
    "full_df = pd.read_csv(CSV_FILE_PATH)\n",
    "\n",
    "ref = full_df[full_df.Type == 'Ref']\n",
    "ref = ref[ref.Part == PART]\n",
    "\n",
    "tc = full_df[full_df.Type == TAILCUT_LABEL]\n",
    "tc = tc[tc.Part == PART]\n",
    "\n",
    "wt = full_df[full_df.Type == WAVELET_LABEL]\n",
    "wt = wt[wt.Part == PART]\n",
    "\n",
    "tc_wt = pd.merge(tc, wt, on=\"Id\", how=\"outer\", suffixes=('_tc', '_wt'))  #.dropna(how='any')\n",
    "df = pd.merge(tc_wt, ref, on=\"Id\", how=\"outer\")\n",
    "\n",
    "df[\"delta_tc\"] = np.fmod(((df['hPsi'] - df['hPsi_tc']) * 180. / np.pi), 90.)\n",
    "df[\"delta_wt\"] = np.fmod(((df['hPsi'] - df['hPsi_wt']) * 180. / np.pi), 90.)\n",
    "\n",
    "df.delta_tc = abs(df.delta_tc)\n",
    "df.delta_wt = abs(df.delta_wt)\n",
    "\n",
    "###################################\n",
    "\n",
    "print(\"TC 50 < pesum < 2000:\", len(df[df.peSum_tc > 50][df.peSum_tc < 2000]))\n",
    "print(\"WT 50 < pesum < 2000:\", len(df[df.peSum_wt > 50][df.peSum_wt < 2000]))\n",
    "\n",
    "print(\"TC pesum > 50 & pemax1 < 2000:\", len(df[df.peSum_tc > 50][df.peMax1_tc < 2000]))\n",
    "print(\"WT pesum > 50 & pemax1 < 2000:\", len(df[df.peSum_wt > 50][df.peMax1_wt < 2000]))\n",
    "\n",
    "print(\"TC pesum > 50 & pemax1 < 1800:\", len(df[df.peSum_tc > 50][df.peMax1_tc < 1800]))\n",
    "print(\"WT pesum > 50 & pemax1 < 1800:\", len(df[df.peSum_wt > 50][df.peMax1_wt < 1800]))\n",
    "\n",
    "print(\"TC pesum > 50 & pemax1 < 2000 & delta psi < 1°:\",\n",
    "      len(df[df.peSum_tc > 50][df.peMax1_tc < 2000][df.delta_tc < 1.]))\n",
    "print(\"WT pesum > 50 & pemax1 < 2000 & delta psi < 1°:\",\n",
    "      len(df[df.peSum_wt > 50][df.peMax1_wt < 2000][df.delta_wt < 1.]))\n",
    "\n",
    "print(\"TC pesum > 50 & pemax1 < 2000 & delta psi < 0.5°:\",\n",
    "      len(df[df.peSum_tc > 50][df.peMax1_tc < 2000][df.delta_tc < 0.5]))\n",
    "print(\"WT pesum > 50 & pemax1 < 2000 & delta psi < 0.5°:\",\n",
    "      len(df[df.peSum_wt > 50][df.peMax1_wt < 2000][df.delta_wt < 0.5]))\n",
    "\n",
    "print(\"TC pesum > 50 & pemax1 < 2000 & delta psi < 0.2°:\",\n",
    "      len(df[df.peSum_tc > 50][df.peMax1_tc < 2000][df.delta_tc < 0.2]))\n",
    "print(\"WT pesum > 50 & pemax1 < 2000 & delta psi < 0.2°:\",\n",
    "      len(df[df.peSum_wt > 50][df.peMax1_wt < 2000][df.delta_wt < 0.2]))\n",
    "\n",
    "print(\"TC pesum > 50 & pesum < 100:\",\n",
    "      len(df[df.peSum_tc > 50][df.peSum_tc < 100]))\n",
    "print(\"WT pesum > 50 & pesum < 100:\",\n",
    "      len(df[df.peSum_wt > 50][df.peSum_wt < 100]))\n",
    "\n",
    "print(\"TC pesum > 50 & pesum < 100 & delta psi < 6°:\",\n",
    "      len(df[df.peSum_tc > 50][df.peSum_tc < 100][df.delta_tc < 6.]))\n",
    "print(\"WT pesum > 50 & pesum < 100 & delta psi < 6°:\",\n",
    "      len(df[df.peSum_wt > 50][df.peSum_wt < 100][df.delta_wt < 6.]))"
   ]
  }
 ],
 "metadata": {
  "anaconda-cloud": {},
  "kernelspec": {
   "display_name": "Python [conda env:cta]",
   "language": "python",
   "name": "conda-env-cta-py"
  },
  "language_info": {
   "codemirror_mode": {
    "name": "ipython",
    "version": 3
   },
   "file_extension": ".py",
   "mimetype": "text/x-python",
   "name": "python",
   "nbconvert_exporter": "python",
   "pygments_lexer": "ipython3",
   "version": "3.5.2"
  }
 },
 "nbformat": 4,
 "nbformat_minor": 1
}
