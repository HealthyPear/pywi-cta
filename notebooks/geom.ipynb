{
 "cells": [
  {
   "cell_type": "markdown",
   "metadata": {},
   "source": [
    "# Camera Geometries"
   ]
  },
  {
   "cell_type": "markdown",
   "metadata": {},
   "source": [
    "See https://cta-observatory.github.io/ctapipe/instrument/index.html\n",
    "(or https://github.com/cta-observatory/ctapipe/blob/70a023d9c3d6ba4eada031dac59b1d8c152fc4b0/docs/instrument/index.rst)"
   ]
  },
  {
   "cell_type": "code",
   "execution_count": null,
   "metadata": {
    "collapsed": false,
    "scrolled": true
   },
   "outputs": [],
   "source": [
    "%matplotlib inline\n",
    "\n",
    "import matplotlib\n",
    "matplotlib.rcParams['figure.figsize'] = (6, 6)\n",
    "\n",
    "import math\n",
    "import numpy as np\n",
    "#np.set_printoptions(threshold=np.nan)\n",
    "\n",
    "import matplotlib.pyplot as plt\n",
    "from matplotlib.colors import LogNorm\n",
    "\n",
    "from astropy import units as u\n",
    "\n",
    "import ctapipe\n",
    "from ctapipe.io.hessio import hessio_event_source\n",
    "import pyhessio\n",
    "\n",
    "# Old version\n",
    "from ctapipe.io import camera\n",
    "\n",
    "# New version\n",
    "#from ctapipe.instrument import camera"
   ]
  },
  {
   "cell_type": "code",
   "execution_count": null,
   "metadata": {
    "collapsed": false
   },
   "outputs": [],
   "source": [
    "ctapipe.__file__"
   ]
  },
  {
   "cell_type": "code",
   "execution_count": null,
   "metadata": {
    "collapsed": false
   },
   "outputs": [],
   "source": [
    "ctapipe.__version__"
   ]
  },
  {
   "cell_type": "markdown",
   "metadata": {},
   "source": [
    "## Construct a CameraGeometry"
   ]
  },
  {
   "cell_type": "markdown",
   "metadata": {},
   "source": [
    "### Method #1: make from scratch"
   ]
  },
  {
   "cell_type": "code",
   "execution_count": null,
   "metadata": {
    "collapsed": true
   },
   "outputs": [],
   "source": [
    "# camera identification string\n",
    "cam_id = \"foo\""
   ]
  },
  {
   "cell_type": "code",
   "execution_count": null,
   "metadata": {
    "collapsed": false
   },
   "outputs": [],
   "source": [
    "# array(int): pixels id numbers\n",
    "pix_id = np.arange(1, 7)\n",
    "pix_id"
   ]
  },
  {
   "cell_type": "code",
   "execution_count": null,
   "metadata": {
    "collapsed": false
   },
   "outputs": [],
   "source": [
    "# array with units: position of each pixel (x-coordinate)\n",
    "pix_x = np.array([1., 2., 3., 1., 2., 3.]) / 100. * u.meter\n",
    "pix_x"
   ]
  },
  {
   "cell_type": "code",
   "execution_count": null,
   "metadata": {
    "collapsed": false
   },
   "outputs": [],
   "source": [
    "# array with units: position of each pixel (y-coordinate)\n",
    "pix_y = np.array([1., 1., 1., 2., 2., 2.]) / 100. * u.meter\n",
    "pix_y"
   ]
  },
  {
   "cell_type": "code",
   "execution_count": null,
   "metadata": {
    "collapsed": false
   },
   "outputs": [],
   "source": [
    "# array(float) surface area of each pixel\n",
    "pix_area = np.ones(6) / 100. * (u.meter ** 2)\n",
    "pix_area"
   ]
  },
  {
   "cell_type": "code",
   "execution_count": null,
   "metadata": {
    "collapsed": true
   },
   "outputs": [],
   "source": [
    "# list(arrays): adjacency list for each pixel\n",
    "neighbors = np.array([[2, 4], [1, 3, 5], [2, 6], [1, 5], [4, 2, 6], [3, 5]])"
   ]
  },
  {
   "cell_type": "code",
   "execution_count": null,
   "metadata": {
    "collapsed": true
   },
   "outputs": [],
   "source": [
    "# either 'rectangular' or 'hexagonal'\n",
    "pix_type = 'rectangular'"
   ]
  },
  {
   "cell_type": "code",
   "execution_count": null,
   "metadata": {
    "collapsed": false
   },
   "outputs": [],
   "source": [
    "geom = camera.CameraGeometry(cam_id, pix_id, pix_x, pix_y, pix_area, neighbors, pix_type)\n",
    "geom.to_table()"
   ]
  },
  {
   "cell_type": "markdown",
   "metadata": {},
   "source": [
    "### Method #2: *CameraGeometry.from_name()*"
   ]
  },
  {
   "cell_type": "markdown",
   "metadata": {},
   "source": [
    "Fails for astri:\n",
    "\n",
    "> No such file or directory: '.../ctapipe-extra/datasets/astri_camgeom.fits.gz'"
   ]
  },
  {
   "cell_type": "code",
   "execution_count": null,
   "metadata": {
    "collapsed": false
   },
   "outputs": [],
   "source": [
    "#geom = camera.CameraGeometry.from_name(\"astri\", 1)\n",
    "#geom = camera.CameraGeometry.from_name(\"HESS\", 1)"
   ]
  },
  {
   "cell_type": "markdown",
   "metadata": {},
   "source": [
    "### Method #3: \"guess()\""
   ]
  },
  {
   "cell_type": "markdown",
   "metadata": {},
   "source": [
    "Load a Monte-Carlo file, get the list of pixel X and Y positions and the telescope focal length and use ``CameraGeometry.guess(x,y,flen)`` - this will work for all telescopes in CTA so far."
   ]
  },
  {
   "cell_type": "code",
   "execution_count": null,
   "metadata": {
    "collapsed": false
   },
   "outputs": [],
   "source": [
    "tel_id = 1\n",
    "source = hessio_event_source(\"/Users/jdecock/data/astri_mini_array/proton/run10001.simtel.gz\", allowed_tels=[tel_id])"
   ]
  },
  {
   "cell_type": "code",
   "execution_count": null,
   "metadata": {
    "collapsed": false
   },
   "outputs": [],
   "source": [
    "for ev in source:\n",
    "    event = ev"
   ]
  },
  {
   "cell_type": "code",
   "execution_count": null,
   "metadata": {
    "collapsed": false
   },
   "outputs": [],
   "source": [
    "pix_x = event.inst.pixel_pos[tel_id][0]\n",
    "pix_y = event.inst.pixel_pos[tel_id][1]\n",
    "optical_foclen = event.inst.optical_foclen[tel_id]\n",
    "\n",
    "geom = camera.CameraGeometry.guess(pix_x, pix_y, optical_foclen)\n",
    "geom.to_table()"
   ]
  },
  {
   "cell_type": "code",
   "execution_count": null,
   "metadata": {
    "collapsed": false
   },
   "outputs": [],
   "source": [
    "print(\"cam_id:\", geom.cam_id)\n",
    "print(\"cam_rotation:\", geom.cam_rotation)\n",
    "#print(\"neighbors:\", geom.neighbors)\n",
    "print(\"pix_area:\", geom.pix_area)\n",
    "print(\"pix_id:\", geom.pix_id)\n",
    "print(\"pix_rotation:\", geom.pix_rotation)\n",
    "print(\"pix_type:\", geom.pix_type)\n",
    "print(\"pix_x:\", geom.pix_x)\n",
    "print(\"pix_y:\", geom.pix_y)"
   ]
  },
  {
   "cell_type": "markdown",
   "metadata": {},
   "source": [
    "### Method #4: load from table (fits file, hdf5 file, ...)"
   ]
  },
  {
   "cell_type": "markdown",
   "metadata": {},
   "source": [
    "Load from file (table) https://cta-observatory.github.io/ctapipe/instrument/index.html#input-output"
   ]
  },
  {
   "cell_type": "markdown",
   "metadata": {},
   "source": [
    "Doesn't work on ctapipe 0.4.0 (too old version ?)"
   ]
  },
  {
   "cell_type": "code",
   "execution_count": null,
   "metadata": {
    "collapsed": false
   },
   "outputs": [],
   "source": [
    "geom.to_table().write('astri.fits.gz')"
   ]
  },
  {
   "cell_type": "code",
   "execution_count": null,
   "metadata": {
    "collapsed": false
   },
   "outputs": [],
   "source": [
    "!ls 'astri.fits.gz'"
   ]
  },
  {
   "cell_type": "code",
   "execution_count": null,
   "metadata": {
    "collapsed": false
   },
   "outputs": [],
   "source": [
    "#geom = camera.CameraGeometry.from_table('astri.fits.gz')"
   ]
  },
  {
   "cell_type": "markdown",
   "metadata": {},
   "source": [
    "### Method #5: make a rectangular camera"
   ]
  },
  {
   "cell_type": "code",
   "execution_count": null,
   "metadata": {
    "collapsed": false
   },
   "outputs": [],
   "source": [
    "num_pixels_x, num_pixels_y, range_x, range_y = 5, 3, (-2., 2.), (-1., 1.)\n",
    "geom = ctapipe.io.camera.make_rectangular_camera_geometry(num_pixels_x, num_pixels_y, range_x, range_y)"
   ]
  },
  {
   "cell_type": "code",
   "execution_count": null,
   "metadata": {
    "collapsed": false
   },
   "outputs": [],
   "source": [
    "print(\"cam_id:\", geom.cam_id)\n",
    "print(\"cam_rotation:\", geom.cam_rotation)\n",
    "#print(\"neighbors:\", geom.neighbors)\n",
    "print(\"pix_area:\", geom.pix_area)\n",
    "print(\"pix_id:\", geom.pix_id)\n",
    "print(\"pix_rotation:\", geom.pix_rotation)\n",
    "print(\"pix_type:\", geom.pix_type)\n",
    "print(\"pix_x:\", geom.pix_x)\n",
    "print(\"pix_y:\", geom.pix_y)"
   ]
  },
  {
   "cell_type": "markdown",
   "metadata": {},
   "source": [
    "### Method #6: *CameraGeometry.from_file()*"
   ]
  },
  {
   "cell_type": "markdown",
   "metadata": {},
   "source": [
    "Doesn't work."
   ]
  },
  {
   "cell_type": "code",
   "execution_count": null,
   "metadata": {
    "collapsed": true
   },
   "outputs": [],
   "source": [
    "#import pyhessio as hessio"
   ]
  },
  {
   "cell_type": "code",
   "execution_count": null,
   "metadata": {
    "collapsed": false,
    "scrolled": true
   },
   "outputs": [],
   "source": [
    "#geom = camera.CameraGeometry.from_file(\"/Users/jdecock/data/astri_mini_array/proton/run10001.simtel.gz\", 1)"
   ]
  },
  {
   "cell_type": "markdown",
   "metadata": {},
   "source": [
    "### My method: JSON"
   ]
  },
  {
   "cell_type": "markdown",
   "metadata": {},
   "source": [
    "#### Make the geom.json file"
   ]
  },
  {
   "cell_type": "code",
   "execution_count": null,
   "metadata": {
    "collapsed": false
   },
   "outputs": [],
   "source": [
    "tel_id = 1\n",
    "source = hessio_event_source(\"/Users/jdecock/data/astri_mini_array/proton/run10001.simtel.gz\", allowed_tels=[tel_id])"
   ]
  },
  {
   "cell_type": "code",
   "execution_count": null,
   "metadata": {
    "collapsed": false
   },
   "outputs": [],
   "source": [
    "for ev in source:\n",
    "    event = ev"
   ]
  },
  {
   "cell_type": "code",
   "execution_count": null,
   "metadata": {
    "collapsed": false,
    "scrolled": false
   },
   "outputs": [],
   "source": [
    "pix_x = event.inst.pixel_pos[tel_id][0]\n",
    "pix_y = event.inst.pixel_pos[tel_id][1]\n",
    "optical_foclen = event.inst.optical_foclen[tel_id]\n",
    "\n",
    "geom = camera.CameraGeometry.guess(pix_x, pix_y, optical_foclen)\n",
    "geom.to_table()"
   ]
  },
  {
   "cell_type": "code",
   "execution_count": null,
   "metadata": {
    "collapsed": false,
    "scrolled": true
   },
   "outputs": [],
   "source": [
    "print(\"cam_id:\", geom.cam_id)\n",
    "print(\"cam_rotation:\", geom.cam_rotation)\n",
    "#print(\"neighbors:\", geom.neighbors)\n",
    "print(\"pix_area:\", geom.pix_area)\n",
    "print(\"pix_id:\", geom.pix_id)\n",
    "print(\"pix_rotation:\", geom.pix_rotation)\n",
    "print(\"pix_type:\", geom.pix_type)\n",
    "print(\"pix_x:\", geom.pix_x)\n",
    "print(\"pix_y:\", geom.pix_y)"
   ]
  },
  {
   "cell_type": "code",
   "execution_count": null,
   "metadata": {
    "collapsed": false
   },
   "outputs": [],
   "source": [
    "json_dict = {\"cam_id\": geom.cam_id,\n",
    "             \"cam_rotation\": geom.cam_rotation.value,\n",
    "             \"neighbors\": geom.neighbors,\n",
    "             \"pix_area\": geom.pix_area.value.tolist(),\n",
    "             \"pix_id\": geom.pix_id.tolist(),\n",
    "             #\"pix_rotation\": geom.pix_rotation,\n",
    "             \"pix_type\": geom.pix_type,\n",
    "             \"pix_x\": geom.pix_x.value.tolist(),\n",
    "             \"pix_y\": geom.pix_y.value.tolist()}\n",
    "\n",
    "#json_dict"
   ]
  },
  {
   "cell_type": "code",
   "execution_count": null,
   "metadata": {
    "collapsed": true
   },
   "outputs": [],
   "source": [
    "import json"
   ]
  },
  {
   "cell_type": "code",
   "execution_count": null,
   "metadata": {
    "collapsed": false
   },
   "outputs": [],
   "source": [
    "json_file_path = \"astri.geom.json\"\n",
    "\n",
    "with open(json_file_path, \"w\") as fd:\n",
    "    #json.dump(data, fd)                           # no pretty print\n",
    "    json.dump(json_dict, fd, sort_keys=True, indent=4)  # pretty print format"
   ]
  },
  {
   "cell_type": "markdown",
   "metadata": {},
   "source": [
    "#### Make the geom object from the geom.json file"
   ]
  },
  {
   "cell_type": "code",
   "execution_count": null,
   "metadata": {
    "collapsed": false
   },
   "outputs": [],
   "source": [
    "with open(json_file_path, 'r') as fd:\n",
    "    json_dict = json.load(fd)\n",
    "\n",
    "cam_id = json_dict['cam_id']\n",
    "pix_id = np.array(json_dict['pix_id'])\n",
    "pix_x =  np.array(json_dict['pix_x']) * u.meter\n",
    "pix_y =  np.array(json_dict['pix_y']) * u.meter\n",
    "pix_area =  np.array(json_dict['pix_area']) * (u.meter ** 2)\n",
    "neighbors = json_dict['neighbors']\n",
    "pix_type =  json_dict['pix_type']\n",
    "\n",
    "geom = camera.CameraGeometry(cam_id, pix_id, pix_x, pix_y, pix_area, neighbors, pix_type)\n",
    "\n",
    "print(\"cam_id:\", geom.cam_id)\n",
    "print(\"cam_rotation:\", geom.cam_rotation)\n",
    "#print(\"neighbors:\", geom.neighbors)\n",
    "print(\"pix_area:\", geom.pix_area)\n",
    "print(\"pix_id:\", geom.pix_id)\n",
    "print(\"pix_rotation:\", geom.pix_rotation)\n",
    "print(\"pix_type:\", geom.pix_type)\n",
    "print(\"pix_x:\", geom.pix_x)\n",
    "print(\"pix_y:\", geom.pix_y)"
   ]
  }
 ],
 "metadata": {
  "anaconda-cloud": {},
  "kernelspec": {
   "display_name": "Python [conda env:cta]",
   "language": "python",
   "name": "conda-env-cta-py"
  },
  "language_info": {
   "codemirror_mode": {
    "name": "ipython",
    "version": 3
   },
   "file_extension": ".py",
   "mimetype": "text/x-python",
   "name": "python",
   "nbconvert_exporter": "python",
   "pygments_lexer": "ipython3",
   "version": "3.5.2"
  }
 },
 "nbformat": 4,
 "nbformat_minor": 1
}
