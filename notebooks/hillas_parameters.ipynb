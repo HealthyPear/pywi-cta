{
 "cells": [
  {
   "cell_type": "code",
   "execution_count": null,
   "metadata": {
    "collapsed": false
   },
   "outputs": [],
   "source": [
    "%matplotlib inline\n",
    "\n",
    "import matplotlib\n",
    "matplotlib.rcParams['figure.figsize'] = (6, 6)\n",
    "\n",
    "import math\n",
    "import numpy as np\n",
    "import matplotlib.pyplot as plt\n",
    "\n",
    "from matplotlib.colors import LogNorm\n",
    "\n",
    "from astropy.io import fits\n",
    "import os.path\n",
    "\n",
    "import ipywidgets\n",
    "from ipywidgets import interact\n",
    "\n",
    "import sys\n",
    "sys.path.append(\"../\")\n",
    "sys.path.append(\"../utils\")\n",
    "\n",
    "import datapipe\n",
    "from datapipe.image.hillas_parameters import get_hillas_parameters\n",
    "import common_functions as common"
   ]
  },
  {
   "cell_type": "code",
   "execution_count": null,
   "metadata": {
    "collapsed": true
   },
   "outputs": [],
   "source": [
    "file_path_list = [\n",
    "    \"/Users/jdecock/data/astri_mini_array/fits/gamma/run1001.simtel.gz_TEL001_EV155601.fits\",\n",
    "    \"/Users/jdecock/data/astri_mini_array/fits/gamma/run1001.simtel.gz_TEL001_EV193406.fits\",\n",
    "    \"/Users/jdecock/data/astri_mini_array/fits/gamma/run1001.simtel.gz_TEL001_EV347307.fits\",\n",
    "    \"/Users/jdecock/data/astri_mini_array/fits/gamma/run1001.simtel.gz_TEL001_EV427404.fits\",\n",
    "    \"/Users/jdecock/data/astri_mini_array/fits/gamma/run1001.simtel.gz_TEL001_EV450207.fits\",\n",
    "    \"/Users/jdecock/data/astri_mini_array/fits/gamma/run1001.simtel.gz_TEL001_EV454807.fits\",\n",
    "    \"/Users/jdecock/data/astri_mini_array/fits/gamma/run1001.simtel.gz_TEL001_EV48104.fits\",\n",
    "    \"/Users/jdecock/data/astri_mini_array/fits/gamma/run1001.simtel.gz_TEL001_EV58000.fits\",\n",
    "    \"/Users/jdecock/data/astri_mini_array/fits/gamma/run1001.simtel.gz_TEL001_EV126402.fits\",\n",
    "    \"/Users/jdecock/data/astri_mini_array/fits/gamma/run1001.simtel.gz_TEL001_EV131305.fits\",\n",
    "    \"/Users/jdecock/data/astri_mini_array/fits/gamma/run1001.simtel.gz_TEL001_EV182506.fits\",\n",
    "    \"/Users/jdecock/data/astri_mini_array/fits/gamma/run1001.simtel.gz_TEL001_EV225002.fits\",\n",
    "    \"/Users/jdecock/data/astri_mini_array/fits/gamma/run1001.simtel.gz_TEL001_EV26603.fits\",\n",
    "    \"/Users/jdecock/data/astri_mini_array/fits/gamma/run1001.simtel.gz_TEL001_EV458108.fits\",\n",
    "    \"/Users/jdecock/data/astri_mini_array/fits/gamma/run1001.simtel.gz_TEL001_EV483109.fits\",\n",
    "    \"/Users/jdecock/data/astri_mini_array/fits/gamma/run1001.simtel.gz_TEL001_EV62605.fits\"\n",
    "    ]"
   ]
  },
  {
   "cell_type": "code",
   "execution_count": null,
   "metadata": {
    "collapsed": false
   },
   "outputs": [],
   "source": [
    "@interact(file_path=file_path_list)\n",
    "def compute_hillas_and_display(file_path):\n",
    "    fig = plt.figure()\n",
    "    ax1 = fig.add_subplot(111)\n",
    "\n",
    "    images_dict, metadata_dict = datapipe.io.images.load_benchmark_images(file_path)\n",
    "    ref_img = images_dict[\"reference_image\"]\n",
    "    pixels_positions = images_dict[\"pixels_position\"]\n",
    "\n",
    "    common.plot_image_meter(ax1, ref_img, pixels_positions, title=\"\", plot_log_scale=True)\n",
    "    common.plot_ellipse_shower_on_image_meter(ax1, ref_img, pixels_positions)\n",
    "\n",
    "    hillas_params = datapipe.image.hillas_parameters.get_hillas_parameters(ref_img, implementation=2, pixels_position=pixels_positions)\n",
    "\n",
    "    print(\"cen_x:...\", hillas_params.cen_x)\n",
    "    print(\"cen_y:...\", hillas_params.cen_y)\n",
    "\n",
    "    print(\"length:..\", hillas_params.length)\n",
    "    print(\"width:...\", hillas_params.width)\n",
    "\n",
    "    print(\"size:....\", hillas_params.size, \"PE\")\n",
    "    print(\"NPE: ....\", np.sum(ref_img), \"PE\")\n",
    "\n",
    "    print(\"psi:.....\", hillas_params.psi)\n",
    "\n",
    "    print(\"miss:....\", hillas_params.miss)\n",
    "    print(\"phi:.....\", hillas_params.phi)\n",
    "    print(\"r:.......\", hillas_params.r)\n",
    "\n",
    "    print(\"kurtosis:\", hillas_params.kurtosis)\n",
    "    print(\"skewness:\", hillas_params.skewness)"
   ]
  },
  {
   "cell_type": "raw",
   "metadata": {},
   "source": [
    "* cen_x:    x position of the ellipse's center (in meter)\n",
    "* cen_y:    y position of the ellipse's center (in meter)\n",
    "* length:   measure of the RMS extent along the major axis (in meter) (length >= width)\n",
    "* width:    measure of the RMS extent along the minor axis (in meter) (length >= width)\n",
    "* size:     the number of photoelectrons in the image (in PE)         (size = np.sum(image))\n",
    "* psi:      angle of the shower (in radian)\n",
    "* miss:     distance between the center of the field of view (the center of the image) and the major axis (in meter)\n",
    "* phi:      ??? (in radian)\n",
    "* r:        ??? (in meter)\n",
    "* kurtosis: Kurtosis is a measure of whether the data are heavy-tailed or light-tailed\n",
    "            relative to a normal distribution.\n",
    "            That is, data sets with high kurtosis tend to have heavy tails, or outliers.\n",
    "            Data sets with low kurtosis tend to have light tails, or lack of outliers.\n",
    "            See http://www.itl.nist.gov/div898/handbook/eda/section3/eda35b.htm\n",
    "* skewness: Skewness is a measure of symmetry, or more precisely, the lack of symmetry.\n",
    "            A distribution, or data set, is symmetric if it looks the same to the left\n",
    "            and right of the center point. See http://www.itl.nist.gov/div898/handbook/eda/section3/eda35b.htm"
   ]
  },
  {
   "cell_type": "markdown",
   "metadata": {},
   "source": [
    "For univariate data $Y_1, Y_2, \\dots, Y_N$, the formula for kurtosis is: \n",
    "\n",
    "$$\\mbox{kurtosis} = \\frac{\\sum_{i=1}^{N}(Y_{i} - \\bar{Y})^{4}/N}{s^{4}}$$\n",
    "\n",
    "where $\\bar{Y}$ is the mean, $s$ is the standard deviation, and $N$ is the number of data points. Note that in computing the kurtosis, the standard deviation is computed using $N$ in the denominator rather than $N - 1$.\n",
    "\n",
    "Alternative definition:\n",
    "\n",
    "$$\\mbox{kurtosis} = \\frac{\\sum_{i=1}^{N}(Y_{i} - \\bar{Y})^{4}/N}{s^{4}} - 3$$"
   ]
  },
  {
   "cell_type": "markdown",
   "metadata": {},
   "source": [
    "For univariate data Y1, Y2, ..., YN, the formula for skewness is:\n",
    "\n",
    "$$g_{1} = \\frac{\\sum_{i=1}^{N}(Y_{i} - \\bar{Y})^{3}/N} {s^{3}}$$\n",
    "\n",
    "where Y¯ is the mean, s is the standard deviation, and N is the number of data points. Note that in computing the skewness, the s is computed with N in the denominator rather than N - 1.\n",
    "\n",
    "The above formula for skewness is referred to as the Fisher-Pearson coefficient of skewness. Many software programs actually compute the adjusted Fisher-Pearson coefficient of skewness\n",
    "\n",
    "$$G_{1} = \\frac{\\sqrt{N(N-1)}}{N-1} \\frac{\\sum_{i=1}^{N}(Y_{i} - \\bar{Y})^{3}/N} {s^{3}}$$\n",
    "\n",
    "This is an adjustment for sample size. The adjustment approaches 1 as N gets large. For reference, the adjustment factor is 1.49 for N = 5, 1.19 for N = 10, 1.08 for N = 20, 1.05 for N = 30, and 1.02 for N = 100. "
   ]
  },
  {
   "cell_type": "code",
   "execution_count": null,
   "metadata": {
    "collapsed": true
   },
   "outputs": [],
   "source": [
    "sk = cos_delta * (pix_x - mean_x) + sin_delta * (pix_y - mean_y)\n",
    "\n",
    "kurtosis = ( (np.sum(image * np.power(sk, 4)) / size) /\n",
    "            ((np.sum(image * np.power(sk, 2)) / size) ** 2))\n",
    "           \n",
    "skewness = ( (np.sum(image * np.power(sk, 3)) / size) /\n",
    "            ((np.sum(image * np.power(sk, 2)) / size) ** (3. / 2)))"
   ]
  }
 ],
 "metadata": {
  "anaconda-cloud": {},
  "kernelspec": {
   "display_name": "Python [conda env:cta]",
   "language": "python",
   "name": "conda-env-cta-py"
  },
  "language_info": {
   "codemirror_mode": {
    "name": "ipython",
    "version": 3
   },
   "file_extension": ".py",
   "mimetype": "text/x-python",
   "name": "python",
   "nbconvert_exporter": "python",
   "pygments_lexer": "ipython3",
   "version": "3.5.2"
  }
 },
 "nbformat": 4,
 "nbformat_minor": 1
}
