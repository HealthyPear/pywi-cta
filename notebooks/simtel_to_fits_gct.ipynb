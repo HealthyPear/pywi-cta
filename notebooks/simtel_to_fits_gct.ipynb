{
 "cells": [
  {
   "cell_type": "code",
   "execution_count": null,
   "metadata": {
    "collapsed": false
   },
   "outputs": [],
   "source": [
    "#%matplotlib notebook\n",
    "%matplotlib inline\n",
    "\n",
    "import matplotlib\n",
    "matplotlib.rcParams['figure.figsize'] = (10, 10)\n",
    "\n",
    "import numpy as np\n",
    "#np.set_printoptions(threshold=np.nan)\n",
    "from matplotlib import pyplot as plt\n",
    "from matplotlib import cm\n",
    "\n",
    "import ctapipe\n",
    "from ctapipe.io.hessio import hessio_event_source\n",
    "import pyhessio\n",
    "\n",
    "import sys\n",
    "sys.path.append(\"/Users/jdecock/git/pub/jdhp-sap/sap-cta-data-pipeline\")\n",
    "\n",
    "import datapipe\n",
    "import datapipe.denoising.wavelets_mrfilter as mrfilter\n",
    "\n",
    "sys.path.append(\"/Users/jdecock/git/pub/jdhp-sap/sap-cta-data-pipeline/utils\")\n",
    "import common_functions as common\n",
    "\n",
    "from datapipe.io import images\n",
    "from datapipe.io import geometry_converter\n",
    "import datapipe.io.montecarlo_calibration_astri as mc_calibration"
   ]
  },
  {
   "cell_type": "code",
   "execution_count": null,
   "metadata": {
    "collapsed": true
   },
   "outputs": [],
   "source": [
    "tel_id = 1\n",
    "#source = hessio_event_source(\"/Users/jdecock/data/astri_mini_array/proton/run10001.simtel.gz\", allowed_tels=[tel_id])\n",
    "source = hessio_event_source(\"/Users/jdecock/data/gct/proton/group1run1000.simtel.gz\", allowed_tels=[tel_id])"
   ]
  },
  {
   "cell_type": "code",
   "execution_count": null,
   "metadata": {
    "collapsed": false
   },
   "outputs": [],
   "source": [
    "for ev in source:\n",
    "    if tel_id in ev.dl0.tel:\n",
    "        print(ev.dl0.tel[tel_id+1].adc_sums[1])"
   ]
  },
  {
   "cell_type": "code",
   "execution_count": null,
   "metadata": {
    "collapsed": false,
    "scrolled": true
   },
   "outputs": [],
   "source": [
    "#print(ev)"
   ]
  },
  {
   "cell_type": "code",
   "execution_count": null,
   "metadata": {
    "collapsed": false
   },
   "outputs": [],
   "source": [
    "# Pedestal\n",
    "#print(ev.mc.tel[tel_id].pedestal.shape)\n",
    "print(ev.mc.tel[tel_id].pedestal[0])\n",
    "\n",
    "# Gain\n",
    "print(ev.mc.tel[tel_id].dc_to_pe[0])\n",
    "\n",
    "# ADC sums\n",
    "print(ev.r0.tel[tel_id].adc_sums[0])\n",
    "\n",
    "print(ev.mc.tel[tel_id].photo_electron_image)\n",
    "\n",
    "ev.mc.tel[tel_id].reference_pulse_shape.shape\n",
    "\n",
    "fig, ax = plt.subplots(ncols=1, nrows=1, figsize=(10, 10))\n",
    "plt.plot(ev.mc.tel[tel_id].reference_pulse_shape[0])\n",
    "\n",
    "# TODO!!!\n",
    "#help(pyhessio)\n",
    "#pedestal, gains = get_mc_calibration_data(tel_id)\n",
    "#print(\"pedestal:\", pedestal)\n",
    "#print(\"gains:\", gains)"
   ]
  },
  {
   "cell_type": "code",
   "execution_count": null,
   "metadata": {
    "collapsed": true
   },
   "outputs": [],
   "source": [
    "# GET IMAGES ##############################################\n",
    "\n",
    "pe_image = ev.mc.tel[tel_id].photo_electron_image   # 1D np array\n",
    "calibrated_image = ev.r0.tel[tel_id].adc_sums     # ctapipe 0.4.0\n",
    "pedestal = ev.mc.tel[tel_id].pedestal\n",
    "gain = ev.mc.tel[tel_id].dc_to_pe\n",
    "pixel_pos = ev.inst.pixel_pos[tel_id]\n",
    "\n",
    "# calibrating\n",
    "#calibrated_image = mc_calibration.apply_mc_calibration(uncalibrated_image, pedestal, gain)"
   ]
  },
  {
   "cell_type": "code",
   "execution_count": null,
   "metadata": {
    "collapsed": false
   },
   "outputs": [],
   "source": [
    "# %load ~/git/pub/jdhp-sap/snippets/ctapipe/plot_pixels_index.py\n",
    "#!/usr/bin/env python3\n",
    "\n",
    "\"\"\"\n",
    "Display the pixel layout of the givent telescope as defined in a given simtel file.\n",
    "\"\"\"\n",
    "\n",
    "(pos_x_list, pos_y_list) = pixel_pos\n",
    "pos_x_list = [float(pos.value) for pos in pos_x_list]\n",
    "pos_y_list = [float(pos.value) for pos in pos_y_list]\n",
    "\n",
    "assert len(pos_x_list) == len(pos_y_list)\n",
    "\n",
    "# PLOT ####################################################################\n",
    "\n",
    "fig, ax = plt.subplots(ncols=1, nrows=1, figsize=(13, 13))\n",
    "\n",
    "# Scatter method ##################\n",
    "\n",
    "ax.scatter(pos_x_list,    # x\n",
    "           pos_y_list,    # y\n",
    "           s=0.2,         # radius\n",
    "           c=\"black\",     # color\n",
    "           alpha=0.75)\n",
    "\n",
    "ax.plot(pos_x_list,    # x\n",
    "        pos_y_list,    # y\n",
    "        \"k-\",\n",
    "        alpha=0.25)\n",
    "\n",
    "for pixel_index in range(len(pos_x_list)):\n",
    "    ax.text(pos_x_list[pixel_index], pos_y_list[pixel_index], str(pixel_index), fontsize=8)\n",
    "\n",
    "ax.set_title(\"Pixels position (telescope {})\".format(tel_id), fontsize=16)\n",
    "\n",
    "ax.set_xlabel(\"x position (m)\", fontsize=16)\n",
    "ax.set_ylabel(\"y position (m)\", fontsize=16)\n",
    "\n",
    "ax.set_xlim(-0.17, 0.17)\n",
    "ax.set_ylim(-0.17, 0.17)\n",
    "\n",
    "plt.show()"
   ]
  },
  {
   "cell_type": "markdown",
   "metadata": {},
   "source": [
    "### Plot image with ctapipe"
   ]
  },
  {
   "cell_type": "code",
   "execution_count": null,
   "metadata": {
    "collapsed": false
   },
   "outputs": [],
   "source": [
    "#%load ../../snippets/ctapipe/plot_events_image.py\n",
    "\n",
    "import ctapipe\n",
    "import ctapipe.visualization\n",
    "from ctapipe.io.hessio import hessio_event_source\n",
    "\n",
    "from matplotlib import pyplot as plt\n",
    "\n",
    "channel = 0\n",
    "\n",
    "pedestal = ev.mc.tel[tel_id].pedestal[channel]\n",
    "gain = ev.mc.tel[tel_id].dc_to_pe[channel]\n",
    "adc_sum = ev.r0.tel[tel_id].adc_sums[channel]\n",
    "pe = ev.mc.tel[tel_id].photo_electron_image\n",
    "\n",
    "#########################################################################\n",
    "\n",
    "x, y = ev.inst.pixel_pos[tel_id]\n",
    "foclen = ev.inst.optical_foclen[tel_id]\n",
    "geom = ctapipe.io.CameraGeometry.guess(x, y, foclen)\n",
    "\n",
    "disp = ctapipe.visualization.CameraDisplay(geom, title='CT%d' % tel_id)\n",
    "disp.enable_pixel_picker()\n",
    "disp.add_colorbar()\n",
    "\n",
    "disp.axes.set_title('Telescope {:03d}'.format(tel_id))\n",
    "\n",
    "# DISPLAY TIME-VARYING EVENT ############################################\n",
    "\n",
    "#data = event.dl0.tel[tel_num].adc_samples[channel]\n",
    "#for ii in range(data.shape[1]):\n",
    "#    disp.image = data[:, ii]\n",
    "#    disp.set_limits_percent(70)   # TODO\n",
    "#    plt.savefig('CT{:03d}_EV{:05d}_S{:02d}.png'.format(tel_num, event_id, ii), bbox_inches='tight')\n",
    "\n",
    "# DISPLAY INTEGRATED EVENT ##############################################\n",
    "\n",
    "#image = pedestal\n",
    "#image = gain\n",
    "#image = adc_sum\n",
    "image = pe\n",
    "\n",
    "disp.image = pe\n",
    "\n",
    "#disp.set_limits_minmax(0, 9000)\n",
    "disp.set_limits_percent(70)        # TODO\n",
    "\n",
    "# PLOT ##################################################################\n",
    "\n",
    "plt.show()"
   ]
  },
  {
   "cell_type": "markdown",
   "metadata": {},
   "source": [
    "## 2D to 1D"
   ]
  },
  {
   "cell_type": "markdown",
   "metadata": {},
   "source": [
    "#### Plot 2D to 1D image map"
   ]
  },
  {
   "cell_type": "code",
   "execution_count": null,
   "metadata": {
    "collapsed": false
   },
   "outputs": [],
   "source": [
    "fig, ax = plt.subplots(nrows=1, ncols=1, figsize=(10, 10))\n",
    "\n",
    "img_map = np.zeros([8*6, 8*6], dtype=int)\n",
    "\n",
    "# By default, pixels maps to the last element of input_img_ext (i.e. NaN)\n",
    "img_map[:] = -1\n",
    "\n",
    "# Map values\n",
    "img_map[:8,8:-8] = np.arange(8*8*4).reshape([8,8*4])\n",
    "img_map[8:40,:] = np.arange(32*48).reshape([32,48]) + 256\n",
    "img_map[-8:,8:-8] = np.arange(8*8*4).reshape([8,8*4]) + 1792\n",
    "\n",
    "plt.imshow(img_map, interpolation='nearest', origin='lower')\n",
    "plt.colorbar()"
   ]
  },
  {
   "cell_type": "code",
   "execution_count": null,
   "metadata": {
    "collapsed": false
   },
   "outputs": [],
   "source": [
    "fig, ax = plt.subplots(nrows=1, ncols=1, figsize=(10, 10))\n",
    "\n",
    "input_img_ext = np.zeros(image.shape[0] + 1)\n",
    "input_img_ext[:-1] = image[:]\n",
    "input_img_ext[-1] = np.nan\n",
    "\n",
    "img_2d = input_img_ext[[img_map.ravel()]].reshape([8*6, 8*6])\n",
    "\n",
    "plt.imshow(img_2d, interpolation='nearest', origin='lower')\n",
    "plt.colorbar()"
   ]
  },
  {
   "cell_type": "markdown",
   "metadata": {},
   "source": [
    "#### Plot 2D pixel mask"
   ]
  },
  {
   "cell_type": "code",
   "execution_count": null,
   "metadata": {
    "collapsed": false
   },
   "outputs": [],
   "source": [
    "fig, ax1 = plt.subplots(nrows=1, ncols=1, figsize=(10, 10))\n",
    "\n",
    "img_mask = np.zeros([8*6, 8*6], dtype=int)\n",
    "\n",
    "img_mask[:8,8:-8] = 1\n",
    "img_mask[8:40,:] = 1\n",
    "img_mask[-8:,8:-8] = 1\n",
    "\n",
    "plt.imshow(img_mask, interpolation='nearest', origin='lower')\n",
    "plt.colorbar()\n",
    "plt.show()"
   ]
  }
 ],
 "metadata": {
  "anaconda-cloud": {},
  "kernelspec": {
   "display_name": "Python [conda env:cta]",
   "language": "python",
   "name": "conda-env-cta-py"
  },
  "language_info": {
   "codemirror_mode": {
    "name": "ipython",
    "version": 3
   },
   "file_extension": ".py",
   "mimetype": "text/x-python",
   "name": "python",
   "nbconvert_exporter": "python",
   "pygments_lexer": "ipython3",
   "version": "3.5.2"
  }
 },
 "nbformat": 4,
 "nbformat_minor": 1
}
