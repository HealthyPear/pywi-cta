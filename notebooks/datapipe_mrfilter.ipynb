{
 "cells": [
  {
   "cell_type": "code",
   "execution_count": null,
   "metadata": {
    "collapsed": false,
    "scrolled": false
   },
   "outputs": [],
   "source": [
    "%matplotlib inline\n",
    "\n",
    "import matplotlib\n",
    "matplotlib.rcParams['figure.figsize'] = (6, 6)\n",
    "\n",
    "import math\n",
    "import numpy as np\n",
    "import matplotlib.pyplot as plt\n",
    "\n",
    "import scipy\n",
    "import scipy.stats\n",
    "\n",
    "from astropy.io import fits\n",
    "import os.path\n",
    "\n",
    "import sys\n",
    "sys.path.append(\"../\")\n",
    "sys.path.append(\"../utils\")\n",
    "\n",
    "import datapipe\n",
    "import common_functions as common"
   ]
  },
  {
   "cell_type": "code",
   "execution_count": null,
   "metadata": {
    "collapsed": true
   },
   "outputs": [],
   "source": [
    "#datapipe.io.images.plot(img, title=\"...\")\n",
    "#common.plot_image_meter(ax, img, pix_pos, title=\"...\", plot_log_scale=True)"
   ]
  },
  {
   "cell_type": "markdown",
   "metadata": {},
   "source": [
    "## Experiment with ASTRI data"
   ]
  },
  {
   "cell_type": "code",
   "execution_count": null,
   "metadata": {
    "collapsed": true
   },
   "outputs": [],
   "source": [
    "#datapipe.io.images.plot(img, title=\"plot()\")\n",
    "#common.plot_image_meter(ax1, inp_img, pix_pos, title=\"Input image\", plot_log_scale=True)"
   ]
  },
  {
   "cell_type": "code",
   "execution_count": null,
   "metadata": {
    "collapsed": false
   },
   "outputs": [],
   "source": [
    "#file_path = \"/Users/jdecock/data/astri_mini_array/fits/gamma/run1001.simtel.gz_TEL001_EV07702.fits\"\n",
    "file_path = \"/Users/jdecock/data/astri_mini_array/fits/proton/run10000.simtel.gz_TEL001_EV08001.fits\"\n",
    "\n",
    "ref_img = datapipe.io.images.load_benchmark_images(file_path)[0][\"reference_image\"]\n",
    "inp_img = datapipe.io.images.load_benchmark_images(file_path)[0][\"input_image\"]\n",
    "pix_pos = datapipe.io.images.load_benchmark_images(file_path)[0][\"pixels_position\"]\n",
    "msk_img = datapipe.io.images.load_benchmark_images(file_path)[0][\"pixels_mask\"]\n",
    "\n",
    "fig, (ax1, ax2) = plt.subplots(nrows=1, ncols=2, figsize=(16, 8))\n",
    "common.plot_image_meter(ax1, inp_img, pix_pos, title=\"Input image\", plot_log_scale=False)\n",
    "common.plot_image_meter(ax2, ref_img, pix_pos, title=\"Ref. image\", plot_log_scale=False)"
   ]
  },
  {
   "cell_type": "code",
   "execution_count": null,
   "metadata": {
    "collapsed": false
   },
   "outputs": [],
   "source": [
    "cleaning_algorithm = datapipe.denoising.wavelets_mrfilter.WaveletTransform()\n",
    "cln_img = cleaning_algorithm.clean_image(inp_img, raw_option_string=\"-K -k -C1 -m3 -n4 -s4\")\n",
    "\n",
    "fig, (ax1, ax2) = plt.subplots(nrows=1, ncols=2, figsize=(16, 8))\n",
    "common.plot_image_meter(ax1, cln_img, pix_pos, title=\"Cleaned image\", plot_log_scale=False)\n",
    "common.plot_image_meter(ax2, ref_img, pix_pos, title=\"Ref. image\", plot_log_scale=False)"
   ]
  }
 ],
 "metadata": {
  "anaconda-cloud": {},
  "kernelspec": {
   "display_name": "Python [conda env:cta]",
   "language": "python",
   "name": "conda-env-cta-py"
  },
  "language_info": {
   "codemirror_mode": {
    "name": "ipython",
    "version": 3
   },
   "file_extension": ".py",
   "mimetype": "text/x-python",
   "name": "python",
   "nbconvert_exporter": "python",
   "pygments_lexer": "ipython3",
   "version": "3.5.2"
  }
 },
 "nbformat": 4,
 "nbformat_minor": 1
}
