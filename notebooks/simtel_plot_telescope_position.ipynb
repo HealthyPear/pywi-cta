{
 "cells": [
  {
   "cell_type": "code",
   "execution_count": null,
   "metadata": {
    "collapsed": false
   },
   "outputs": [],
   "source": [
    "%matplotlib inline\n",
    "\n",
    "import numpy as np\n",
    "import matplotlib.pyplot as plt\n",
    "\n",
    "import ctapipe\n",
    "from ctapipe.io.hessio import hessio_event_source\n",
    "import pyhessio"
   ]
  },
  {
   "cell_type": "code",
   "execution_count": null,
   "metadata": {
    "collapsed": false
   },
   "outputs": [],
   "source": [
    "#source = hessio_event_source(\"/Users/jdecock/data/astri_mini_array/proton/run10001.simtel.gz\", allowed_tels=[tel_id])\n",
    "source = hessio_event_source(\"/Users/jdecock/data/gct/proton/group1run1000.simtel.gz\", allowed_tels=[1])"
   ]
  },
  {
   "cell_type": "code",
   "execution_count": null,
   "metadata": {
    "collapsed": false
   },
   "outputs": [],
   "source": [
    "for ev in source:\n",
    "    event = ev\n",
    "    if 1 in ev.dl0.tel:\n",
    "        print(ev.dl0.tel[1].adc_sums[1])"
   ]
  },
  {
   "cell_type": "code",
   "execution_count": null,
   "metadata": {
    "collapsed": false
   },
   "outputs": [],
   "source": [
    "#print(ev)"
   ]
  },
  {
   "cell_type": "code",
   "execution_count": null,
   "metadata": {
    "collapsed": false
   },
   "outputs": [],
   "source": [
    "tel_pos_id = []\n",
    "tel_pos_x = []\n",
    "tel_pos_y = []\n",
    "tel_pos_z = []\n",
    "\n",
    "for key, value in ev.inst.tel_pos.items():\n",
    "    tel_pos_id.append(key)\n",
    "    tel_pos_x.append(float(value[0].value))\n",
    "    tel_pos_y.append(float(value[1].value))\n",
    "    tel_pos_z.append(float(value[2].value))\n",
    "\n",
    "for tel in zip(tel_pos_id, tel_pos_x, tel_pos_y, tel_pos_z):\n",
    "    print(tel)"
   ]
  },
  {
   "cell_type": "code",
   "execution_count": null,
   "metadata": {
    "collapsed": false
   },
   "outputs": [],
   "source": [
    "assert len(tel_pos_id) == len(tel_pos_x) == len(tel_pos_y) == len(tel_pos_z)\n",
    "\n",
    "fig, ax = plt.subplots(ncols=1, nrows=1, figsize=(10, 10))\n",
    "\n",
    "ax.scatter(tel_pos_x,    # x\n",
    "           tel_pos_y,    # y\n",
    "           s=10.,         # radius\n",
    "           c=\"black\",     # color\n",
    "           alpha=0.75)\n",
    "\n",
    "for tel in zip(tel_pos_id, tel_pos_x, tel_pos_y, tel_pos_z):\n",
    "    ax.text(tel[1], tel[2], str(tel[0]), fontsize=12)\n",
    "\n",
    "ax.set_title(\"Telescope position (GCT)\", fontsize=16)\n",
    "\n",
    "ax.set_xlabel(\"x position (m)\", fontsize=16)\n",
    "ax.set_ylabel(\"y position (m)\", fontsize=16)\n",
    "\n",
    "plt.show()"
   ]
  }
 ],
 "metadata": {
  "anaconda-cloud": {},
  "kernelspec": {
   "display_name": "Python [conda env:cta]",
   "language": "python",
   "name": "conda-env-cta-py"
  },
  "language_info": {
   "codemirror_mode": {
    "name": "ipython",
    "version": 3
   },
   "file_extension": ".py",
   "mimetype": "text/x-python",
   "name": "python",
   "nbconvert_exporter": "python",
   "pygments_lexer": "ipython3",
   "version": "3.5.2"
  }
 },
 "nbformat": 4,
 "nbformat_minor": 1
}
