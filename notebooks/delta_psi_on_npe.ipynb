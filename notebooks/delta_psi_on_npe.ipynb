{
 "cells": [
  {
   "cell_type": "code",
   "execution_count": null,
   "metadata": {
    "collapsed": false
   },
   "outputs": [],
   "source": [
    "#%matplotlib notebook\n",
    "%matplotlib inline\n",
    "\n",
    "import matplotlib\n",
    "matplotlib.rcParams['figure.figsize'] = (12, 9)\n",
    "\n",
    "import scipy\n",
    "import scipy.stats\n",
    "import math\n",
    "import numpy as np\n",
    "import pandas as pd\n",
    "\n",
    "#import ipywidgets\n",
    "#from ipywidgets import interact"
   ]
  },
  {
   "cell_type": "markdown",
   "metadata": {},
   "source": [
    "## Cut images with signal on borders"
   ]
  },
  {
   "cell_type": "code",
   "execution_count": null,
   "metadata": {
    "collapsed": false
   },
   "outputs": [],
   "source": [
    "CSV_FILE_PATH = \"../xps/best.csv\"\n",
    "\n",
    "#WAVELET_LABEL = \"Wavelets-n4-K-k-C1-s3-m3-kill\"\n",
    "#WAVELET_LABEL = \"WT-ref-f3-s3\"\n",
    "#WAVELET_LABEL = \"WT-t24-f3-s4\"\n",
    "#WAVELET_LABEL = \"WT-t28-f3-s5\"\n",
    "WAVELET_LABEL = \"WT-ref-s2-2-3-3\"\n",
    "\n",
    "TAILCUT_LABEL = \"Tailcut-5-10-kill\"\n",
    "\n",
    "PART = 0       # 0 for gamma, 1 for protons\n",
    "MIN_NPE = 0\n",
    "ANGLE = 0.2\n",
    "\n",
    "df = pd.read_csv(CSV_FILE_PATH)\n",
    "\n",
    "ref = df[df.Type == 'Ref']\n",
    "ref = ref[ref.Part == PART]\n",
    "\n",
    "tc = df[df.Type == TAILCUT_LABEL]\n",
    "tc = tc[tc.Part == PART]\n",
    "\n",
    "wt = df[df.Type == WAVELET_LABEL]\n",
    "wt = wt[wt.Part == PART]\n",
    "\n",
    "tc_wt = pd.merge(tc, wt, on=\"Id\", how=\"outer\", suffixes=('_tc', '_wt'))  #.dropna(how='any')\n",
    "df = pd.merge(tc_wt, ref, on=\"Id\", how=\"outer\")\n",
    "\n",
    "df[\"delta_tc\"] = np.fmod(((df['hPsi'] - df['hPsi_tc']) * 180. / np.pi), 90.)\n",
    "df[\"delta_wt\"] = np.fmod(((df['hPsi'] - df['hPsi_wt']) * 180. / np.pi), 90.)\n",
    "\n",
    "df.delta_tc = abs(df.delta_tc)\n",
    "df.delta_wt = abs(df.delta_wt)"
   ]
  },
  {
   "cell_type": "code",
   "execution_count": null,
   "metadata": {
    "collapsed": false
   },
   "outputs": [],
   "source": [
    "#df.groupby([\"Type\",\"Part\",\"Success\"]).count()\n",
    "#df.groupby([\"Type\",\"Part\"]).describe()"
   ]
  },
  {
   "cell_type": "markdown",
   "metadata": {},
   "source": [
    "### NPE on cleaned image"
   ]
  },
  {
   "cell_type": "markdown",
   "metadata": {},
   "source": [
    "### Tailcut"
   ]
  },
  {
   "cell_type": "code",
   "execution_count": null,
   "metadata": {
    "collapsed": false,
    "scrolled": false
   },
   "outputs": [],
   "source": [
    "fig, ax = plt.subplots()\n",
    "\n",
    "df[abs(df.delta_tc) <= ANGLE]['peSum_tc'].plot.hist(alpha=0.2, bottom=0.1,\n",
    "                                                    bins=np.logspace(0.1, 6., 200),\n",
    "                                                    label=\"delta psi <= {}° ({})\".format(ANGLE, len(df[abs(df.delta_tc) <= ANGLE])),\n",
    "                                                    legend=True)\n",
    "df[abs(df.delta_tc) >  ANGLE]['peSum_tc'].plot.hist(alpha=0.2, bottom=0.1,\n",
    "                                                    bins=np.logspace(0.1, 6., 200),\n",
    "                                                    label=\"delta psi > {}° ({})\".format(ANGLE, len(df[abs(df.delta_tc) > ANGLE])),\n",
    "                                                    legend=True)\n",
    "\n",
    "ax.axvline(x=50, linewidth=2, linestyle='--', color='black', alpha=0.5)\n",
    "ax.axvline(x=2000, linewidth=2, linestyle='--', color='black', alpha=0.5)\n",
    "\n",
    "ax.set_title(\"Tailcut (NPE > {})\".format(MIN_NPE), fontsize=20)\n",
    "ax.set_xlabel(\"NPE\", fontsize=20)\n",
    "ax.set_ylabel(\"Counts\", fontsize=20)\n",
    "\n",
    "ax.set_xscale('log')\n",
    "ax.set_yscale('log')\n",
    "\n",
    "ax.legend(prop={'size': 18})"
   ]
  },
  {
   "cell_type": "markdown",
   "metadata": {},
   "source": [
    "### Wavelets"
   ]
  },
  {
   "cell_type": "code",
   "execution_count": null,
   "metadata": {
    "collapsed": false,
    "scrolled": false
   },
   "outputs": [],
   "source": [
    "fig, ax = plt.subplots()\n",
    "\n",
    "df[abs(df.delta_wt) <= ANGLE]['peSum_wt'].plot.hist(alpha=0.2, bottom=0.1,\n",
    "                                                    bins=np.logspace(0.1, 6., 200),\n",
    "                                                    label=\"delta psi <= {}° ({})\".format(ANGLE, len(df[abs(df.delta_wt) <= ANGLE])),\n",
    "                                                    legend=True)\n",
    "df[abs(df.delta_wt) >  ANGLE]['peSum_wt'].plot.hist(alpha=0.2, bottom=0.1,\n",
    "                                                    bins=np.logspace(0.1, 6., 200),\n",
    "                                                    label=\"delta psi > {}° ({})\".format(ANGLE, len(df[abs(df.delta_wt) >  ANGLE])),\n",
    "                                                    legend=True)\n",
    "\n",
    "ax.axvline(x=50, linewidth=2, linestyle='--', color='black', alpha=0.5)\n",
    "ax.axvline(x=2000, linewidth=2, linestyle='--', color='black', alpha=0.5)\n",
    "\n",
    "ax.set_title(\"Wavelets (NPE > {})\".format(MIN_NPE), fontsize=20)\n",
    "ax.set_xlabel(\"NPE\", fontsize=20)\n",
    "ax.set_ylabel(\"Counts\", fontsize=20)\n",
    "\n",
    "ax.set_xscale('log')\n",
    "ax.set_yscale('log')\n",
    "\n",
    "ax.legend(prop={'size': 18})"
   ]
  },
  {
   "cell_type": "markdown",
   "metadata": {},
   "source": [
    "### Epsilon energy"
   ]
  },
  {
   "cell_type": "code",
   "execution_count": null,
   "metadata": {
    "collapsed": false
   },
   "outputs": [],
   "source": [
    "fig, ax = plt.subplots()\n",
    "\n",
    "ax.plot(df[abs(df.delta_tc) >  ANGLE]['Denergy_tc'],\n",
    "        df[abs(df.delta_tc) >  ANGLE]['peSum_tc'],\n",
    "        '.b', alpha=0.3,\n",
    "        label=\"delta psi > {}°\".format(ANGLE))\n",
    "ax.plot(df[abs(df.delta_tc) <= ANGLE]['Denergy_tc'],\n",
    "        df[abs(df.delta_tc) <= ANGLE]['peSum_tc'],\n",
    "        '.r', alpha=0.9,\n",
    "        label=\"delta psi <= {}°\".format(ANGLE))\n",
    "\n",
    "ax.set_yscale('log')\n",
    "ax.set_xscale('log')\n",
    "\n",
    "ax.set_xlim(0.01, 1.)\n",
    "\n",
    "ax.set_xlabel(\"e_energy\", fontsize=20)\n",
    "ax.set_ylabel(\"npe\", fontsize=20)\n",
    "\n",
    "ax.legend(prop={'size': 11}, loc='best', fancybox=True, framealpha=0.5)"
   ]
  },
  {
   "cell_type": "code",
   "execution_count": null,
   "metadata": {
    "collapsed": false
   },
   "outputs": [],
   "source": [
    "fig, ax = plt.subplots()\n",
    "\n",
    "ax.plot(df[abs(df.delta_wt) >  ANGLE]['Denergy_wt'],\n",
    "        df[abs(df.delta_wt) >  ANGLE]['peSum_wt'],\n",
    "        '.b', alpha=0.3,\n",
    "        label=\"delta psi > {}°\".format(ANGLE))\n",
    "ax.plot(df[abs(df.delta_wt) <= ANGLE]['Denergy_wt'],\n",
    "        df[abs(df.delta_wt) <= ANGLE]['peSum_wt'],\n",
    "        '.r', alpha=0.9,\n",
    "        label=\"delta psi <= {}°\".format(ANGLE))\n",
    "\n",
    "ax.set_yscale('log')\n",
    "ax.set_xscale('log')\n",
    "\n",
    "ax.set_xlim(0.01, 1.)\n",
    "\n",
    "ax.set_xlabel(\"e_energy\", fontsize=20)\n",
    "ax.set_ylabel(\"npe\", fontsize=20)\n",
    "\n",
    "ax.legend(prop={'size': 11}, loc='best', fancybox=True, framealpha=0.5)"
   ]
  }
 ],
 "metadata": {
  "anaconda-cloud": {},
  "kernelspec": {
   "display_name": "Python [conda env:cta]",
   "language": "python",
   "name": "conda-env-cta-py"
  },
  "language_info": {
   "codemirror_mode": {
    "name": "ipython",
    "version": 3
   },
   "file_extension": ".py",
   "mimetype": "text/x-python",
   "name": "python",
   "nbconvert_exporter": "python",
   "pygments_lexer": "ipython3",
   "version": "3.5.2"
  }
 },
 "nbformat": 4,
 "nbformat_minor": 1
}
