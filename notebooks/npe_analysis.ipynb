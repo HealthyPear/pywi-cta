{
 "cells": [
  {
   "cell_type": "code",
   "execution_count": null,
   "metadata": {
    "collapsed": false
   },
   "outputs": [],
   "source": [
    "#%matplotlib notebook\n",
    "%matplotlib inline\n",
    "#%config InlineBackend.figure_formats=['svg']\n",
    "#%config InlineBackend.figure_formats=['pdf']\n",
    "\n",
    "import matplotlib\n",
    "matplotlib.rcParams['figure.figsize'] = (12, 9)\n",
    "\n",
    "from matplotlib.colors import LogNorm\n",
    "from matplotlib.ticker import FuncFormatter\n",
    "\n",
    "import scipy\n",
    "import scipy.stats\n",
    "import math\n",
    "import numpy as np\n",
    "import pandas as pd\n",
    "\n",
    "#import ipywidgets\n",
    "#from ipywidgets import interact"
   ]
  },
  {
   "cell_type": "markdown",
   "metadata": {},
   "source": [
    "## NPE"
   ]
  },
  {
   "cell_type": "code",
   "execution_count": null,
   "metadata": {
    "collapsed": false
   },
   "outputs": [],
   "source": [
    "CSV_FILE_PATH = \"../xps/best.csv\"\n",
    "\n",
    "WAVELET_LABEL = \"Wavelets-n4-K-k-C1-s3-m3-kill\"\n",
    "#WAVELET_LABEL = \"WT-ref-f3-s3\"\n",
    "#WAVELET_LABEL = \"WT-t24-f3-s4\"\n",
    "#WAVELET_LABEL = \"WT-t28-f3-s5\"\n",
    "#WAVELET_LABEL = \"WT-ref-s2-2-3-3\"\n",
    "\n",
    "TAILCUT_LABEL = \"Tailcut-5-10-kill\"\n",
    "\n",
    "PART = 0       # 0 for gamma, 1 for protons\n",
    "MIN_NPE = 0    # cut on SUM_PE_CLEANED_IMAGE\n",
    "\n",
    "XLINE = 100\n",
    "\n",
    "full_df = pd.read_csv(CSV_FILE_PATH)\n",
    "\n",
    "ref = full_df[full_df.Type == 'Ref']\n",
    "ref = ref[ref.Part == PART]\n",
    "\n",
    "tc = full_df[full_df.Type == TAILCUT_LABEL]\n",
    "tc = tc[tc.Part == PART]\n",
    "\n",
    "wt = full_df[full_df.Type == WAVELET_LABEL]\n",
    "wt = wt[wt.Part == PART]\n",
    "\n",
    "tc_wt = pd.merge(tc, wt, on=\"Id\", how=\"outer\", suffixes=('_tc', '_wt'))  #.dropna(how='any')\n",
    "df = pd.merge(tc_wt, ref, on=\"Id\", how=\"outer\")\n",
    "\n",
    "df[\"delta_tc\"] = np.fmod(((df['hPsi'] - df['hPsi_tc']) * 180. / np.pi), 90.)\n",
    "df[\"delta_wt\"] = np.fmod(((df['hPsi'] - df['hPsi_wt']) * 180. / np.pi), 90.)\n",
    "\n",
    "df.delta_tc = abs(df.delta_tc)\n",
    "df.delta_wt = abs(df.delta_wt)"
   ]
  },
  {
   "cell_type": "code",
   "execution_count": null,
   "metadata": {
    "collapsed": false
   },
   "outputs": [],
   "source": [
    "#full_df.groupby([\"Type\",\"Part\",\"Success\"]).count()"
   ]
  },
  {
   "cell_type": "markdown",
   "metadata": {},
   "source": [
    "### NPE on cleaned image"
   ]
  },
  {
   "cell_type": "code",
   "execution_count": null,
   "metadata": {
    "collapsed": false
   },
   "outputs": [],
   "source": [
    "fig, ax = plt.subplots()\n",
    "\n",
    "df1 = df[df.peSum_tc > 0]['peSum_tc']\n",
    "df2 = df['peSum']\n",
    "\n",
    "df1.plot.hist(alpha=0.2,  bottom=0.1, bins=np.logspace(0.1, 6., 90), color=\"blue\",\n",
    "              label=\"Tailcut ({})\".format(len(df1)),  legend=True)\n",
    "df2.plot.hist(alpha=0.2, bottom=0.1, bins=np.logspace(0.1, 6., 90), color=\"green\",\n",
    "              label=\"Reference ({})\".format(len(df2)), legend=True)\n",
    "\n",
    "ax.axvline(x=50, linewidth=2, linestyle='--', color='black', alpha=0.5)\n",
    "ax.axvline(x=2000, linewidth=2, linestyle='--', color='black', alpha=0.5)\n",
    "ax.axvline(x=XLINE, linewidth=2, linestyle=':', color='black', alpha=0.5)\n",
    "\n",
    "ax.set_xlabel(\"Number of photoelectrons\", fontsize=20)\n",
    "ax.set_ylabel(\"counts\", fontsize=20)\n",
    "\n",
    "#ax.set_yscale('log')\n",
    "ax.set_xscale('log')\n",
    "\n",
    "ax.legend(prop={'size': 18})"
   ]
  },
  {
   "cell_type": "code",
   "execution_count": null,
   "metadata": {
    "collapsed": false
   },
   "outputs": [],
   "source": [
    "fig, ax = plt.subplots()\n",
    "\n",
    "df1 = df[df.peSum_wt > 0]['peSum_wt']\n",
    "df2 = df['peSum']\n",
    "\n",
    "df1.plot.hist(alpha=0.2,  bottom=0.1, bins=np.logspace(0.1, 6., 90), color=\"red\",\n",
    "              label=\"Wavelets ({})\".format(len(df1)),  legend=True)\n",
    "df2.plot.hist(alpha=0.2, bottom=0.1, bins=np.logspace(0.1, 6., 90), color=\"green\",\n",
    "              label=\"Reference ({})\".format(len(df2)), legend=True)\n",
    "\n",
    "ax.axvline(x=50, linewidth=2, linestyle='--', color='black', alpha=0.5)\n",
    "ax.axvline(x=2000, linewidth=2, linestyle='--', color='black', alpha=0.5)\n",
    "ax.axvline(x=XLINE, linewidth=2, linestyle=':', color='black', alpha=0.5)\n",
    "\n",
    "ax.set_xlabel(\"Number of photoelectrons\", fontsize=20)\n",
    "ax.set_ylabel(\"counts\", fontsize=20)\n",
    "\n",
    "#ax.set_yscale('log')\n",
    "ax.set_xscale('log')\n",
    "\n",
    "ax.legend(prop={'size': 18})"
   ]
  },
  {
   "cell_type": "code",
   "execution_count": null,
   "metadata": {
    "collapsed": false
   },
   "outputs": [],
   "source": [
    "fig, ax = plt.subplots()\n",
    "\n",
    "df1 = df[df.peSum_tc > 0]['peSum_tc']\n",
    "df2 = df[df.peSum_wt > 0]['peSum_wt']\n",
    "\n",
    "df1.plot.hist(alpha=0.2,  bottom=0.1, bins=np.logspace(0.1, 6., 90), color=\"blue\",\n",
    "              label=\"Tailcut ({})\".format(len(df1)),  legend=True)\n",
    "df2.plot.hist(alpha=0.2,  bottom=0.1, bins=np.logspace(0.1, 6., 90), color=\"red\",\n",
    "              label=\"Wavelets ({})\".format(len(df2)),  legend=True)\n",
    "\n",
    "ax.axvline(x=50, linewidth=2, linestyle='--', color='black', alpha=0.5)\n",
    "ax.axvline(x=2000, linewidth=2, linestyle='--', color='black', alpha=0.5)\n",
    "ax.axvline(x=XLINE, linewidth=2, linestyle=':', color='black', alpha=0.5)\n",
    "\n",
    "ax.set_xlabel(\"Number of photoelectrons\", fontsize=20)\n",
    "ax.set_ylabel(\"counts\", fontsize=20)\n",
    "\n",
    "#ax.set_yscale('log')\n",
    "ax.set_xscale('log')\n",
    "\n",
    "ax.legend(prop={'size': 18})"
   ]
  },
  {
   "cell_type": "markdown",
   "metadata": {},
   "source": [
    "## Ratio"
   ]
  },
  {
   "cell_type": "code",
   "execution_count": null,
   "metadata": {
    "collapsed": false
   },
   "outputs": [],
   "source": [
    "def plot_ratio(ax, res_tuple_tc, res_tuple_wt):\n",
    "    val_of_bins_tc, bins_tc, patches_tc = res_tuple_tc\n",
    "    val_of_bins_wt, bins_wt, patches_wt = res_tuple_wt\n",
    "    edges_of_bins = bins_tc\n",
    "\n",
    "    # Set ratio where val_of_bins_data is not zero\n",
    "    ratio = np.divide(val_of_bins_wt,\n",
    "                      val_of_bins_tc,\n",
    "                      where=(val_of_bins_tc != 0))\n",
    "\n",
    "    # Compute error on ratio (null if cannot be computed)\n",
    "    # This is wrong as it's made for Gaussian distributions and here we have Poisson distribution\n",
    "    error = np.divide(val_of_bins_wt * np.sqrt(val_of_bins_tc) + val_of_bins_tc * np.sqrt(val_of_bins_wt),\n",
    "                       np.power(val_of_bins_tc, 2),\n",
    "                       where=(val_of_bins_tc != 0))\n",
    "\n",
    "    ax.set_ylabel('Ratio (WT/TC)', fontsize=20)\n",
    "    ax.axhline(y=1, linewidth=2, linestyle='--', color='gray', alpha=0.5)\n",
    "\n",
    "    bincenter = 0.5 * (edges_of_bins[1:] + edges_of_bins[:-1])\n",
    "    ax.errorbar(bincenter, ratio, yerr=error, fmt='o', color='k', elinewidth=3, capsize=4, capthick=3, linewidth=6)\n",
    "    ax.plot(bincenter, ratio, 'ok', linewidth=6)\n",
    "    \n",
    "fig, (ax1, ax2) = plt.subplots(nrows=1, ncols=2, figsize=(16, 9))\n",
    "\n",
    "# AX1\n",
    "\n",
    "#wt['peSum'].plot.hist(bottom=0.1, legend=True)\n",
    "BINS = np.logspace(0.1, 6., 30)\n",
    "\n",
    "df1 = df[df.peSum_tc > 0]['peSum_tc']\n",
    "df2 = df[df.peSum_wt > 0]['peSum_wt']\n",
    "\n",
    "res_tuple_tc1 = ax1.hist(df1,\n",
    "                         label=\"Tailcut ({})\".format(len(df1)),\n",
    "                         bins=BINS,\n",
    "                         linewidth=2, alpha=0.5, color='blue',  histtype=\"step\")\n",
    "\n",
    "res_tuple_wt1 = ax1.hist(df2,\n",
    "                         label=\"Wavelets ({})\".format(len(df2)),\n",
    "                         bins=BINS,\n",
    "                         linewidth=2, alpha=0.5, color='red', histtype=\"step\")\n",
    "\n",
    "ax1.axvline(x=50, linewidth=2, linestyle='--', color='black', alpha=0.5)\n",
    "ax1.axvline(x=2000, linewidth=2, linestyle='--', color='black', alpha=0.5)\n",
    "ax1.axvline(x=XLINE, linewidth=2, linestyle=':', color='black', alpha=0.5)\n",
    "\n",
    "ax1.set_xlabel(\"Number of photoelectrons\", fontsize=20)\n",
    "ax1.set_ylabel(\"counts\", fontsize=20)\n",
    "\n",
    "#ax.set_yscale('log')\n",
    "ax1.set_xscale('log')\n",
    "\n",
    "ax1.legend(prop={'size': 18})\n",
    "\n",
    "# AX2\n",
    "\n",
    "plot_ratio(ax2, res_tuple_tc1, res_tuple_wt1)\n",
    "ax2.set_xscale('log')\n",
    "ax2.set_title(\"WT/TC\")\n",
    "\n",
    "ax2.axvline(x=50, linewidth=2, linestyle='--', color='black', alpha=0.5)\n",
    "ax2.axvline(x=2000, linewidth=2, linestyle='--', color='black', alpha=0.5)\n",
    "ax2.axvline(x=XLINE, linewidth=2, linestyle=':', color='black', alpha=0.5)\n",
    "\n",
    "ax2.set_xlabel(\"Number of photoelectrons\", fontsize=20)"
   ]
  },
  {
   "cell_type": "code",
   "execution_count": null,
   "metadata": {
    "collapsed": false,
    "scrolled": false
   },
   "outputs": [],
   "source": [
    "fig, ax = plt.subplots()\n",
    "\n",
    "ax.plot(df['peSum'], df['peSum_tc'], '.b', alpha=0.1, label=\"tc\")\n",
    "ax.plot(df['peSum'], df['peSum_wt'], '.r', alpha=0.1, label=\"wt\")\n",
    "\n",
    "ax.plot([0,100000], [0,100000], '--k', alpha=0.5, linewidth=2)\n",
    "\n",
    "ax.set_yscale('log')\n",
    "ax.set_xscale('log')\n",
    "\n",
    "ax.set_xlabel(\"npe ref\", fontsize=20)\n",
    "ax.set_ylabel(\"npe clean\", fontsize=20)\n",
    "\n",
    "ax.legend(prop={'size': 11}, loc='best', fancybox=True, framealpha=0.5)"
   ]
  },
  {
   "cell_type": "code",
   "execution_count": null,
   "metadata": {
    "collapsed": false,
    "scrolled": false
   },
   "outputs": [],
   "source": [
    "fig, ax = plt.subplots()\n",
    "\n",
    "x1, y1 = df['peSum'], df['peSum_tc']\n",
    "x2, y2 = df['peSum'], df['peSum_wt']\n",
    "\n",
    "xbins = np.logspace(1, 4, 30)\n",
    "ybins = np.logspace(1, 4, 30)\n",
    "\n",
    "counts1, xedges, yedges = np.histogram2d(x1, y1, bins=(xbins, ybins))\n",
    "counts2, xedges, yedges = np.histogram2d(x2, y2, bins=(xbins, ybins))\n",
    "\n",
    "max_value = max(np.max(counts1), np.max(counts2))\n",
    "\n",
    "#levels = np.arange(10, 60, 10)\n",
    "levels = np.array([0.1*max_value, 0.3*max_value, 0.6*max_value])\n",
    "\n",
    "cs1 = plt.contour(xedges[:-1], yedges[:-1], counts1.T, levels,\n",
    "                  linewidths=(2, 2, 3), linestyles=('dotted', 'dashed', 'solid'),\n",
    "                  alpha=0.5, colors='blue', label=\"TC\")\n",
    "ax.clabel(cs1, inline=False, fontsize=12)\n",
    "\n",
    "cs2 = plt.contour(xedges[:-1], yedges[:-1], counts2.T, levels,\n",
    "                  linewidths=(2, 2, 3), linestyles=('dotted', 'dashed', 'solid'),\n",
    "                  alpha=0.5, colors='red', label=\"WT\")\n",
    "ax.clabel(cs2, inline=False, fontsize=12)\n",
    "\n",
    "ax.set_xlim(1e1, 1e4)\n",
    "ax.set_ylim(1e1, 1e4)\n",
    "\n",
    "ax.plot([0,100000], [0,100000], '--k', alpha=0.5, linewidth=2)\n",
    "\n",
    "ax.set_yscale('log')\n",
    "ax.set_xscale('log')\n",
    "\n",
    "ax.set_xlabel(\"npe ref\", fontsize=20)\n",
    "ax.set_ylabel(\"npe clean\", fontsize=20)\n",
    "\n",
    "lines = [ cs1.collections[0], cs2.collections[0]]\n",
    "labels = ['TC','WT']\n",
    "ax.legend(lines, labels, prop={'size': 14}, loc='best', fancybox=True, framealpha=0.5)"
   ]
  },
  {
   "cell_type": "markdown",
   "metadata": {},
   "source": [
    "## PE Sum difference per image"
   ]
  },
  {
   "cell_type": "code",
   "execution_count": null,
   "metadata": {
    "collapsed": true
   },
   "outputs": [],
   "source": [
    "df['peSum_wt-tc'] = df['peSum_wt'] - df['peSum_tc']\n",
    "\n",
    "dfn = df[df[\"peSum_wt-tc\"] < 0]\n",
    "dfp = df[df[\"peSum_wt-tc\"] >= 0]"
   ]
  },
  {
   "cell_type": "code",
   "execution_count": null,
   "metadata": {
    "collapsed": false,
    "scrolled": false
   },
   "outputs": [],
   "source": [
    "fig, (ax1, ax2) = plt.subplots(nrows=1, ncols=2)\n",
    "\n",
    "ax1.plot(np.abs(dfn[\"peSum_wt-tc\"]), dfn['peSum'], \".r\",\n",
    "         alpha=0.1, label=\"WT - TC (per image) < 0 ({})\".format(len(dfn)))\n",
    "ax2.plot(dfp[\"peSum_wt-tc\"], dfp['peSum'], \".r\",\n",
    "         alpha=0.1, label=\"WT - TC (per image) > 0 ({})\".format(len(dfp)))\n",
    "\n",
    "fig.suptitle(\"WT - TC (per image)\", fontsize=20)\n",
    "\n",
    "ax1.set_yscale('log')\n",
    "ax1.set_xscale('log')\n",
    "\n",
    "ax2.set_yscale('log')\n",
    "ax2.set_xscale('log')\n",
    "\n",
    "ax1.set_xlabel(\"Sum PE (negative differences)\", fontsize=20)\n",
    "ax1.set_ylabel(\"Sum PE ref.\", fontsize=20)\n",
    "\n",
    "ax2.set_xlabel(\"Sum PE (positive differences)\", fontsize=20)\n",
    "ax2.set_ylabel(\"Sum PE ref.\", fontsize=20)\n",
    "\n",
    "ax1.legend(prop={'size': 11}, loc='best', fancybox=True, framealpha=0.5)\n",
    "ax2.legend(prop={'size': 11}, loc='best', fancybox=True, framealpha=0.5)"
   ]
  },
  {
   "cell_type": "code",
   "execution_count": null,
   "metadata": {
    "collapsed": false
   },
   "outputs": [],
   "source": [
    "fig, (ax1, ax2) = plt.subplots(nrows=1, ncols=2)\n",
    "\n",
    "x1 = np.abs(dfn[\"peSum_wt-tc\"])\n",
    "x2 = dfp[\"peSum_wt-tc\"]\n",
    "y1 = dfn['peSum']\n",
    "y2 = dfp['peSum']\n",
    "\n",
    "xmin1 = np.log10(x1.min())\n",
    "xmax1 = np.log10(x1.max())\n",
    "ymin1 = np.log10(y1.min())\n",
    "ymax1 = np.log10(y1.max())\n",
    "\n",
    "xmin2 = np.log10(x2.min())\n",
    "xmax2 = np.log10(x2.max())\n",
    "ymin2 = np.log10(y2.min())\n",
    "ymax2 = np.log10(y2.max())\n",
    "\n",
    "xbins1 = np.logspace(xmin1, xmax1, 70) # <- make a range from 10**xmin to 10**xmax\n",
    "ybins1 = np.logspace(ymin1, ymax1, 70) # <- make a range from 10**ymin to 10**ymax\n",
    "\n",
    "xbins2 = np.logspace(xmin2, xmax2, 70) # <- make a range from 10**xmin to 10**xmax\n",
    "ybins2 = np.logspace(ymin2, ymax2, 70) # <- make a range from 10**ymin to 10**ymax\n",
    "\n",
    "counts1, _, _ = np.histogram2d(x1, y1, bins=(xbins1, ybins1))\n",
    "pcm1 = ax1.pcolormesh(xbins1, ybins1, counts1.T, norm=LogNorm())\n",
    "fig.colorbar(pcm1, ax=ax1)\n",
    "\n",
    "counts2, _, _ = np.histogram2d(x2, y2, bins=(xbins2, ybins2))\n",
    "pcm2 = ax2.pcolormesh(xbins2, ybins2, counts2.T, norm=LogNorm())\n",
    "fig.colorbar(pcm2, ax=ax2)\n",
    "\n",
    "#im1 = ax1.hexbin(x1, y1, gridsize=40)\n",
    "#im2 = ax2.hexbin(x2, y2, gridsize=40)\n",
    "\n",
    "#fig.colorbar(im1, ax=ax1)\n",
    "#fig.colorbar(im2, ax=ax2)\n",
    "\n",
    "fig.suptitle(\"WT - TC (per image)\", fontsize=20)\n",
    "\n",
    "ax2.set_xlim(0.0001, 1000)\n",
    "ax2.set_ylim(1, 10000)\n",
    "\n",
    "ax1.set_title(\"WT - TC (per image) < 0 ({})\".format(len(dfn)))\n",
    "ax2.set_title(\"WT - TC (per image) > 0 ({})\".format(len(dfp)))\n",
    "\n",
    "ax1.set_yscale('log')\n",
    "ax1.set_xscale('log')\n",
    "\n",
    "ax2.set_yscale('log')\n",
    "ax2.set_xscale('log')\n",
    "\n",
    "ax1.set_xlabel(\"Sum PE (negative differences)\", fontsize=20)\n",
    "ax1.set_ylabel(\"Sum PE ref.\", fontsize=20)\n",
    "\n",
    "ax2.set_xlabel(\"Sum PE (positive differences)\", fontsize=20)\n",
    "ax2.set_ylabel(\"Sum PE ref.\", fontsize=20)\n",
    "\n",
    "ax1.legend(prop={'size': 11}, loc='best', fancybox=True, framealpha=0.5)\n",
    "ax2.legend(prop={'size': 11}, loc='best', fancybox=True, framealpha=0.5)"
   ]
  },
  {
   "cell_type": "markdown",
   "metadata": {},
   "source": [
    "## PE sum TC VS PE sum WT"
   ]
  },
  {
   "cell_type": "code",
   "execution_count": null,
   "metadata": {
    "collapsed": false,
    "scrolled": false
   },
   "outputs": [],
   "source": [
    "fig, ax = plt.subplots(nrows=1, ncols=1)\n",
    "\n",
    "ax.plot(df['peSum_wt'], df['peSum_tc'], \".r\", alpha=0.1)\n",
    "\n",
    "ax.plot([0,100000], [0,100000], '--k', alpha=0.5, linewidth=2)\n",
    "\n",
    "ax.set_title(\"PE sum TC VS PE sum WT\", fontsize=20)\n",
    "\n",
    "ax.set_yscale('log')\n",
    "ax.set_xscale('log')\n",
    "\n",
    "ax.set_xlim(1, 100000)\n",
    "ax.set_ylim(10, 100000)\n",
    "\n",
    "ax.set_xlabel(\"Sum PE WT\", fontsize=20)\n",
    "ax.set_ylabel(\"Sum PE TC\", fontsize=20)"
   ]
  },
  {
   "cell_type": "code",
   "execution_count": null,
   "metadata": {
    "collapsed": false,
    "scrolled": false
   },
   "outputs": [],
   "source": [
    "# %load /Users/jdecock/git/pub/jdhp/snippets/python/matplotlib/hist2d_hexa_logscale_xy.py\n",
    "\n",
    "fig, ax = plt.subplots(nrows=1, ncols=1)\n",
    "\n",
    "x = np.log10(df['peSum_wt'])\n",
    "y = np.log10(df['peSum_tc'])\n",
    "\n",
    "im = ax.hexbin(x, y, gridsize=100) #, norm=LogNorm())\n",
    "fig.colorbar(im, ax=ax)\n",
    "\n",
    "# Use \"10^n\" instead \"n\" as ticks label\n",
    "func_formatter = lambda x, pos: r'$10^{{{}}}$'.format(int(x))\n",
    "ax.xaxis.set_major_formatter(FuncFormatter(func_formatter))\n",
    "ax.yaxis.set_major_formatter(FuncFormatter(func_formatter))\n",
    "\n",
    "ax.plot([0,5], [0,5], '--w', alpha=0.5, linewidth=3)\n",
    "\n",
    "ax.set_xlim(0, 4.5)\n",
    "ax.set_ylim(1, 4.5)\n",
    "\n",
    "ax.set_title(\"PE sum TC VS PE sum WT\", fontsize=20)\n",
    "\n",
    "ax.set_xlabel(\"Sum PE WT\", fontsize=28)\n",
    "ax.set_ylabel(\"Sum PE TC\", fontsize=28)"
   ]
  },
  {
   "cell_type": "code",
   "execution_count": null,
   "metadata": {
    "collapsed": false
   },
   "outputs": [],
   "source": [
    "# %load /Users/jdecock/git/pub/jdhp/snippets/python/matplotlib/hist2d_scatter_plot_logscale_xy.py\n",
    "\n",
    "fig, ax = plt.subplots()\n",
    "\n",
    "x = np.log10(df['peSum_wt'])\n",
    "y = np.log10(df['peSum_tc'])\n",
    "\n",
    "xbins = np.linspace(x.min(), x.max(), 150)\n",
    "ybins = np.linspace(y.min(), y.max(), 150)\n",
    "\n",
    "hist, xedges, yedges = np.histogram2d(x, y, bins=(xbins, ybins))\n",
    "\n",
    "# See http://stackoverflow.com/questions/27156381/python-creating-a-2d-histogram-from-a-numpy-matrix\n",
    "\n",
    "xidx = np.clip(np.digitize(x, xedges), 0, hist.shape[0]-1)\n",
    "yidx = np.clip(np.digitize(y, yedges), 0, hist.shape[1]-1)\n",
    "c = hist[xidx, yidx]\n",
    "\n",
    "sc = ax.scatter(x, y,\n",
    "                 c=c,\n",
    "                 s=5,\n",
    "                 marker='o',\n",
    "                 #cmap='gnuplot2',\n",
    "                 linewidth=0,\n",
    "                 alpha=1)\n",
    "\n",
    "fig.colorbar(sc, ax=ax)\n",
    "\n",
    "# Use \"10^n\" instead \"n\" as ticks label\n",
    "func_formatter = lambda x, pos: r'$10^{{{}}}$'.format(int(x))\n",
    "ax.xaxis.set_major_formatter(FuncFormatter(func_formatter))\n",
    "ax.yaxis.set_major_formatter(FuncFormatter(func_formatter))\n",
    "\n",
    "ax.plot([0,5], [0,5], '--k', alpha=0.5, linewidth=3)\n",
    "\n",
    "ax.set_xlim(0, 5)\n",
    "ax.set_ylim(1, 5)\n",
    "#ax.set_xlim(1.5, 2.5)\n",
    "#ax.set_ylim(1.5, 2.5)\n",
    "\n",
    "ax.set_title(\"PE sum TC VS PE sum WT\", fontsize=20)\n",
    "\n",
    "ax.set_xlabel(\"Sum PE WT\", fontsize=28)\n",
    "ax.set_ylabel(\"Sum PE TC\", fontsize=28)"
   ]
  },
  {
   "cell_type": "code",
   "execution_count": null,
   "metadata": {
    "collapsed": true
   },
   "outputs": [],
   "source": []
  }
 ],
 "metadata": {
  "anaconda-cloud": {},
  "kernelspec": {
   "display_name": "Python [conda env:cta]",
   "language": "python",
   "name": "conda-env-cta-py"
  },
  "language_info": {
   "codemirror_mode": {
    "name": "ipython",
    "version": 3
   },
   "file_extension": ".py",
   "mimetype": "text/x-python",
   "name": "python",
   "nbconvert_exporter": "python",
   "pygments_lexer": "ipython3",
   "version": "3.5.2"
  }
 },
 "nbformat": 4,
 "nbformat_minor": 1
}
