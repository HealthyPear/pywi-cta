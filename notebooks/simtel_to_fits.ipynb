{
 "cells": [
  {
   "cell_type": "code",
   "execution_count": null,
   "metadata": {
    "collapsed": false
   },
   "outputs": [],
   "source": [
    "%matplotlib inline\n",
    "\n",
    "import numpy as np\n",
    "#np.set_printoptions(threshold=np.nan)\n",
    "from matplotlib import pyplot as plt\n",
    "\n",
    "import ctapipe\n",
    "from ctapipe.io.hessio import hessio_event_source\n",
    "import pyhessio\n",
    "\n",
    "import sys\n",
    "sys.path.append(\"/Users/jdecock/git/pub/jdhp-sap/sap-cta-data-pipeline\")\n",
    "\n",
    "import datapipe\n",
    "import datapipe.denoising.wavelets_mrfilter as mrfilter\n",
    "\n",
    "sys.path.append(\"/Users/jdecock/git/pub/jdhp-sap/sap-cta-data-pipeline/utils\")\n",
    "import common_functions as common\n",
    "\n",
    "from datapipe.io import images\n",
    "from datapipe.io import geometry_converter\n",
    "import datapipe.io.montecarlo_calibration_astri as mc_calibration"
   ]
  },
  {
   "cell_type": "code",
   "execution_count": null,
   "metadata": {
    "collapsed": true
   },
   "outputs": [],
   "source": [
    "tel_id = 18\n",
    "source = hessio_event_source(\"/Users/jdecock/data/astri_mini_array/proton/run10001.simtel.gz\", allowed_tels=[tel_id])"
   ]
  },
  {
   "cell_type": "code",
   "execution_count": null,
   "metadata": {
    "collapsed": false
   },
   "outputs": [],
   "source": [
    "for ev in source:\n",
    "    if tel_id in ev.dl0.tel:\n",
    "        print(ev.dl0.tel[tel_id+1].adc_sums[1])"
   ]
  },
  {
   "cell_type": "code",
   "execution_count": null,
   "metadata": {
    "collapsed": false,
    "scrolled": true
   },
   "outputs": [],
   "source": [
    "#print(ev)"
   ]
  },
  {
   "cell_type": "code",
   "execution_count": null,
   "metadata": {
    "collapsed": false
   },
   "outputs": [],
   "source": [
    "# Pedestal\n",
    "print(ev.mc.tel[tel_id].pedestal[0])\n",
    "print(ev.mc.tel[tel_id].pedestal[1])\n",
    "\n",
    "# Gain\n",
    "print(ev.mc.tel[tel_id].dc_to_pe[0])\n",
    "print(ev.mc.tel[tel_id].dc_to_pe[1])\n",
    "\n",
    "# ADC sums\n",
    "print(ev.r0.tel[tel_id].adc_sums[0])\n",
    "print(ev.r0.tel[tel_id].adc_sums[1])\n",
    "\n",
    "print(ev.mc.tel[tel_id].photo_electron_image)\n",
    "\n",
    "ev.mc.tel[tel_id].reference_pulse_shape.shape\n",
    "\n",
    "plt.plot(ev.mc.tel[tel_id].reference_pulse_shape[0])\n",
    "plt.plot(ev.mc.tel[tel_id].reference_pulse_shape[1])\n",
    "\n",
    "# TODO!!!\n",
    "#help(pyhessio)\n",
    "#pedestal, gains = get_mc_calibration_data(tel_id)\n",
    "#print(\"pedestal:\", pedestal)\n",
    "#print(\"gains:\", gains)"
   ]
  },
  {
   "cell_type": "code",
   "execution_count": null,
   "metadata": {
    "collapsed": true
   },
   "outputs": [],
   "source": [
    "# GET IMAGES ##############################################\n",
    "\n",
    "pe_image = ev.mc.tel[tel_id].photo_electron_image   # 1D np array\n",
    "uncalibrated_image = ev.r0.tel[tel_id].adc_sums     # ctapipe 0.4.0\n",
    "pedestal = ev.mc.tel[tel_id].pedestal\n",
    "gain = ev.mc.tel[tel_id].dc_to_pe\n",
    "pixel_pos = ev.inst.pixel_pos[tel_id]\n",
    "\n",
    "# calibrating\n",
    "calibrated_image = mc_calibration.apply_mc_calibration(uncalibrated_image, pedestal, gain)"
   ]
  },
  {
   "cell_type": "code",
   "execution_count": null,
   "metadata": {
    "collapsed": false
   },
   "outputs": [],
   "source": [
    "# %load ~/git/pub/jdhp-sap/snippets/ctapipe/plot_pixels_index.py\n",
    "#!/usr/bin/env python3\n",
    "\n",
    "\"\"\"\n",
    "Display the pixel layout of the givent telescope as defined in a given simtel file.\n",
    "\"\"\"\n",
    "\n",
    "(pos_x_list, pos_y_list) = pixel_pos\n",
    "pos_x_list = [float(pos.value) for pos in pos_x_list]\n",
    "pos_y_list = [float(pos.value) for pos in pos_y_list]\n",
    "\n",
    "assert len(pos_x_list) == len(pos_y_list)\n",
    "\n",
    "# PLOT ####################################################################\n",
    "\n",
    "fig, ax = plt.subplots(ncols=1, nrows=1, figsize=(12, 12))\n",
    "\n",
    "# Scatter method ##################\n",
    "\n",
    "ax.scatter(pos_x_list,    # x\n",
    "           pos_y_list,    # y\n",
    "           s=0.2,         # radius\n",
    "           c=\"black\",     # color\n",
    "           alpha=0.75)\n",
    "\n",
    "ax.plot(pos_x_list,    # x\n",
    "        pos_y_list,    # y\n",
    "        \"k-\",\n",
    "        alpha=0.25)\n",
    "\n",
    "for pixel_index in range(len(pos_x_list)):\n",
    "    ax.text(pos_x_list[pixel_index], pos_y_list[pixel_index], str(pixel_index), fontsize=8)\n",
    "\n",
    "ax.set_title(\"Pixels position (telescope {})\".format(tel_id), fontsize=16)\n",
    "\n",
    "ax.set_xlabel(\"x position (m)\", fontsize=16)\n",
    "ax.set_ylabel(\"y position (m)\", fontsize=16)\n",
    "\n",
    "ax.set_xlim(-0.21, 0.21)\n",
    "ax.set_ylim(-0.21, 0.21)\n",
    "\n",
    "plt.show()"
   ]
  },
  {
   "cell_type": "markdown",
   "metadata": {},
   "source": [
    "### Crop image"
   ]
  },
  {
   "cell_type": "code",
   "execution_count": null,
   "metadata": {
    "collapsed": false
   },
   "outputs": [],
   "source": [
    "# cropping ADC image\n",
    "cropped_adc_sums = geometry_converter.astry_to_3d_array(uncalibrated_image, crop=True)\n",
    "\n",
    "# cropping PE image\n",
    "cropped_pe_img = geometry_converter.astry_to_2d_array(pe_image, crop=True)\n",
    "\n",
    "# cropping calibrated image\n",
    "cropped_img = geometry_converter.astry_to_2d_array(calibrated_image, crop=True)\n",
    "\n",
    "# cropping pedestal and gain\n",
    "cropped_pedestal = geometry_converter.astry_to_3d_array(pedestal, crop=True)\n",
    "cropped_gains = geometry_converter.astry_to_3d_array(gain, crop=True)\n",
    "\n",
    "# cropping pixel positions\n",
    "cropped_pixel_pos = geometry_converter.astry_to_3d_array(pixel_pos, crop=True)"
   ]
  },
  {
   "cell_type": "code",
   "execution_count": null,
   "metadata": {
    "collapsed": false
   },
   "outputs": [],
   "source": [
    "images.plot(cropped_adc_sums[0])"
   ]
  },
  {
   "cell_type": "code",
   "execution_count": null,
   "metadata": {
    "collapsed": false
   },
   "outputs": [],
   "source": [
    "images.plot(cropped_adc_sums[1])"
   ]
  },
  {
   "cell_type": "code",
   "execution_count": null,
   "metadata": {
    "collapsed": false,
    "scrolled": false
   },
   "outputs": [],
   "source": [
    "images.plot(cropped_pe_img)"
   ]
  },
  {
   "cell_type": "code",
   "execution_count": null,
   "metadata": {
    "collapsed": false,
    "scrolled": false
   },
   "outputs": [],
   "source": [
    "images.plot(cropped_img)"
   ]
  },
  {
   "cell_type": "code",
   "execution_count": null,
   "metadata": {
    "collapsed": false,
    "scrolled": false
   },
   "outputs": [],
   "source": [
    "images.plot(cropped_pedestal[0])"
   ]
  },
  {
   "cell_type": "code",
   "execution_count": null,
   "metadata": {
    "collapsed": false,
    "scrolled": false
   },
   "outputs": [],
   "source": [
    "images.plot(cropped_pedestal[1])"
   ]
  },
  {
   "cell_type": "code",
   "execution_count": null,
   "metadata": {
    "collapsed": false,
    "scrolled": false
   },
   "outputs": [],
   "source": [
    "images.plot(cropped_gains[0])"
   ]
  },
  {
   "cell_type": "code",
   "execution_count": null,
   "metadata": {
    "collapsed": false,
    "scrolled": false
   },
   "outputs": [],
   "source": [
    "images.plot(cropped_gains[1])"
   ]
  },
  {
   "cell_type": "code",
   "execution_count": null,
   "metadata": {
    "collapsed": false,
    "scrolled": false
   },
   "outputs": [],
   "source": [
    "images.plot(cropped_pixel_pos[0])"
   ]
  },
  {
   "cell_type": "code",
   "execution_count": null,
   "metadata": {
    "collapsed": false,
    "scrolled": false
   },
   "outputs": [],
   "source": [
    "images.plot(cropped_pixel_pos[1])"
   ]
  },
  {
   "cell_type": "markdown",
   "metadata": {},
   "source": [
    "### Don't crop image"
   ]
  },
  {
   "cell_type": "code",
   "execution_count": null,
   "metadata": {
    "collapsed": false
   },
   "outputs": [],
   "source": [
    "# cropping ADC image\n",
    "not_cropped_adc_sums = geometry_converter.astry_to_3d_array(uncalibrated_image, crop=False)\n",
    "\n",
    "# cropping PE image\n",
    "not_cropped_pe_img = geometry_converter.astry_to_2d_array(pe_image, crop=False)\n",
    "\n",
    "# cropping calibrated image\n",
    "not_cropped_img = geometry_converter.astry_to_2d_array(calibrated_image, crop=False)\n",
    "\n",
    "# cropping pedestal and gain\n",
    "not_cropped_pedestal = geometry_converter.astry_to_3d_array(pedestal, crop=False)\n",
    "not_cropped_gains = geometry_converter.astry_to_3d_array(gain, crop=False)\n",
    "\n",
    "# cropping pixel positions\n",
    "not_cropped_pixel_pos = geometry_converter.astry_to_3d_array(pixel_pos, crop=False)"
   ]
  },
  {
   "cell_type": "code",
   "execution_count": null,
   "metadata": {
    "collapsed": false
   },
   "outputs": [],
   "source": [
    "images.plot(not_cropped_adc_sums[0])"
   ]
  },
  {
   "cell_type": "code",
   "execution_count": null,
   "metadata": {
    "collapsed": false
   },
   "outputs": [],
   "source": [
    "images.plot(not_cropped_adc_sums[1])"
   ]
  },
  {
   "cell_type": "code",
   "execution_count": null,
   "metadata": {
    "collapsed": false,
    "scrolled": false
   },
   "outputs": [],
   "source": [
    "images.plot(not_cropped_pe_img)"
   ]
  },
  {
   "cell_type": "code",
   "execution_count": null,
   "metadata": {
    "collapsed": false,
    "scrolled": false
   },
   "outputs": [],
   "source": [
    "images.plot(not_cropped_img)"
   ]
  },
  {
   "cell_type": "code",
   "execution_count": null,
   "metadata": {
    "collapsed": false,
    "scrolled": false
   },
   "outputs": [],
   "source": [
    "images.plot(not_cropped_pedestal[0])"
   ]
  },
  {
   "cell_type": "code",
   "execution_count": null,
   "metadata": {
    "collapsed": false,
    "scrolled": false
   },
   "outputs": [],
   "source": [
    "images.plot(not_cropped_pedestal[1])"
   ]
  },
  {
   "cell_type": "code",
   "execution_count": null,
   "metadata": {
    "collapsed": false,
    "scrolled": false
   },
   "outputs": [],
   "source": [
    "images.plot(not_cropped_gains[0])"
   ]
  },
  {
   "cell_type": "code",
   "execution_count": null,
   "metadata": {
    "collapsed": false,
    "scrolled": false
   },
   "outputs": [],
   "source": [
    "images.plot(not_cropped_gains[1])"
   ]
  },
  {
   "cell_type": "code",
   "execution_count": null,
   "metadata": {
    "collapsed": false,
    "scrolled": false
   },
   "outputs": [],
   "source": [
    "images.plot(not_cropped_pixel_pos[0])"
   ]
  },
  {
   "cell_type": "code",
   "execution_count": null,
   "metadata": {
    "collapsed": false,
    "scrolled": false
   },
   "outputs": [],
   "source": [
    "images.plot(not_cropped_pixel_pos[1])"
   ]
  },
  {
   "cell_type": "markdown",
   "metadata": {},
   "source": [
    "## Safety check"
   ]
  },
  {
   "cell_type": "code",
   "execution_count": null,
   "metadata": {
    "collapsed": false
   },
   "outputs": [],
   "source": [
    "np.all(not_cropped_adc_sums[0][8:6*8,8:6*8] == cropped_adc_sums[0])"
   ]
  },
  {
   "cell_type": "code",
   "execution_count": null,
   "metadata": {
    "collapsed": false
   },
   "outputs": [],
   "source": [
    "np.all(not_cropped_adc_sums[1][8:6*8,8:6*8] == cropped_adc_sums[1])"
   ]
  },
  {
   "cell_type": "code",
   "execution_count": null,
   "metadata": {
    "collapsed": false,
    "scrolled": false
   },
   "outputs": [],
   "source": [
    "np.all(not_cropped_pe_img[8:6*8,8:6*8] == cropped_pe_img)"
   ]
  },
  {
   "cell_type": "code",
   "execution_count": null,
   "metadata": {
    "collapsed": false,
    "scrolled": false
   },
   "outputs": [],
   "source": [
    "np.all(not_cropped_img[8:6*8,8:6*8] == cropped_img)"
   ]
  },
  {
   "cell_type": "code",
   "execution_count": null,
   "metadata": {
    "collapsed": false,
    "scrolled": false
   },
   "outputs": [],
   "source": [
    "np.all(not_cropped_pedestal[0][8:6*8,8:6*8] == cropped_pedestal[0])"
   ]
  },
  {
   "cell_type": "code",
   "execution_count": null,
   "metadata": {
    "collapsed": false,
    "scrolled": false
   },
   "outputs": [],
   "source": [
    "np.all(not_cropped_pedestal[1][8:6*8,8:6*8] == cropped_pedestal[1])"
   ]
  },
  {
   "cell_type": "code",
   "execution_count": null,
   "metadata": {
    "collapsed": false,
    "scrolled": false
   },
   "outputs": [],
   "source": [
    "np.all(not_cropped_gains[0][8:6*8,8:6*8] == cropped_gains[0])"
   ]
  },
  {
   "cell_type": "code",
   "execution_count": null,
   "metadata": {
    "collapsed": false,
    "scrolled": false
   },
   "outputs": [],
   "source": [
    "np.all(not_cropped_gains[1][8:6*8,8:6*8] == cropped_gains[1])"
   ]
  },
  {
   "cell_type": "code",
   "execution_count": null,
   "metadata": {
    "collapsed": false,
    "scrolled": false
   },
   "outputs": [],
   "source": [
    "np.all(not_cropped_pixel_pos[0][8:6*8,8:6*8] == cropped_pixel_pos[0])"
   ]
  },
  {
   "cell_type": "code",
   "execution_count": null,
   "metadata": {
    "collapsed": false,
    "scrolled": false
   },
   "outputs": [],
   "source": [
    "np.all(not_cropped_pixel_pos[1][8:6*8,8:6*8] == cropped_pixel_pos[1])"
   ]
  }
 ],
 "metadata": {
  "anaconda-cloud": {},
  "kernelspec": {
   "display_name": "Python [conda env:cta]",
   "language": "python",
   "name": "conda-env-cta-py"
  },
  "language_info": {
   "codemirror_mode": {
    "name": "ipython",
    "version": 3
   },
   "file_extension": ".py",
   "mimetype": "text/x-python",
   "name": "python",
   "nbconvert_exporter": "python",
   "pygments_lexer": "ipython3",
   "version": "3.5.2"
  }
 },
 "nbformat": 4,
 "nbformat_minor": 1
}
