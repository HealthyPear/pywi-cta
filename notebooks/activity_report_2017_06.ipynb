{
 "cells": [
  {
   "cell_type": "markdown",
   "metadata": {},
   "source": [
    "# Activity report\n",
    "\n",
    "Jérémie Decock, 2017-06-12"
   ]
  },
  {
   "cell_type": "markdown",
   "metadata": {},
   "source": [
    "## Context\n",
    "\n",
    "CTA will be a big step forward for gamma ray science.\n",
    "Its sensitivity will be 10 times better than existing (e.g. H.E.S.S.) but we want to do even better using advanced signal processing methods to improve the signal-to-noise ratio at the level of the instrument (removing the electronic instrument's noise and the night sky background before shower reconstruction).\n",
    "\n",
    "#### Goal\n",
    "\n",
    "My work consists of implementing an advanced image cleaning methods based on Wavelet Transforms using tools developed by the Cosmostat team to improve the signal-to-noise ratio of cleaned images (at the level of the instrument) and thus improve the accuracy of the shower reconstruction and the sensibility of the observatory.\n",
    "\n",
    "These Cosmostat tools are part of the ISAP/Sparse2d library.\n",
    "Among the available modules, I mostly use the *mr_transform* and *mr_filter*.\n",
    "\n",
    "#### Data set\n",
    "\n",
    "So far, I compared image cleaning algorithms using Monte-Carlo simulations of air showers.\n",
    "These air showers are observed with ASTRI and GCT telescopes in the simulations.\n",
    "\n",
    "#### ASTRI\n",
    "\n",
    "Most of my work has been done on ASTRI mini array simulations containing 33 ASTRI telescopes.\n",
    "\n",
    "I used a sub set of ~15000 images for gamma and for proton simulations (~100 GeV to ~300 TeV).\n",
    "\n",
    "#### GCT\n",
    "\n",
    "Recently I also worked on GCT simulations (31 telescopes).\n",
    "\n",
    "I used a sub set of ~20000 images for proton simulations.\n",
    "I hasn't worked on gamma simulation yet.\n",
    "\n",
    "#### Cleaning algorithm reference\n",
    "\n",
    "The \"Tailcut clean\" algorithm:\n",
    "- Keep pixels above a given threshold (10 PE)\n",
    "- Keep some neighbors of these selected pixels: those above a second (lower) threshold (5 PE)"
   ]
  },
  {
   "cell_type": "markdown",
   "metadata": {},
   "source": [
    "## What have been done so far: problems encountered, solutions found and solutions abandoned"
   ]
  },
  {
   "cell_type": "markdown",
   "metadata": {},
   "source": [
    "#### Incorporate Cosmostat image cleaning tools in the CTA data framework\n",
    "\n",
    "I have written a dedicated Python framework to make the link between the Cosmostat tools and the CTA data framework: https://github.com/jdhp-sap/sap-cta-data-pipeline\n",
    "\n",
    "It is flexible enough to be easily implemented in ctapipe as an external optional tool."
   ]
  },
  {
   "cell_type": "markdown",
   "metadata": {},
   "source": [
    "#### Fetch data to assess our image cleaning framework\n",
    "\n",
    "We first made ourselves our simulated data set using Corsika/SimtelArray.\n",
    "\n",
    "Then we switched to the ASTRI mini array data set. We found calibration bugs in ctapipe/pyhessio with these data that slowed us down for several weeks.\n",
    "\n",
    "I now use GCT and ASTRI data sets and I'm going to switch to Prod3 data."
   ]
  },
  {
   "cell_type": "markdown",
   "metadata": {},
   "source": [
    "#### Use the right Cosmostat tool\n",
    "\n",
    "Cosmostat's ISAP/sparse2d library provides several tools for image cleaning.\n",
    "I first used mr_transform which only make the wavelet transform, without any filtering or final image reconstruction.\n",
    "\n",
    "I then used mr_filter that does the full image cleaning process (wavelet transform, filtering and reconstruction).\n",
    "\n",
    "Both tools have pros and cons:\n",
    "- mr_transform is much more flexible (this may be necessary in a near future if we implement some models specific to our data)\n",
    "- mr_transform have a Python binding ready to be used (mr_filter will have one in autumn 2017)\n",
    "- mr_filter offer much more options ready for use"
   ]
  },
  {
   "cell_type": "markdown",
   "metadata": {},
   "source": [
    "#### Find the right estimator to assess image cleaning\n",
    "\n",
    "The final estimator of our cleaning method is the sensitivity.\n",
    "For practical reasons, we also needed lower level estimators to assess our image cleaning methods.\n",
    "\n",
    "Among the main metrics I use are:\n",
    "- the relative total counts difference between the clean and the cleaned image (to assess the loss in energy)\n",
    "- the error of the shower axis reconstruction on the image\n",
    "    - that is to say the difference between the angle of the shower computed from the clean image and from the cleaned image\n",
    "    - this estimator is interesting as it gives a reasonably good indication on the future performances of event reconstruction with stereoscopy\n",
    "\n",
    "Many other estimators have been tested, the full list is available here: http://www.jdhp.org/software/sap-cta-data-pipeline/api_benchmark_assess.html"
   ]
  },
  {
   "cell_type": "markdown",
   "metadata": {},
   "source": [
    "#### Find the right set of options for mr_filter\n",
    "\n",
    "Following advises from the Cosmostat team (mainly from Sandrine, Florent and Jean-Luc), I tested many options.\n",
    "\n",
    "Some options have been optimized automatically (e.g. the *sigma thresholds* that define coefficients to keep for each plane is a regular optimization problem in $\\mathbb{R}^4$).\n",
    "The others have been tested empirically on some representative chozen examples with a dedicated GUI before being assessed on the full data set.\n",
    "\n",
    "##### b-spline wavelets \"a trous\"\n",
    "\n",
    "After several optimizations on a subset of available methods and parameters, and following some advices from the Cosmostat team, I initially used a configuration based on b-spline wavelets \"a trous\".\n",
    "\n",
    "The mr_filter setting corresponding to this configuration (*Hard K-Sigma Thresholding using Poisson + Gaussian noise model*) is:\n",
    "\n",
    "    ./datapipe/denoising/wavelets_mrfilter.py -K -k -C1 -m3 -n4 -s3 --kill-isolated-pixels\n",
    "\n",
    "I looked performance on 2 populations: faint showers (50 to 100 NPE) and bright showers (100 to 2000 NPE).\n",
    "\n",
    "- For faint showers, wavelets have more images than Tailcut with a precise reconstruction angle of showers and less than Tailcut with a bad reconstruction angle.\n",
    "- For brighter showers, Tailcut does better\n",
    "\n",
    "This was not dramatic as what we want in priority is to improve performances on faint showers as this is where we can expect an improvement of the sensibility and as Tailcut already perform very well for bright ones (we can imagine to use Wavelets only for faint images).\n",
    "\n",
    "But with this configuration, there is a shift of the wavelet cleaned population to lower energy and thus a loss of information with this wavelet configuration, which is annoying...\n",
    "\n",
    "##### Anisotropic wavelets\n",
    "\n",
    "I followed several suggestions from the Cosmostat team to solve this issue.\n",
    "\n",
    "The first one is to anisotropic wavelets as our signal is anisotropic and using isotropic wavelets has tendencies to make the signal isotropic and thus to suppress information about the orientation of the shower.\n",
    "\n",
    "This configuration indeed fix the charge loss.\n",
    "But so far, it has tendency to make fake substructures and these substructures have a big impact on the accuracy of reconstructed shower axis.\n",
    "\n",
    "With this configuration wavelet is less accurate than Tailcut.\n",
    "This can probably be improved playing with other parameters.\n",
    "\n",
    "##### Iterative Multiresolution Thresholding\n",
    "\n",
    "In the meanwhile,\n",
    "I followed another suggestion: use an adaptive threshold estimate on each plane.\n",
    "\n",
    "This configuration also fix the charge loss.\n",
    "But again, in the current stage, this configuration has tendency to make fake substructures\n",
    "that have a negative impact on the shower axis reconstruction.\n",
    "\n",
    "##### Explicitly reduce the filtering on small scales\n",
    "\n",
    "An alternative idea to reduce the charge loss and to improve the shower axis reconstruction\n",
    "was to explicitly reduce the filtering threshold on small scales (first planes).\n",
    "\n",
    "The motivation is that our signal is mainly contained at small scales.\n",
    "\n",
    "With this configuration, the energy is well conserved and the shower axis reconstruction is more accurate with Wavelets than Tailcut on both energy ranges.\n",
    "It does better than the first configuration.\n",
    "\n",
    "The mr_filter setting corresponding to this configuration (*Hard K-Sigma Thresholding using Poisson + Gaussian noise model*) is:\n",
    "\n",
    "    ./datapipe/denoising/wavelets_mrfilter.py -K -k -C1 -m3 -n4 -s2,2,3,3 --kill-isolated-pixels\n",
    "    \n",
    "##### Other (abandoned) options\n",
    "\n",
    "Among the other tested and abandoned options are:\n",
    "\n",
    "- False Discovery Rate\n",
    "\n",
    "    ./datapipe/denoising/wavelets_mrfilter.py  -K -C2 -m1 -n4 -f2\n",
    "\n",
    "- Wiener Filtering (min MSE between random process and desired process)\n",
    "    \n",
    "    ./datapipe/denoising/wavelets_mrfilter.py  -K -m1 -n4 -f6"
   ]
  },
  {
   "cell_type": "markdown",
   "metadata": {},
   "source": [
    "##### Wavelet Transforms on a logarithmic images space\n",
    "\n",
    "Problem: we observe big loss of signal after (wavelets) cleaning for very bright showers\n",
    "\n",
    "Idea: apply Wavelet Transforms on a logarithmic images space\n",
    "\n",
    "Status: the idea seems good but it was abandoned as it gives bad results in practice\n",
    "\n",
    "Actually the issue with bright showers is mostly caused by a saturation of the signal on ASTRI images\n",
    "\n",
    "TODO: this should be tested again now that we know how to define a different threshold for each plane"
   ]
  },
  {
   "cell_type": "markdown",
   "metadata": {},
   "source": [
    "#### Use more adapted transformation\n",
    "\n",
    "Shower images are anisotropic signals.\n",
    "Using isotropic wavelets has tendencies to make these signals isotropic and thus to suppress information about the orientation of the shower.\n",
    "\n",
    "Bi-orthogonal wavelets transforms and Curvlet transforms have been tested without success so far.\n",
    "\n",
    "This path has been (temporary) abandoned."
   ]
  },
  {
   "cell_type": "markdown",
   "metadata": {},
   "source": [
    "#### Remove isolated pixels after cleaning\n",
    "\n",
    "Contrary to Tailcut, many isolated pixels may remain on images cleaned with Wavelets (at least with tested options).\n",
    "This is annoying as it may disturb a lot Hillas parametrization.\n",
    "\n",
    "Abandoned solution:\n",
    "we fought mf_filter's *-k* option would solve this issue but this is not the case.\n",
    "According to Jean-Luc, the *-k* option:\n",
    "- only removes completely isolated pixels (i.e. islands with a \"size\" of 1)\n",
    "- only act on the first plane (smallest scale)\n",
    "\n",
    "Solution:\n",
    "with Fabio, we finally used an external tool (scipy.ndimage) to remove isolated pixels after image cleaning. It improves a lot reconstructed angle showers on the image."
   ]
  },
  {
   "cell_type": "markdown",
   "metadata": {},
   "source": [
    "#### Images with empty corner and hexagonal pixel layouts\n",
    "\n",
    "Cosmostat tools only work with images defined as a rectangular grid of square pixels.\n",
    "\n",
    "Problem: none of the instruments used in CTA have this kind of pixel layout.\n",
    "- On some (Astri, GCT), images are defined as a rectangular grid of square pixels but have \"empty\" parts (in corners) and have various gap size between pixels.\n",
    "- Others use an hexagonal pixel layout.\n",
    "\n",
    "In order to assess our image cleaning methods as soon as possible, I first worked on instruments with a square pixel layout (ASTRI), removing some part of the images in order to have data directly compatible with Cosmostat tools.\n",
    "\n",
    "Now that results are satisfying enough for these images, I still work on instruments with a square pixel layout (ASTRI and GCT) but without removing any part of the images (i.e. using the full available signal).\n",
    "\n",
    "These empty parts cannot simply be considered as blank signal pixels as it would introduce a lot of harmonics that may have negative impact in the cleaned images (see https://dsm-trac.cea.fr/cta/attachment/wiki/Data/sapcta_weekly_meeting_2017_06_08.pdf).\n",
    "An *mr_filter* option (``-I``) was expected to solve this problem but actually it only act on the noise model construction.\n",
    "Alternative solutions currently investigated to solve the \"empty parts\" issue are:\n",
    "- Insert artificial noise in the corners using the actual noise distribution\n",
    "- In-painting: something similar but more sophisticated (as suggested by Florent Sureau)\n",
    "- Patch the wavelet transform code to anticipate mirroring on NaN pixels\n",
    "\n",
    "Next step: work on instruments having an hexagonal grid of pixels."
   ]
  },
  {
   "cell_type": "markdown",
   "metadata": {},
   "source": [
    "#### Mr_filter wrapper/binding\n",
    "\n",
    "So far, mr_filter (and mr_transform) read input data and write output data in files.\n",
    "\n",
    "Problem:\n",
    "This slow down the full image cleaning process and prevent to fulfill CTA timing constraints.\n",
    "\n",
    "Long term solution:\n",
    "A python binding is undergoing form mr_filter. It is coordinated by Cosmostat (but written by DRF/DSV engineers) and should be finished in autumn 2017.\n",
    "This binding will allow direct data exchange (in RAM) between our framework and mr_filter/mr_transform.\n",
    "A similar binding has been written for mr_transform.\n",
    "\n",
    "Temporary solution:\n",
    "In the meanwhile, I simply read and write data from a ramdisk (a virtual disk volume mounted in RAM).\n",
    "The speedup (see https://drf-gitlab.cea.fr/CTA-Irfu/Data/wikis/astri-images-cleaning-speed-test):\n",
    "- x2 if temporary files are put in the ramdisk\n",
    "- x10 if temporary and input files are put in the ramdisk\n",
    "\n",
    "Alternative temporary solution:\n",
    "- exchange data from stdin/stdout.\n",
    "- make a smaller binding that only wrap few functions (using boost.python, cython or swig)\n",
    "- use IPC (Inter Process Call) or RPC (Remote Process Call) to exchange data with mr_filter"
   ]
  },
  {
   "cell_type": "markdown",
   "metadata": {},
   "source": [
    "#### Multiplicity: check performances on the full telescope array\n",
    "\n",
    "Problem: what improvement can we expect with our cleaning method using the full telescope array (i.e. using multiplicity) ?\n",
    "\n",
    "Idea: weighted sum of $\\Delta\\psi_{img}$ (difference between clean and cleaned shower angle of image $img$) per event should give indications on expected improvements. This weighted $\\Delta\\Psi_{ev}$ sum of event $ev$ is defined as:\n",
    "$$\n",
    "\\Delta\\Psi_{ev} = \\sum_{img \\in ev} \\omega_{img} \\Delta\\psi_{img}\n",
    "$$\n",
    "with $\\omega_{img}$ the weight of image $img$ defined as:\n",
    "$$\n",
    "\\omega_{img} = \\frac{\\sum_{pix} PE}{\\sum_{img}\\sum_{pix} PE}\n",
    "$$\n",
    "\n",
    "Results on the reconstruction angle accuracy of showers compared to Tailcut (this is results with **cropped** gamma ASTRI images): \n",
    "- nearly 60% improvement for the first bin (the shower axis has an angle error < 6°) for faint showers (50 to 100 NPE) versus 40% without multiplicity\n",
    "- nearly 30% improvements for the first bin (the shower axis has an angle error < 6°) for bright showers (100 to 2000 NPE) versus 5% without multiplicity\n",
    "\n",
    "We indeed increase the accuracy of the shower angle using multiplicity.\n",
    "\n",
    "See also https://github.com/jdhp-sap/sap-cta-data-pipeline/blob/master/notebooks/analysis_delta_psi_with_multiplicity.ipynb"
   ]
  },
  {
   "cell_type": "markdown",
   "metadata": {},
   "source": [
    "#### Proton / Gamma discrimination\n",
    "\n",
    "Problem: Wavelets provide good reconstruction angle on the images for gamma and for protons.\n",
    "But do they kill features used for photon/hadron discrimination (i.e. is the proton signature removed by wavelet cleaning) ?\n",
    "\n",
    "Answer: I made an analysis to have a rough estimation of the impact of the wavelet cleaning on the \"discrimination power\" of all feature used by Tino. Results are compared to what is observed using Tailcut cleaning.\n",
    "\n",
    "The conclusion was the following: at this level, the wavelet transform doesn't seems to introduce negative effects for photon/hadron discrimination (compared to Tailcut).\n",
    "\n",
    "More details: https://dsm-trac.cea.fr/cta/attachment/wiki/Data/sapcta_weekly_meeting_2017_03_23.pdf"
   ]
  },
  {
   "cell_type": "markdown",
   "metadata": {},
   "source": [
    "## Present results\n",
    "\n",
    "Present results for ASTRI gamma data (with cropped images) using explicitly reduce the filtering on small scales :\n",
    "- No energy loss compared to Tailcut (see the 59th slide in http://irfu.cea.fr/Phocea/file.php?class=page&file=595/slides.pdf)\n",
    "- Wavelets have more images than tailcut with a precise reconstruction angle of showers and less than Tailcut with a bad reconstruction angle (see the 60th slide in http://irfu.cea.fr/Phocea/file.php?class=page&file=595/slides.pdf):\n",
    "    - slightly more than 40% improvement for the first bin (the shower axis has an angle error < 6°) for faint showers (50 to 100 NPE)\n",
    "    - nearly 5% improvement for the first bin (the shower axis has an angle error < 6°) for bright showers (100 to 2000 NPE)\n",
    "\n",
    "More details for ASTRI results (with cropped images): http://irfu.cea.fr/Phocea/file.php?class=page&file=595/slides.pdf\n",
    "\n",
    "For the photon/hadron discrimination overview study on ASTRI (with cropped images): https://dsm-trac.cea.fr/cta/attachment/wiki/Data/sapcta_weekly_meeting_2017_03_23.pdf"
   ]
  },
  {
   "cell_type": "markdown",
   "metadata": {},
   "source": [
    "## The prospects for the next months"
   ]
  },
  {
   "cell_type": "markdown",
   "metadata": {},
   "source": [
    "### Next steps\n",
    "\n",
    "#### Further tests with GCT instruments\n",
    "\n",
    "So far, I used a data set containing only proton simulations.\n",
    "In order to test GCT image cleaning for gamma particle, I will switch to Prod3 simulations."
   ]
  },
  {
   "cell_type": "markdown",
   "metadata": {},
   "source": [
    "#### Adapt the framework to any CTA instrument (i.e. to hexagonal grid layouts)\n",
    "\n",
    "Various ideas to solve this problem:\n",
    "- patch the wavelet transform code (i.e. in the cosmostat library) to apply a third dimension at the level of the wavelet transform (adding a third loop in the `smooth_bspline` function)\n",
    "    - it requires to change the image data structure which is a bit tricky. It is too complicated to make this new data structure generic and usable with the full ISAP library but it seems feasible to patch ISAP to let it work only with the few small parts we actually use\n",
    "    - a much simpler workaround would be to work with a *sparse* cubic data structure\n",
    "- project the hexagonal grid on a square grid (this is the solution tested by Tino)\n",
    "- make the cleaning on the 3 possible pair of axis in the hexagonal grid and aggregate the 3 output images\n",
    "- apply the wavelet transform in a space where the signal has been preprocessed with a Fourier transform (which does not depend on the layout). This solution was suggested by Jean-Luc."
   ]
  },
  {
   "cell_type": "markdown",
   "metadata": {},
   "source": [
    "#### Use the time dimension\n",
    "\n",
    "Most instruments (i.e. all except ASTRI ?) include a time information in the data.\n",
    "We planed to use this additional dimension within the wavelet transform process.\n",
    "We expect big improvements using this non integrated signal as it should be very meaningful for the signal/noise and gamma/proton discrimination.\n",
    "\n",
    "Another advantage of using the time dimension is that some processes at the instrument level (time signal integration, peak detection, ...) won't be necessary anymore and may be removed making the overall data process faster and simpler (i.e. more generic)."
   ]
  },
  {
   "cell_type": "markdown",
   "metadata": {},
   "source": [
    "#### Use more adapted transformation\n",
    "\n",
    "Shower images are anisotropic signals.\n",
    "Using isotropic wavelets has tendencies to make these signals isotropic and thus to suppress information about the orientation of the shower.\n",
    "\n",
    "Bi-orthogonal wavelets transforms and Curvlet transforms have been tested without success so far.\n",
    "\n",
    "As suggested by Jean-Luc, more efforts should be made in this direction."
   ]
  },
  {
   "cell_type": "markdown",
   "metadata": {},
   "source": [
    "#### Use a better noise model with mf_filter\n",
    "\n",
    "Optimize the *Generalized Anscombe variance* (see \"Astronomical Image and Data Analysis\" p.39) to give the correct value to mr_filter's `-m3` option (3 parameters to optimize $\\alpha$, $\\beta$ $\\gamma$ defined as follow: $X = \\alpha \\sqrt{\\beta X + \\gamma}$).\n",
    "Using the right value, the pure noise variance should be equals to 1."
   ]
  },
  {
   "cell_type": "markdown",
   "metadata": {},
   "source": [
    "#### Wrapper/binding\n",
    "\n",
    "Use the *mr_filter* binding when it will be ready (autumn 2017)."
   ]
  },
  {
   "cell_type": "markdown",
   "metadata": {},
   "source": [
    "### Ideas for further steps\n",
    "\n",
    "- Use better features for the gamma/proton classifier (e.g. use directly second order moments of the Wavelet coefficients distribution as an input of the classifier in addition to the Hillas parameters)\n",
    "- Use automatic feature extraction methods (?)\n",
    "\n",
    "- Use better machine learning methods for the gamma/proton classifier (e.g. SVM)\n",
    "- Test deep learning on the image space. Cons:\n",
    "    - it won't use any cosmostat tool anymore and thus causes political issues...\n",
    "    - require a lot of (developing and material) resource\n",
    "\n",
    "- Assess images using the actual angle of the monte carlo shower instead of using the angle obtain with Hillas parametrization on the clean image (suggested by Jean-Luc)\n",
    "- Use wavelets only to detect the signal position and give this information to a *matched filter* (to reduce the number of dimension of the search) which will be in charge of the actual cleaning of the signal (suggested by Jean-Luc and Sandrine)\n",
    "\n",
    "- Add an option in mr_filter to use a tailored noise distribution (the actual noise distribution of our problem) \n",
    "- As the signal is very local, use a 2 pass wavelet filtering\n",
    "    - the first pass would detect the signal position\n",
    "    - the second pass would locally adjust threshold (reduce thresholds around the signal detected by the first pass)\n",
    "- Learn the \"optimal\" mother wavelet from a set of pure signal\n",
    "\n",
    "Update the execution time measurements and optimize it:\n",
    "- Compile with better optimization flags: easy Use efficient third parties libraries\n",
    "- Shared memory parallelization (OpenMP) Distributed memory parallelization (MPI, ...)\n",
    "- Customize the algorithms implementation\n",
    "- Check some other libraries\n",
    "- Check some other algorithms ...\n",
    "\n",
    "Charge loss:\n",
    "as an alternative to mr_filter's option `-K` (remove the last plane), we may use the first 3 planes (among the 4 used) to make a mask indicating which pixels are kept (i.e. pixels being above the filtering threshold in any of these 3 planes) and use this mask to keep only these pixels in the last plane."
   ]
  }
 ],
 "metadata": {
  "anaconda-cloud": {},
  "kernelspec": {
   "display_name": "Python [conda env:cta]",
   "language": "python",
   "name": "conda-env-cta-py"
  },
  "language_info": {
   "codemirror_mode": {
    "name": "ipython",
    "version": 3
   },
   "file_extension": ".py",
   "mimetype": "text/x-python",
   "name": "python",
   "nbconvert_exporter": "python",
   "pygments_lexer": "ipython3",
   "version": "3.5.2"
  }
 },
 "nbformat": 4,
 "nbformat_minor": 1
}
