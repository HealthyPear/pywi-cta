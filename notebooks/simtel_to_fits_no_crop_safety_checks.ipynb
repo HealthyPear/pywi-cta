{
 "cells": [
  {
   "cell_type": "code",
   "execution_count": null,
   "metadata": {
    "collapsed": false
   },
   "outputs": [],
   "source": [
    "%matplotlib inline\n",
    "\n",
    "import matplotlib\n",
    "matplotlib.rcParams['figure.figsize'] = (6, 6)\n",
    "\n",
    "import math\n",
    "import cmath          # math functions for complex numbers\n",
    "import numpy as np\n",
    "import matplotlib.pyplot as plt\n",
    "\n",
    "from matplotlib.colors import LogNorm\n",
    "\n",
    "import scipy\n",
    "import scipy.stats\n",
    "import pandas as pd\n",
    "\n",
    "from astropy.io import fits\n",
    "import os.path\n",
    "\n",
    "import ipywidgets\n",
    "from ipywidgets import interact\n",
    "\n",
    "import sys\n",
    "sys.path.append(\"/Users/jdecock/git/pub/jdhp-sap/sap-cta-data-pipeline\")\n",
    "\n",
    "import datapipe\n",
    "import datapipe.denoising.wavelets_mrfilter as mrfilter\n",
    "\n",
    "sys.path.append(\"/Users/jdecock/git/pub/jdhp-sap/sap-cta-data-pipeline/utils\")\n",
    "import common_functions as common"
   ]
  },
  {
   "cell_type": "code",
   "execution_count": null,
   "metadata": {
    "collapsed": true
   },
   "outputs": [],
   "source": [
    "def plot(data, title=\"\", log=False):\n",
    "    fig = plt.figure()\n",
    "    ax1 = fig.add_subplot(111)\n",
    "\n",
    "    ax1.set_title(title)\n",
    "    \n",
    "    if log:\n",
    "        # See http://matplotlib.org/examples/pylab_examples/pcolor_log.html\n",
    "        #     http://stackoverflow.com/questions/2546475/how-can-i-draw-a-log-normalized-imshow-plot-with-a-colorbar-representing-the-raw\n",
    "        #im = ax1.pcolor(x, y, image_array, norm=LogNorm(vmin=0.01, vmax=image_array.max()), cmap=self.color_map)  # TODO: \"vmin=0.01\" is an arbitrary choice...\n",
    "        im = ax1.imshow(data, interpolation='nearest', origin='lower', norm=LogNorm(vmin=0.01, vmax=data.max()), cmap=\"gnuplot2\")   # cmap=cm.inferno and cmap=\"inferno\" are both valid\n",
    "    else:\n",
    "        im = ax1.imshow(data, interpolation='nearest', origin='lower', cmap=\"gnuplot2\")   # cmap=cm.inferno and cmap=\"inferno\" are both valid\n",
    "        #im = ax1.pcolor(x, y, image_array, cmap=self.color_map, vmin=z_min, vmax=z_max)\n",
    "\n",
    "    plt.colorbar(im, ax=ax1)  # draw the colorbar\n",
    "    \n",
    "    #ax2 = fig.add_subplot(212)\n",
    "    #ax2.hist(data)\n",
    "    \n",
    "    plt.show()"
   ]
  },
  {
   "cell_type": "code",
   "execution_count": null,
   "metadata": {
    "collapsed": true
   },
   "outputs": [],
   "source": [
    "def load_benchmark_images_deprecated(input_file_path):\n",
    "    hdu_list = fits.open(input_file_path)   # open the FITS file\n",
    "\n",
    "    if (len(hdu_list) != 6) or (not hdu_list[0].is_image) or (not hdu_list[1].is_image) or (not hdu_list[2].is_image) or (not hdu_list[3].is_image) or (not hdu_list[4].is_image) or (not hdu_list[5].is_image):\n",
    "        hdu_list.close()\n",
    "        raise WrongFitsFileStructure(input_file_path)\n",
    "\n",
    "    hdu0, hdu1, hdu2, hdu3, hdu4, hdu6 = hdu_list\n",
    "\n",
    "    # IMAGES\n",
    "\n",
    "    images_dict = {}\n",
    "\n",
    "    images_dict[\"input_image\"] = hdu0.data        # \"hdu.data\" is a Numpy Array\n",
    "    images_dict[\"reference_image\"] = hdu1.data    # \"hdu.data\" is a Numpy Array\n",
    "    images_dict[\"adc_sum_image\"] = hdu2.data      # \"hdu.data\" is a Numpy Array\n",
    "    images_dict[\"pedestal_image\"] = hdu3.data     # \"hdu.data\" is a Numpy Array\n",
    "    images_dict[\"gains_image\"] = hdu4.data        # \"hdu.data\" is a Numpy Array\n",
    "    #images_dict[\"calibration_image\"] = hdu5.data # \"hdu.data\" is a Numpy Array\n",
    "    images_dict[\"pixels_position\"] = hdu6.data    # \"hdu.data\" is a Numpy Array\n",
    "\n",
    "    # METADATA\n",
    "\n",
    "    metadata_dict = {}\n",
    "    hdu_list.close()\n",
    "\n",
    "    return images_dict, metadata_dict"
   ]
  },
  {
   "cell_type": "markdown",
   "metadata": {},
   "source": [
    "## Safety check for gammas"
   ]
  },
  {
   "cell_type": "code",
   "execution_count": null,
   "metadata": {
    "collapsed": false
   },
   "outputs": [],
   "source": [
    "path_not_cropped = \"/Users/jdecock/data/astri_mini_array/fits/gamma/\"\n",
    "path_cropped = \"/Users/jdecock/data/astri_mini_array/fits_cropped/gamma/\"\n",
    "\n",
    "cropped_file_path_list = common.get_fits_files_list(path_cropped)"
   ]
  },
  {
   "cell_type": "code",
   "execution_count": null,
   "metadata": {
    "collapsed": false
   },
   "outputs": [],
   "source": [
    "for cropped_file_path in cropped_file_path_list:\n",
    "    file_base = os.path.basename(cropped_file_path)\n",
    "    #print(file_base)\n",
    "    \n",
    "    not_cropped_file_path = os.path.join(path_not_cropped, file_base)\n",
    "    \n",
    "    for key, cropped_data in load_benchmark_images_deprecated(cropped_file_path)[0].items():\n",
    "        \n",
    "        not_cropped_data = datapipe.io.images.load_benchmark_images(not_cropped_file_path)[0][key]\n",
    "      \n",
    "        if cropped_data.ndim == 2:\n",
    "            test = np.all(not_cropped_data[8:6*8,8:6*8] == cropped_data)\n",
    "            \n",
    "            if not test:\n",
    "                raise ValueError()\n",
    "                \n",
    "            #plot(cropped_data, title=key)\n",
    "            #plot(not_cropped_data, title=key)\n",
    "        elif cropped_data.ndim == 3:\n",
    "            test1 = np.all(not_cropped_data[0][8:6*8,8:6*8] == cropped_data[0])\n",
    "            test2 = np.all(not_cropped_data[1][8:6*8,8:6*8] == cropped_data[1])\n",
    "            \n",
    "            if not test1 and test2:\n",
    "                raise ValueError()\n",
    "                \n",
    "            #plot(cropped_data[0], title=key + \" [0]\")\n",
    "            #plot(not_cropped_data[0], title=key + \" [0]\")\n",
    "            #plot(cropped_data[1], title=key + \" [1]\")\n",
    "            #plot(not_cropped_data[1], title=key + \" [1]\")"
   ]
  },
  {
   "cell_type": "markdown",
   "metadata": {},
   "source": [
    "## Safety check for protons"
   ]
  },
  {
   "cell_type": "code",
   "execution_count": null,
   "metadata": {
    "collapsed": false
   },
   "outputs": [],
   "source": [
    "path_not_cropped = \"/Users/jdecock/data/astri_mini_array/fits/proton/\"\n",
    "path_cropped = \"/Users/jdecock/data/astri_mini_array/fits_cropped/proton/\"\n",
    "\n",
    "cropped_file_path_list = common.get_fits_files_list(path_cropped)"
   ]
  },
  {
   "cell_type": "code",
   "execution_count": null,
   "metadata": {
    "collapsed": false
   },
   "outputs": [],
   "source": [
    "for cropped_file_path in cropped_file_path_list:\n",
    "    file_base = os.path.basename(cropped_file_path)\n",
    "    #print(file_base)\n",
    "    \n",
    "    not_cropped_file_path = os.path.join(path_not_cropped, file_base)\n",
    "    \n",
    "    for key, cropped_data in load_benchmark_images_deprecated(cropped_file_path)[0].items():\n",
    "        \n",
    "        not_cropped_data = datapipe.io.images.load_benchmark_images(not_cropped_file_path)[0][key]\n",
    "      \n",
    "        if cropped_data.ndim == 2:\n",
    "            test = np.all(not_cropped_data[8:6*8,8:6*8] == cropped_data)\n",
    "            \n",
    "            if not test:\n",
    "                raise ValueError()\n",
    "                \n",
    "            #plot(cropped_data, title=key)\n",
    "            #plot(not_cropped_data, title=key)\n",
    "        elif cropped_data.ndim == 3:\n",
    "            test1 = np.all(not_cropped_data[0][8:6*8,8:6*8] == cropped_data[0])\n",
    "            test2 = np.all(not_cropped_data[1][8:6*8,8:6*8] == cropped_data[1])\n",
    "            \n",
    "            if not test1 and test2:\n",
    "                raise ValueError()\n",
    "                \n",
    "            #plot(cropped_data[0], title=key + \" [0]\")\n",
    "            #plot(not_cropped_data[0], title=key + \" [0]\")\n",
    "            #plot(cropped_data[1], title=key + \" [1]\")\n",
    "            #plot(not_cropped_data[1], title=key + \" [1]\")"
   ]
  }
 ],
 "metadata": {
  "anaconda-cloud": {},
  "kernelspec": {
   "display_name": "Python [conda env:cta]",
   "language": "python",
   "name": "conda-env-cta-py"
  },
  "language_info": {
   "codemirror_mode": {
    "name": "ipython",
    "version": 3
   },
   "file_extension": ".py",
   "mimetype": "text/x-python",
   "name": "python",
   "nbconvert_exporter": "python",
   "pygments_lexer": "ipython3",
   "version": "3.5.2"
  }
 },
 "nbformat": 4,
 "nbformat_minor": 1
}
