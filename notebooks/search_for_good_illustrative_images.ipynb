{
 "cells": [
  {
   "cell_type": "code",
   "execution_count": null,
   "metadata": {
    "collapsed": false,
    "scrolled": true
   },
   "outputs": [],
   "source": [
    "%matplotlib inline\n",
    "\n",
    "import matplotlib\n",
    "matplotlib.rcParams['figure.figsize'] = (6, 6)\n",
    "\n",
    "import math\n",
    "import cmath          # math functions for complex numbers\n",
    "import numpy as np\n",
    "import matplotlib.pyplot as plt\n",
    "\n",
    "from matplotlib.colors import LogNorm\n",
    "\n",
    "import scipy\n",
    "import scipy.stats\n",
    "import pandas as pd\n",
    "\n",
    "from astropy.io import fits\n",
    "import os.path\n",
    "\n",
    "import ipywidgets\n",
    "from ipywidgets import interact\n",
    "\n",
    "import sys\n",
    "sys.path.append(\"/Users/jdecock/git/pub/jdhp-sap/sap-cta-data-pipeline\")\n",
    "import datapipe\n",
    "import datapipe.denoising.wavelets_mrfilter as mrfilter\n",
    "sys.path.append(\"/Users/jdecock/git/pub/jdhp-sap/sap-cta-data-pipeline/utils\")\n",
    "import common_functions as common"
   ]
  },
  {
   "cell_type": "markdown",
   "metadata": {},
   "source": [
    "## Search for good images"
   ]
  },
  {
   "cell_type": "code",
   "execution_count": null,
   "metadata": {
    "collapsed": false,
    "scrolled": true
   },
   "outputs": [],
   "source": [
    "#CSV_FILE_PATH = \"../xps/best.csv\"\n",
    "CSV_FILE_PATH = \"../xps/2017_05_12/2017_05_12.csv\"\n",
    "#CSV_FILE_PATH = \"../xps/2017_05_15_cropped_fits_files/2017_05_15_cropped_fits_files.csv\"\n",
    "\n",
    "#WAVELET_LABEL = \"WT-K-k-C1-m3-n4-s3\"\n",
    "WAVELET_LABEL = \"WT-K-k-C1-m3-n4-s2-2-3-3\"\n",
    "\n",
    "TAILCUT_LABEL = \"Tailcut-5-10\"\n",
    "\n",
    "PART = 0       # 0 for gamma, 1 for protons\n",
    "\n",
    "full_df = pd.read_csv(CSV_FILE_PATH)\n",
    "\n",
    "full_df.columns"
   ]
  },
  {
   "cell_type": "code",
   "execution_count": null,
   "metadata": {
    "collapsed": false
   },
   "outputs": [],
   "source": [
    "full_df"
   ]
  },
  {
   "cell_type": "code",
   "execution_count": null,
   "metadata": {
    "collapsed": true
   },
   "outputs": [],
   "source": [
    "ref = full_df[full_df.Type == 'Ref']\n",
    "ref = ref[ref.Part == PART]\n",
    "\n",
    "tc = full_df[full_df.Type == TAILCUT_LABEL]\n",
    "tc = tc[tc.Part == PART]\n",
    "\n",
    "wt = full_df[full_df.Type == WAVELET_LABEL]\n",
    "wt = wt[wt.Part == PART]\n",
    "\n",
    "tc_wt = pd.merge(tc, wt, on=\"Id\", how=\"outer\", suffixes=('_tc', '_wt'))  #.dropna(how='any')\n",
    "df = pd.merge(tc_wt, ref, on=\"Id\", how=\"outer\")\n",
    "\n",
    "df[\"delta_tc\"] = np.fmod(((df['hPsi'] - df['hPsi_tc']) * 180. / np.pi), 90.)\n",
    "df[\"delta_wt\"] = np.fmod(((df['hPsi'] - df['hPsi_wt']) * 180. / np.pi), 90.)\n",
    "\n",
    "df.delta_tc = abs(df.delta_tc)\n",
    "df.delta_wt = abs(df.delta_wt)"
   ]
  },
  {
   "cell_type": "markdown",
   "metadata": {},
   "source": [
    "## Set the selection"
   ]
  },
  {
   "cell_type": "code",
   "execution_count": null,
   "metadata": {
    "collapsed": false
   },
   "outputs": [],
   "source": [
    "#selection = df[df.peSum_tc > 50][df.peSum_tc < 200][df.nPix_tc > 10][df.delta_tc > 5.][df.delta_wt < 1.].loc[:,['Id','Tel','Evt','delta_tc','delta_wt']]\n",
    "#selection = df[df.nPix > 1000].loc[:,['Id','Tel','Evt','delta_tc','delta_wt']]\n",
    "selection = df[df.peSum > 50][df.peSum < 55].loc[:,['Id','Tel','Evt','delta_tc','delta_wt','fits','cam']]\n",
    "print(\"Search:\", len(selection))\n",
    "print(\"Search:\", selection)"
   ]
  },
  {
   "cell_type": "code",
   "execution_count": null,
   "metadata": {
    "collapsed": false
   },
   "outputs": [],
   "source": [
    "file_path_list = []\n",
    "for fits, cam_id in zip(selection.fits.values, selection.cam.values):\n",
    "    if PART == 0:\n",
    "        if cam_id == \"ASTRI\":\n",
    "            dir_path = \"/Users/jdecock/data/astri_mini_array/fits/gamma\"\n",
    "        elif cam_id == \"ASTRI_CROPPED\":\n",
    "            dir_path = \"/Users/jdecock/data/astri_mini_array/fits_cropped/gamma\"\n",
    "    elif PART == 1:\n",
    "        if cam_id == \"ASTRI\":\n",
    "            dir_path = \"/Users/jdecock/data/astri_mini_array/fits/proton\"\n",
    "        elif cam_id == \"ASTRI_CROPPED\":\n",
    "            dir_path = \"/Users/jdecock/data/astri_mini_array/fits_cropped/proton\"\n",
    "\n",
    "    file_name = fits\n",
    "\n",
    "    path = os.path.join(dir_path, file_name)\n",
    "    file_path_list.append(path)\n",
    "\n",
    "print(file_path_list)"
   ]
  },
  {
   "cell_type": "markdown",
   "metadata": {},
   "source": [
    "## GUI"
   ]
  },
  {
   "cell_type": "code",
   "execution_count": null,
   "metadata": {
    "collapsed": true
   },
   "outputs": [],
   "source": [
    "# mr_filter options\n",
    "\n",
    "option_list = [\n",
    "    \"-K -C1 -m3  -s2,2,3,3 -n4\",\n",
    "    \"-K -C1 -m3  -s4 -n4 -t24 -f3\",           # Suggested by Jean-Luc (TODO: try to adapt -s)\n",
    "#    \"-K -C1 -m3  -s5 -n4 -t28 -f3 -i10 -e0\",  # Suggested by Jean-Luc (TODO: try to adapt -s)\n",
    "    \"-K -C1 -m3  -s3 -n4\",      # Hard K-Sigma Thresholding, Poisson + Gaussian\n",
    "    \"-K -C1 -m3  -s3 -n4 -f3\",\n",
    "#    \"-K -C1 -m3  -s2,2,3,3 -n4 -f3\",\n",
    "#    \"-K -C1 -m3  -s3 -n4 -f2\",  # Soft K-Sigma Thresholding, Poisson + Gaussian (deconseille par JL)\n",
    "#    \"-K -C2 -m1      -n4 -f2\",  # False Discovery Rate\n",
    "#    \"-K     -m1      -n4 -f6\",  # Wiener Filtering (min MSE between random process and desired process)\n",
    "#    \"-K -C1 -m10 -s3 -n4\",      # Poisson with few events\n",
    "#    \"-K -C1 -m2  -s3 -n4\",      # Poisson\n",
    "    ]"
   ]
  },
  {
   "cell_type": "code",
   "execution_count": null,
   "metadata": {
    "collapsed": false
   },
   "outputs": [],
   "source": [
    "@interact(kill_pix=True, hist=False, log_scale=True, ellipses=True, lateral_hst=[\"Wavelet\", \"Tailcut\", None], ref_angle=False, file_path=file_path_list, mrfilter=option_list)\n",
    "def gui(kill_pix, hist, log_scale, ellipses, lateral_hst, ref_angle, file_path, mrfilter):\n",
    "    fits_images_dict, fits_metadata_dict = datapipe.io.images.load_benchmark_images(file_path)\n",
    "    input_img = fits_images_dict[\"input_image\"]\n",
    "    reference_img = fits_images_dict[\"reference_image\"]\n",
    "    pixels_position = fits_images_dict[\"pixels_position\"]\n",
    "\n",
    "    fig = plt.figure(figsize=(14, 14))\n",
    "\n",
    "    common.plot_gui(fig,\n",
    "                    input_img,\n",
    "                    reference_img,\n",
    "                    pixels_position,\n",
    "                    fits_metadata_dict,\n",
    "                    wavelets_cmd=mrfilter,\n",
    "                    kill_isolated_pixels=kill_pix,\n",
    "                    plot_histogram=hist,\n",
    "                    plot_log_scale=log_scale,\n",
    "                    plot_ellipse_shower=ellipses,\n",
    "                    _plot_perpendicular_hit_distribution=lateral_hst,  # None, \"Tailcut\", \"Wavelet\"\n",
    "                    use_ref_angle_for_perpendicular_hit_distribution=ref_angle,\n",
    "                    notebook=True\n",
    "                   )"
   ]
  },
  {
   "cell_type": "code",
   "execution_count": null,
   "metadata": {
    "collapsed": true
   },
   "outputs": [],
   "source": []
  }
 ],
 "metadata": {
  "anaconda-cloud": {},
  "kernelspec": {
   "display_name": "Python [conda env:cta]",
   "language": "python",
   "name": "conda-env-cta-py"
  },
  "language_info": {
   "codemirror_mode": {
    "name": "ipython",
    "version": 3
   },
   "file_extension": ".py",
   "mimetype": "text/x-python",
   "name": "python",
   "nbconvert_exporter": "python",
   "pygments_lexer": "ipython3",
   "version": "3.5.2"
  },
  "widgets": {
   "state": {
    "d522d4750a1f42bd9546abc13ab5a7ae": {
     "views": [
      {
       "cell_index": 10
      }
     ]
    }
   },
   "version": "1.2.0"
  }
 },
 "nbformat": 4,
 "nbformat_minor": 1
}
