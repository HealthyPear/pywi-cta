{
 "cells": [
  {
   "cell_type": "code",
   "execution_count": null,
   "metadata": {
    "collapsed": false
   },
   "outputs": [],
   "source": [
    "%matplotlib inline\n",
    "\n",
    "import numpy as np\n",
    "import matplotlib.pyplot as plt\n",
    "\n",
    "import ctapipe\n",
    "from ctapipe.io.hessio import hessio_event_source\n",
    "import pyhessio"
   ]
  },
  {
   "cell_type": "code",
   "execution_count": null,
   "metadata": {
    "collapsed": true
   },
   "outputs": [],
   "source": [
    "tel_id = 1\n",
    "#source = hessio_event_source(\"/Users/jdecock/data/astri_mini_array/proton/run10001.simtel.gz\", allowed_tels=[tel_id])\n",
    "source = hessio_event_source(\"/Users/jdecock/data/gct/proton/group1run1000.simtel.gz\", allowed_tels=[tel_id])"
   ]
  },
  {
   "cell_type": "code",
   "execution_count": null,
   "metadata": {
    "collapsed": false
   },
   "outputs": [],
   "source": [
    "for ev in source:\n",
    "    event = ev\n",
    "    if 1 in ev.dl0.tel:\n",
    "        print(ev.dl0.tel[1].adc_sums[1])"
   ]
  },
  {
   "cell_type": "code",
   "execution_count": null,
   "metadata": {
    "collapsed": false,
    "scrolled": true
   },
   "outputs": [],
   "source": [
    "#print(ev)"
   ]
  },
  {
   "cell_type": "code",
   "execution_count": null,
   "metadata": {
    "collapsed": false
   },
   "outputs": [],
   "source": [
    "pixels_position = ev.inst.pixel_pos[tel_id]\n",
    "\n",
    "print(pixels_position[0])\n",
    "print(pixels_position[1])"
   ]
  },
  {
   "cell_type": "code",
   "execution_count": null,
   "metadata": {
    "collapsed": false
   },
   "outputs": [],
   "source": [
    "plt.scatter(pixels_position[0], pixels_position[1])"
   ]
  },
  {
   "cell_type": "code",
   "execution_count": null,
   "metadata": {
    "collapsed": false
   },
   "outputs": [],
   "source": [
    "(pos_x_list, pos_y_list) = pixels_position\n",
    "pos_x_list = [float(pos.value) for pos in pos_x_list]\n",
    "pos_y_list = [float(pos.value) for pos in pos_y_list]\n",
    "\n",
    "assert len(pos_x_list) == len(pos_y_list)\n",
    "\n",
    "# PLOT ####################################################################\n",
    "\n",
    "fig, ax = plt.subplots(ncols=1, nrows=1, figsize=(14, 14))\n",
    "\n",
    "# Scatter method ##################\n",
    "\n",
    "ax.scatter(pos_x_list,    # x\n",
    "           pos_y_list,    # y\n",
    "           s=0.2,         # radius\n",
    "           c=\"black\",     # color\n",
    "           alpha=0.75)\n",
    "\n",
    "ax.plot(pos_x_list,    # x\n",
    "        pos_y_list,    # y\n",
    "        \"r-\",\n",
    "        alpha=0.75)\n",
    "\n",
    "for pixel_index in range(len(pos_x_list)):\n",
    "    ax.text(pos_x_list[pixel_index], pos_y_list[pixel_index], str(pixel_index), fontsize=8)\n",
    "\n",
    "ax.set_title(\"Pixels position (telescope {})\".format(tel_id), fontsize=16)\n",
    "\n",
    "ax.set_xlabel(\"x position (m)\", fontsize=16)\n",
    "ax.set_ylabel(\"y position (m)\", fontsize=16)\n",
    "\n",
    "ax.set_xlim(-0.17, 0.17)\n",
    "ax.set_ylim(-0.17, 0.17)\n",
    "\n",
    "plt.show()"
   ]
  }
 ],
 "metadata": {
  "anaconda-cloud": {},
  "kernelspec": {
   "display_name": "Python [conda env:cta]",
   "language": "python",
   "name": "conda-env-cta-py"
  },
  "language_info": {
   "codemirror_mode": {
    "name": "ipython",
    "version": 3
   },
   "file_extension": ".py",
   "mimetype": "text/x-python",
   "name": "python",
   "nbconvert_exporter": "python",
   "pygments_lexer": "ipython3",
   "version": "3.5.2"
  }
 },
 "nbformat": 4,
 "nbformat_minor": 1
}
