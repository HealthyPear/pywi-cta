{
 "cells": [
  {
   "cell_type": "code",
   "execution_count": 42,
   "metadata": {
    "collapsed": false,
    "scrolled": true
   },
   "outputs": [
    {
     "name": "stdout",
     "output_type": "stream",
     "text": [
      "Populating the interactive namespace from numpy and matplotlib\n"
     ]
    },
    {
     "name": "stderr",
     "output_type": "stream",
     "text": [
      "WARNING: pylab import has clobbered these variables: ['plot']\n",
      "`%matplotlib` prevents importing * from pylab and numpy\n"
     ]
    }
   ],
   "source": [
    "%pylab inline\n",
    "\n",
    "pylab.rcParams['figure.figsize'] = (6, 6)\n",
    "\n",
    "import math\n",
    "import cmath          # math functions for complex numbers\n",
    "import numpy as np\n",
    "import matplotlib.pyplot as plt\n",
    "\n",
    "import scipy\n",
    "import scipy.stats\n",
    "import pandas as pd\n",
    "\n",
    "from astropy.io import fits\n",
    "import os.path\n",
    "\n",
    "import ipywidgets\n",
    "from ipywidgets import interact\n",
    "\n",
    "import sys\n",
    "sys.path.append(\"/Users/jdecock/git/pub/jdhp-sap/sap-cta-data-pipeline/datapipe\")\n",
    "import datapipe.denoising.wavelets_mrfilter as mrfilter"
   ]
  },
  {
   "cell_type": "markdown",
   "metadata": {},
   "source": [
    "**TODO**:\n",
    "* outils:\n",
    "    * appeler mr_filter / mr_transform, afficher l'entrée, la sortie et les plans (+ histogrammes)\n",
    "    * la même chose que la GUI\n",
    "* charge loss\n",
    "* threshold\n",
    "* spellcheck"
   ]
  },
  {
   "cell_type": "markdown",
   "metadata": {},
   "source": [
    "## Introduction"
   ]
  },
  {
   "cell_type": "markdown",
   "metadata": {},
   "source": [
    "###  Context\n",
    "\n",
    "On travaille sur des images provenant de simulations montecarlo de telescopes gamma (~100 GeV to ~300 TeV)\n",
    "\n",
    "Exemple:\n",
    "<img src=\"./figs/image31.gif\" width=\"50%\"></img>\n",
    "\n",
    "Processus:\n",
    "1. nettoyer l'image (suppression du bruit electronique et du NSB)\n",
    "2. déterminer l'axe de la gerbe gamma sur l'image\n",
    "3. par stereoscopie determiner l'origine de la gerbe\n",
    "\n",
    "|                                                  |                                                  |\n",
    "| ------------------------------------------------ | ------------------------------------------------ |\n",
    "| <img src=\"./figs/image30.png\" width=\"90%\"></img> | <img src=\"./figs/image32.png\" width=\"90%\"></img> |\n",
    "| <img src=\"./figs/image33.png\" width=\"90%\"></img> | <img src=\"./figs/Arrayscheme2_x.png\" width=\"90%\"></img> |\n"
   ]
  },
  {
   "cell_type": "markdown",
   "metadata": {},
   "source": [
    "### Image types\n",
    "\n",
    "#### FlashCam telescopes: 1764 (hexagonal) pixels\n",
    "\n",
    "<img src=\"./figs/geom_3_flashcam.png\" width=\"40%\">\n",
    "\n",
    "#### ASTRI telescopes: 2368 (rectangular) pixels\n",
    "\n",
    "<img src=\"./figs/geom_4_astri.png\" width=\"40%\">\n",
    "\n",
    "#### and others...\n",
    "\n",
    "..."
   ]
  },
  {
   "cell_type": "markdown",
   "metadata": {},
   "source": [
    "### Images I use so far"
   ]
  },
  {
   "cell_type": "markdown",
   "metadata": {},
   "source": [
    "- Cropped images from Astri telescopes => 40x40 pixels\n",
    "- Set of ~15000 images\n",
    "\n",
    "<img src=\"./figs/geom_4_astri_crop3.svg\" width=\"60%\">"
   ]
  },
  {
   "cell_type": "markdown",
   "metadata": {},
   "source": [
    "### Cleaning algorithm reference\n",
    "\n",
    "The \"Tailcut clean\" algorithm:\n",
    "- Keep pixels above a given threshold (10 PE)\n",
    "- Keep some neighbors of these selected pixels: those above a second (lower) threshold (5 PE)\n",
    "\n",
    "Goal:\n",
    "- use sparse2d tools to get a better image cleaning (electronic noise and NSB removal)...\n",
    "- to improve event reconstruction..\n",
    "- and thus improve observatory's sensibility"
   ]
  },
  {
   "cell_type": "markdown",
   "metadata": {},
   "source": [
    "## Some stats"
   ]
  },
  {
   "cell_type": "markdown",
   "metadata": {},
   "source": [
    "### Total number of photoelectrons (NPE) per image"
   ]
  },
  {
   "cell_type": "code",
   "execution_count": null,
   "metadata": {
    "collapsed": true
   },
   "outputs": [],
   "source": [
    "%run ./utils/plot_metadata_histogram.py --key=npe --logx --title=\"Number of photoelectrons (NPE) per image\" ./xps/2017_02_04/score_gamma_all_null_ref.json"
   ]
  },
  {
   "cell_type": "markdown",
   "metadata": {},
   "source": [
    "### Noise histogram (telescope 1 only)"
   ]
  },
  {
   "cell_type": "code",
   "execution_count": null,
   "metadata": {
    "collapsed": true
   },
   "outputs": [],
   "source": [
    "%run ./utils/plot_noise_histogram.py --notebook --logy --min-npe=50 --max-npe=1500 ./testset/gamma/tel1/"
   ]
  },
  {
   "cell_type": "markdown",
   "metadata": {},
   "source": [
    "abs(noise) $\\sim \\text{Poisson}(\\lambda \\approx 2)$"
   ]
  },
  {
   "cell_type": "markdown",
   "metadata": {},
   "source": [
    "### Noise histogram (telescope 2 only)"
   ]
  },
  {
   "cell_type": "code",
   "execution_count": null,
   "metadata": {
    "collapsed": true
   },
   "outputs": [],
   "source": [
    "%run ./utils/plot_noise_histogram.py --notebook --logy --min-npe=50 --max-npe=1500 ./testset/gamma/tel2/"
   ]
  },
  {
   "cell_type": "markdown",
   "metadata": {},
   "source": [
    "## Questions"
   ]
  },
  {
   "cell_type": "markdown",
   "metadata": {},
   "source": [
    "### Remove isolated pixels after cleaning: l'option \"-k\" ne semble pas avoir d'effet"
   ]
  },
  {
   "cell_type": "markdown",
   "metadata": {},
   "source": [
    "<img src=\"./figs/kill_isolated_pixels/ev458109_tel1.png\" width=\"75%\">\n",
    "\n",
    "<img src=\"./figs/kill_isolated_pixels/ev481109_tel1_log.png\" width=\"75%\">"
   ]
  },
  {
   "cell_type": "markdown",
   "metadata": {},
   "source": [
    "### Charge loss"
   ]
  },
  {
   "cell_type": "markdown",
   "metadata": {},
   "source": [
    "**TODO...**"
   ]
  },
  {
   "cell_type": "markdown",
   "metadata": {},
   "source": [
    "### Threshold WT"
   ]
  },
  {
   "cell_type": "markdown",
   "metadata": {},
   "source": [
    "* hard filter do 1, 0.6, ...\n",
    "* on voudrait faire le contraire: mettre un seuil plus bas pour les petites échelles (filtrer moins) et plus haut pour les grandes échelles (filtrer plus) pour conserver plus de détails (nos objets ne font que quelques pixels)"
   ]
  },
  {
   "cell_type": "markdown",
   "metadata": {},
   "source": [
    "### Hexagonal images and corners"
   ]
  },
  {
   "cell_type": "markdown",
   "metadata": {},
   "source": [
    "**Objectif n°1**: gérer les images ayant des \"trous\" dans les coins\n",
    "\n",
    "Idée:\n",
    "- pouvoir activer prématurement le \"mirroring\" d'un tuple de pixels (i.e. ce qui se passe quand on atteind le bord de l'image dans smooth_bspline) en mettant des pixels à une valeur particulière (FLOAT_MIN, NaN, ...)\n",
    "\n",
    "<img src=\"./figs/geom_4_astri.png\" width=\"40%\">\n",
    "\n",
    "**Objectif n°2**: travailler sur des images faites d'une grille de pixels hexagonaux\n",
    "\n",
    "<img src=\"./figs/geom_3_flashcam.png\" width=\"40%\">\n",
    "\n",
    "Idée:\n",
    "    - ajouter une itération dans smooth_bspline: applique la convolution suivant un 3e axe\n",
    "    - suppose de changer la structure de donnée des images (workaround de travailler avec des cubes)\n",
    "    - l'idée n'est pas de changer la structure de donnée des images à un niveau global (imutilement long et compliqué) mais plutôt très localement pour une configuration particulière de filtre\n",
    "\n",
    "<img src=\"./figs/hexagonal_grid.png\" width=\"25%\">"
   ]
  },
  {
   "cell_type": "code",
   "execution_count": null,
   "metadata": {
    "collapsed": false
   },
   "outputs": [],
   "source": [
    "# %load /Users/jdecock/bin/isap/cxx/sparse2d/src/libsparse2d/IM_Smooth.cc\n",
    "\n",
    "void smooth_bspline (const Iint & Im_in,\n",
    "                     Iint &Im_out,\n",
    "                     type_border Type,\n",
    "                     int Step_trou)\n",
    "{\n",
    "    int Nl = Im_in.nl();\n",
    "    int Nc = Im_in.nc();\n",
    "    int i,j,Step;\n",
    "    float Coeff_h0 = 3. / 8.;\n",
    "    float Coeff_h1 = 1. / 4.;\n",
    "    float Coeff_h2 = 1. / 16.;\n",
    "    Ifloat Buff(Nl,Nc,\"Buff smooth_bspline\");\n",
    "\n",
    "    Step = (int)(pow((double)2., (double) Step_trou) + 0.5);\n",
    "\n",
    "    for (i = 0; i < Nl; i ++)\n",
    "    for (j = 0; j < Nc; j ++)\n",
    "       Buff(i,j) = Coeff_h0 * (float)  Im_in(i,j)\n",
    "                 + Coeff_h1 * (float) (  Im_in (i, j-Step, Type) \n",
    "                                       + Im_in (i, j+Step, Type)) \n",
    "                 + Coeff_h2 * (float) (  Im_in (i, j-2*Step, Type) \n",
    "                                       + Im_in (i, j+2*Step, Type));\n",
    "\n",
    "    for (i = 0; i < Nl; i ++)\n",
    "    for (j = 0; j < Nc; j ++)\n",
    "       Im_out(i,j) = (int)(Coeff_h0 * Buff(i,j) +\n",
    "                 + Coeff_h1 * (float) (  Buff (i-Step, j, Type) \n",
    "                                       + Buff (i+Step, j, Type)) \n",
    "                 + Coeff_h2 * (float) (  Buff (i-2*Step, j, Type) \n",
    "                                       + Buff (i+2*Step, j, Type)) + 0.5);\n",
    "\n",
    "}"
   ]
  },
  {
   "cell_type": "markdown",
   "metadata": {},
   "source": [
    "### Wrapper"
   ]
  },
  {
   "cell_type": "markdown",
   "metadata": {},
   "source": [
    "Pour faire du filtrage en temps réel, l'utilisation de fichiers pour échanger les données avec mr_filter/mr_transform/... pose problème (temps d'accès aux fichiers trop long).\n",
    "\n",
    "Idéalement il nous faudrait des wrappers Python.\n",
    "\n",
    "Sinon, une amélioration possible peu couteuse en temps de developpement serait d'échanger les données via stdin/stdout."
   ]
  },
  {
   "cell_type": "markdown",
   "metadata": {},
   "source": [
    "## Tool functions"
   ]
  },
  {
   "cell_type": "code",
   "execution_count": 60,
   "metadata": {
    "collapsed": true
   },
   "outputs": [],
   "source": [
    "# %load /Users/jdecock/git/pub/jdhp/snippets/python/astropy/fits/print_infos.py\n",
    "def fits_info(file_path):\n",
    "    hdu_list = fits.open(file_path)\n",
    "    hdu_list.info()\n",
    "    hdu_list.close()"
   ]
  },
  {
   "cell_type": "markdown",
   "metadata": {},
   "source": [
    "### Créer un fichier fits"
   ]
  },
  {
   "cell_type": "code",
   "execution_count": 43,
   "metadata": {
    "collapsed": true
   },
   "outputs": [],
   "source": [
    "# %load /Users/jdecock/git/pub/jdhp/snippets/python/astropy/fits/create_a_2d_fits_image_v2.py\n",
    "def data_to_fits(img, file_path):\n",
    "    hdu = fits.PrimaryHDU(img)\n",
    "\n",
    "    if os.path.isfile(file_path):\n",
    "        os.remove(file_path)\n",
    "\n",
    "    hdu.writeto(file_path)"
   ]
  },
  {
   "cell_type": "markdown",
   "metadata": {},
   "source": [
    "### Lire un fichier fits"
   ]
  },
  {
   "cell_type": "code",
   "execution_count": 46,
   "metadata": {
    "collapsed": true
   },
   "outputs": [],
   "source": [
    "def fits_to_data(file_path):\n",
    "    hdu_list = fits.open(file_path) # Open the FITS file\n",
    "    data = hdu_list[0].data\n",
    "    hdu_list.close()                # Close the FITS file\n",
    "    return data"
   ]
  },
  {
   "cell_type": "markdown",
   "metadata": {},
   "source": [
    "### Charger un fichier fits mrfilter"
   ]
  },
  {
   "cell_type": "code",
   "execution_count": 58,
   "metadata": {
    "collapsed": true
   },
   "outputs": [],
   "source": [
    "def read_mr_file(file_path):\n",
    "    hdu_list = fits.open(file_path) # Open the FITS file\n",
    "    data = hdu_list[0].data\n",
    "    hdu_list.close()                # Close the FITS file\n",
    "    return data"
   ]
  },
  {
   "cell_type": "markdown",
   "metadata": {},
   "source": [
    "### Charger un fichier fits sap-cta datapipe benchmark"
   ]
  },
  {
   "cell_type": "code",
   "execution_count": 24,
   "metadata": {
    "collapsed": true
   },
   "outputs": [],
   "source": [
    "def read_cta_file(file_path):\n",
    "    hdu_list = fits.open(file_path) # Open the FITS file\n",
    "    \n",
    "    if (len(hdu_list) != 7) or (not hdu_list[0].is_image) or (not hdu_list[1].is_image) or (not hdu_list[2].is_image) or (not hdu_list[3].is_image) or (not hdu_list[4].is_image) or (not hdu_list[5].is_image) or (not hdu_list[6].is_image):\n",
    "        hdu_list.close()\n",
    "        raise Exception(\"Wrong file structure\")\n",
    "\n",
    "    hdu0, hdu1, hdu2, hdu3, hdu4, hdu5, hdu6 = hdu_list\n",
    "\n",
    "    # IMAGES\n",
    "    images_dict = {}\n",
    "    \n",
    "    images_dict[\"input_image\"] = hdu0.data        # \"hdu.data\" is a Numpy Array\n",
    "    images_dict[\"reference_image\"] = hdu1.data    # \"hdu.data\" is a Numpy Array\n",
    "    images_dict[\"adc_sum_image\"] = hdu2.data      # \"hdu.data\" is a Numpy Array\n",
    "    #images_dict[\"pedestal_image\"] = hdu3.data     # \"hdu.data\" is a Numpy Array\n",
    "    #images_dict[\"gains_image\"] = hdu4.data        # \"hdu.data\" is a Numpy Array\n",
    "    #images_dict[\"calibration_image\"] = hdu5.data  # \"hdu.data\" is a Numpy Array\n",
    "    #images_dict[\"pixels_position\"] = hdu6.data    # \"hdu.data\" is a Numpy Array\n",
    "    \n",
    "    hdu_list.close()                # Close the FITS file\n",
    "    \n",
    "    return images_dict"
   ]
  },
  {
   "cell_type": "code",
   "execution_count": 48,
   "metadata": {
    "collapsed": true
   },
   "outputs": [],
   "source": [
    "def plot(data, title=\"\"):\n",
    "    fig = plt.figure()\n",
    "    ax = fig.add_subplot(111)\n",
    "\n",
    "    im = ax.imshow(data, interpolation='nearest', origin='lower', cmap=\"gnuplot2\")   # cmap=cm.inferno and cmap=\"inferno\" are both valid\n",
    "    ax.set_title(title)\n",
    "    \n",
    "    plt.colorbar(im) # draw the colorbar\n",
    "    plt.show()"
   ]
  },
  {
   "cell_type": "code",
   "execution_count": null,
   "metadata": {
    "collapsed": true
   },
   "outputs": [],
   "source": []
  },
  {
   "cell_type": "markdown",
   "metadata": {},
   "source": [
    "## Sandbox"
   ]
  },
  {
   "cell_type": "markdown",
   "metadata": {},
   "source": [
    "### Plot a cta fits file"
   ]
  },
  {
   "cell_type": "code",
   "execution_count": 28,
   "metadata": {
    "collapsed": false
   },
   "outputs": [
    {
     "data": {
      "image/png": "[encoded data removed]",
      "text/plain": [
       "<matplotlib.figure.Figure at 0x1152fae10>"
      ]
     },
     "metadata": {},
     "output_type": "display_data"
    },
    {
     "data": {
      "image/png": "[encoded data removed]",
      "text/plain": [
       "<matplotlib.figure.Figure at 0x115380278>"
      ]
     },
     "metadata": {},
     "output_type": "display_data"
    }
   ],
   "source": [
    "file_path = \"/Users/jdecock/data/astri_mini_array/fits/gamma/run1001.simtel.gz_TEL001_EV00507.fits\"\n",
    "\n",
    "plot(read_cta_file(file_path)[\"reference_image\"])\n",
    "plot(read_cta_file(file_path)[\"input_image\"])\n",
    "#plot(read_cta_file(file_path)[\"adc_sum_image\"][0])\n",
    "#plot(read_cta_file(file_path)[\"calibration_image\"][0])"
   ]
  },
  {
   "cell_type": "markdown",
   "metadata": {},
   "source": [
    "### Run datapipe mrfilter cleaning"
   ]
  },
  {
   "cell_type": "code",
   "execution_count": 38,
   "metadata": {
    "collapsed": true
   },
   "outputs": [],
   "source": [
    "cleaning_algorithm = mrfilter.WaveletTransform()"
   ]
  },
  {
   "cell_type": "code",
   "execution_count": 39,
   "metadata": {
    "collapsed": true
   },
   "outputs": [],
   "source": [
    "data = read_cta_file(file_path)[\"input_image\"]"
   ]
  },
  {
   "cell_type": "code",
   "execution_count": 36,
   "metadata": {
    "collapsed": false,
    "scrolled": false
   },
   "outputs": [
    {
     "data": {
      "image/png": "[encoded data removed]",
      "text/plain": [
       "<matplotlib.figure.Figure at 0x1120f02e8>"
      ]
     },
     "metadata": {},
     "output_type": "display_data"
    },
    {
     "data": {
      "image/png": "[encoded data removed]",
      "text/plain": [
       "<matplotlib.figure.Figure at 0x114eb1240>"
      ]
     },
     "metadata": {},
     "output_type": "display_data"
    }
   ],
   "source": [
    "#cleaning_function_params = {\n",
    "#                \"type_of_multiresolution_transform\": type_of_multiresolution_transform,\n",
    "#                \"type_of_filters\": type_of_filters,\n",
    "#                \"type_of_non_orthog_filters\": type_of_non_orthog_filters,\n",
    "#                \"number_of_scales\": number_of_scales,\n",
    "#                \"suppress_last_scale\": suppress_last_scale,\n",
    "#                \"suppress_isolated_pixels\": suppress_isolated_pixels,\n",
    "#                \"kill_isolated_pixels\": kill_isolated_pixels,\n",
    "#                \"coef_detection_method\": coef_detection_method,\n",
    "#                \"k_sigma_noise_threshold\": k_sigma_noise_threshold,\n",
    "#                \"noise_model\": noise_model,\n",
    "#                \"detect_only_positive_structure\": detect_only_positive_structure,\n",
    "#                \"suppress_positivity_constraint\": suppress_positivity_constraint,\n",
    "#                \"type_of_filtering\": type_of_filtering,\n",
    "#                \"first_detection_scale\": first_detection_scale,\n",
    "#                \"number_of_iterations\": number_of_iterations,\n",
    "#                \"epsilon\": epsilon,\n",
    "#                \"support_file_name\": support_file_name,\n",
    "#                \"precision\": precision,\n",
    "#                \"offset_after_calibration\": offset_after_calibration,\n",
    "#                \"correction_offset\": correction_offset,\n",
    "#                \"input_image_scale\": input_image_scale,\n",
    "#                \"verbose\": verbose\n",
    "#}\n",
    "\n",
    "out = cleaning_algorithm.clean_image(data, raw_option_string=\"\")\n",
    "\n",
    "plot(data)\n",
    "plot(out)"
   ]
  },
  {
   "cell_type": "markdown",
   "metadata": {},
   "source": [
    "### Make a fits file for mr_filter"
   ]
  },
  {
   "cell_type": "code",
   "execution_count": 49,
   "metadata": {
    "collapsed": false,
    "scrolled": true
   },
   "outputs": [
    {
     "data": {
      "image/png": "[encoded data removed]",
      "text/plain": [
       "<matplotlib.figure.Figure at 0x116316e10>"
      ]
     },
     "metadata": {},
     "output_type": "display_data"
    }
   ],
   "source": [
    "data = read_cta_file(file_path)[\"input_image\"]\n",
    "\n",
    "data_to_fits(data, \"test.fits\")\n",
    "plot(fits_to_data(\"test.fits\"))"
   ]
  },
  {
   "cell_type": "markdown",
   "metadata": {},
   "source": [
    "### Call mr_filter"
   ]
  },
  {
   "cell_type": "code",
   "execution_count": 62,
   "metadata": {
    "collapsed": false,
    "scrolled": false
   },
   "outputs": [
    {
     "name": "stdout",
     "output_type": "stream",
     "text": [
      "Usage: mr_filter options in_image out_image\n",
      "\n",
      "   where options =  \n",
      "         [-f type_of_filtering]\n",
      "              1: Multiresolution Hard K-Sigma Thresholding \n",
      "              2: Multiresolution Soft K-Sigma Thresholding \n",
      "              3: Iterative Multiresolution Thresholding \n",
      "              4: Adjoint operator applied to the multiresolution support  \n",
      "              5: Bivariate Shrinkage \n",
      "              6: Multiresolution Wiener Filtering \n",
      "              7: Total Variation + Wavelet Constraint \n",
      "              8: Wavelet Constraint Iterative Methods \n",
      "              9: Median Absolute Deviation (MAD) Hard Thesholding \n",
      "              10: Median Absolute Deviation (MAD) Soft Thesholding \n",
      "              default is Multiresolution Hard K-Sigma Thresholding.\n",
      "\n",
      "         [-C Coef_Detection_Method]\n",
      "              1: K-SigmaNoise Threshold\n",
      "              2: False Discovery Rate (FDR) Theshold\n",
      "              3: Universal Threshold\n",
      "              4: SURE Threshold\n",
      "              5: Multiscale SURE Threshold\n",
      "              default is K-SigmaNoise Threshold.\n",
      "\n",
      "        [-t type_of_multiresolution_transform]\n",
      "              1: linear wavelet transform: a trous algorithm \n",
      "              2: bspline wavelet transform: a trous algorithm \n",
      "              3: wavelet transform in Fourier space \n",
      "              4: morphological median transform \n",
      "              5: morphological minmax transform \n",
      "              6: pyramidal linear wavelet transform \n",
      "              7: pyramidal bspline wavelet transform \n",
      "              8: pyramidal wavelet transform in Fourier space: algo 1 (diff. between two resolutions) \n",
      "              9: Meyer's wavelets (compact support in Fourier space) \n",
      "              10: pyramidal median transform (PMT) \n",
      "              11: pyramidal laplacian \n",
      "              12: morphological pyramidal minmax transform \n",
      "              13: decomposition on scaling function \n",
      "              14: Mallat's wavelet transform (7/9 filters) \n",
      "              15: Feauveau's wavelet transform \n",
      "              16: Feauveau's wavelet transform without undersampling \n",
      "              17: Line Column Wavelet Transform (1D+1D) \n",
      "              18: Haar's wavelet transform \n",
      "              19: half-pyramidal transform \n",
      "              20: mixed Half-pyramidal WT and Median method (WT-HPMT) \n",
      "              21: undecimated diadic wavelet transform (two bands per scale) \n",
      "              22: mixed WT and PMT method (WT-PMT) \n",
      "              23: undecimated Haar transform: a trous algorithm (one band per scale) \n",
      "              24: undecimated (bi-) orthogonal transform (three bands per scale) \n",
      "              25: non orthogonal undecimated transform (three bands per scale) \n",
      "              26: Isotropic and compact support wavelet in Fourier space \n",
      "              27: pyramidal wavelet transform in Fourier space: algo 2 (diff. between the square of two resolutions) \n",
      "              28: Fast Curvelet Transform \n",
      "             default is bspline wavelet transform: a trous algorithm\n",
      "\n",
      "         [-T type_of_filters]\n",
      "              1: Biorthogonal 7/9 filters \n",
      "              2: Daubechies filter 4 \n",
      "              3: Biorthogonal 2/6 Haar filters \n",
      "              4: Biorthogonal 2/10 Haar filters \n",
      "              5: Odegard 9/7 filters \n",
      "              6: 5/3 filter \n",
      "              7: Battle-Lemarie filters (2 vanishing moments) \n",
      "              8: Battle-Lemarie filters (4 vanishing moments) \n",
      "              9: Battle-Lemarie filters (6 vanishing moments) \n",
      "              10: User's filters \n",
      "              11: Haar filter \n",
      "              12: 3/5 filter \n",
      "              13: 4/4 Linar spline filters \n",
      "              14: Undefined sub-band filters \n",
      "             default is Biorthogonal 7/9 filters\n",
      "\n",
      "\n",
      "         [-U type_of_non_orthog_filters]\n",
      "              1: SplineB3-Id+H:  H=[1,4,6,4,1]/16, Ht=H, G=Id-H, Gt=Id+H \n",
      "              2: SplineB3-Id:  H=[1,4,6,4,1]/16, Ht=H, G=Id-H*H, Gt=Id \n",
      "              3: SplineB2-Id: H=4[1,2,1]/4, Ht=H, G=Id-H*H, Gt=Id \n",
      "              4: Harr/Spline POS: H=Haar,G=[-1/4,1/2,-1/4],Ht=[1,3,3,1]/8,Gt=[1,6,1]/4 \n",
      "             default is SplineB3-Id:  H=[1,4,6,4,1]/16, Ht=H, G=Id-H*H, Gt=Id\n",
      "\n",
      "\n",
      "         [-u number_of_undecimated_scales]\n",
      "             Number of undecimated scales used in the Undecimated Wavelet Transform\n",
      "             Default is all scale.\n",
      "\n",
      "         [-g sigma]\n",
      "             sigma = noise standard deviation\n",
      "             default is automatically estimated.\n",
      "\n",
      "         [-c gain,sigma,mean]\n",
      "             Poisson + readout noise, with: \n",
      "                 gain = gain of the CCD\n",
      "                 sigma = read-out noise standard deviation\n",
      "                 mean = read-out noise mean\n",
      "             default is no (Gaussian).\n",
      "\n",
      "         [-m type_of_noise]\n",
      "              1: Gaussian noise \n",
      "              2: Poisson noise \n",
      "              3: Poisson noise + Gaussian noise \n",
      "              4: Multiplicative noise \n",
      "              5: Non-stationary additive noise \n",
      "              6: Non-stationary multiplicative noise \n",
      "              7: Undefined stationary noise \n",
      "              8: Undefined noise \n",
      "              9: Stationary correlated noise \n",
      "              10: Poisson noise with few events \n",
      "             default is Gaussian noise\n",
      "\n",
      "         [-n number_of_scales]\n",
      "             Number of scales used in the multiresolution transform\n",
      "             Default is 4.\n",
      "             default is 6 in case of poisson noise with few events.\n",
      "\n",
      "         [-s nsigma]\n",
      "             Thresholding at nsigma * SigmaNoise\n",
      "             default is  3.\n",
      "             Default is 2 for FDR detection method.\n",
      "\n",
      "         [-i number_of_iterations]\n",
      "             Maximum number of iterations\n",
      "             default is 10.\n",
      "\n",
      "         [-e epsilon]\n",
      "             Convergence parameter\n",
      "             default is 0.001000.\n",
      "             default is 0.000010 in case of poisson noise with few events.\n",
      "\n",
      "         [-w support_file_name]\n",
      "             Creates an image from the multiresolution support \n",
      "             and save to disk.\n",
      "\n",
      "         [-k]\n",
      "             Suppress isolated pixels in the support. Default is no.\n",
      "\n",
      "         [-K]\n",
      "             Suppress the last scale. Default is no.\n",
      "\n",
      "         [-p]\n",
      "             Detect only positive structure. Default is no.\n",
      "\n",
      "         [-E Epsilon]\n",
      "             Epsilon = precision for computing thresholds\n",
      "                       (only used in case of poisson noise with few events)\n",
      "             default is 1.00e-03 \n",
      "\n",
      "         [-S SizeBlock]\n",
      "             Size of the  blocks used for local variance estimation.\n",
      "             default is 7.\n",
      "\n",
      "         [-N NiterSigmaClip]\n",
      "             Iteration number used for local variance estimation.\n",
      "             default is 1.\n",
      "\n",
      "         [-F first_detection_scale]\n",
      "             First scale used for the detection \n",
      "             default is 1.\n",
      "\n",
      "\n",
      "         [-R RMS_Map_File_Name]\n",
      "              RMS Map (only used with -m 5 and -m 9 options). \n",
      "\n",
      "         [-P]\n",
      "             Suppress the positivity constraint.\n",
      "\n",
      "         [-b]\n",
      "             Add the maximum level constraint.\n",
      "             Max value is 255. Default is no.\n",
      "\n",
      "         [-B BackgroundModelImage]\n",
      "             Background Model Image: the background image is  \n",
      "             subtracted during the filtering.\n",
      "             Default is no.\n",
      "\n",
      "         [-M Flat_Image]\n",
      "             Flat Image: The solution is corrected from the flat (i.e. Sol = Input / Flat)  \n",
      "             Default is no.\n",
      "\n",
      "         [-h]\n",
      "             write info used for computing the probability map.\n",
      "             Default is no.\n",
      "\n",
      "         [-G RegulParam]\n",
      "              Regularization parameter for the TV method.\n",
      "              default is 0.100000\n",
      "\n",
      "         [-z]\n",
      "             Use virtual memory.\n",
      "                default limit size: 4\n",
      "                default directory: .\n",
      "\n",
      "         [-Z VMSize:VMDIR]\n",
      "             Use virtual memory.\n",
      "                VMSize = limit size (megabytes) \n",
      "                VMDIR = directory name \n",
      "\n",
      "         [-v]\n",
      "             Verbose. Default is no.\n",
      "\n",
      "\n",
      "\n",
      "\n"
     ]
    }
   ],
   "source": [
    "!mr_filter -h"
   ]
  },
  {
   "cell_type": "code",
   "execution_count": 67,
   "metadata": {
    "collapsed": false,
    "scrolled": true
   },
   "outputs": [
    {
     "name": "stdout",
     "output_type": "stream",
     "text": [
      "Filename: out.mr\n",
      "No.    Name         Type      Cards   Dimensions   Format\n",
      "0    PRIMARY     PrimaryHDU      10   (40, 40)     float32   \n"
     ]
    },
    {
     "data": {
      "image/png": "[encoded data removed]",
      "text/plain": [
       "<matplotlib.figure.Figure at 0x1152b4048>"
      ]
     },
     "metadata": {},
     "output_type": "display_data"
    }
   ],
   "source": [
    "!mr_filter test.fits out.mr\n",
    "\n",
    "fits_info(\"out.mr\")\n",
    "plot(read_mr_file(\"out.mr\"))"
   ]
  },
  {
   "cell_type": "markdown",
   "metadata": {},
   "source": [
    "### Call mr_filter and plot planes"
   ]
  },
  {
   "cell_type": "code",
   "execution_count": 74,
   "metadata": {
    "collapsed": false
   },
   "outputs": [
    {
     "name": "stdout",
     "output_type": "stream",
     "text": [
      "WARNING: Nbr < 0 = 32\r\n"
     ]
    },
    {
     "data": {
      "image/png": "[encoded data removed]",
      "text/plain": [
       "<matplotlib.figure.Figure at 0x112144a90>"
      ]
     },
     "metadata": {},
     "output_type": "display_data"
    },
    {
     "data": {
      "image/png": "[encoded data removed]",
      "text/plain": [
       "<matplotlib.figure.Figure at 0x11652ce48>"
      ]
     },
     "metadata": {},
     "output_type": "display_data"
    },
    {
     "name": "stdout",
     "output_type": "stream",
     "text": [
      "Filename: planes.mr\n",
      "No.    Name         Type      Cards   Dimensions   Format\n",
      "0    PRIMARY     PrimaryHDU      20   (40, 40, 4)   float32   \n"
     ]
    },
    {
     "data": {
      "image/png": "[encoded data removed]",
      "text/plain": [
       "<matplotlib.figure.Figure at 0x111c723c8>"
      ]
     },
     "metadata": {},
     "output_type": "display_data"
    },
    {
     "data": {
      "image/png": "[encoded data removed]",
      "text/plain": [
       "<matplotlib.figure.Figure at 0x111c720b8>"
      ]
     },
     "metadata": {},
     "output_type": "display_data"
    },
    {
     "data": {
      "image/png": "[encoded data removed]",
      "text/plain": [
       "<matplotlib.figure.Figure at 0x111784f28>"
      ]
     },
     "metadata": {},
     "output_type": "display_data"
    },
    {
     "data": {
      "image/png": "[encoded data removed]",
      "text/plain": [
       "<matplotlib.figure.Figure at 0x1152fc630>"
      ]
     },
     "metadata": {},
     "output_type": "display_data"
    }
   ],
   "source": [
    "!mr_filter -w planes.mr -K -k -C1 -m3 -s3 -n4 test.fits out.mr\n",
    "\n",
    "plot(read_mr_file(\"test.fits\"))\n",
    "plot(read_mr_file(\"out.mr\"))\n",
    "\n",
    "fits_info(\"planes.mr\")\n",
    "\n",
    "plot(read_mr_file(\"planes.mr\")[0])\n",
    "plot(read_mr_file(\"planes.mr\")[1])\n",
    "plot(read_mr_file(\"planes.mr\")[2])\n",
    "plot(read_mr_file(\"planes.mr\")[3])"
   ]
  },
  {
   "cell_type": "code",
   "execution_count": null,
   "metadata": {
    "collapsed": true
   },
   "outputs": [],
   "source": []
  }
 ],
 "metadata": {
  "anaconda-cloud": {},
  "kernelspec": {
   "display_name": "Python [conda env:cta]",
   "language": "python",
   "name": "conda-env-cta-py"
  },
  "language_info": {
   "codemirror_mode": {
    "name": "ipython",
    "version": 3
   },
   "file_extension": ".py",
   "mimetype": "text/x-python",
   "name": "python",
   "nbconvert_exporter": "python",
   "pygments_lexer": "ipython3",
   "version": "3.5.2"
  }
 },
 "nbformat": 4,
 "nbformat_minor": 1
}
