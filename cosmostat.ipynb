{
 "cells": [
  {
   "cell_type": "code",
   "execution_count": 1,
   "metadata": {
    "collapsed": false,
    "scrolled": false
   },
   "outputs": [
    {
     "name": "stderr",
     "output_type": "stream",
     "text": [
      "/Users/jdecock/anaconda/envs/cta/lib/python3.5/site-packages/PIL/Image.py:85: RuntimeWarning: The _imaging extension was built for another  version of Pillow or PIL\n",
      "  warnings.warn(str(v), RuntimeWarning)\n",
      "/Users/jdecock/anaconda/envs/cta/lib/python3.5/site-packages/PIL/Image.py:85: RuntimeWarning: The _imaging extension was built for another  version of Pillow or PIL\n",
      "  warnings.warn(str(v), RuntimeWarning)\n"
     ]
    },
    {
     "name": "stdout",
     "output_type": "stream",
     "text": [
      "Populating the interactive namespace from numpy and matplotlib\n"
     ]
    },
    {
     "name": "stderr",
     "output_type": "stream",
     "text": [
      "/Users/jdecock/anaconda/envs/cta/lib/python3.5/site-packages/pytz/__init__.py:29: UserWarning: Module argparse was already imported from /Users/jdecock/anaconda/envs/cta/lib/python3.5/argparse.py, but /Users/jdecock/.local/lib/python3.5/site-packages/argparse-1.1-py3.5.egg is being added to sys.path\n",
      "  from pkg_resources import resource_stream\n",
      "/Users/jdecock/anaconda/envs/cta/lib/python3.5/site-packages/PIL/Image.py:85: RuntimeWarning: The _imaging extension was built for another  version of Pillow or PIL\n",
      "  warnings.warn(str(v), RuntimeWarning)\n"
     ]
    }
   ],
   "source": [
    "%pylab inline\n",
    "\n",
    "pylab.rcParams['figure.figsize'] = (6, 6)\n",
    "\n",
    "import math\n",
    "import cmath          # math functions for complex numbers\n",
    "import numpy as np\n",
    "import matplotlib.pyplot as plt\n",
    "\n",
    "from matplotlib.colors import LogNorm\n",
    "\n",
    "import scipy\n",
    "import scipy.stats\n",
    "import pandas as pd\n",
    "\n",
    "from astropy.io import fits\n",
    "import os.path\n",
    "\n",
    "import ipywidgets\n",
    "from ipywidgets import interact\n",
    "\n",
    "import sys\n",
    "sys.path.append(\"/Users/jdecock/git/pub/jdhp-sap/sap-cta-data-pipeline/datapipe\")\n",
    "import datapipe\n",
    "import datapipe.denoising.wavelets_mrfilter as mrfilter\n",
    "sys.path.append(\"/Users/jdecock/git/pub/jdhp-sap/sap-cta-data-pipeline/utils\")\n",
    "import common_functions as common"
   ]
  },
  {
   "cell_type": "markdown",
   "metadata": {},
   "source": [
    "**TODO**:\n",
    "* charge loss\n",
    "* threshold\n",
    "* spellcheck"
   ]
  },
  {
   "cell_type": "markdown",
   "metadata": {},
   "source": [
    "## Introduction"
   ]
  },
  {
   "cell_type": "markdown",
   "metadata": {},
   "source": [
    "###  Context\n",
    "\n",
    "On travaille sur des images provenant de simulations montecarlo de telescopes gamma (~100 GeV to ~300 TeV)\n",
    "\n",
    "Exemple:\n",
    "<img src=\"./figs/image31.gif\" width=\"50%\"></img>\n",
    "\n",
    "Processus:\n",
    "1. nettoyer l'image (suppression du bruit electronique et du NSB)\n",
    "2. déterminer l'axe de la gerbe gamma sur l'image\n",
    "3. par stereoscopie determiner l'origine de la gerbe\n",
    "\n",
    "|                                                  |                                                  |\n",
    "| ------------------------------------------------ | ------------------------------------------------ |\n",
    "| <img src=\"./figs/image30.png\" width=\"90%\"></img> | <img src=\"./figs/image32.png\" width=\"90%\"></img> |\n",
    "| <img src=\"./figs/image33.png\" width=\"90%\"></img> | <img src=\"./figs/Arrayscheme2_x.png\" width=\"90%\"></img> |\n"
   ]
  },
  {
   "cell_type": "markdown",
   "metadata": {},
   "source": [
    "### Image types\n",
    "\n",
    "#### FlashCam telescopes: 1764 (hexagonal) pixels\n",
    "\n",
    "<img src=\"./figs/geom_3_flashcam.png\" width=\"40%\">\n",
    "\n",
    "#### ASTRI telescopes: 2368 (rectangular) pixels\n",
    "\n",
    "<img src=\"./figs/geom_4_astri.png\" width=\"40%\">\n",
    "\n",
    "#### and others...\n",
    "\n",
    "..."
   ]
  },
  {
   "cell_type": "markdown",
   "metadata": {},
   "source": [
    "### Images I use so far"
   ]
  },
  {
   "cell_type": "markdown",
   "metadata": {},
   "source": [
    "- Cropped images from Astri telescopes => 40x40 pixels\n",
    "- Set of ~15000 images\n",
    "\n",
    "<img src=\"./figs/geom_4_astri_crop3.svg\" width=\"60%\">"
   ]
  },
  {
   "cell_type": "markdown",
   "metadata": {},
   "source": [
    "### Cleaning algorithm reference\n",
    "\n",
    "The \"Tailcut clean\" algorithm:\n",
    "- Keep pixels above a given threshold (10 PE)\n",
    "- Keep some neighbors of these selected pixels: those above a second (lower) threshold (5 PE)\n",
    "\n",
    "Goal:\n",
    "- use sparse2d tools to get a better image cleaning (electronic noise and NSB removal)...\n",
    "- to improve event reconstruction..\n",
    "- and thus improve observatory's sensibility"
   ]
  },
  {
   "cell_type": "markdown",
   "metadata": {},
   "source": [
    "## Some stats"
   ]
  },
  {
   "cell_type": "markdown",
   "metadata": {},
   "source": [
    "### Total number of photoelectrons (NPE) per image"
   ]
  },
  {
   "cell_type": "code",
   "execution_count": null,
   "metadata": {
    "collapsed": true
   },
   "outputs": [],
   "source": [
    "%run ./utils/plot_metadata_histogram.py --key=npe --logx --title=\"Number of photoelectrons (NPE) per image\" ./xps/2017_02_04/score_gamma_all_null_ref.json"
   ]
  },
  {
   "cell_type": "markdown",
   "metadata": {},
   "source": [
    "### Noise histogram (telescope 1 only)"
   ]
  },
  {
   "cell_type": "code",
   "execution_count": null,
   "metadata": {
    "collapsed": true
   },
   "outputs": [],
   "source": [
    "%run ./utils/plot_noise_histogram.py --notebook --logy --min-npe=50 --max-npe=1500 ./testset/gamma/tel1/"
   ]
  },
  {
   "cell_type": "markdown",
   "metadata": {},
   "source": [
    "abs(noise) $\\sim \\text{Poisson}(\\lambda \\approx 2)$"
   ]
  },
  {
   "cell_type": "markdown",
   "metadata": {},
   "source": [
    "### Noise histogram (telescope 2 only)"
   ]
  },
  {
   "cell_type": "code",
   "execution_count": null,
   "metadata": {
    "collapsed": true
   },
   "outputs": [],
   "source": [
    "%run ./utils/plot_noise_histogram.py --notebook --logy --min-npe=50 --max-npe=1500 ./testset/gamma/tel2/"
   ]
  },
  {
   "cell_type": "markdown",
   "metadata": {},
   "source": [
    "## Questions"
   ]
  },
  {
   "cell_type": "markdown",
   "metadata": {},
   "source": [
    "### Remove isolated pixels after cleaning: l'option \"-k\" ne semble pas avoir d'effet"
   ]
  },
  {
   "cell_type": "markdown",
   "metadata": {},
   "source": [
    "<img src=\"./figs/kill_isolated_pixels/ev458109_tel1.png\" width=\"75%\">\n",
    "\n",
    "<img src=\"./figs/kill_isolated_pixels/ev481109_tel1_log.png\" width=\"75%\">"
   ]
  },
  {
   "cell_type": "markdown",
   "metadata": {},
   "source": [
    "### Charge loss"
   ]
  },
  {
   "cell_type": "markdown",
   "metadata": {},
   "source": [
    "**Problème**: avec les options testées, on constate une érosion du signal (qui semble relativement uniforme). Cette perte d'information pose problème pour déterminer avec suffisamment de précision l'angle de la gerbe sur l'image (le gain en précision de reconstruction semble statistiquement très faible par rapport à l'algorithme de référence).\n",
    "\n",
    "Idée (un peu \"bricolage\"): alternative à l'option -K (suppression du dernier plan), utiliser les 3 premiers plans (sur les 4 utilisés) pour faire un masque indiquant l'emplacement du signal nettoyé et utiliser ce masque pour ne conserver que la partie \"utile\" du dernier plan."
   ]
  },
  {
   "cell_type": "code",
   "execution_count": 5,
   "metadata": {
    "collapsed": true
   },
   "outputs": [],
   "source": [
    "file_path_list = [\n",
    "    \"/Users/jdecock/data/astri_mini_array/fits/gamma/run1001.simtel.gz_TEL001_EV00507.fits\",\n",
    "    \"/Users/jdecock/data/astri_mini_array/fits/gamma/run1001.simtel.gz_TEL001_EV01909.fits\"\n",
    "    ]"
   ]
  },
  {
   "cell_type": "markdown",
   "metadata": {},
   "source": [
    "mr_filter options:\n",
    "* Hard K-Sigma Thresholding: -K -C1 -m3 -s3 -n4\n",
    "* False Discovery Rate and soft thresholding: -K -C2 -m1 -s2 -n4 -f2\n",
    "* Wiener Filtering: -K -m1 -n4 -f6"
   ]
  },
  {
   "cell_type": "code",
   "execution_count": 8,
   "metadata": {
    "collapsed": true
   },
   "outputs": [
    {
     "name": "stdout",
     "output_type": "stream",
     "text": [
      "Usage: mr_filter options in_image out_image\r\n",
      "\r\n",
      "   where options =  \r\n",
      "         [-f type_of_filtering]\r\n",
      "              1: Multiresolution Hard K-Sigma Thresholding \r\n",
      "              2: Multiresolution Soft K-Sigma Thresholding \r\n",
      "              3: Iterative Multiresolution Thresholding \r\n",
      "              4: Adjoint operator applied to the multiresolution support  \r\n",
      "              5: Bivariate Shrinkage \r\n",
      "              6: Multiresolution Wiener Filtering \r\n",
      "              7: Total Variation + Wavelet Constraint \r\n",
      "              8: Wavelet Constraint Iterative Methods \r\n",
      "              9: Median Absolute Deviation (MAD) Hard Thesholding \r\n",
      "              10: Median Absolute Deviation (MAD) Soft Thesholding \r\n",
      "              default is Multiresolution Hard K-Sigma Thresholding.\r\n",
      "\r\n",
      "         [-C Coef_Detection_Method]\r\n",
      "              1: K-SigmaNoise Threshold\r\n",
      "              2: False Discovery Rate (FDR) Theshold\r\n",
      "              3: Universal Threshold\r\n",
      "              4: SURE Threshold\r\n",
      "              5: Multiscale SURE Threshold\r\n",
      "              default is K-SigmaNoise Threshold.\r\n",
      "\r\n",
      "        [-t type_of_multiresolution_transform]\r\n",
      "              1: linear wavelet transform: a trous algorithm \r\n",
      "              2: bspline wavelet transform: a trous algorithm \r\n",
      "              3: wavelet transform in Fourier space \r\n",
      "              4: morphological median transform \r\n",
      "              5: morphological minmax transform \r\n",
      "              6: pyramidal linear wavelet transform \r\n",
      "              7: pyramidal bspline wavelet transform \r\n",
      "              8: pyramidal wavelet transform in Fourier space: algo 1 (diff. between two resolutions) \r\n",
      "              9: Meyer's wavelets (compact support in Fourier space) \r\n",
      "              10: pyramidal median transform (PMT) \r\n",
      "              11: pyramidal laplacian \r\n",
      "              12: morphological pyramidal minmax transform \r\n",
      "              13: decomposition on scaling function \r\n",
      "              14: Mallat's wavelet transform (7/9 filters) \r\n",
      "              15: Feauveau's wavelet transform \r\n",
      "              16: Feauveau's wavelet transform without undersampling \r\n",
      "              17: Line Column Wavelet Transform (1D+1D) \r\n",
      "              18: Haar's wavelet transform \r\n",
      "              19: half-pyramidal transform \r\n",
      "              20: mixed Half-pyramidal WT and Median method (WT-HPMT) \r\n",
      "              21: undecimated diadic wavelet transform (two bands per scale) \r\n",
      "              22: mixed WT and PMT method (WT-PMT) \r\n",
      "              23: undecimated Haar transform: a trous algorithm (one band per scale) \r\n",
      "              24: undecimated (bi-) orthogonal transform (three bands per scale) \r\n",
      "              25: non orthogonal undecimated transform (three bands per scale) \r\n",
      "              26: Isotropic and compact support wavelet in Fourier space \r\n",
      "              27: pyramidal wavelet transform in Fourier space: algo 2 (diff. between the square of two resolutions) \r\n",
      "              28: Fast Curvelet Transform \r\n",
      "             default is bspline wavelet transform: a trous algorithm\r\n",
      "\r\n",
      "         [-T type_of_filters]\r\n",
      "              1: Biorthogonal 7/9 filters \r\n",
      "              2: Daubechies filter 4 \r\n",
      "              3: Biorthogonal 2/6 Haar filters \r\n",
      "              4: Biorthogonal 2/10 Haar filters \r\n",
      "              5: Odegard 9/7 filters \r\n",
      "              6: 5/3 filter \r\n",
      "              7: Battle-Lemarie filters (2 vanishing moments) \r\n",
      "              8: Battle-Lemarie filters (4 vanishing moments) \r\n",
      "              9: Battle-Lemarie filters (6 vanishing moments) \r\n",
      "              10: User's filters \r\n",
      "              11: Haar filter \r\n",
      "              12: 3/5 filter \r\n",
      "              13: 4/4 Linar spline filters \r\n",
      "              14: Undefined sub-band filters \r\n",
      "             default is Biorthogonal 7/9 filters\r\n",
      "\r\n",
      "\r\n",
      "         [-U type_of_non_orthog_filters]\r\n",
      "              1: SplineB3-Id+H:  H=[1,4,6,4,1]/16, Ht=H, G=Id-H, Gt=Id+H \r\n",
      "              2: SplineB3-Id:  H=[1,4,6,4,1]/16, Ht=H, G=Id-H*H, Gt=Id \r\n",
      "              3: SplineB2-Id: H=4[1,2,1]/4, Ht=H, G=Id-H*H, Gt=Id \r\n",
      "              4: Harr/Spline POS: H=Haar,G=[-1/4,1/2,-1/4],Ht=[1,3,3,1]/8,Gt=[1,6,1]/4 \r\n",
      "             default is SplineB3-Id:  H=[1,4,6,4,1]/16, Ht=H, G=Id-H*H, Gt=Id\r\n",
      "\r\n",
      "\r\n",
      "         [-u number_of_undecimated_scales]\r\n",
      "             Number of undecimated scales used in the Undecimated Wavelet Transform\r\n",
      "             Default is all scale.\r\n",
      "\r\n",
      "         [-g sigma]\r\n",
      "             sigma = noise standard deviation\r\n",
      "             default is automatically estimated.\r\n",
      "\r\n",
      "         [-c gain,sigma,mean]\r\n",
      "             Poisson + readout noise, with: \r\n",
      "                 gain = gain of the CCD\r\n",
      "                 sigma = read-out noise standard deviation\r\n",
      "                 mean = read-out noise mean\r\n",
      "             default is no (Gaussian).\r\n",
      "\r\n",
      "         [-m type_of_noise]\r\n",
      "              1: Gaussian noise \r\n",
      "              2: Poisson noise \r\n",
      "              3: Poisson noise + Gaussian noise \r\n",
      "              4: Multiplicative noise \r\n",
      "              5: Non-stationary additive noise \r\n",
      "              6: Non-stationary multiplicative noise \r\n",
      "              7: Undefined stationary noise \r\n",
      "              8: Undefined noise \r\n",
      "              9: Stationary correlated noise \r\n",
      "              10: Poisson noise with few events \r\n",
      "             default is Gaussian noise\r\n",
      "\r\n",
      "         [-n number_of_scales]\r\n",
      "             Number of scales used in the multiresolution transform\r\n",
      "             Default is 4.\r\n",
      "             default is 6 in case of poisson noise with few events.\r\n",
      "\r\n",
      "         [-s nsigma]\r\n",
      "             Thresholding at nsigma * SigmaNoise\r\n",
      "             default is  3.\r\n",
      "             Default is 2 for FDR detection method.\r\n",
      "\r\n",
      "         [-i number_of_iterations]\r\n",
      "             Maximum number of iterations\r\n",
      "             default is 10.\r\n",
      "\r\n",
      "         [-e epsilon]\r\n",
      "             Convergence parameter\r\n",
      "             default is 0.001000.\r\n",
      "             default is 0.000010 in case of poisson noise with few events.\r\n",
      "\r\n",
      "         [-w support_file_name]\r\n",
      "             Creates an image from the multiresolution support \r\n",
      "             and save to disk.\r\n",
      "\r\n",
      "         [-k]\r\n",
      "             Suppress isolated pixels in the support. Default is no.\r\n",
      "\r\n",
      "         [-K]\r\n",
      "             Suppress the last scale. Default is no.\r\n",
      "\r\n",
      "         [-p]\r\n",
      "             Detect only positive structure. Default is no.\r\n",
      "\r\n",
      "         [-E Epsilon]\r\n",
      "             Epsilon = precision for computing thresholds\r\n",
      "                       (only used in case of poisson noise with few events)\r\n",
      "             default is 1.00e-03 \r\n",
      "\r\n",
      "         [-S SizeBlock]\r\n",
      "             Size of the  blocks used for local variance estimation.\r\n",
      "             default is 7.\r\n",
      "\r\n",
      "         [-N NiterSigmaClip]\r\n",
      "             Iteration number used for local variance estimation.\r\n",
      "             default is 1.\r\n",
      "\r\n",
      "         [-F first_detection_scale]\r\n",
      "             First scale used for the detection \r\n",
      "             default is 1.\r\n",
      "\r\n",
      "\r\n",
      "         [-R RMS_Map_File_Name]\r\n",
      "              RMS Map (only used with -m 5 and -m 9 options). \r\n",
      "\r\n",
      "         [-P]\r\n",
      "             Suppress the positivity constraint.\r\n",
      "\r\n",
      "         [-b]\r\n",
      "             Add the maximum level constraint.\r\n",
      "             Max value is 255. Default is no.\r\n",
      "\r\n",
      "         [-B BackgroundModelImage]\r\n",
      "             Background Model Image: the background image is  \r\n",
      "             subtracted during the filtering.\r\n",
      "             Default is no.\r\n",
      "\r\n",
      "         [-M Flat_Image]\r\n",
      "             Flat Image: The solution is corrected from the flat (i.e. Sol = Input / Flat)  \r\n",
      "             Default is no.\r\n",
      "\r\n",
      "         [-h]\r\n",
      "             write info used for computing the probability map.\r\n",
      "             Default is no.\r\n",
      "\r\n",
      "         [-G RegulParam]\r\n",
      "              Regularization parameter for the TV method.\r\n",
      "              default is 0.100000\r\n",
      "\r\n",
      "         [-z]\r\n",
      "             Use virtual memory.\r\n",
      "                default limit size: 4\r\n",
      "                default directory: .\r\n",
      "\r\n",
      "         [-Z VMSize:VMDIR]\r\n",
      "             Use virtual memory.\r\n",
      "                VMSize = limit size (megabytes) \r\n",
      "                VMDIR = directory name \r\n",
      "\r\n",
      "         [-v]\r\n",
      "             Verbose. Default is no.\r\n",
      "\r\n",
      "\r\n",
      "\r\n",
      "\r\n"
     ]
    }
   ],
   "source": [
    "!mr_filter -h"
   ]
  },
  {
   "cell_type": "code",
   "execution_count": 9,
   "metadata": {
    "collapsed": false,
    "scrolled": false
   },
   "outputs": [
    {
     "name": "stdout",
     "output_type": "stream",
     "text": [
      "\n",
      "mr_filter -K -C1 -m3 -s3 -n4 \".tmp_7998_1487022585.46921_in.fits\" .tmp_7998_1487022585.469221_out.fits\n",
      "Kill isolated pixels\n"
     ]
    },
    {
     "data": {
      "image/png": "[encoded data removed]",
      "text/plain": [
       "<matplotlib.figure.Figure at 0x11783f550>"
      ]
     },
     "metadata": {},
     "output_type": "display_data"
    }
   ],
   "source": [
    "@interact(kill_pix=True, hist=False, log_scale=False, ellipses=True, lateral_hst=[\"Wavelet\", \"Tailcut\", None], ref_angle=False, file_path=file_path_list, mrfilter=\"-K -C1 -m3 -s3 -n4\")\n",
    "def gui(kill_pix, hist, log_scale, ellipses, lateral_hst, ref_angle, file_path, mrfilter):\n",
    "    fits_images_dict, fits_metadata_dict = datapipe.io.images.load_benchmark_images(file_path)\n",
    "    input_img = fits_images_dict[\"input_image\"]\n",
    "    reference_img = fits_images_dict[\"reference_image\"]\n",
    "    pixels_position = fits_images_dict[\"pixels_position\"]\n",
    "\n",
    "    fig = plt.figure(figsize=(14, 14))\n",
    "\n",
    "    common.plot_gui(fig,\n",
    "                    input_img,\n",
    "                    reference_img,\n",
    "                    pixels_position,\n",
    "                    fits_metadata_dict,\n",
    "                    wavelets_cmd=mrfilter,\n",
    "                    kill_isolated_pixels=kill_pix,\n",
    "                    plot_histogram=hist,\n",
    "                    plot_log_scale=log_scale,\n",
    "                    plot_ellipse_shower=ellipses,\n",
    "                    _plot_perpendicular_hit_distribution=lateral_hst,  # None, \"Tailcut\", \"Wavelet\"\n",
    "                    use_ref_angle_for_perpendicular_hit_distribution=ref_angle,\n",
    "                    notebook=True\n",
    "                   )"
   ]
  },
  {
   "cell_type": "markdown",
   "metadata": {},
   "source": [
    "### Threshold WT"
   ]
  },
  {
   "cell_type": "markdown",
   "metadata": {},
   "source": [
    "* hard filter do 1, 0.6, ...\n",
    "\n",
    "Idée: faire le contraire pourrait être pertinent dans notre cas, i.e. mettre un seuil plus bas pour les petites échelles (filtrer moins) et plus haut pour les grandes échelles (filtrer plus) pour conserver plus de détails (nos objets ne font que quelques pixels)"
   ]
  },
  {
   "cell_type": "markdown",
   "metadata": {},
   "source": [
    "### Hexagonal images and corners"
   ]
  },
  {
   "cell_type": "markdown",
   "metadata": {},
   "source": [
    "**Objectif n°1**: gérer les images ayant des \"trous\" dans les coins\n",
    "\n",
    "Idée:\n",
    "- pouvoir activer prématurement le \"mirroring\" d'un tuple de pixels (i.e. ce qui se passe quand on atteind le bord de l'image dans smooth_bspline) en mettant des pixels à une valeur particulière (FLOAT_MIN, NaN, ...)\n",
    "\n",
    "<img src=\"./figs/geom_4_astri.png\" width=\"40%\">\n",
    "\n",
    "**Objectif n°2**: travailler sur des images faites d'une grille de pixels hexagonaux\n",
    "\n",
    "<img src=\"./figs/geom_3_flashcam.png\" width=\"40%\">\n",
    "\n",
    "Idée:\n",
    "    - ajouter une itération dans smooth_bspline: applique la convolution suivant un 3e axe\n",
    "    - suppose de changer la structure de donnée des images (workaround de travailler avec des cubes)\n",
    "    - l'idée n'est pas de changer la structure de donnée des images à un niveau global (imutilement long et compliqué) mais plutôt très localement pour une configuration particulière de filtre\n",
    "\n",
    "<img src=\"./figs/hexagonal_grid.png\" width=\"25%\">"
   ]
  },
  {
   "cell_type": "code",
   "execution_count": null,
   "metadata": {
    "collapsed": false
   },
   "outputs": [],
   "source": [
    "# %load /Users/jdecock/bin/isap/cxx/sparse2d/src/libsparse2d/IM_Smooth.cc\n",
    "\n",
    "void smooth_bspline (const Iint & Im_in,\n",
    "                     Iint &Im_out,\n",
    "                     type_border Type,\n",
    "                     int Step_trou)\n",
    "{\n",
    "    int Nl = Im_in.nl();\n",
    "    int Nc = Im_in.nc();\n",
    "    int i,j,Step;\n",
    "    float Coeff_h0 = 3. / 8.;\n",
    "    float Coeff_h1 = 1. / 4.;\n",
    "    float Coeff_h2 = 1. / 16.;\n",
    "    Ifloat Buff(Nl,Nc,\"Buff smooth_bspline\");\n",
    "\n",
    "    Step = (int)(pow((double)2., (double) Step_trou) + 0.5);\n",
    "\n",
    "    for (i = 0; i < Nl; i ++)\n",
    "    for (j = 0; j < Nc; j ++)\n",
    "       Buff(i,j) = Coeff_h0 * (float)  Im_in(i,j)\n",
    "                 + Coeff_h1 * (float) (  Im_in (i, j-Step, Type) \n",
    "                                       + Im_in (i, j+Step, Type)) \n",
    "                 + Coeff_h2 * (float) (  Im_in (i, j-2*Step, Type) \n",
    "                                       + Im_in (i, j+2*Step, Type));\n",
    "\n",
    "    for (i = 0; i < Nl; i ++)\n",
    "    for (j = 0; j < Nc; j ++)\n",
    "       Im_out(i,j) = (int)(Coeff_h0 * Buff(i,j) +\n",
    "                 + Coeff_h1 * (float) (  Buff (i-Step, j, Type) \n",
    "                                       + Buff (i+Step, j, Type)) \n",
    "                 + Coeff_h2 * (float) (  Buff (i-2*Step, j, Type) \n",
    "                                       + Buff (i+2*Step, j, Type)) + 0.5);\n",
    "\n",
    "}"
   ]
  },
  {
   "cell_type": "markdown",
   "metadata": {},
   "source": [
    "### Wrapper"
   ]
  },
  {
   "cell_type": "markdown",
   "metadata": {},
   "source": [
    "Pour faire du filtrage en temps réel, l'utilisation de fichiers pour échanger les données avec mr_filter/mr_transform/... pose problème (temps d'accès aux fichiers trop long).\n",
    "\n",
    "Idéalement il nous faudrait des wrappers Python.\n",
    "\n",
    "Sinon, une amélioration possible peu couteuse en temps de developpement serait d'échanger les données via stdin/stdout."
   ]
  },
  {
   "cell_type": "markdown",
   "metadata": {},
   "source": [
    "### Autres idées"
   ]
  },
  {
   "cell_type": "markdown",
   "metadata": {},
   "source": [
    "- ajouter une option -mX pour definir la \"vraie\" distribution du bruit de nos données \n",
    "- comme le signal est trés localisé, on pourrait envisager un algorithme en 2 passes qui ajusterait localement le poid des coefficients dans l'espace transformé après avoir localisé l'emplacement du signal\n",
    "- une forme d'ondelette plus adaptée à ce type de signal (relativement régulier)\n",
    "- learn the \"optimal\" mother wavelet from a set of pure signal"
   ]
  },
  {
   "cell_type": "markdown",
   "metadata": {},
   "source": [
    "## Tool functions"
   ]
  },
  {
   "cell_type": "markdown",
   "metadata": {},
   "source": [
    "### Afficher les informations d'un fichier fits"
   ]
  },
  {
   "cell_type": "code",
   "execution_count": 2,
   "metadata": {
    "collapsed": true
   },
   "outputs": [],
   "source": [
    "# %load /Users/jdecock/git/pub/jdhp/snippets/python/astropy/fits/print_infos.py\n",
    "def fits_info(file_path):\n",
    "    hdu_list = fits.open(file_path)\n",
    "    hdu_list.info()\n",
    "    hdu_list.close()"
   ]
  },
  {
   "cell_type": "markdown",
   "metadata": {},
   "source": [
    "### Créer un fichier fits"
   ]
  },
  {
   "cell_type": "code",
   "execution_count": 3,
   "metadata": {
    "collapsed": true
   },
   "outputs": [],
   "source": [
    "# %load /Users/jdecock/git/pub/jdhp/snippets/python/astropy/fits/create_a_2d_fits_image_v2.py\n",
    "def data_to_fits(img, file_path):\n",
    "    hdu = fits.PrimaryHDU(img)\n",
    "    hdu.writeto(file_path, clobber=True)"
   ]
  },
  {
   "cell_type": "markdown",
   "metadata": {},
   "source": [
    "### Lire un fichier fits"
   ]
  },
  {
   "cell_type": "code",
   "execution_count": 4,
   "metadata": {
    "collapsed": true
   },
   "outputs": [],
   "source": [
    "def fits_to_data(file_path):\n",
    "    hdu_list = fits.open(file_path) # Open the FITS file\n",
    "    data = hdu_list[0].data\n",
    "    hdu_list.close()                # Close the FITS file\n",
    "    return data"
   ]
  },
  {
   "cell_type": "markdown",
   "metadata": {},
   "source": [
    "### Charger un fichier fits mrfilter"
   ]
  },
  {
   "cell_type": "code",
   "execution_count": 5,
   "metadata": {
    "collapsed": true
   },
   "outputs": [],
   "source": [
    "def read_mr_file(file_path):\n",
    "    hdu_list = fits.open(file_path) # Open the FITS file\n",
    "    data = hdu_list[0].data\n",
    "    hdu_list.close()                # Close the FITS file\n",
    "    return data"
   ]
  },
  {
   "cell_type": "markdown",
   "metadata": {},
   "source": [
    "### Charger un fichier fits sap-cta datapipe benchmark"
   ]
  },
  {
   "cell_type": "code",
   "execution_count": 2,
   "metadata": {
    "collapsed": true
   },
   "outputs": [],
   "source": [
    "def read_cta_file(file_path):\n",
    "    hdu_list = fits.open(file_path) # Open the FITS file\n",
    "    \n",
    "    if (len(hdu_list) != 7) or (not hdu_list[0].is_image) or (not hdu_list[1].is_image) or (not hdu_list[2].is_image) or (not hdu_list[3].is_image) or (not hdu_list[4].is_image) or (not hdu_list[5].is_image) or (not hdu_list[6].is_image):\n",
    "        hdu_list.close()\n",
    "        raise Exception(\"Wrong file structure\")\n",
    "\n",
    "    hdu0, hdu1, hdu2, hdu3, hdu4, hdu5, hdu6 = hdu_list\n",
    "\n",
    "    # IMAGES\n",
    "    images_dict = {}\n",
    "    \n",
    "    images_dict[\"input_image\"] = hdu0.data        # \"hdu.data\" is a Numpy Array\n",
    "    images_dict[\"reference_image\"] = hdu1.data    # \"hdu.data\" is a Numpy Array\n",
    "    images_dict[\"adc_sum_image\"] = hdu2.data      # \"hdu.data\" is a Numpy Array\n",
    "    images_dict[\"pedestal_image\"] = hdu3.data     # \"hdu.data\" is a Numpy Array\n",
    "    images_dict[\"gains_image\"] = hdu4.data        # \"hdu.data\" is a Numpy Array\n",
    "    images_dict[\"calibration_image\"] = hdu5.data  # \"hdu.data\" is a Numpy Array\n",
    "    images_dict[\"pixels_position\"] = hdu6.data    # \"hdu.data\" is a Numpy Array\n",
    "    \n",
    "    hdu_list.close()                # Close the FITS file\n",
    "    \n",
    "    return images_dict"
   ]
  },
  {
   "cell_type": "markdown",
   "metadata": {},
   "source": [
    "### Plot"
   ]
  },
  {
   "cell_type": "code",
   "execution_count": 7,
   "metadata": {
    "collapsed": true
   },
   "outputs": [],
   "source": [
    "def plot(data, title=\"\", log=False):\n",
    "    fig = plt.figure()\n",
    "    ax1 = fig.add_subplot(111)\n",
    "\n",
    "    ax1.set_title(title)\n",
    "    \n",
    "    if log:\n",
    "        # See http://matplotlib.org/examples/pylab_examples/pcolor_log.html\n",
    "        #     http://stackoverflow.com/questions/2546475/how-can-i-draw-a-log-normalized-imshow-plot-with-a-colorbar-representing-the-raw\n",
    "        #im = ax1.pcolor(x, y, image_array, norm=LogNorm(vmin=0.01, vmax=image_array.max()), cmap=self.color_map)  # TODO: \"vmin=0.01\" is an arbitrary choice...\n",
    "        im = ax1.imshow(data, interpolation='nearest', origin='lower', norm=LogNorm(vmin=0.01, vmax=data.max()), cmap=\"gnuplot2\")   # cmap=cm.inferno and cmap=\"inferno\" are both valid\n",
    "    else:\n",
    "        im = ax1.imshow(data, interpolation='nearest', origin='lower', cmap=\"gnuplot2\")   # cmap=cm.inferno and cmap=\"inferno\" are both valid\n",
    "        #im = ax1.pcolor(x, y, image_array, cmap=self.color_map, vmin=z_min, vmax=z_max)\n",
    "\n",
    "    plt.colorbar(im, ax=ax1)  # draw the colorbar\n",
    "    \n",
    "    #ax2 = fig.add_subplot(212)\n",
    "    #ax2.hist(data)\n",
    "    \n",
    "    plt.show()"
   ]
  },
  {
   "cell_type": "markdown",
   "metadata": {},
   "source": [
    "### Mr transform"
   ]
  },
  {
   "cell_type": "code",
   "execution_count": 9,
   "metadata": {
    "collapsed": true
   },
   "outputs": [],
   "source": [
    "# %load datapipe/denoising/wavelets_mrtransform.py\n",
    "\n",
    "import datetime\n",
    "import json\n",
    "import os\n",
    "import numpy as np\n",
    "import time\n",
    "\n",
    "from datapipe.io import images\n",
    "\n",
    "def mr_transform(input_img, number_of_scales=4, base_file_path=\"wavelet_mrtransform\", verbose=False):\n",
    "\n",
    "    input_file_path = base_file_path + \"_in.fits\"\n",
    "    mr_output_file_path = base_file_path + \"_mr_planes.fits\"\n",
    "\n",
    "    # WRITE THE INPUT FILE (FITS) ##########################\n",
    "\n",
    "    images.save(input_img, input_file_path)\n",
    "\n",
    "    # EXECUTE MR_TRANSFORM #################################\n",
    "\n",
    "    # TODO: improve the following lines\n",
    "    cmd = 'mr_transform -n{} \"{}\" {}_out'.format(number_of_scales, input_file_path, base_file_path)\n",
    "    os.system(cmd)\n",
    "\n",
    "    # TODO: improve the following lines\n",
    "    cmd = \"mv {}_out.mr {}\".format(base_file_path, mr_output_file_path)\n",
    "    os.system(cmd)\n",
    "\n",
    "    # READ THE MR_TRANSFORM OUTPUT FILE ####################\n",
    "\n",
    "    output_imgs = images.load(mr_output_file_path, 0)\n",
    "\n",
    "    if output_imgs.ndim != 3:\n",
    "        raise Exception(\"Unexpected error: the output FITS file should contain a 3D array.\")\n",
    "\n",
    "    # DENOISE THE INPUT IMAGE WITH MR_TRANSFORM PLANES #####\n",
    "\n",
    "    denoised_img = np.zeros(input_img.shape)\n",
    "\n",
    "    for img_index, img in enumerate(output_imgs):\n",
    "\n",
    "        if img_index < (len(output_imgs) - 1):  # All planes except the last one\n",
    "\n",
    "            # Compute the standard deviation of the plane ##\n",
    "\n",
    "            img_sigma = np.std(img)\n",
    "\n",
    "            # Apply a threshold on the plane ###############\n",
    "\n",
    "            # Remark: \"abs(img) > (img_sigma * 3.)\" should be the correct way to\n",
    "            # make the image mask, but sometimes results looks better when all\n",
    "            # negative coefficients are dropped (\"img > (img_sigma * 3.)\")\n",
    "\n",
    "            #img_mask = abs(img) > (img_sigma * 3.)  \n",
    "            img_mask = img > (img_sigma * 3.)\n",
    "            cleaned_img = img * img_mask\n",
    "\n",
    "            if verbose:\n",
    "                images.plot(img, title=\"Plane {}\".format(img_index))\n",
    "                images.plot(img_mask, title=\"Binary mask for plane {}\".format(img_index))\n",
    "                images.plot(cleaned_img, title=\"Filtered plane {}\".format(img_index))\n",
    "\n",
    "            # Sum the plane ################################\n",
    "\n",
    "            denoised_img = denoised_img + cleaned_img\n",
    "\n",
    "        else:   # The last plane should be kept unmodified\n",
    "\n",
    "            if verbose:\n",
    "                images.plot(img, title=\"Plane {}\".format(img_index))\n",
    "\n",
    "            # Sum the last plane ###########################\n",
    "\n",
    "            denoised_img = denoised_img + img\n",
    "\n",
    "    return denoised_img"
   ]
  },
  {
   "cell_type": "markdown",
   "metadata": {},
   "source": [
    "## Sandbox"
   ]
  },
  {
   "cell_type": "markdown",
   "metadata": {},
   "source": [
    "### Plot a cta fits file"
   ]
  },
  {
   "cell_type": "code",
   "execution_count": 4,
   "metadata": {
    "collapsed": true
   },
   "outputs": [],
   "source": [
    "file_path = \"/Users/jdecock/data/astri_mini_array/fits/gamma/run1001.simtel.gz_TEL001_EV00507.fits\""
   ]
  },
  {
   "cell_type": "code",
   "execution_count": 10,
   "metadata": {
    "collapsed": false
   },
   "outputs": [
    {
     "data": {
      "image/png": "[encoded data removed]",
      "text/plain": [
       "<matplotlib.figure.Figure at 0x101aa2470>"
      ]
     },
     "metadata": {},
     "output_type": "display_data"
    },
    {
     "data": {
      "image/png": "[encoded data removed]",
      "text/plain": [
       "<matplotlib.figure.Figure at 0x1150d2128>"
      ]
     },
     "metadata": {},
     "output_type": "display_data"
    }
   ],
   "source": [
    "plot(read_cta_file(file_path)[\"reference_image\"], log=False)\n",
    "plot(read_cta_file(file_path)[\"input_image\"], log=False)\n",
    "#plot(read_cta_file(file_path)[\"adc_sum_image\"][0])\n",
    "#plot(read_cta_file(file_path)[\"calibration_image\"][0])"
   ]
  },
  {
   "cell_type": "code",
   "execution_count": null,
   "metadata": {
    "collapsed": false,
    "scrolled": true
   },
   "outputs": [],
   "source": [
    "datapipe.io.images.plot(read_cta_file(file_path)[\"reference_image\"])"
   ]
  },
  {
   "cell_type": "code",
   "execution_count": null,
   "metadata": {
    "collapsed": false,
    "scrolled": true
   },
   "outputs": [],
   "source": [
    "datapipe.io.images.plot_hist(read_cta_file(file_path)[\"reference_image\"], logy=True)"
   ]
  },
  {
   "cell_type": "markdown",
   "metadata": {},
   "source": [
    "### Run datapipe mrtransform cleaning"
   ]
  },
  {
   "cell_type": "code",
   "execution_count": 3,
   "metadata": {
    "collapsed": false
   },
   "outputs": [
    {
     "ename": "NameError",
     "evalue": "name 'file_path' is not defined",
     "output_type": "error",
     "traceback": [
      "\u001b[0;31m---------------------------------------------------------------------------\u001b[0m",
      "\u001b[0;31mNameError\u001b[0m                                 Traceback (most recent call last)",
      "\u001b[0;32m<ipython-input-3-24114db15945>\u001b[0m in \u001b[0;36m<module>\u001b[0;34m()\u001b[0m\n\u001b[0;32m----> 1\u001b[0;31m \u001b[0mdata\u001b[0m \u001b[0;34m=\u001b[0m \u001b[0mread_cta_file\u001b[0m\u001b[0;34m(\u001b[0m\u001b[0mfile_path\u001b[0m\u001b[0;34m)\u001b[0m\u001b[0;34m[\u001b[0m\u001b[0;34m\"input_image\"\u001b[0m\u001b[0;34m]\u001b[0m\u001b[0;34m\u001b[0m\u001b[0m\n\u001b[0m",
      "\u001b[0;31mNameError\u001b[0m: name 'file_path' is not defined"
     ]
    }
   ],
   "source": [
    "data = read_cta_file(file_path)[\"input_image\"]"
   ]
  },
  {
   "cell_type": "code",
   "execution_count": null,
   "metadata": {
    "collapsed": false
   },
   "outputs": [],
   "source": [
    "out = mr_transform(data, verbose=True)\n",
    "#plot(out)"
   ]
  },
  {
   "cell_type": "markdown",
   "metadata": {},
   "source": [
    "### Run datapipe mrfilter cleaning"
   ]
  },
  {
   "cell_type": "code",
   "execution_count": null,
   "metadata": {
    "collapsed": true
   },
   "outputs": [],
   "source": [
    "cleaning_algorithm = mrfilter.WaveletTransform()"
   ]
  },
  {
   "cell_type": "code",
   "execution_count": null,
   "metadata": {
    "collapsed": true
   },
   "outputs": [],
   "source": [
    "data = read_cta_file(file_path)[\"input_image\"]"
   ]
  },
  {
   "cell_type": "code",
   "execution_count": null,
   "metadata": {
    "collapsed": false,
    "scrolled": false
   },
   "outputs": [],
   "source": [
    "#cleaning_function_params = {\n",
    "#                \"type_of_multiresolution_transform\": type_of_multiresolution_transform,\n",
    "#                \"type_of_filters\": type_of_filters,\n",
    "#                \"type_of_non_orthog_filters\": type_of_non_orthog_filters,\n",
    "#                \"number_of_scales\": number_of_scales,\n",
    "#                \"suppress_last_scale\": suppress_last_scale,\n",
    "#                \"suppress_isolated_pixels\": suppress_isolated_pixels,\n",
    "#                \"kill_isolated_pixels\": kill_isolated_pixels,\n",
    "#                \"coef_detection_method\": coef_detection_method,\n",
    "#                \"k_sigma_noise_threshold\": k_sigma_noise_threshold,\n",
    "#                \"noise_model\": noise_model,\n",
    "#                \"detect_only_positive_structure\": detect_only_positive_structure,\n",
    "#                \"suppress_positivity_constraint\": suppress_positivity_constraint,\n",
    "#                \"type_of_filtering\": type_of_filtering,\n",
    "#                \"first_detection_scale\": first_detection_scale,\n",
    "#                \"number_of_iterations\": number_of_iterations,\n",
    "#                \"epsilon\": epsilon,\n",
    "#                \"support_file_name\": support_file_name,\n",
    "#                \"precision\": precision,\n",
    "#                \"offset_after_calibration\": offset_after_calibration,\n",
    "#                \"correction_offset\": correction_offset,\n",
    "#                \"input_image_scale\": input_image_scale,\n",
    "#                \"verbose\": verbose\n",
    "#}\n",
    "\n",
    "out = cleaning_algorithm.clean_image(data, raw_option_string=\"\")\n",
    "\n",
    "plot(data)\n",
    "plot(out)"
   ]
  },
  {
   "cell_type": "markdown",
   "metadata": {},
   "source": [
    "### Make a fits file for mr_filter"
   ]
  },
  {
   "cell_type": "code",
   "execution_count": null,
   "metadata": {
    "collapsed": false,
    "scrolled": true
   },
   "outputs": [],
   "source": [
    "data = read_cta_file(file_path)[\"input_image\"]\n",
    "\n",
    "data_to_fits(data, \"test.fits\")\n",
    "plot(fits_to_data(\"test.fits\"))"
   ]
  },
  {
   "cell_type": "markdown",
   "metadata": {},
   "source": [
    "### Call mr_filter"
   ]
  },
  {
   "cell_type": "code",
   "execution_count": null,
   "metadata": {
    "collapsed": false,
    "scrolled": false
   },
   "outputs": [],
   "source": [
    "!mr_filter -h"
   ]
  },
  {
   "cell_type": "code",
   "execution_count": null,
   "metadata": {
    "collapsed": false,
    "scrolled": true
   },
   "outputs": [],
   "source": [
    "!mr_filter test.fits out.mr\n",
    "\n",
    "fits_info(\"out.mr\")\n",
    "plot(read_mr_file(\"out.mr\"))"
   ]
  },
  {
   "cell_type": "markdown",
   "metadata": {},
   "source": [
    "### Call mr_filter and plot planes"
   ]
  },
  {
   "cell_type": "code",
   "execution_count": null,
   "metadata": {
    "collapsed": false
   },
   "outputs": [],
   "source": [
    "!mr_filter -w planes.mr -K -k -C1 -m3 -s3 -n4 test.fits out.mr\n",
    "\n",
    "plot(read_mr_file(\"test.fits\"))\n",
    "plot(read_mr_file(\"out.mr\"))\n",
    "\n",
    "fits_info(\"planes.mr\")\n",
    "\n",
    "plot(read_mr_file(\"planes.mr\")[0])\n",
    "plot(read_mr_file(\"planes.mr\")[1])\n",
    "plot(read_mr_file(\"planes.mr\")[2])\n",
    "plot(read_mr_file(\"planes.mr\")[3])"
   ]
  },
  {
   "cell_type": "code",
   "execution_count": null,
   "metadata": {
    "collapsed": true
   },
   "outputs": [],
   "source": []
  }
 ],
 "metadata": {
  "anaconda-cloud": {},
  "kernelspec": {
   "display_name": "Python [conda env:cta]",
   "language": "python",
   "name": "conda-env-cta-py"
  },
  "language_info": {
   "codemirror_mode": {
    "name": "ipython",
    "version": 3
   },
   "file_extension": ".py",
   "mimetype": "text/x-python",
   "name": "python",
   "nbconvert_exporter": "python",
   "pygments_lexer": "ipython3",
   "version": "3.5.2"
  },
  "widgets": {
   "state": {
    "29e0146c11d6473ea296f4267cad39cf": {
     "views": [
      {
       "cell_index": 24
      }
     ]
    }
   },
   "version": "1.2.0"
  }
 },
 "nbformat": 4,
 "nbformat_minor": 1
}
